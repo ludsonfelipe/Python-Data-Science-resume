{
 "cells": [
  {
   "cell_type": "code",
   "execution_count": 6,
   "metadata": {},
   "outputs": [],
   "source": [
    "from pycaret.datasets import get_data"
   ]
  },
  {
   "cell_type": "code",
   "execution_count": 9,
   "metadata": {},
   "outputs": [
    {
     "data": {
      "text/html": [
       "<div>\n",
       "<style scoped>\n",
       "    .dataframe tbody tr th:only-of-type {\n",
       "        vertical-align: middle;\n",
       "    }\n",
       "\n",
       "    .dataframe tbody tr th {\n",
       "        vertical-align: top;\n",
       "    }\n",
       "\n",
       "    .dataframe thead th {\n",
       "        text-align: right;\n",
       "    }\n",
       "</style>\n",
       "<table border=\"1\" class=\"dataframe\">\n",
       "  <thead>\n",
       "    <tr style=\"text-align: right;\">\n",
       "      <th></th>\n",
       "      <th>satisfaction_level</th>\n",
       "      <th>last_evaluation</th>\n",
       "      <th>number_project</th>\n",
       "      <th>average_montly_hours</th>\n",
       "      <th>time_spend_company</th>\n",
       "      <th>Work_accident</th>\n",
       "      <th>promotion_last_5years</th>\n",
       "      <th>department</th>\n",
       "      <th>salary</th>\n",
       "      <th>left</th>\n",
       "    </tr>\n",
       "  </thead>\n",
       "  <tbody>\n",
       "    <tr>\n",
       "      <th>0</th>\n",
       "      <td>0.38</td>\n",
       "      <td>0.53</td>\n",
       "      <td>2</td>\n",
       "      <td>157</td>\n",
       "      <td>3</td>\n",
       "      <td>0</td>\n",
       "      <td>0</td>\n",
       "      <td>sales</td>\n",
       "      <td>low</td>\n",
       "      <td>1</td>\n",
       "    </tr>\n",
       "    <tr>\n",
       "      <th>1</th>\n",
       "      <td>0.80</td>\n",
       "      <td>0.86</td>\n",
       "      <td>5</td>\n",
       "      <td>262</td>\n",
       "      <td>6</td>\n",
       "      <td>0</td>\n",
       "      <td>0</td>\n",
       "      <td>sales</td>\n",
       "      <td>medium</td>\n",
       "      <td>1</td>\n",
       "    </tr>\n",
       "    <tr>\n",
       "      <th>2</th>\n",
       "      <td>0.11</td>\n",
       "      <td>0.88</td>\n",
       "      <td>7</td>\n",
       "      <td>272</td>\n",
       "      <td>4</td>\n",
       "      <td>0</td>\n",
       "      <td>0</td>\n",
       "      <td>sales</td>\n",
       "      <td>medium</td>\n",
       "      <td>1</td>\n",
       "    </tr>\n",
       "    <tr>\n",
       "      <th>3</th>\n",
       "      <td>0.72</td>\n",
       "      <td>0.87</td>\n",
       "      <td>5</td>\n",
       "      <td>223</td>\n",
       "      <td>5</td>\n",
       "      <td>0</td>\n",
       "      <td>0</td>\n",
       "      <td>sales</td>\n",
       "      <td>low</td>\n",
       "      <td>1</td>\n",
       "    </tr>\n",
       "    <tr>\n",
       "      <th>4</th>\n",
       "      <td>0.37</td>\n",
       "      <td>0.52</td>\n",
       "      <td>2</td>\n",
       "      <td>159</td>\n",
       "      <td>3</td>\n",
       "      <td>0</td>\n",
       "      <td>0</td>\n",
       "      <td>sales</td>\n",
       "      <td>low</td>\n",
       "      <td>1</td>\n",
       "    </tr>\n",
       "  </tbody>\n",
       "</table>\n",
       "</div>"
      ],
      "text/plain": [
       "   satisfaction_level  last_evaluation  number_project  average_montly_hours  \\\n",
       "0                0.38             0.53               2                   157   \n",
       "1                0.80             0.86               5                   262   \n",
       "2                0.11             0.88               7                   272   \n",
       "3                0.72             0.87               5                   223   \n",
       "4                0.37             0.52               2                   159   \n",
       "\n",
       "   time_spend_company  Work_accident  promotion_last_5years department  \\\n",
       "0                   3              0                      0      sales   \n",
       "1                   6              0                      0      sales   \n",
       "2                   4              0                      0      sales   \n",
       "3                   5              0                      0      sales   \n",
       "4                   3              0                      0      sales   \n",
       "\n",
       "   salary  left  \n",
       "0     low     1  \n",
       "1  medium     1  \n",
       "2  medium     1  \n",
       "3     low     1  \n",
       "4     low     1  "
      ]
     },
     "metadata": {},
     "output_type": "display_data"
    }
   ],
   "source": [
    "df = get_data('employee')"
   ]
  },
  {
   "attachments": {},
   "cell_type": "markdown",
   "metadata": {},
   "source": [
    "# Tipos de amostragem\n",
    "* Amostragem Aleatória Simples: todo individuo tem probabilidade igual de ser selecionado\n",
    "* Amostragem Sistemática: selecionamos individuos baseado em um sistema, ideal para quando não conhecemos o tamanho da população\n",
    "* Amostragem Estratificada: Criamos grupos como idade, localização, gênero etc, para que selecionemos individuos aleatóriamenete dentro dos grupos\n",
    "* Amostragem por Conglomerado: Dividimos em conglomerados, como escolas, bairros etc, selecionamos individuos dentro desses conglomerados"
   ]
  },
  {
   "cell_type": "code",
   "execution_count": 15,
   "metadata": {},
   "outputs": [
    {
     "data": {
      "text/plain": [
       "0.6128335222348156"
      ]
     },
     "execution_count": 15,
     "metadata": {},
     "output_type": "execute_result"
    }
   ],
   "source": [
    "df['satisfaction_level'].mean()"
   ]
  },
  {
   "cell_type": "code",
   "execution_count": 16,
   "metadata": {},
   "outputs": [
    {
     "data": {
      "text/plain": [
       "0.24863065106114257"
      ]
     },
     "execution_count": 16,
     "metadata": {},
     "output_type": "execute_result"
    }
   ],
   "source": [
    "df['satisfaction_level'].std()"
   ]
  },
  {
   "cell_type": "code",
   "execution_count": 13,
   "metadata": {},
   "outputs": [],
   "source": [
    "# Amostra aleatória simples com pandas\n",
    "amostra = df.sample(20)"
   ]
  },
  {
   "cell_type": "code",
   "execution_count": 17,
   "metadata": {},
   "outputs": [
    {
     "data": {
      "text/plain": [
       "0.5799999999999998"
      ]
     },
     "execution_count": 17,
     "metadata": {},
     "output_type": "execute_result"
    }
   ],
   "source": [
    "amostra['satisfaction_level'].mean()"
   ]
  },
  {
   "cell_type": "code",
   "execution_count": 18,
   "metadata": {},
   "outputs": [
    {
     "data": {
      "text/plain": [
       "0.22292316353870734"
      ]
     },
     "execution_count": 18,
     "metadata": {},
     "output_type": "execute_result"
    }
   ],
   "source": [
    "amostra['satisfaction_level'].std()"
   ]
  },
  {
   "attachments": {},
   "cell_type": "markdown",
   "metadata": {},
   "source": [
    "# Intervalo de confiança\n",
    "O nível de confiança é uma medida de quão confiante estamos em nossas inferências estatísticas. Ele está relacionado aos intervalos de confiança, que são faixas de valores em torno de uma estimativa de um parâmetro populacional (como a média ou proporção) dentro dos quais temos um certo grau de confiança de que o valor real do parâmetro se encontra.\n",
    "\n",
    "Intervalo de Confiança = Média da Amostra ± Z* (Erro Padrão)\n"
   ]
  },
  {
   "cell_type": "code",
   "execution_count": 35,
   "metadata": {},
   "outputs": [],
   "source": [
    "import math\n",
    "import seaborn as sns\n",
    "\n",
    "erro_padrao = amostra['satisfaction_level'].std() / math.sqrt(30)\n",
    "\n",
    "intervalo_de_confianca_pos = (amostra['satisfaction_level'].mean() + (1.96 * erro_padrao))\n",
    "intervalo_de_confianca_neg = (amostra['satisfaction_level'].mean() - (1.96 * erro_padrao))"
   ]
  },
  {
   "cell_type": "code",
   "execution_count": 36,
   "metadata": {},
   "outputs": [
    {
     "name": "stdout",
     "output_type": "stream",
     "text": [
      "0.6597720295702345 0.5002279704297652\n"
     ]
    }
   ],
   "source": [
    "print(intervalo_de_confianca_pos, intervalo_de_confianca_neg)"
   ]
  },
  {
   "attachments": {},
   "cell_type": "markdown",
   "metadata": {},
   "source": [
    "Podemos ver visualmente no gráfico abaixo onde a linha azul é nossa média da população real e as vermelhas os limites da média estipulados baseados na amostra, que o intervalo de confiança engloba a média real."
   ]
  },
  {
   "cell_type": "code",
   "execution_count": 38,
   "metadata": {},
   "outputs": [
    {
     "data": {
      "image/png": "[encoded data removed]",
      "text/plain": [
       "<Figure size 432x288 with 1 Axes>"
      ]
     },
     "metadata": {
      "needs_background": "light"
     },
     "output_type": "display_data"
    }
   ],
   "source": [
    "sns.kdeplot(data=amostra, x='satisfaction_level', fill=True)\n",
    "\n",
    "plt.axvline(intervalo_de_confianca_pos, color='red')\n",
    "plt.axvline(intervalo_de_confianca_neg, color='red')\n",
    "\n",
    "sns.kdeplot(data=df, x='satisfaction_level', fill=True)\n",
    "plt.axvline(df['satisfaction_level'].mean(), color='blue')\n",
    "\n",
    "plt.show()"
   ]
  },
  {
   "attachments": {},
   "cell_type": "markdown",
   "metadata": {},
   "source": [
    "# Teorema do limite central\n",
    "O calculo do intervalo de confiança é baseado no TLC (teorema do limite central) o TLC afirma que, se tomarmos várias amostras aleatórias da população e calcularmos a média de cada uma dessas amostras, a distribuição dessas médias tende a se aproximar da distribuição normal à medida que o tamanho da amostra aumenta. Exemplo de usos:\n",
    "\n",
    "* estimação de paramêtros da população\n",
    "* testes de hipoteses\n",
    "* analise financeira\n",
    "* previsao de eventos"
   ]
  },
  {
   "attachments": {},
   "cell_type": "markdown",
   "metadata": {},
   "source": [
    "### Ex 1:\n",
    "Se a média de vendas diárias de uma amostra de 30 dias for de $10.000, com um desvio padrão de $2.000, podemos calcular a margem de erro usando a fórmula:\n",
    "\n",
    "Margem de erro = Z * Desvio padrão / raiz quadrada do tamanho da amostra\n",
    "\n",
    "Onde Z é o valor crítico da distribuição normal padrão para o nível de confiança desejado. Por exemplo, se desejarmos um nível de confiança de 95%, Z será igual a 1,96.\n",
    "\n",
    "Substituindo os valores, temos:\n",
    "\n",
    "Margem de erro = 1,96 * 2.000 / raiz quadrada de 30\n",
    "Margem de erro = 712,28\n",
    "\n",
    "Isso significa que a média populacional de vendas diárias está dentro do intervalo de confiança de $9.287,72 a $10.712,28 com um nível de confiança de 95%."
   ]
  },
  {
   "attachments": {},
   "cell_type": "markdown",
   "metadata": {},
   "source": [
    "### Ex 2: \n",
    "Suponha que um meteorologista deseje determinar a probabilidade de que chova em uma determinada cidade em 1º de julho. O meteorologista pode usar dados históricos para determinar a distribuição de dias chuvosos que ocorrem nessa época do ano e usar o TLC para determinar a probabilidade de que chova em 1º de julho.\n",
    "\n",
    "Usando o Teorema do Limite Central, podemos inferir a distribuição populacional com base na distribuição normal aproximada das proporções amostrais. Se a proporção de dias chuvosos em julho for de 30%, com um desvio padrão de 0,02, podemos calcular a probabilidade de que chova em 1º de julho usando a fórmula:\n",
    "\n",
    "Probabilidade = Z * Desvio padrão + Média\n",
    "\n",
    "Onde Z é o valor crítico da distribuição normal padrão para a probabilidade desejada. Por exemplo, se desejarmos uma probabilidade de 80%, Z será igual a 0,84.\n",
    "\n",
    "Substituindo os valores, temos:\n",
    "\n",
    "Probabilidade = 0,84 * 0,02 + 0,30\n",
    "Probabilidade = 0,336 + 0,30\n",
    "Probabilidade = 0,636\n",
    "\n",
    "Isso significa que a probabilidade de chover em 1º de julho é de aproximadamente 64% com base nos dados históricos disponíveis."
   ]
  },
  {
   "attachments": {},
   "cell_type": "markdown",
   "metadata": {},
   "source": [
    "### Ex 3: \n",
    "Suponha que um novo tratamento foi desenvolvido para uma doença e um ensaio clínico é realizado para comparar sua eficácia com o tratamento atual. Um grupo de pacientes é selecionado aleatoriamente para receber o novo tratamento e outro grupo de pacientes recebe o tratamento atual. Os resultados dos dois grupos são comparados usando uma medida de resultado, como a redução da pressão arterial.\n",
    "\n",
    "Usando o Teorema do Limite Central, podemos inferir a diferença média entre os grupos com base na distribuição normal aproximada das diferenças de médias amostrais. Se a diferença média na redução da pressão arterial entre os dois grupos for de 5 pontos, com um desvio padrão de 2 pontos, podemos realizar um teste t de Student para determinar se a diferença é estatisticamente significativa.\n",
    "\n",
    "Podemos calcular o valor t usando a fórmula:\n",
    "\n",
    "t = (Diferença média - Hipótese nula) / (Desvio padrão / raiz quadrada do tamanho da amostra)\n",
    "\n",
    "Onde Diferença média é a diferença média observada na amostra, a Hipótese nula é a diferença média esperada se não houver diferença entre os tratamentos, o Desvio padrão é o desvio padrão da diferença média na população e o tamanho da amostra é o tamanho de cada grupo de pacientes.\n",
    "\n",
    "Se o valor t calculado for maior do que o valor crítico t para o nível de significância desejado e os graus de liberdade apropriados, podemos rejeitar a hipótese nula e concluir que há uma diferença significativa entre os tratamentos."
   ]
  },
  {
   "attachments": {},
   "cell_type": "markdown",
   "metadata": {},
   "source": [
    "### Ex 4:\n",
    "Suponha que a fábrica de refrigerantes deseje garantir que a espessura das latas produzidas esteja dentro dos limites de tolerância especificados. Para realizar essa verificação, a fábrica pode medir a espessura de uma amostra aleatória de latas e usar o TLC para determinar se a média das espessuras está dentro dos limites de tolerância.\n",
    "\n",
    "Usando o Teorema do Limite Central, podemos inferir a média populacional com base na distribuição normal aproximada das médias amostrais. Se a média da espessura de uma amostra de 50 latas for de 0,4 mm, com um desvio padrão de 0,02 mm, podemos calcular a margem de erro usando a fórmula:\n",
    "\n",
    "Margem de erro = Z * Desvio padrão / raiz quadrada do tamanho da amostra\n",
    "\n",
    "Onde Z é o valor crítico da distribuição normal padrão para o nível de confiança desejado. Por exemplo, se desejarmos um nível de confiança de 95%, Z será igual a 1,96.\n",
    "\n",
    "Substituindo os valores, temos:\n",
    "\n",
    "Margem de erro = 1,96 * 0,02 / raiz quadrada de 50\n",
    "Margem de erro = 0,006\n",
    "\n",
    "Isso significa que a média populacional de espessura das latas está dentro do intervalo de confiança de 0,394 mm a 0,406 mm com um nível de confiança de 95%."
   ]
  },
  {
   "attachments": {},
   "cell_type": "markdown",
   "metadata": {},
   "source": [
    "# Testes de hipotese\n",
    "Teste de hipótese é uma técnica estatística utilizada para avaliar a validade de uma afirmação sobre uma população com base em uma amostra.\n",
    "\n",
    "* Test-t: Usado para comparar as médias de duas amostras e determinar se as diferenças entre essas médias são estatisticamente significativas.\n",
    "* Test-z: Usado para comparar uma média amostral com uma <b>média populacional conhecida</b> e determinar se as diferenças entre essas médias são estatisticamente significativas.\n",
    "* Test chi2: Usado para comparar a distribuição observada de uma <b>variável categórica</b> com a distribuição esperada e determinar se as diferenças entre as duas distribuições são estatisticamente significativas.\n",
    "* ANOVA: Usado para comparar as médias de três ou mais grupos e determinar se as diferenças entre essas médias são estatisticamente significativas ou podem ser explicadas por variações aleatórias.\n",
    "* Test de Mann-Whitney: É uma técnica estatística usada para comparar a distribuição de duas amostras independentes e determinar se as diferenças entre essas distribuições são estatisticamente significativas. O teste de Mann-Whitney é frequentemente usado quando as amostras <b>não seguem uma distribuição normal</b> ou quando as variâncias das duas amostras não são iguais."
   ]
  },
  {
   "attachments": {},
   "cell_type": "markdown",
   "metadata": {},
   "source": [
    "### Test-t\n",
    "\n",
    "Comparando duas amostras (o valor da estatística t indica a diferença entre as duas médias em unidades de desvio padrão. Quanto maior o valor de t, maior a diferença entre as médias e mais provável que as diferenças sejam significativas. O valor de p indica a probabilidade de obter uma diferença tão grande entre as médias de duas amostras, assumindo que as duas amostras são provenientes da mesma população. Se o valor de p for menor do que o nível de significância escolhido (geralmente 0,05), podemos concluir que as diferenças entre as médias são significativas.)"
   ]
  },
  {
   "cell_type": "code",
   "execution_count": 43,
   "metadata": {},
   "outputs": [
    {
     "data": {
      "text/html": [
       "<div>\n",
       "<style scoped>\n",
       "    .dataframe tbody tr th:only-of-type {\n",
       "        vertical-align: middle;\n",
       "    }\n",
       "\n",
       "    .dataframe tbody tr th {\n",
       "        vertical-align: top;\n",
       "    }\n",
       "\n",
       "    .dataframe thead th {\n",
       "        text-align: right;\n",
       "    }\n",
       "</style>\n",
       "<table border=\"1\" class=\"dataframe\">\n",
       "  <thead>\n",
       "    <tr style=\"text-align: right;\">\n",
       "      <th></th>\n",
       "      <th>#</th>\n",
       "      <th>Name</th>\n",
       "      <th>Type 1</th>\n",
       "      <th>Type 2</th>\n",
       "      <th>Total</th>\n",
       "      <th>HP</th>\n",
       "      <th>Attack</th>\n",
       "      <th>Defense</th>\n",
       "      <th>Sp. Atk</th>\n",
       "      <th>Sp. Def</th>\n",
       "      <th>Speed</th>\n",
       "      <th>Generation</th>\n",
       "      <th>Legendary</th>\n",
       "    </tr>\n",
       "  </thead>\n",
       "  <tbody>\n",
       "    <tr>\n",
       "      <th>0</th>\n",
       "      <td>1</td>\n",
       "      <td>Bulbasaur</td>\n",
       "      <td>Grass</td>\n",
       "      <td>Poison</td>\n",
       "      <td>318</td>\n",
       "      <td>45</td>\n",
       "      <td>49</td>\n",
       "      <td>49</td>\n",
       "      <td>65</td>\n",
       "      <td>65</td>\n",
       "      <td>45</td>\n",
       "      <td>1</td>\n",
       "      <td>False</td>\n",
       "    </tr>\n",
       "    <tr>\n",
       "      <th>1</th>\n",
       "      <td>2</td>\n",
       "      <td>Ivysaur</td>\n",
       "      <td>Grass</td>\n",
       "      <td>Poison</td>\n",
       "      <td>405</td>\n",
       "      <td>60</td>\n",
       "      <td>62</td>\n",
       "      <td>63</td>\n",
       "      <td>80</td>\n",
       "      <td>80</td>\n",
       "      <td>60</td>\n",
       "      <td>1</td>\n",
       "      <td>False</td>\n",
       "    </tr>\n",
       "    <tr>\n",
       "      <th>2</th>\n",
       "      <td>3</td>\n",
       "      <td>Venusaur</td>\n",
       "      <td>Grass</td>\n",
       "      <td>Poison</td>\n",
       "      <td>525</td>\n",
       "      <td>80</td>\n",
       "      <td>82</td>\n",
       "      <td>83</td>\n",
       "      <td>100</td>\n",
       "      <td>100</td>\n",
       "      <td>80</td>\n",
       "      <td>1</td>\n",
       "      <td>False</td>\n",
       "    </tr>\n",
       "    <tr>\n",
       "      <th>3</th>\n",
       "      <td>3</td>\n",
       "      <td>VenusaurMega Venusaur</td>\n",
       "      <td>Grass</td>\n",
       "      <td>Poison</td>\n",
       "      <td>625</td>\n",
       "      <td>80</td>\n",
       "      <td>100</td>\n",
       "      <td>123</td>\n",
       "      <td>122</td>\n",
       "      <td>120</td>\n",
       "      <td>80</td>\n",
       "      <td>1</td>\n",
       "      <td>False</td>\n",
       "    </tr>\n",
       "    <tr>\n",
       "      <th>4</th>\n",
       "      <td>4</td>\n",
       "      <td>Charmander</td>\n",
       "      <td>Fire</td>\n",
       "      <td>NaN</td>\n",
       "      <td>309</td>\n",
       "      <td>39</td>\n",
       "      <td>52</td>\n",
       "      <td>43</td>\n",
       "      <td>60</td>\n",
       "      <td>50</td>\n",
       "      <td>65</td>\n",
       "      <td>1</td>\n",
       "      <td>False</td>\n",
       "    </tr>\n",
       "  </tbody>\n",
       "</table>\n",
       "</div>"
      ],
      "text/plain": [
       "   #                   Name Type 1  Type 2  Total  HP  Attack  Defense  \\\n",
       "0  1              Bulbasaur  Grass  Poison    318  45      49       49   \n",
       "1  2                Ivysaur  Grass  Poison    405  60      62       63   \n",
       "2  3               Venusaur  Grass  Poison    525  80      82       83   \n",
       "3  3  VenusaurMega Venusaur  Grass  Poison    625  80     100      123   \n",
       "4  4             Charmander   Fire     NaN    309  39      52       43   \n",
       "\n",
       "   Sp. Atk  Sp. Def  Speed  Generation  Legendary  \n",
       "0       65       65     45           1      False  \n",
       "1       80       80     60           1      False  \n",
       "2      100      100     80           1      False  \n",
       "3      122      120     80           1      False  \n",
       "4       60       50     65           1      False  "
      ]
     },
     "metadata": {},
     "output_type": "display_data"
    },
    {
     "data": {
      "text/plain": [
       "Ttest_indResult(statistic=-16.386116965872425, pvalue=3.0952457469652825e-52)"
      ]
     },
     "execution_count": 43,
     "metadata": {},
     "output_type": "execute_result"
    }
   ],
   "source": [
    "import scipy.stats as st\n",
    "\n",
    "df = get_data('pokemon')\n",
    "\n",
    "df1 = df[df['Legendary']==False]\n",
    "df2 = df[df['Legendary']==True]\n",
    "\n",
    "# Hipotese 0: Pokemons Lendarios tem dano similar a pokemons normais\n",
    "# Hipotese 1: Pokemons Lendarios tem mais dano\n",
    "\n",
    "st.ttest_ind(df1['Total'],df2['Total'])"
   ]
  },
  {
   "attachments": {},
   "cell_type": "markdown",
   "metadata": {},
   "source": [
    "### chi2\n",
    "Suponha que temos uma amostra de 1000 pessoas e queremos testar se a preferência por três diferentes marcas de refrigerante é independente da idade. Dividimos a amostra em três grupos etários: jovens (idade entre 18 e 29 anos), adultos (idade entre 30 e 49 anos) e idosos (idade acima de 50 anos). Coletamos dados sobre a preferência por cada marca de refrigerante em cada grupo etário e queremos testar se a preferência por marca é independente da idade. (O valor da estatística Qui-quadrado indica a diferença entre as frequências observadas e as frequências esperadas em unidades de desvio padrão.)"
   ]
  },
  {
   "cell_type": "code",
   "execution_count": 41,
   "metadata": {},
   "outputs": [
    {
     "name": "stdout",
     "output_type": "stream",
     "text": [
      "Estatística Qui-quadrado:  50.264462560386484\n",
      "Valor p:  3.179707200204524e-10\n"
     ]
    }
   ],
   "source": [
    "import numpy as np\n",
    "from scipy.stats import chi2_contingency\n",
    "\n",
    "np.random.seed(0)\n",
    "\n",
    "refri1 = [50, 100, 150]\n",
    "refri2 = [80, 120, 100]\n",
    "refri3 = [100, 80, 70]\n",
    "\n",
    "table = np.array([refri1, refri2, refri3])\n",
    "\n",
    "chi2_stat, p_value, dof, expected = chi2_contingency(table)\n",
    "\n",
    "print(\"Estatística Qui-quadrado: \", chi2_stat)\n",
    "print(\"Valor p: \", p_value)"
   ]
  },
  {
   "attachments": {},
   "cell_type": "markdown",
   "metadata": {},
   "source": [
    "### test-z\n",
    "\n",
    "Comparando se um amostra se assemelha a uma população conhecida, nesse caso iremos gerar dados de uma distribuição normal e comparar se essa distribuição se assemelha a distribuição normal. (Se o p-value é maior que 0.05 aceitamos como uma distribuição normal)"
   ]
  },
  {
   "cell_type": "code",
   "execution_count": 53,
   "metadata": {},
   "outputs": [
    {
     "data": {
      "text/plain": [
       "NormaltestResult(statistic=3.6314320880353796, pvalue=0.1627213510151267)"
      ]
     },
     "execution_count": 53,
     "metadata": {},
     "output_type": "execute_result"
    }
   ],
   "source": [
    "from scipy.stats.mstats import normaltest\n",
    "normal_distribuition = np.random.normal(10,2.5,100)\n",
    "normaltest(normal_distribuition)"
   ]
  },
  {
   "attachments": {},
   "cell_type": "markdown",
   "metadata": {},
   "source": [
    "### Test de Mann-Whitney\n",
    "Suponha que você está comparando as pontuações de duas amostras de estudantes em um teste, mas as pontuações não seguem uma distribuição normal. (O valor da estatística U indica a magnitude da diferença entre os ranks das observações nas duas amostras. Quanto maior o valor de U, maior a diferença entre as duas amostras e mais provável que as diferenças sejam significativas.)"
   ]
  },
  {
   "cell_type": "code",
   "execution_count": 56,
   "metadata": {},
   "outputs": [
    {
     "name": "stdout",
     "output_type": "stream",
     "text": [
      "Estatística de teste:  9.5\n",
      "Valor-p:  0.2990807263417641\n"
     ]
    }
   ],
   "source": [
    "import scipy.stats as stats\n",
    "\n",
    "amostra1 = [75, 80, 85, 90, 95]\n",
    "amostra2 = [70, 85, 90, 95, 100]\n",
    "\n",
    "stat, p = stats.mannwhitneyu(amostra1, amostra2)\n",
    "\n",
    "print(\"Estatística de teste: \", stat)\n",
    "print(\"Valor-p: \", p)\n"
   ]
  },
  {
   "attachments": {},
   "cell_type": "markdown",
   "metadata": {},
   "source": [
    "### ANOVA\n",
    "Suponha que você está comparando a precisão de três modelos de classificação diferentes em um conjunto de dados e deseja avaliar se há diferenças significativas na precisão entre os modelos. Você pode usar a ANOVA para comparar as precisões"
   ]
  },
  {
   "cell_type": "code",
   "execution_count": 57,
   "metadata": {},
   "outputs": [
    {
     "name": "stdout",
     "output_type": "stream",
     "text": [
      "Estatística de teste:  0.5185185185185183\n",
      "Valor-p:  0.6081547180965303\n"
     ]
    }
   ],
   "source": [
    "import scipy.stats as stats\n",
    "\n",
    "modelo1 = [0.8, 0.9, 0.7, 0.6, 0.8]\n",
    "modelo2 = [0.7, 0.8, 0.9, 0.7, 0.8]\n",
    "modelo3 = [0.9, 0.8, 0.7, 0.9, 0.8]\n",
    "\n",
    "stat, p = stats.f_oneway(modelo1, modelo2, modelo3)\n",
    "\n",
    "print(\"Estatística de teste: \", stat)\n",
    "print(\"Valor-p: \", p)\n"
   ]
  },
  {
   "cell_type": "code",
   "execution_count": 59,
   "metadata": {},
   "outputs": [
    {
     "name": "stdout",
     "output_type": "stream",
     "text": [
      "Multiple Comparison of Means - Tukey HSD, FWER=0.05 \n",
      "====================================================\n",
      "group1 group2 meandiff p-adj   lower   upper  reject\n",
      "----------------------------------------------------\n",
      "    rf     rn    -0.08 0.0077 -0.1104 -0.0496   True\n",
      "----------------------------------------------------\n"
     ]
    }
   ],
   "source": [
    "from statsmodels.stats.multicomp import MultiComparison\n",
    "\n",
    "df = pd.DataFrame({'model':['rf','rf','rn','rn'],\n",
    "                   'accuracy':[0.99, 0.98, 0.91, 0.90]})\n",
    "algoritmos = MultiComparison(df['accuracy'], df['model'])\n",
    "print(algoritmos.tukeyhsd())"
   ]
  }
 ],
 "metadata": {
  "kernelspec": {
   "display_name": "Python (pycaretenv)",
   "language": "python",
   "name": "pycaretenv"
  },
  "language_info": {
   "codemirror_mode": {
    "name": "ipython",
    "version": 3
   },
   "file_extension": ".py",
   "mimetype": "text/x-python",
   "name": "python",
   "nbconvert_exporter": "python",
   "pygments_lexer": "ipython3",
   "version": "3.8.12"
  },
  "orig_nbformat": 4
 },
 "nbformat": 4,
 "nbformat_minor": 2
}
