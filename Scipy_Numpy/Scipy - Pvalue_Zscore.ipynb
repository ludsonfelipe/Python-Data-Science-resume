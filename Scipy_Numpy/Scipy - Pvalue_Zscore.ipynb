{
 "cells": [
  {
   "attachments": {},
   "cell_type": "markdown",
   "id": "1df550f5",
   "metadata": {},
   "source": [
    "# p-value e z-score desvendado\n",
    "\n",
    "O valor-p é a probabilidade de obter uma diferença igual ou maior que a observada entre o número de \"caras\" e o número esperado, assumindo que a hipótese nula é verdadeira. O z-score é a medida de quantos desvios padrão a observação está longe da média esperada, assumindo que a hipótese nula é verdadeira."
   ]
  },
  {
   "cell_type": "code",
   "execution_count": 1,
   "id": "cd291a05",
   "metadata": {},
   "outputs": [],
   "source": [
    "import numpy as np\n",
    "import seaborn as sns\n",
    "from scipy.stats import skewtest"
   ]
  },
  {
   "attachments": {},
   "cell_type": "markdown",
   "id": "9a85ffd6",
   "metadata": {},
   "source": [
    "* O z-score mostra pra gente, a distancia em desvios padrões da média \n",
    "* Se a hipose alternativa representa uma informação maior do que a media, representaremos uma % a direita do z-score\n",
    "* Se a hipotese alternativa representa uma informação menor do que a media, representaremos uma % a esquerda do z-score"
   ]
  },
  {
   "attachments": {},
   "cell_type": "markdown",
   "id": "f88288af",
   "metadata": {},
   "source": [
    "# Moeda viciada"
   ]
  },
  {
   "cell_type": "code",
   "execution_count": 39,
   "id": "7ce1bf60",
   "metadata": {},
   "outputs": [
    {
     "name": "stdout",
     "output_type": "stream",
     "text": [
      "253 caras\n",
      "247 coroas\n",
      "z-score: 0.2683281572999747\n"
     ]
    }
   ],
   "source": [
    "# lances aleatorios de moedas\n",
    "population = np.random.randint(0,2,10000)\n",
    "\n",
    "# Amotra randomica de 500 moedas\n",
    "amostra = np.random.choice(population, 500)\n",
    "\n",
    "# Qiamtodade de caras e coroas gerados\n",
    "print(len(amostra[amostra==1]), 'caras')\n",
    "print(len(amostra[amostra==0]), 'coroas')\n",
    "\n",
    "# Assumindo um p-value de 5% / significancia 95%\n",
    "# H0 moeda normal\n",
    "# H0 moeda viciada\n",
    "\n",
    "# formula\n",
    "def z_score(x, u, s):\n",
    "    z = (x - u) / s\n",
    "    return z\n",
    "\n",
    "# x é o número de caras encontrado na amostra\n",
    "x = len(amostra[amostra == 1])\n",
    "\n",
    "# u é o número esperado de caras \n",
    "u = len(amostra) / 2\n",
    "\n",
    "# o desvio padrão da nossa amostra\n",
    "s = np.sqrt(len(amostra) * 0.25)\n",
    "\n",
    "# calculando o z-score\n",
    "z = (x - u) / s\n",
    "\n",
    "print('z-score:', z)"
   ]
  },
  {
   "cell_type": "code",
   "execution_count": 40,
   "id": "33acd15e",
   "metadata": {},
   "outputs": [
    {
     "name": "stdout",
     "output_type": "stream",
     "text": [
      "p-value: 0.788446734264471\n"
     ]
    }
   ],
   "source": [
    "# cálculo do p-value\n",
    "p_valor = 2 * norm.sf(abs(z))\n",
    "\n",
    "print('p-value:', p_valor)"
   ]
  },
  {
   "attachments": {},
   "cell_type": "markdown",
   "id": "47f1930d",
   "metadata": {},
   "source": [
    "<p><b> P-value menor que 0.05 então aceitamos a hipotese alternativa</b></p>\n",
    "<p><b> P-value maior que 0.05 então recusamos a hipotese alternativa</b></p>"
   ]
  },
  {
   "attachments": {},
   "cell_type": "markdown",
   "id": "b90f73fe",
   "metadata": {},
   "source": [
    "o desvio padrão para uma variável aleatória com distribuição Bernoulli (como o resultado de um lançamento de moeda) é dado por sqrt(n * p * (1 - p)), onde n é o tamanho da amostra e p é a probabilidade de sucesso (neste caso, 0,5)"
   ]
  }
 ],
 "metadata": {
  "kernelspec": {
   "display_name": "Python (pycaretenv)",
   "language": "python",
   "name": "pycaretenv"
  },
  "language_info": {
   "codemirror_mode": {
    "name": "ipython",
    "version": 3
   },
   "file_extension": ".py",
   "mimetype": "text/x-python",
   "name": "python",
   "nbconvert_exporter": "python",
   "pygments_lexer": "ipython3",
   "version": "3.8.12"
  },
  "toc": {
   "base_numbering": 1,
   "nav_menu": {},
   "number_sections": true,
   "sideBar": true,
   "skip_h1_title": false,
   "title_cell": "Table of Contents",
   "title_sidebar": "Contents",
   "toc_cell": false,
   "toc_position": {},
   "toc_section_display": true,
   "toc_window_display": false
  }
 },
 "nbformat": 4,
 "nbformat_minor": 5
}
