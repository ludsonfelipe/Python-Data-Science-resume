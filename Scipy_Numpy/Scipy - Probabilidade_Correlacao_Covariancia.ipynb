{
 "cells": [
  {
   "attachments": {},
   "cell_type": "markdown",
   "id": "943e8fbc",
   "metadata": {},
   "source": [
    "# Probabilidades"
   ]
  },
  {
   "cell_type": "markdown",
   "id": "7c8acbdf",
   "metadata": {},
   "source": [
    "Espaço amostral: é o conjunto de todos os possíveis resultados de um experimento aleatório. "
   ]
  },
  {
   "cell_type": "code",
   "execution_count": 3,
   "id": "c9364bd9",
   "metadata": {},
   "outputs": [],
   "source": [
    "espaco_amostral = [1, 2, 3, 4, 5, 6]"
   ]
  },
  {
   "attachments": {},
   "cell_type": "markdown",
   "id": "b38975f1",
   "metadata": {},
   "source": [
    "Evento: é um subconjunto do espaço amostral. Pode ser um único resultado ou uma combinação de resultados."
   ]
  },
  {
   "cell_type": "code",
   "execution_count": 4,
   "id": "2b461429",
   "metadata": {},
   "outputs": [],
   "source": [
    "evento = {1, 3, 5}"
   ]
  },
  {
   "attachments": {},
   "cell_type": "markdown",
   "id": "e80e97d6",
   "metadata": {},
   "source": [
    "Probabilidade: é a medida de quão provável é que um evento ocorra. É um número entre 0 e 1, onde 0 significa que o evento nunca ocorrerá e 1 significa que o evento sempre ocorrerá."
   ]
  },
  {
   "cell_type": "code",
   "execution_count": 5,
   "id": "2d07edbe",
   "metadata": {},
   "outputs": [
    {
     "data": {
      "text/plain": [
       "0.5"
      ]
     },
     "execution_count": 5,
     "metadata": {},
     "output_type": "execute_result"
    }
   ],
   "source": [
    "probabilidade = len(evento) / len(espaco_amostral)\n",
    "probabilidade"
   ]
  },
  {
   "attachments": {},
   "cell_type": "markdown",
   "id": "fd7146a8",
   "metadata": {},
   "source": [
    "Probabilidade condicional: é a probabilidade de um evento ocorrer, dado que outro evento já ocorreu."
   ]
  },
  {
   "cell_type": "code",
   "execution_count": 9,
   "id": "ae4e252e",
   "metadata": {},
   "outputs": [
    {
     "name": "stdout",
     "output_type": "stream",
     "text": [
      "0.6666666666666666\n"
     ]
    }
   ],
   "source": [
    "# Vemos o que já ocorreu e o que esperamos ocorrer\n",
    "evento_condicionante = {1, 2, 3}\n",
    "probabilidade_condicional = len(evento.intersection(evento_condicionante)) / len(evento_condicionante)\n",
    "print(probabilidade_condicional)"
   ]
  },
  {
   "attachments": {},
   "cell_type": "markdown",
   "id": "3bb382c6",
   "metadata": {},
   "source": [
    "Independência de eventos: ocorre quando a ocorrência de um evento não afeta a probabilidade de outro evento ocorrer."
   ]
  },
  {
   "cell_type": "code",
   "execution_count": 7,
   "id": "9c4cd837",
   "metadata": {},
   "outputs": [
    {
     "name": "stdout",
     "output_type": "stream",
     "text": [
      "0.25\n"
     ]
    }
   ],
   "source": [
    "evento1 = {1, 3, 5}\n",
    "evento2 = {2, 4, 6}\n",
    "probabilidade_conjunta = len(evento1) / len(espaco_amostral) * len(evento2) / len(espaco_amostral)\n",
    "print(probabilidade_conjunta)"
   ]
  },
  {
   "attachments": {},
   "cell_type": "markdown",
   "id": "b660f548",
   "metadata": {
    "ExecuteTime": {
     "end_time": "2022-04-06T03:39:21.274594Z",
     "start_time": "2022-04-06T03:39:21.260601Z"
    }
   },
   "source": [
    "# Covariancia\n",
    "A covariancia mede o quanto duas variaveis mudam juntas\n",
    "\n",
    "* Se for maior que 0, as variaveis se movem juntas\n",
    "* Menor que 0 as variaveis se movem de maneiras opostas\n",
    "* 0 são independentes"
   ]
  },
  {
   "attachments": {},
   "cell_type": "markdown",
   "id": "fee478f3",
   "metadata": {},
   "source": [
    "# Correlação\n",
    "Mede a força e direção linear entre duas variáveis\n",
    "\n",
    "* 1 indica relação linear perfeita\n",
    "* -1 indica relação linear negativa perfeita\n",
    "* 0 indica ausencia de relação"
   ]
  },
  {
   "cell_type": "code",
   "execution_count": 11,
   "id": "8824390c",
   "metadata": {},
   "outputs": [
    {
     "name": "stdout",
     "output_type": "stream",
     "text": [
      "Covariância: 10.0\n",
      "Correlação: 0.9999999999999999\n"
     ]
    }
   ],
   "source": [
    "import numpy as np\n",
    "\n",
    "x = [2, 4, 6, 8, 10]\n",
    "y = [1, 3, 5, 7, 9]\n",
    "\n",
    "covariance = np.cov(x, y)[0][1]\n",
    "print(\"Covariância:\", covariance)\n",
    "\n",
    "correlation = np.corrcoef(x, y)[0][1]\n",
    "print(\"Correlação:\", correlation)\n"
   ]
  }
 ],
 "metadata": {
  "kernelspec": {
   "display_name": "Python (pycaretenv)",
   "language": "python",
   "name": "pycaretenv"
  },
  "language_info": {
   "codemirror_mode": {
    "name": "ipython",
    "version": 3
   },
   "file_extension": ".py",
   "mimetype": "text/x-python",
   "name": "python",
   "nbconvert_exporter": "python",
   "pygments_lexer": "ipython3",
   "version": "3.8.12"
  },
  "toc": {
   "base_numbering": 1,
   "nav_menu": {},
   "number_sections": true,
   "sideBar": true,
   "skip_h1_title": false,
   "title_cell": "Table of Contents",
   "title_sidebar": "Contents",
   "toc_cell": false,
   "toc_position": {},
   "toc_section_display": true,
   "toc_window_display": false
  }
 },
 "nbformat": 4,
 "nbformat_minor": 5
}
