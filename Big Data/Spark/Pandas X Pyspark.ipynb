{
 "cells": [
  {
   "cell_type": "code",
   "execution_count": 19,
   "metadata": {
    "ExecuteTime": {
     "end_time": "2021-12-10T06:19:22.855134Z",
     "start_time": "2021-12-10T06:19:22.841171Z"
    }
   },
   "outputs": [],
   "source": [
    "import pandas as pd\n",
    "from pyspark.sql import functions as f\n",
    "from pyspark.sql import *\n",
    "import numpy as np\n",
    "import warnings\n",
    "warnings.filterwarnings(\"ignore\")"
   ]
  },
  {
   "cell_type": "markdown",
   "metadata": {},
   "source": [
    "# Create DF"
   ]
  },
  {
   "cell_type": "code",
   "execution_count": 2,
   "metadata": {
    "ExecuteTime": {
     "end_time": "2021-12-17T04:49:34.635589Z",
     "start_time": "2021-12-17T04:49:34.631600Z"
    }
   },
   "outputs": [],
   "source": [
    "df1 = {'idade':[16,17,18,20,22,24,21,16,14,np.NaN,26,49],\n",
    "      'peso':[55,60,45,76,90,49,64,43,92,12,94,102],\n",
    "      'sexo':['F','F','F','F','F','F','M','F','M','M','F','M']}"
   ]
  },
  {
   "cell_type": "code",
   "execution_count": null,
   "metadata": {},
   "outputs": [],
   "source": [
    "#ou\n",
    "from pyspark.ml.linalg import Vectors\n",
    "training = spark.createDataFrame([\n",
    "    (1.0, Vectors.dense([0.0, 1.1, 0.1])),\n",
    "    (0.0, Vectors.dense([2.0, 1.0, -1.0])),\n",
    "    (0.0, Vectors.dense([2.0, 1.3, 1.0])),\n",
    "    (1.0, Vectors.dense([0.0, 1.2, -0.5]))], [\"label\", \"features\"])"
   ]
  },
  {
   "cell_type": "code",
   "execution_count": 21,
   "metadata": {
    "ExecuteTime": {
     "end_time": "2021-12-10T06:19:24.096458Z",
     "start_time": "2021-12-10T06:19:24.048588Z"
    }
   },
   "outputs": [],
   "source": [
    "df_pandas = pd.DataFrame(df1)\n",
    "df_spark = spark.createDataFrame(df_pandas)"
   ]
  },
  {
   "cell_type": "markdown",
   "metadata": {
    "heading_collapsed": true
   },
   "source": [
    "# Converter Pandas para Spark com Schema"
   ]
  },
  {
   "cell_type": "code",
   "execution_count": null,
   "metadata": {
    "hidden": true
   },
   "outputs": [],
   "source": [
    "from pyspark.sql.types import *\n",
    "\n",
    "# Auxiliar functions\n",
    "def equivalent_type(f):\n",
    "    if f == 'datetime64[ns]': return TimestampType()\n",
    "    elif f == 'int64': return LongType()\n",
    "    elif f == 'int32': return IntegerType()\n",
    "    elif f == 'float64': return FloatType()\n",
    "    else: return StringType()\n",
    "\n",
    "def define_structure(string, format_type):\n",
    "    try: typo = equivalent_type(format_type)\n",
    "    except: typo = StringType()\n",
    "    return StructField(string, typo)\n",
    "\n",
    "# Given pandas dataframe, it will return a spark's dataframe.\n",
    "def pandas_to_spark(pandas_df):\n",
    "    columns = list(pandas_df.columns)\n",
    "    types = list(pandas_df.dtypes)\n",
    "    struct_list = []\n",
    "    for column, typo in zip(columns, types): \n",
    "      struct_list.append(define_structure(column, typo))\n",
    "    p_schema = StructType(struct_list)\n",
    "    return sqlContext.createDataFrame(pandas_df, p_schema)"
   ]
  },
  {
   "cell_type": "markdown",
   "metadata": {
    "ExecuteTime": {
     "end_time": "2021-12-09T20:23:45.928743Z",
     "start_time": "2021-12-09T20:23:45.838Z"
    }
   },
   "source": [
    "# .HEAD"
   ]
  },
  {
   "cell_type": "code",
   "execution_count": 22,
   "metadata": {
    "ExecuteTime": {
     "end_time": "2021-12-10T06:19:24.594714Z",
     "start_time": "2021-12-10T06:19:24.584715Z"
    }
   },
   "outputs": [
    {
     "data": {
      "text/html": [
       "<div>\n",
       "<style scoped>\n",
       "    .dataframe tbody tr th:only-of-type {\n",
       "        vertical-align: middle;\n",
       "    }\n",
       "\n",
       "    .dataframe tbody tr th {\n",
       "        vertical-align: top;\n",
       "    }\n",
       "\n",
       "    .dataframe thead th {\n",
       "        text-align: right;\n",
       "    }\n",
       "</style>\n",
       "<table border=\"1\" class=\"dataframe\">\n",
       "  <thead>\n",
       "    <tr style=\"text-align: right;\">\n",
       "      <th></th>\n",
       "      <th>idade</th>\n",
       "      <th>peso</th>\n",
       "      <th>sexo</th>\n",
       "    </tr>\n",
       "  </thead>\n",
       "  <tbody>\n",
       "    <tr>\n",
       "      <th>0</th>\n",
       "      <td>16.0</td>\n",
       "      <td>55</td>\n",
       "      <td>F</td>\n",
       "    </tr>\n",
       "    <tr>\n",
       "      <th>1</th>\n",
       "      <td>17.0</td>\n",
       "      <td>60</td>\n",
       "      <td>F</td>\n",
       "    </tr>\n",
       "    <tr>\n",
       "      <th>2</th>\n",
       "      <td>18.0</td>\n",
       "      <td>45</td>\n",
       "      <td>F</td>\n",
       "    </tr>\n",
       "    <tr>\n",
       "      <th>3</th>\n",
       "      <td>20.0</td>\n",
       "      <td>76</td>\n",
       "      <td>F</td>\n",
       "    </tr>\n",
       "    <tr>\n",
       "      <th>4</th>\n",
       "      <td>22.0</td>\n",
       "      <td>90</td>\n",
       "      <td>F</td>\n",
       "    </tr>\n",
       "  </tbody>\n",
       "</table>\n",
       "</div>"
      ],
      "text/plain": [
       "   idade  peso sexo\n",
       "0   16.0    55    F\n",
       "1   17.0    60    F\n",
       "2   18.0    45    F\n",
       "3   20.0    76    F\n",
       "4   22.0    90    F"
      ]
     },
     "execution_count": 22,
     "metadata": {},
     "output_type": "execute_result"
    }
   ],
   "source": [
    "df_pandas.head()"
   ]
  },
  {
   "cell_type": "code",
   "execution_count": 23,
   "metadata": {
    "ExecuteTime": {
     "end_time": "2021-12-10T06:19:27.415076Z",
     "start_time": "2021-12-10T06:19:25.216447Z"
    }
   },
   "outputs": [
    {
     "name": "stdout",
     "output_type": "stream",
     "text": [
      "+-----+----+----+\n",
      "|idade|peso|sexo|\n",
      "+-----+----+----+\n",
      "| 16.0|  55|   F|\n",
      "| 17.0|  60|   F|\n",
      "| 18.0|  45|   F|\n",
      "| 20.0|  76|   F|\n",
      "| 22.0|  90|   F|\n",
      "+-----+----+----+\n",
      "only showing top 5 rows\n",
      "\n"
     ]
    }
   ],
   "source": [
    "df_spark.show(5)"
   ]
  },
  {
   "cell_type": "markdown",
   "metadata": {
    "ExecuteTime": {
     "end_time": "2021-12-09T20:23:49.651207Z",
     "start_time": "2021-12-09T20:23:49.342Z"
    }
   },
   "source": [
    "# Select Column"
   ]
  },
  {
   "cell_type": "code",
   "execution_count": 24,
   "metadata": {
    "ExecuteTime": {
     "end_time": "2021-12-10T06:19:29.571947Z",
     "start_time": "2021-12-10T06:19:29.559953Z"
    }
   },
   "outputs": [
    {
     "data": {
      "text/plain": [
       "0     16.0\n",
       "1     17.0\n",
       "2     18.0\n",
       "3     20.0\n",
       "4     22.0\n",
       "5     24.0\n",
       "6     21.0\n",
       "7     16.0\n",
       "8     14.0\n",
       "9      NaN\n",
       "10    26.0\n",
       "11    49.0\n",
       "Name: idade, dtype: float64"
      ]
     },
     "execution_count": 24,
     "metadata": {},
     "output_type": "execute_result"
    }
   ],
   "source": [
    "df_pandas['idade']"
   ]
  },
  {
   "cell_type": "code",
   "execution_count": 25,
   "metadata": {
    "ExecuteTime": {
     "end_time": "2021-12-10T06:19:33.178808Z",
     "start_time": "2021-12-10T06:19:30.017728Z"
    }
   },
   "outputs": [
    {
     "name": "stdout",
     "output_type": "stream",
     "text": [
      "+-----+\n",
      "|idade|\n",
      "+-----+\n",
      "| 16.0|\n",
      "| 17.0|\n",
      "| 18.0|\n",
      "| 20.0|\n",
      "| 22.0|\n",
      "| 24.0|\n",
      "| 21.0|\n",
      "| 16.0|\n",
      "| 14.0|\n",
      "|  NaN|\n",
      "| 26.0|\n",
      "| 49.0|\n",
      "+-----+\n",
      "\n"
     ]
    }
   ],
   "source": [
    "df_spark.select('idade').show()"
   ]
  },
  {
   "cell_type": "markdown",
   "metadata": {
    "ExecuteTime": {
     "end_time": "2021-12-09T20:23:54.440529Z",
     "start_time": "2021-12-09T20:23:54.433569Z"
    }
   },
   "source": [
    "# Boolean Filter"
   ]
  },
  {
   "cell_type": "code",
   "execution_count": 26,
   "metadata": {
    "ExecuteTime": {
     "end_time": "2021-12-10T06:19:35.013405Z",
     "start_time": "2021-12-10T06:19:35.000437Z"
    }
   },
   "outputs": [
    {
     "data": {
      "text/html": [
       "<div>\n",
       "<style scoped>\n",
       "    .dataframe tbody tr th:only-of-type {\n",
       "        vertical-align: middle;\n",
       "    }\n",
       "\n",
       "    .dataframe tbody tr th {\n",
       "        vertical-align: top;\n",
       "    }\n",
       "\n",
       "    .dataframe thead th {\n",
       "        text-align: right;\n",
       "    }\n",
       "</style>\n",
       "<table border=\"1\" class=\"dataframe\">\n",
       "  <thead>\n",
       "    <tr style=\"text-align: right;\">\n",
       "      <th></th>\n",
       "      <th>idade</th>\n",
       "      <th>peso</th>\n",
       "      <th>sexo</th>\n",
       "    </tr>\n",
       "  </thead>\n",
       "  <tbody>\n",
       "    <tr>\n",
       "      <th>4</th>\n",
       "      <td>22.0</td>\n",
       "      <td>90</td>\n",
       "      <td>F</td>\n",
       "    </tr>\n",
       "    <tr>\n",
       "      <th>5</th>\n",
       "      <td>24.0</td>\n",
       "      <td>49</td>\n",
       "      <td>F</td>\n",
       "    </tr>\n",
       "    <tr>\n",
       "      <th>6</th>\n",
       "      <td>21.0</td>\n",
       "      <td>64</td>\n",
       "      <td>M</td>\n",
       "    </tr>\n",
       "    <tr>\n",
       "      <th>10</th>\n",
       "      <td>26.0</td>\n",
       "      <td>94</td>\n",
       "      <td>F</td>\n",
       "    </tr>\n",
       "    <tr>\n",
       "      <th>11</th>\n",
       "      <td>49.0</td>\n",
       "      <td>102</td>\n",
       "      <td>M</td>\n",
       "    </tr>\n",
       "  </tbody>\n",
       "</table>\n",
       "</div>"
      ],
      "text/plain": [
       "    idade  peso sexo\n",
       "4    22.0    90    F\n",
       "5    24.0    49    F\n",
       "6    21.0    64    M\n",
       "10   26.0    94    F\n",
       "11   49.0   102    M"
      ]
     },
     "execution_count": 26,
     "metadata": {},
     "output_type": "execute_result"
    }
   ],
   "source": [
    "df_pandas[(df_pandas['idade']>20) & (df_pandas['peso']>45)]"
   ]
  },
  {
   "cell_type": "code",
   "execution_count": 27,
   "metadata": {
    "ExecuteTime": {
     "end_time": "2021-12-10T06:19:38.501528Z",
     "start_time": "2021-12-10T06:19:35.360133Z"
    }
   },
   "outputs": [
    {
     "name": "stdout",
     "output_type": "stream",
     "text": [
      "+-----+----+----+\n",
      "|idade|peso|sexo|\n",
      "+-----+----+----+\n",
      "| 22.0|  90|   F|\n",
      "| 24.0|  49|   F|\n",
      "| 21.0|  64|   M|\n",
      "| 26.0|  94|   F|\n",
      "| 49.0| 102|   M|\n",
      "+-----+----+----+\n",
      "\n"
     ]
    }
   ],
   "source": [
    "df_spark.filter((df_spark['idade']>20) & (df_spark['peso']>45)).show()"
   ]
  },
  {
   "cell_type": "markdown",
   "metadata": {
    "ExecuteTime": {
     "end_time": "2021-12-09T20:24:03.686748Z",
     "start_time": "2021-12-09T20:24:03.679783Z"
    }
   },
   "source": [
    "# New Column"
   ]
  },
  {
   "cell_type": "code",
   "execution_count": 28,
   "metadata": {
    "ExecuteTime": {
     "end_time": "2021-12-10T06:19:39.370230Z",
     "start_time": "2021-12-10T06:19:39.360256Z"
    }
   },
   "outputs": [
    {
     "data": {
      "text/html": [
       "<div>\n",
       "<style scoped>\n",
       "    .dataframe tbody tr th:only-of-type {\n",
       "        vertical-align: middle;\n",
       "    }\n",
       "\n",
       "    .dataframe tbody tr th {\n",
       "        vertical-align: top;\n",
       "    }\n",
       "\n",
       "    .dataframe thead th {\n",
       "        text-align: right;\n",
       "    }\n",
       "</style>\n",
       "<table border=\"1\" class=\"dataframe\">\n",
       "  <thead>\n",
       "    <tr style=\"text-align: right;\">\n",
       "      <th></th>\n",
       "      <th>idade</th>\n",
       "      <th>peso</th>\n",
       "      <th>sexo</th>\n",
       "      <th>idade2</th>\n",
       "    </tr>\n",
       "  </thead>\n",
       "  <tbody>\n",
       "    <tr>\n",
       "      <th>0</th>\n",
       "      <td>16.0</td>\n",
       "      <td>55</td>\n",
       "      <td>F</td>\n",
       "      <td>26.0</td>\n",
       "    </tr>\n",
       "    <tr>\n",
       "      <th>1</th>\n",
       "      <td>17.0</td>\n",
       "      <td>60</td>\n",
       "      <td>F</td>\n",
       "      <td>27.0</td>\n",
       "    </tr>\n",
       "    <tr>\n",
       "      <th>2</th>\n",
       "      <td>18.0</td>\n",
       "      <td>45</td>\n",
       "      <td>F</td>\n",
       "      <td>28.0</td>\n",
       "    </tr>\n",
       "    <tr>\n",
       "      <th>3</th>\n",
       "      <td>20.0</td>\n",
       "      <td>76</td>\n",
       "      <td>F</td>\n",
       "      <td>30.0</td>\n",
       "    </tr>\n",
       "    <tr>\n",
       "      <th>4</th>\n",
       "      <td>22.0</td>\n",
       "      <td>90</td>\n",
       "      <td>F</td>\n",
       "      <td>32.0</td>\n",
       "    </tr>\n",
       "    <tr>\n",
       "      <th>5</th>\n",
       "      <td>24.0</td>\n",
       "      <td>49</td>\n",
       "      <td>F</td>\n",
       "      <td>34.0</td>\n",
       "    </tr>\n",
       "    <tr>\n",
       "      <th>6</th>\n",
       "      <td>21.0</td>\n",
       "      <td>64</td>\n",
       "      <td>M</td>\n",
       "      <td>31.0</td>\n",
       "    </tr>\n",
       "    <tr>\n",
       "      <th>7</th>\n",
       "      <td>16.0</td>\n",
       "      <td>43</td>\n",
       "      <td>F</td>\n",
       "      <td>26.0</td>\n",
       "    </tr>\n",
       "    <tr>\n",
       "      <th>8</th>\n",
       "      <td>14.0</td>\n",
       "      <td>92</td>\n",
       "      <td>M</td>\n",
       "      <td>24.0</td>\n",
       "    </tr>\n",
       "    <tr>\n",
       "      <th>9</th>\n",
       "      <td>NaN</td>\n",
       "      <td>12</td>\n",
       "      <td>M</td>\n",
       "      <td>NaN</td>\n",
       "    </tr>\n",
       "    <tr>\n",
       "      <th>10</th>\n",
       "      <td>26.0</td>\n",
       "      <td>94</td>\n",
       "      <td>F</td>\n",
       "      <td>36.0</td>\n",
       "    </tr>\n",
       "    <tr>\n",
       "      <th>11</th>\n",
       "      <td>49.0</td>\n",
       "      <td>102</td>\n",
       "      <td>M</td>\n",
       "      <td>59.0</td>\n",
       "    </tr>\n",
       "  </tbody>\n",
       "</table>\n",
       "</div>"
      ],
      "text/plain": [
       "    idade  peso sexo  idade2\n",
       "0    16.0    55    F    26.0\n",
       "1    17.0    60    F    27.0\n",
       "2    18.0    45    F    28.0\n",
       "3    20.0    76    F    30.0\n",
       "4    22.0    90    F    32.0\n",
       "5    24.0    49    F    34.0\n",
       "6    21.0    64    M    31.0\n",
       "7    16.0    43    F    26.0\n",
       "8    14.0    92    M    24.0\n",
       "9     NaN    12    M     NaN\n",
       "10   26.0    94    F    36.0\n",
       "11   49.0   102    M    59.0"
      ]
     },
     "execution_count": 28,
     "metadata": {},
     "output_type": "execute_result"
    }
   ],
   "source": [
    "df_pandas['idade2'] = df_pandas['idade'] + 10 \n",
    "df_pandas"
   ]
  },
  {
   "cell_type": "code",
   "execution_count": 29,
   "metadata": {
    "ExecuteTime": {
     "end_time": "2021-12-10T06:19:43.112681Z",
     "start_time": "2021-12-10T06:19:39.977099Z"
    }
   },
   "outputs": [
    {
     "name": "stdout",
     "output_type": "stream",
     "text": [
      "+-----+----+----+------+\n",
      "|idade|peso|sexo|idade2|\n",
      "+-----+----+----+------+\n",
      "| 16.0|  55|   F|  26.0|\n",
      "| 17.0|  60|   F|  27.0|\n",
      "| 18.0|  45|   F|  28.0|\n",
      "| 20.0|  76|   F|  30.0|\n",
      "| 22.0|  90|   F|  32.0|\n",
      "| 24.0|  49|   F|  34.0|\n",
      "| 21.0|  64|   M|  31.0|\n",
      "| 16.0|  43|   F|  26.0|\n",
      "| 14.0|  92|   M|  24.0|\n",
      "|  NaN|  12|   M|   NaN|\n",
      "| 26.0|  94|   F|  36.0|\n",
      "| 49.0| 102|   M|  59.0|\n",
      "+-----+----+----+------+\n",
      "\n"
     ]
    }
   ],
   "source": [
    "df_spark = df_spark.withColumn('idade2',df_spark.idade+10)\n",
    "df_spark.show()"
   ]
  },
  {
   "cell_type": "markdown",
   "metadata": {
    "ExecuteTime": {
     "end_time": "2021-12-09T20:24:16.061408Z",
     "start_time": "2021-12-09T20:24:16.056423Z"
    }
   },
   "source": [
    "# Mean"
   ]
  },
  {
   "cell_type": "code",
   "execution_count": 30,
   "metadata": {
    "ExecuteTime": {
     "end_time": "2021-12-10T06:19:43.966961Z",
     "start_time": "2021-12-10T06:19:43.960975Z"
    }
   },
   "outputs": [
    {
     "data": {
      "text/plain": [
       "22.09090909090909"
      ]
     },
     "execution_count": 30,
     "metadata": {},
     "output_type": "execute_result"
    }
   ],
   "source": [
    "df_pandas['idade'].mean()"
   ]
  },
  {
   "cell_type": "code",
   "execution_count": 31,
   "metadata": {
    "ExecuteTime": {
     "end_time": "2021-12-10T06:19:47.537264Z",
     "start_time": "2021-12-10T06:19:44.424189Z"
    }
   },
   "outputs": [
    {
     "name": "stdout",
     "output_type": "stream",
     "text": [
      "+----------+\n",
      "|avg(idade)|\n",
      "+----------+\n",
      "|       NaN|\n",
      "+----------+\n",
      "\n"
     ]
    }
   ],
   "source": [
    "df_spark.select(f.mean('idade')).show() # O spark não ignora o NaN"
   ]
  },
  {
   "cell_type": "markdown",
   "metadata": {
    "ExecuteTime": {
     "end_time": "2021-12-09T06:37:23.009068Z",
     "start_time": "2021-12-09T06:37:21.643Z"
    }
   },
   "source": [
    "# Dropna"
   ]
  },
  {
   "cell_type": "code",
   "execution_count": 32,
   "metadata": {
    "ExecuteTime": {
     "end_time": "2021-12-10T06:19:48.297777Z",
     "start_time": "2021-12-10T06:19:48.280796Z"
    }
   },
   "outputs": [
    {
     "data": {
      "text/html": [
       "<div>\n",
       "<style scoped>\n",
       "    .dataframe tbody tr th:only-of-type {\n",
       "        vertical-align: middle;\n",
       "    }\n",
       "\n",
       "    .dataframe tbody tr th {\n",
       "        vertical-align: top;\n",
       "    }\n",
       "\n",
       "    .dataframe thead th {\n",
       "        text-align: right;\n",
       "    }\n",
       "</style>\n",
       "<table border=\"1\" class=\"dataframe\">\n",
       "  <thead>\n",
       "    <tr style=\"text-align: right;\">\n",
       "      <th></th>\n",
       "      <th>idade</th>\n",
       "      <th>peso</th>\n",
       "      <th>sexo</th>\n",
       "      <th>idade2</th>\n",
       "    </tr>\n",
       "  </thead>\n",
       "  <tbody>\n",
       "    <tr>\n",
       "      <th>0</th>\n",
       "      <td>16.0</td>\n",
       "      <td>55</td>\n",
       "      <td>F</td>\n",
       "      <td>26.0</td>\n",
       "    </tr>\n",
       "    <tr>\n",
       "      <th>1</th>\n",
       "      <td>17.0</td>\n",
       "      <td>60</td>\n",
       "      <td>F</td>\n",
       "      <td>27.0</td>\n",
       "    </tr>\n",
       "    <tr>\n",
       "      <th>2</th>\n",
       "      <td>18.0</td>\n",
       "      <td>45</td>\n",
       "      <td>F</td>\n",
       "      <td>28.0</td>\n",
       "    </tr>\n",
       "    <tr>\n",
       "      <th>3</th>\n",
       "      <td>20.0</td>\n",
       "      <td>76</td>\n",
       "      <td>F</td>\n",
       "      <td>30.0</td>\n",
       "    </tr>\n",
       "    <tr>\n",
       "      <th>4</th>\n",
       "      <td>22.0</td>\n",
       "      <td>90</td>\n",
       "      <td>F</td>\n",
       "      <td>32.0</td>\n",
       "    </tr>\n",
       "    <tr>\n",
       "      <th>5</th>\n",
       "      <td>24.0</td>\n",
       "      <td>49</td>\n",
       "      <td>F</td>\n",
       "      <td>34.0</td>\n",
       "    </tr>\n",
       "    <tr>\n",
       "      <th>6</th>\n",
       "      <td>21.0</td>\n",
       "      <td>64</td>\n",
       "      <td>M</td>\n",
       "      <td>31.0</td>\n",
       "    </tr>\n",
       "    <tr>\n",
       "      <th>7</th>\n",
       "      <td>16.0</td>\n",
       "      <td>43</td>\n",
       "      <td>F</td>\n",
       "      <td>26.0</td>\n",
       "    </tr>\n",
       "    <tr>\n",
       "      <th>8</th>\n",
       "      <td>14.0</td>\n",
       "      <td>92</td>\n",
       "      <td>M</td>\n",
       "      <td>24.0</td>\n",
       "    </tr>\n",
       "    <tr>\n",
       "      <th>10</th>\n",
       "      <td>26.0</td>\n",
       "      <td>94</td>\n",
       "      <td>F</td>\n",
       "      <td>36.0</td>\n",
       "    </tr>\n",
       "    <tr>\n",
       "      <th>11</th>\n",
       "      <td>49.0</td>\n",
       "      <td>102</td>\n",
       "      <td>M</td>\n",
       "      <td>59.0</td>\n",
       "    </tr>\n",
       "  </tbody>\n",
       "</table>\n",
       "</div>"
      ],
      "text/plain": [
       "    idade  peso sexo  idade2\n",
       "0    16.0    55    F    26.0\n",
       "1    17.0    60    F    27.0\n",
       "2    18.0    45    F    28.0\n",
       "3    20.0    76    F    30.0\n",
       "4    22.0    90    F    32.0\n",
       "5    24.0    49    F    34.0\n",
       "6    21.0    64    M    31.0\n",
       "7    16.0    43    F    26.0\n",
       "8    14.0    92    M    24.0\n",
       "10   26.0    94    F    36.0\n",
       "11   49.0   102    M    59.0"
      ]
     },
     "execution_count": 32,
     "metadata": {},
     "output_type": "execute_result"
    }
   ],
   "source": [
    "df_pandas = df_pandas.dropna(subset=['idade'])\n",
    "df_pandas"
   ]
  },
  {
   "cell_type": "code",
   "execution_count": 33,
   "metadata": {
    "ExecuteTime": {
     "end_time": "2021-12-10T06:19:51.837925Z",
     "start_time": "2021-12-10T06:19:48.752124Z"
    }
   },
   "outputs": [
    {
     "name": "stdout",
     "output_type": "stream",
     "text": [
      "+-----+----+----+------+\n",
      "|idade|peso|sexo|idade2|\n",
      "+-----+----+----+------+\n",
      "| 16.0|  55|   F|  26.0|\n",
      "| 17.0|  60|   F|  27.0|\n",
      "| 18.0|  45|   F|  28.0|\n",
      "| 20.0|  76|   F|  30.0|\n",
      "| 22.0|  90|   F|  32.0|\n",
      "| 24.0|  49|   F|  34.0|\n",
      "| 21.0|  64|   M|  31.0|\n",
      "| 16.0|  43|   F|  26.0|\n",
      "| 14.0|  92|   M|  24.0|\n",
      "| 26.0|  94|   F|  36.0|\n",
      "| 49.0| 102|   M|  59.0|\n",
      "+-----+----+----+------+\n",
      "\n"
     ]
    }
   ],
   "source": [
    "df_spark = df_spark.dropna(subset=['idade'])\n",
    "df_spark.show()"
   ]
  },
  {
   "cell_type": "code",
   "execution_count": 34,
   "metadata": {
    "ExecuteTime": {
     "end_time": "2021-12-10T06:19:52.442526Z",
     "start_time": "2021-12-10T06:19:52.424575Z"
    }
   },
   "outputs": [
    {
     "data": {
      "text/plain": [
       "22.09090909090909"
      ]
     },
     "execution_count": 34,
     "metadata": {},
     "output_type": "execute_result"
    }
   ],
   "source": [
    "df_pandas['idade'].mean()"
   ]
  },
  {
   "cell_type": "code",
   "execution_count": 35,
   "metadata": {
    "ExecuteTime": {
     "end_time": "2021-12-10T06:20:02.868246Z",
     "start_time": "2021-12-10T06:19:59.176312Z"
    }
   },
   "outputs": [
    {
     "name": "stdout",
     "output_type": "stream",
     "text": [
      "+-----------------+\n",
      "|       avg(idade)|\n",
      "+-----------------+\n",
      "|22.09090909090909|\n",
      "+-----------------+\n",
      "\n"
     ]
    }
   ],
   "source": [
    "df_spark.select(f.mean('idade')).show() # O spark não ignora o NaN"
   ]
  },
  {
   "cell_type": "markdown",
   "metadata": {
    "ExecuteTime": {
     "end_time": "2021-12-10T06:20:02.905148Z",
     "start_time": "2021-12-10T06:19:59.975Z"
    }
   },
   "source": [
    "# Isin"
   ]
  },
  {
   "cell_type": "code",
   "execution_count": 36,
   "metadata": {
    "ExecuteTime": {
     "end_time": "2021-12-10T06:20:05.215468Z",
     "start_time": "2021-12-10T06:20:05.159617Z"
    }
   },
   "outputs": [
    {
     "data": {
      "text/html": [
       "<div>\n",
       "<style scoped>\n",
       "    .dataframe tbody tr th:only-of-type {\n",
       "        vertical-align: middle;\n",
       "    }\n",
       "\n",
       "    .dataframe tbody tr th {\n",
       "        vertical-align: top;\n",
       "    }\n",
       "\n",
       "    .dataframe thead th {\n",
       "        text-align: right;\n",
       "    }\n",
       "</style>\n",
       "<table border=\"1\" class=\"dataframe\">\n",
       "  <thead>\n",
       "    <tr style=\"text-align: right;\">\n",
       "      <th></th>\n",
       "      <th>idade</th>\n",
       "      <th>peso</th>\n",
       "      <th>sexo</th>\n",
       "      <th>idade2</th>\n",
       "    </tr>\n",
       "  </thead>\n",
       "  <tbody>\n",
       "    <tr>\n",
       "      <th>0</th>\n",
       "      <td>16.0</td>\n",
       "      <td>55</td>\n",
       "      <td>F</td>\n",
       "      <td>26.0</td>\n",
       "    </tr>\n",
       "    <tr>\n",
       "      <th>1</th>\n",
       "      <td>17.0</td>\n",
       "      <td>60</td>\n",
       "      <td>F</td>\n",
       "      <td>27.0</td>\n",
       "    </tr>\n",
       "    <tr>\n",
       "      <th>2</th>\n",
       "      <td>18.0</td>\n",
       "      <td>45</td>\n",
       "      <td>F</td>\n",
       "      <td>28.0</td>\n",
       "    </tr>\n",
       "    <tr>\n",
       "      <th>3</th>\n",
       "      <td>20.0</td>\n",
       "      <td>76</td>\n",
       "      <td>F</td>\n",
       "      <td>30.0</td>\n",
       "    </tr>\n",
       "    <tr>\n",
       "      <th>4</th>\n",
       "      <td>22.0</td>\n",
       "      <td>90</td>\n",
       "      <td>F</td>\n",
       "      <td>32.0</td>\n",
       "    </tr>\n",
       "    <tr>\n",
       "      <th>5</th>\n",
       "      <td>24.0</td>\n",
       "      <td>49</td>\n",
       "      <td>F</td>\n",
       "      <td>34.0</td>\n",
       "    </tr>\n",
       "    <tr>\n",
       "      <th>7</th>\n",
       "      <td>16.0</td>\n",
       "      <td>43</td>\n",
       "      <td>F</td>\n",
       "      <td>26.0</td>\n",
       "    </tr>\n",
       "    <tr>\n",
       "      <th>10</th>\n",
       "      <td>26.0</td>\n",
       "      <td>94</td>\n",
       "      <td>F</td>\n",
       "      <td>36.0</td>\n",
       "    </tr>\n",
       "  </tbody>\n",
       "</table>\n",
       "</div>"
      ],
      "text/plain": [
       "    idade  peso sexo  idade2\n",
       "0    16.0    55    F    26.0\n",
       "1    17.0    60    F    27.0\n",
       "2    18.0    45    F    28.0\n",
       "3    20.0    76    F    30.0\n",
       "4    22.0    90    F    32.0\n",
       "5    24.0    49    F    34.0\n",
       "7    16.0    43    F    26.0\n",
       "10   26.0    94    F    36.0"
      ]
     },
     "execution_count": 36,
     "metadata": {},
     "output_type": "execute_result"
    }
   ],
   "source": [
    "df_pandas[df_pandas.sexo.isin(['F'])]"
   ]
  },
  {
   "cell_type": "code",
   "execution_count": 37,
   "metadata": {
    "ExecuteTime": {
     "end_time": "2021-12-10T06:20:08.819750Z",
     "start_time": "2021-12-10T06:20:05.856363Z"
    }
   },
   "outputs": [
    {
     "name": "stdout",
     "output_type": "stream",
     "text": [
      "+-----+----+----+------+\n",
      "|idade|peso|sexo|idade2|\n",
      "+-----+----+----+------+\n",
      "| 16.0|  55|   F|  26.0|\n",
      "| 17.0|  60|   F|  27.0|\n",
      "| 18.0|  45|   F|  28.0|\n",
      "| 20.0|  76|   F|  30.0|\n",
      "| 22.0|  90|   F|  32.0|\n",
      "| 24.0|  49|   F|  34.0|\n",
      "| 16.0|  43|   F|  26.0|\n",
      "| 26.0|  94|   F|  36.0|\n",
      "+-----+----+----+------+\n",
      "\n"
     ]
    }
   ],
   "source": [
    "df_spark[df_spark.sexo.isin('F')].show() # Podemos usar como um booleano"
   ]
  },
  {
   "cell_type": "markdown",
   "metadata": {
    "ExecuteTime": {
     "end_time": "2021-12-09T20:24:48.581105Z",
     "start_time": "2021-12-09T20:24:48.569135Z"
    }
   },
   "source": [
    "# New Column Com Função"
   ]
  },
  {
   "cell_type": "code",
   "execution_count": 38,
   "metadata": {
    "ExecuteTime": {
     "end_time": "2021-12-10T06:20:09.905659Z",
     "start_time": "2021-12-10T06:20:09.895685Z"
    }
   },
   "outputs": [],
   "source": [
    "def maior_idade(x):\n",
    "    if x<18:\n",
    "        z = str(x)+' menor de idade'\n",
    "    else:\n",
    "        z = str(x)+' maior de idade'\n",
    "    return z"
   ]
  },
  {
   "cell_type": "code",
   "execution_count": 39,
   "metadata": {
    "ExecuteTime": {
     "end_time": "2021-12-10T06:20:10.337621Z",
     "start_time": "2021-12-10T06:20:10.319670Z"
    }
   },
   "outputs": [
    {
     "data": {
      "text/html": [
       "<div>\n",
       "<style scoped>\n",
       "    .dataframe tbody tr th:only-of-type {\n",
       "        vertical-align: middle;\n",
       "    }\n",
       "\n",
       "    .dataframe tbody tr th {\n",
       "        vertical-align: top;\n",
       "    }\n",
       "\n",
       "    .dataframe thead th {\n",
       "        text-align: right;\n",
       "    }\n",
       "</style>\n",
       "<table border=\"1\" class=\"dataframe\">\n",
       "  <thead>\n",
       "    <tr style=\"text-align: right;\">\n",
       "      <th></th>\n",
       "      <th>idade</th>\n",
       "      <th>peso</th>\n",
       "      <th>sexo</th>\n",
       "      <th>idade2</th>\n",
       "      <th>regularização</th>\n",
       "    </tr>\n",
       "  </thead>\n",
       "  <tbody>\n",
       "    <tr>\n",
       "      <th>0</th>\n",
       "      <td>16.0</td>\n",
       "      <td>55</td>\n",
       "      <td>F</td>\n",
       "      <td>26.0</td>\n",
       "      <td>16.0 menor de idade</td>\n",
       "    </tr>\n",
       "    <tr>\n",
       "      <th>1</th>\n",
       "      <td>17.0</td>\n",
       "      <td>60</td>\n",
       "      <td>F</td>\n",
       "      <td>27.0</td>\n",
       "      <td>17.0 menor de idade</td>\n",
       "    </tr>\n",
       "    <tr>\n",
       "      <th>2</th>\n",
       "      <td>18.0</td>\n",
       "      <td>45</td>\n",
       "      <td>F</td>\n",
       "      <td>28.0</td>\n",
       "      <td>18.0 maior de idade</td>\n",
       "    </tr>\n",
       "    <tr>\n",
       "      <th>3</th>\n",
       "      <td>20.0</td>\n",
       "      <td>76</td>\n",
       "      <td>F</td>\n",
       "      <td>30.0</td>\n",
       "      <td>20.0 maior de idade</td>\n",
       "    </tr>\n",
       "    <tr>\n",
       "      <th>4</th>\n",
       "      <td>22.0</td>\n",
       "      <td>90</td>\n",
       "      <td>F</td>\n",
       "      <td>32.0</td>\n",
       "      <td>22.0 maior de idade</td>\n",
       "    </tr>\n",
       "    <tr>\n",
       "      <th>5</th>\n",
       "      <td>24.0</td>\n",
       "      <td>49</td>\n",
       "      <td>F</td>\n",
       "      <td>34.0</td>\n",
       "      <td>24.0 maior de idade</td>\n",
       "    </tr>\n",
       "    <tr>\n",
       "      <th>6</th>\n",
       "      <td>21.0</td>\n",
       "      <td>64</td>\n",
       "      <td>M</td>\n",
       "      <td>31.0</td>\n",
       "      <td>21.0 maior de idade</td>\n",
       "    </tr>\n",
       "    <tr>\n",
       "      <th>7</th>\n",
       "      <td>16.0</td>\n",
       "      <td>43</td>\n",
       "      <td>F</td>\n",
       "      <td>26.0</td>\n",
       "      <td>16.0 menor de idade</td>\n",
       "    </tr>\n",
       "    <tr>\n",
       "      <th>8</th>\n",
       "      <td>14.0</td>\n",
       "      <td>92</td>\n",
       "      <td>M</td>\n",
       "      <td>24.0</td>\n",
       "      <td>14.0 menor de idade</td>\n",
       "    </tr>\n",
       "    <tr>\n",
       "      <th>10</th>\n",
       "      <td>26.0</td>\n",
       "      <td>94</td>\n",
       "      <td>F</td>\n",
       "      <td>36.0</td>\n",
       "      <td>26.0 maior de idade</td>\n",
       "    </tr>\n",
       "    <tr>\n",
       "      <th>11</th>\n",
       "      <td>49.0</td>\n",
       "      <td>102</td>\n",
       "      <td>M</td>\n",
       "      <td>59.0</td>\n",
       "      <td>49.0 maior de idade</td>\n",
       "    </tr>\n",
       "  </tbody>\n",
       "</table>\n",
       "</div>"
      ],
      "text/plain": [
       "    idade  peso sexo  idade2        regularização\n",
       "0    16.0    55    F    26.0  16.0 menor de idade\n",
       "1    17.0    60    F    27.0  17.0 menor de idade\n",
       "2    18.0    45    F    28.0  18.0 maior de idade\n",
       "3    20.0    76    F    30.0  20.0 maior de idade\n",
       "4    22.0    90    F    32.0  22.0 maior de idade\n",
       "5    24.0    49    F    34.0  24.0 maior de idade\n",
       "6    21.0    64    M    31.0  21.0 maior de idade\n",
       "7    16.0    43    F    26.0  16.0 menor de idade\n",
       "8    14.0    92    M    24.0  14.0 menor de idade\n",
       "10   26.0    94    F    36.0  26.0 maior de idade\n",
       "11   49.0   102    M    59.0  49.0 maior de idade"
      ]
     },
     "execution_count": 39,
     "metadata": {},
     "output_type": "execute_result"
    }
   ],
   "source": [
    "df_pandas['regularização'] = df_pandas['idade'].agg(maior_idade)\n",
    "df_pandas"
   ]
  },
  {
   "cell_type": "markdown",
   "metadata": {},
   "source": [
    "## Necessário converter dados com UDF"
   ]
  },
  {
   "cell_type": "code",
   "execution_count": 40,
   "metadata": {
    "ExecuteTime": {
     "end_time": "2021-12-10T06:20:11.312343Z",
     "start_time": "2021-12-10T06:20:11.295389Z"
    }
   },
   "outputs": [],
   "source": [
    "# udf converte os valores de uma função para um data type do spark\n",
    "from pyspark.sql import types\n",
    "udf_maior_idade = f.udf(maior_idade,types.StringType())"
   ]
  },
  {
   "cell_type": "code",
   "execution_count": 41,
   "metadata": {
    "ExecuteTime": {
     "end_time": "2021-12-10T06:20:17.661733Z",
     "start_time": "2021-12-10T06:20:11.737208Z"
    }
   },
   "outputs": [
    {
     "name": "stdout",
     "output_type": "stream",
     "text": [
      "+-----+----+----+------+-------------------+\n",
      "|idade|peso|sexo|idade2|      regularização|\n",
      "+-----+----+----+------+-------------------+\n",
      "| 16.0|  55|   F|  26.0|16.0 menor de idade|\n",
      "| 17.0|  60|   F|  27.0|17.0 menor de idade|\n",
      "| 18.0|  45|   F|  28.0|18.0 maior de idade|\n",
      "| 20.0|  76|   F|  30.0|20.0 maior de idade|\n",
      "| 22.0|  90|   F|  32.0|22.0 maior de idade|\n",
      "| 24.0|  49|   F|  34.0|24.0 maior de idade|\n",
      "| 21.0|  64|   M|  31.0|21.0 maior de idade|\n",
      "| 16.0|  43|   F|  26.0|16.0 menor de idade|\n",
      "| 14.0|  92|   M|  24.0|14.0 menor de idade|\n",
      "| 26.0|  94|   F|  36.0|26.0 maior de idade|\n",
      "| 49.0| 102|   M|  59.0|49.0 maior de idade|\n",
      "+-----+----+----+------+-------------------+\n",
      "\n"
     ]
    }
   ],
   "source": [
    "df_spark.withColumn('regularização',udf_maior_idade('idade')).show()"
   ]
  },
  {
   "cell_type": "markdown",
   "metadata": {},
   "source": [
    "## Outro Modo"
   ]
  },
  {
   "cell_type": "code",
   "execution_count": 46,
   "metadata": {
    "ExecuteTime": {
     "end_time": "2021-12-10T06:21:23.581527Z",
     "start_time": "2021-12-10T06:21:20.344733Z"
    },
    "scrolled": true
   },
   "outputs": [
    {
     "name": "stdout",
     "output_type": "stream",
     "text": [
      "+-----+----+----+------+--------------+\n",
      "|idade|peso|sexo|idade2| regularização|\n",
      "+-----+----+----+------+--------------+\n",
      "| 16.0|  55|   F|  26.0|menor de idade|\n",
      "| 17.0|  60|   F|  27.0|menor de idade|\n",
      "| 18.0|  45|   F|  28.0|maior de idade|\n",
      "| 20.0|  76|   F|  30.0|maior de idade|\n",
      "| 22.0|  90|   F|  32.0|maior de idade|\n",
      "| 24.0|  49|   F|  34.0|maior de idade|\n",
      "| 21.0|  64|   M|  31.0|maior de idade|\n",
      "| 16.0|  43|   F|  26.0|menor de idade|\n",
      "| 14.0|  92|   M|  24.0|menor de idade|\n",
      "| 26.0|  94|   F|  36.0|maior de idade|\n",
      "| 49.0| 102|   M|  59.0|maior de idade|\n",
      "+-----+----+----+------+--------------+\n",
      "\n"
     ]
    }
   ],
   "source": [
    "# lit executa algo em todas as linhas de uma coluna\n",
    "# when cria um booleano para coluna\n",
    "df_spark.withColumn('regularização', f.when((df_spark.idade<18),f.lit('menor de idade')).otherwise(f.lit('maior de idade'))).show()"
   ]
  },
  {
   "cell_type": "markdown",
   "metadata": {
    "ExecuteTime": {
     "end_time": "2021-12-09T20:25:35.653306Z",
     "start_time": "2021-12-09T20:25:35.641339Z"
    }
   },
   "source": [
    "# Agg"
   ]
  },
  {
   "cell_type": "code",
   "execution_count": 47,
   "metadata": {
    "ExecuteTime": {
     "end_time": "2021-12-10T06:21:53.890700Z",
     "start_time": "2021-12-10T06:21:53.849785Z"
    }
   },
   "outputs": [
    {
     "data": {
      "text/plain": [
       "peso    102\n",
       "sexo     11\n",
       "dtype: int64"
      ]
     },
     "execution_count": 47,
     "metadata": {},
     "output_type": "execute_result"
    }
   ],
   "source": [
    "df_pandas.agg({'peso':'max','sexo':'count'})"
   ]
  },
  {
   "cell_type": "code",
   "execution_count": 48,
   "metadata": {
    "ExecuteTime": {
     "end_time": "2021-12-10T06:21:57.399792Z",
     "start_time": "2021-12-10T06:21:54.256104Z"
    }
   },
   "outputs": [
    {
     "name": "stdout",
     "output_type": "stream",
     "text": [
      "+---------+-----------+\n",
      "|max(peso)|count(sexo)|\n",
      "+---------+-----------+\n",
      "|      102|         11|\n",
      "+---------+-----------+\n",
      "\n"
     ]
    }
   ],
   "source": [
    "df_spark.agg({'peso':'max','sexo':'count'}).show()"
   ]
  },
  {
   "cell_type": "markdown",
   "metadata": {
    "ExecuteTime": {
     "end_time": "2021-12-09T20:26:29.035658Z",
     "start_time": "2021-12-09T20:26:29.023661Z"
    }
   },
   "source": [
    "# Info"
   ]
  },
  {
   "cell_type": "code",
   "execution_count": 49,
   "metadata": {
    "ExecuteTime": {
     "end_time": "2021-12-10T06:22:01.922298Z",
     "start_time": "2021-12-10T06:22:01.807630Z"
    }
   },
   "outputs": [
    {
     "name": "stdout",
     "output_type": "stream",
     "text": [
      "<class 'pandas.core.frame.DataFrame'>\n",
      "Int64Index: 11 entries, 0 to 11\n",
      "Data columns (total 5 columns):\n",
      " #   Column         Non-Null Count  Dtype  \n",
      "---  ------         --------------  -----  \n",
      " 0   idade          11 non-null     float64\n",
      " 1   peso           11 non-null     int64  \n",
      " 2   sexo           11 non-null     object \n",
      " 3   idade2         11 non-null     float64\n",
      " 4   regularização  11 non-null     object \n",
      "dtypes: float64(2), int64(1), object(2)\n",
      "memory usage: 528.0+ bytes\n"
     ]
    }
   ],
   "source": [
    "df_pandas.info()"
   ]
  },
  {
   "cell_type": "code",
   "execution_count": 50,
   "metadata": {
    "ExecuteTime": {
     "end_time": "2021-12-10T06:22:02.153680Z",
     "start_time": "2021-12-10T06:22:02.137723Z"
    }
   },
   "outputs": [
    {
     "name": "stdout",
     "output_type": "stream",
     "text": [
      "root\n",
      " |-- idade: double (nullable = true)\n",
      " |-- peso: long (nullable = true)\n",
      " |-- sexo: string (nullable = true)\n",
      " |-- idade2: double (nullable = true)\n",
      "\n"
     ]
    }
   ],
   "source": [
    "df_spark.printSchema()"
   ]
  },
  {
   "cell_type": "markdown",
   "metadata": {
    "ExecuteTime": {
     "end_time": "2021-12-09T20:26:31.655051Z",
     "start_time": "2021-12-09T20:26:31.641066Z"
    }
   },
   "source": [
    "# Describe"
   ]
  },
  {
   "cell_type": "code",
   "execution_count": 51,
   "metadata": {
    "ExecuteTime": {
     "end_time": "2021-12-10T06:22:03.501632Z",
     "start_time": "2021-12-10T06:22:03.431819Z"
    }
   },
   "outputs": [
    {
     "data": {
      "text/html": [
       "<div>\n",
       "<style scoped>\n",
       "    .dataframe tbody tr th:only-of-type {\n",
       "        vertical-align: middle;\n",
       "    }\n",
       "\n",
       "    .dataframe tbody tr th {\n",
       "        vertical-align: top;\n",
       "    }\n",
       "\n",
       "    .dataframe thead th {\n",
       "        text-align: right;\n",
       "    }\n",
       "</style>\n",
       "<table border=\"1\" class=\"dataframe\">\n",
       "  <thead>\n",
       "    <tr style=\"text-align: right;\">\n",
       "      <th></th>\n",
       "      <th>idade</th>\n",
       "      <th>peso</th>\n",
       "      <th>idade2</th>\n",
       "    </tr>\n",
       "  </thead>\n",
       "  <tbody>\n",
       "    <tr>\n",
       "      <th>count</th>\n",
       "      <td>11.000000</td>\n",
       "      <td>11.000000</td>\n",
       "      <td>11.000000</td>\n",
       "    </tr>\n",
       "    <tr>\n",
       "      <th>mean</th>\n",
       "      <td>22.090909</td>\n",
       "      <td>70.000000</td>\n",
       "      <td>32.090909</td>\n",
       "    </tr>\n",
       "    <tr>\n",
       "      <th>std</th>\n",
       "      <td>9.648363</td>\n",
       "      <td>21.624061</td>\n",
       "      <td>9.648363</td>\n",
       "    </tr>\n",
       "    <tr>\n",
       "      <th>min</th>\n",
       "      <td>14.000000</td>\n",
       "      <td>43.000000</td>\n",
       "      <td>24.000000</td>\n",
       "    </tr>\n",
       "    <tr>\n",
       "      <th>25%</th>\n",
       "      <td>16.500000</td>\n",
       "      <td>52.000000</td>\n",
       "      <td>26.500000</td>\n",
       "    </tr>\n",
       "    <tr>\n",
       "      <th>50%</th>\n",
       "      <td>20.000000</td>\n",
       "      <td>64.000000</td>\n",
       "      <td>30.000000</td>\n",
       "    </tr>\n",
       "    <tr>\n",
       "      <th>75%</th>\n",
       "      <td>23.000000</td>\n",
       "      <td>91.000000</td>\n",
       "      <td>33.000000</td>\n",
       "    </tr>\n",
       "    <tr>\n",
       "      <th>max</th>\n",
       "      <td>49.000000</td>\n",
       "      <td>102.000000</td>\n",
       "      <td>59.000000</td>\n",
       "    </tr>\n",
       "  </tbody>\n",
       "</table>\n",
       "</div>"
      ],
      "text/plain": [
       "           idade        peso     idade2\n",
       "count  11.000000   11.000000  11.000000\n",
       "mean   22.090909   70.000000  32.090909\n",
       "std     9.648363   21.624061   9.648363\n",
       "min    14.000000   43.000000  24.000000\n",
       "25%    16.500000   52.000000  26.500000\n",
       "50%    20.000000   64.000000  30.000000\n",
       "75%    23.000000   91.000000  33.000000\n",
       "max    49.000000  102.000000  59.000000"
      ]
     },
     "execution_count": 51,
     "metadata": {},
     "output_type": "execute_result"
    }
   ],
   "source": [
    "df_pandas.describe()"
   ]
  },
  {
   "cell_type": "code",
   "execution_count": 52,
   "metadata": {
    "ExecuteTime": {
     "end_time": "2021-12-10T06:22:07.231245Z",
     "start_time": "2021-12-10T06:22:03.751964Z"
    }
   },
   "outputs": [
    {
     "name": "stdout",
     "output_type": "stream",
     "text": [
      "+-------+-----------------+------------------+----+-----------------+\n",
      "|summary|            idade|              peso|sexo|           idade2|\n",
      "+-------+-----------------+------------------+----+-----------------+\n",
      "|  count|               11|                11|  11|               11|\n",
      "|   mean|22.09090909090909|              70.0|null|32.09090909090909|\n",
      "| stddev|9.648363026488436|21.624060673240816|null|9.648363026488436|\n",
      "|    min|             14.0|                43|   F|             24.0|\n",
      "|    max|             49.0|               102|   M|             59.0|\n",
      "+-------+-----------------+------------------+----+-----------------+\n",
      "\n"
     ]
    }
   ],
   "source": [
    "df_spark.describe().show()"
   ]
  },
  {
   "cell_type": "markdown",
   "metadata": {
    "ExecuteTime": {
     "end_time": "2021-12-09T20:26:35.744868Z",
     "start_time": "2021-12-09T20:26:33.702Z"
    }
   },
   "source": [
    "# Sort"
   ]
  },
  {
   "cell_type": "code",
   "execution_count": 53,
   "metadata": {
    "ExecuteTime": {
     "end_time": "2021-12-10T06:22:08.943008Z",
     "start_time": "2021-12-10T06:22:08.928048Z"
    }
   },
   "outputs": [
    {
     "data": {
      "text/html": [
       "<div>\n",
       "<style scoped>\n",
       "    .dataframe tbody tr th:only-of-type {\n",
       "        vertical-align: middle;\n",
       "    }\n",
       "\n",
       "    .dataframe tbody tr th {\n",
       "        vertical-align: top;\n",
       "    }\n",
       "\n",
       "    .dataframe thead th {\n",
       "        text-align: right;\n",
       "    }\n",
       "</style>\n",
       "<table border=\"1\" class=\"dataframe\">\n",
       "  <thead>\n",
       "    <tr style=\"text-align: right;\">\n",
       "      <th></th>\n",
       "      <th>idade</th>\n",
       "      <th>peso</th>\n",
       "      <th>sexo</th>\n",
       "      <th>idade2</th>\n",
       "      <th>regularização</th>\n",
       "    </tr>\n",
       "  </thead>\n",
       "  <tbody>\n",
       "    <tr>\n",
       "      <th>11</th>\n",
       "      <td>49.0</td>\n",
       "      <td>102</td>\n",
       "      <td>M</td>\n",
       "      <td>59.0</td>\n",
       "      <td>49.0 maior de idade</td>\n",
       "    </tr>\n",
       "    <tr>\n",
       "      <th>10</th>\n",
       "      <td>26.0</td>\n",
       "      <td>94</td>\n",
       "      <td>F</td>\n",
       "      <td>36.0</td>\n",
       "      <td>26.0 maior de idade</td>\n",
       "    </tr>\n",
       "    <tr>\n",
       "      <th>5</th>\n",
       "      <td>24.0</td>\n",
       "      <td>49</td>\n",
       "      <td>F</td>\n",
       "      <td>34.0</td>\n",
       "      <td>24.0 maior de idade</td>\n",
       "    </tr>\n",
       "    <tr>\n",
       "      <th>4</th>\n",
       "      <td>22.0</td>\n",
       "      <td>90</td>\n",
       "      <td>F</td>\n",
       "      <td>32.0</td>\n",
       "      <td>22.0 maior de idade</td>\n",
       "    </tr>\n",
       "    <tr>\n",
       "      <th>6</th>\n",
       "      <td>21.0</td>\n",
       "      <td>64</td>\n",
       "      <td>M</td>\n",
       "      <td>31.0</td>\n",
       "      <td>21.0 maior de idade</td>\n",
       "    </tr>\n",
       "    <tr>\n",
       "      <th>3</th>\n",
       "      <td>20.0</td>\n",
       "      <td>76</td>\n",
       "      <td>F</td>\n",
       "      <td>30.0</td>\n",
       "      <td>20.0 maior de idade</td>\n",
       "    </tr>\n",
       "    <tr>\n",
       "      <th>2</th>\n",
       "      <td>18.0</td>\n",
       "      <td>45</td>\n",
       "      <td>F</td>\n",
       "      <td>28.0</td>\n",
       "      <td>18.0 maior de idade</td>\n",
       "    </tr>\n",
       "    <tr>\n",
       "      <th>1</th>\n",
       "      <td>17.0</td>\n",
       "      <td>60</td>\n",
       "      <td>F</td>\n",
       "      <td>27.0</td>\n",
       "      <td>17.0 menor de idade</td>\n",
       "    </tr>\n",
       "    <tr>\n",
       "      <th>0</th>\n",
       "      <td>16.0</td>\n",
       "      <td>55</td>\n",
       "      <td>F</td>\n",
       "      <td>26.0</td>\n",
       "      <td>16.0 menor de idade</td>\n",
       "    </tr>\n",
       "    <tr>\n",
       "      <th>7</th>\n",
       "      <td>16.0</td>\n",
       "      <td>43</td>\n",
       "      <td>F</td>\n",
       "      <td>26.0</td>\n",
       "      <td>16.0 menor de idade</td>\n",
       "    </tr>\n",
       "    <tr>\n",
       "      <th>8</th>\n",
       "      <td>14.0</td>\n",
       "      <td>92</td>\n",
       "      <td>M</td>\n",
       "      <td>24.0</td>\n",
       "      <td>14.0 menor de idade</td>\n",
       "    </tr>\n",
       "  </tbody>\n",
       "</table>\n",
       "</div>"
      ],
      "text/plain": [
       "    idade  peso sexo  idade2        regularização\n",
       "11   49.0   102    M    59.0  49.0 maior de idade\n",
       "10   26.0    94    F    36.0  26.0 maior de idade\n",
       "5    24.0    49    F    34.0  24.0 maior de idade\n",
       "4    22.0    90    F    32.0  22.0 maior de idade\n",
       "6    21.0    64    M    31.0  21.0 maior de idade\n",
       "3    20.0    76    F    30.0  20.0 maior de idade\n",
       "2    18.0    45    F    28.0  18.0 maior de idade\n",
       "1    17.0    60    F    27.0  17.0 menor de idade\n",
       "0    16.0    55    F    26.0  16.0 menor de idade\n",
       "7    16.0    43    F    26.0  16.0 menor de idade\n",
       "8    14.0    92    M    24.0  14.0 menor de idade"
      ]
     },
     "execution_count": 53,
     "metadata": {},
     "output_type": "execute_result"
    }
   ],
   "source": [
    "df_pandas.sort_values(by='idade', ascending = False)"
   ]
  },
  {
   "cell_type": "code",
   "execution_count": 54,
   "metadata": {
    "ExecuteTime": {
     "end_time": "2021-12-10T06:22:12.560926Z",
     "start_time": "2021-12-10T06:22:09.290038Z"
    }
   },
   "outputs": [
    {
     "name": "stdout",
     "output_type": "stream",
     "text": [
      "+-----+----+----+------+\n",
      "|idade|peso|sexo|idade2|\n",
      "+-----+----+----+------+\n",
      "| 49.0| 102|   M|  59.0|\n",
      "| 26.0|  94|   F|  36.0|\n",
      "| 24.0|  49|   F|  34.0|\n",
      "| 22.0|  90|   F|  32.0|\n",
      "| 21.0|  64|   M|  31.0|\n",
      "| 20.0|  76|   F|  30.0|\n",
      "| 18.0|  45|   F|  28.0|\n",
      "| 17.0|  60|   F|  27.0|\n",
      "| 16.0|  55|   F|  26.0|\n",
      "| 16.0|  43|   F|  26.0|\n",
      "| 14.0|  92|   M|  24.0|\n",
      "+-----+----+----+------+\n",
      "\n"
     ]
    }
   ],
   "source": [
    "df_spark.sort(df_spark.idade.desc()).show()"
   ]
  },
  {
   "cell_type": "markdown",
   "metadata": {
    "ExecuteTime": {
     "end_time": "2021-12-10T06:22:12.597827Z",
     "start_time": "2021-12-10T06:22:09.863Z"
    }
   },
   "source": [
    "# Value Counts"
   ]
  },
  {
   "cell_type": "code",
   "execution_count": 55,
   "metadata": {
    "ExecuteTime": {
     "end_time": "2021-12-10T06:22:14.682956Z",
     "start_time": "2021-12-10T06:22:14.671986Z"
    }
   },
   "outputs": [
    {
     "data": {
      "text/plain": [
       "F    8\n",
       "M    3\n",
       "Name: sexo, dtype: int64"
      ]
     },
     "execution_count": 55,
     "metadata": {},
     "output_type": "execute_result"
    }
   ],
   "source": [
    "df_pandas['sexo'].value_counts()"
   ]
  },
  {
   "cell_type": "code",
   "execution_count": 56,
   "metadata": {
    "ExecuteTime": {
     "end_time": "2021-12-10T06:22:18.927236Z",
     "start_time": "2021-12-10T06:22:15.256308Z"
    }
   },
   "outputs": [
    {
     "name": "stdout",
     "output_type": "stream",
     "text": [
      "+----+-----+\n",
      "|sexo|count|\n",
      "+----+-----+\n",
      "|   F|    8|\n",
      "|   M|    3|\n",
      "+----+-----+\n",
      "\n"
     ]
    }
   ],
   "source": [
    "df_spark.groupBy('sexo').count().show()"
   ]
  },
  {
   "cell_type": "markdown",
   "metadata": {
    "ExecuteTime": {
     "end_time": "2021-12-10T06:19:10.704527Z",
     "start_time": "2021-12-10T06:18:37.125Z"
    }
   },
   "source": [
    "# crosstab"
   ]
  },
  {
   "cell_type": "code",
   "execution_count": 57,
   "metadata": {
    "ExecuteTime": {
     "end_time": "2021-12-10T06:22:21.006843Z",
     "start_time": "2021-12-10T06:22:20.848238Z"
    }
   },
   "outputs": [
    {
     "data": {
      "text/html": [
       "<div>\n",
       "<style scoped>\n",
       "    .dataframe tbody tr th:only-of-type {\n",
       "        vertical-align: middle;\n",
       "    }\n",
       "\n",
       "    .dataframe tbody tr th {\n",
       "        vertical-align: top;\n",
       "    }\n",
       "\n",
       "    .dataframe thead th {\n",
       "        text-align: right;\n",
       "    }\n",
       "</style>\n",
       "<table border=\"1\" class=\"dataframe\">\n",
       "  <thead>\n",
       "    <tr style=\"text-align: right;\">\n",
       "      <th>sexo</th>\n",
       "      <th>F</th>\n",
       "      <th>M</th>\n",
       "    </tr>\n",
       "    <tr>\n",
       "      <th>idade</th>\n",
       "      <th></th>\n",
       "      <th></th>\n",
       "    </tr>\n",
       "  </thead>\n",
       "  <tbody>\n",
       "    <tr>\n",
       "      <th>14.0</th>\n",
       "      <td>0</td>\n",
       "      <td>1</td>\n",
       "    </tr>\n",
       "    <tr>\n",
       "      <th>16.0</th>\n",
       "      <td>2</td>\n",
       "      <td>0</td>\n",
       "    </tr>\n",
       "    <tr>\n",
       "      <th>17.0</th>\n",
       "      <td>1</td>\n",
       "      <td>0</td>\n",
       "    </tr>\n",
       "    <tr>\n",
       "      <th>18.0</th>\n",
       "      <td>1</td>\n",
       "      <td>0</td>\n",
       "    </tr>\n",
       "    <tr>\n",
       "      <th>20.0</th>\n",
       "      <td>1</td>\n",
       "      <td>0</td>\n",
       "    </tr>\n",
       "    <tr>\n",
       "      <th>21.0</th>\n",
       "      <td>0</td>\n",
       "      <td>1</td>\n",
       "    </tr>\n",
       "    <tr>\n",
       "      <th>22.0</th>\n",
       "      <td>1</td>\n",
       "      <td>0</td>\n",
       "    </tr>\n",
       "    <tr>\n",
       "      <th>24.0</th>\n",
       "      <td>1</td>\n",
       "      <td>0</td>\n",
       "    </tr>\n",
       "    <tr>\n",
       "      <th>26.0</th>\n",
       "      <td>1</td>\n",
       "      <td>0</td>\n",
       "    </tr>\n",
       "    <tr>\n",
       "      <th>49.0</th>\n",
       "      <td>0</td>\n",
       "      <td>1</td>\n",
       "    </tr>\n",
       "  </tbody>\n",
       "</table>\n",
       "</div>"
      ],
      "text/plain": [
       "sexo   F  M\n",
       "idade      \n",
       "14.0   0  1\n",
       "16.0   2  0\n",
       "17.0   1  0\n",
       "18.0   1  0\n",
       "20.0   1  0\n",
       "21.0   0  1\n",
       "22.0   1  0\n",
       "24.0   1  0\n",
       "26.0   1  0\n",
       "49.0   0  1"
      ]
     },
     "execution_count": 57,
     "metadata": {},
     "output_type": "execute_result"
    }
   ],
   "source": [
    "pd.crosstab(index=df_pandas['idade'],columns = df_pandas['sexo'])"
   ]
  },
  {
   "cell_type": "code",
   "execution_count": 58,
   "metadata": {
    "ExecuteTime": {
     "end_time": "2021-12-10T06:22:24.880908Z",
     "start_time": "2021-12-10T06:22:21.416746Z"
    }
   },
   "outputs": [
    {
     "name": "stdout",
     "output_type": "stream",
     "text": [
      "+----------+---+---+\n",
      "|idade_sexo|  F|  M|\n",
      "+----------+---+---+\n",
      "|      24.0|  1|  0|\n",
      "|      14.0|  0|  1|\n",
      "|      20.0|  1|  0|\n",
      "|      21.0|  0|  1|\n",
      "|      17.0|  1|  0|\n",
      "|      22.0|  1|  0|\n",
      "|      49.0|  0|  1|\n",
      "|      18.0|  1|  0|\n",
      "|      16.0|  2|  0|\n",
      "|      26.0|  1|  0|\n",
      "+----------+---+---+\n",
      "\n"
     ]
    }
   ],
   "source": [
    "df_spark.crosstab('idade','sexo').show()"
   ]
  },
  {
   "cell_type": "markdown",
   "metadata": {},
   "source": [
    "# Criando uma coluna com ajuda de um dicionário"
   ]
  },
  {
   "cell_type": "code",
   "execution_count": 59,
   "metadata": {
    "ExecuteTime": {
     "end_time": "2021-12-10T06:22:33.521722Z",
     "start_time": "2021-12-10T06:22:27.368097Z"
    }
   },
   "outputs": [
    {
     "data": {
      "text/plain": [
       "[{'idade': 16.0, 'peso': 55, 'sexo': 'F', 'idade2': 26.0, 'id': 0},\n",
       " {'idade': 17.0, 'peso': 60, 'sexo': 'F', 'idade2': 27.0, 'id': 1}]"
      ]
     },
     "execution_count": 59,
     "metadata": {},
     "output_type": "execute_result"
    }
   ],
   "source": [
    "count = 0\n",
    "rdd_ = df_spark.rdd.map(lambda x:x.asDict()).collect()  # Transforma cada rdd do df_spark em dicionário\n",
    "for i in rdd_:                                          # Roda cada rdd do df\n",
    "    i['id'] = count                                     # Adiciona o contador a cada coluna \n",
    "    count+=1\n",
    "rdd_[0:2]"
   ]
  },
  {
   "cell_type": "code",
   "execution_count": 60,
   "metadata": {
    "ExecuteTime": {
     "end_time": "2021-12-10T06:22:35.338907Z",
     "start_time": "2021-12-10T06:22:35.303974Z"
    }
   },
   "outputs": [],
   "source": [
    "df_spark_new = spark.createDataFrame(rdd_)            # Cria um DataFrame "
   ]
  },
  {
   "cell_type": "code",
   "execution_count": 61,
   "metadata": {
    "ExecuteTime": {
     "end_time": "2021-12-10T06:22:38.907966Z",
     "start_time": "2021-12-10T06:22:35.711507Z"
    }
   },
   "outputs": [
    {
     "name": "stdout",
     "output_type": "stream",
     "text": [
      "+---+-----+------+----+----+\n",
      "| id|idade|idade2|peso|sexo|\n",
      "+---+-----+------+----+----+\n",
      "|  0| 16.0|  26.0|  55|   F|\n",
      "|  1| 17.0|  27.0|  60|   F|\n",
      "|  2| 18.0|  28.0|  45|   F|\n",
      "|  3| 20.0|  30.0|  76|   F|\n",
      "|  4| 22.0|  32.0|  90|   F|\n",
      "|  5| 24.0|  34.0|  49|   F|\n",
      "|  6| 21.0|  31.0|  64|   M|\n",
      "|  7| 16.0|  26.0|  43|   F|\n",
      "|  8| 14.0|  24.0|  92|   M|\n",
      "|  9| 26.0|  36.0|  94|   F|\n",
      "| 10| 49.0|  59.0| 102|   M|\n",
      "+---+-----+------+----+----+\n",
      "\n"
     ]
    }
   ],
   "source": [
    "df_spark_new.show()"
   ]
  },
  {
   "cell_type": "markdown",
   "metadata": {},
   "source": [
    "# Join = Merge"
   ]
  },
  {
   "cell_type": "code",
   "execution_count": 62,
   "metadata": {
    "ExecuteTime": {
     "end_time": "2021-12-10T06:22:50.541893Z",
     "start_time": "2021-12-10T06:22:47.575811Z"
    }
   },
   "outputs": [
    {
     "name": "stdout",
     "output_type": "stream",
     "text": [
      "+---+------+\n",
      "| id|estado|\n",
      "+---+------+\n",
      "|  0|    BA|\n",
      "|  1|    BA|\n",
      "|  2|    SP|\n",
      "|  3|    SP|\n",
      "|  4|    BA|\n",
      "|  5|    SP|\n",
      "|  6|    BA|\n",
      "|  7|    RJ|\n",
      "|  8|    RJ|\n",
      "|  9|    RJ|\n",
      "| 10|    BA|\n",
      "+---+------+\n",
      "\n"
     ]
    }
   ],
   "source": [
    "df_spark_new2 = spark.createDataFrame(pd.DataFrame({'id':[0,1,2,3,4,5,6,7,8,9,10], 'estado':['BA','BA','SP','SP','BA','SP','BA','RJ','RJ','RJ','BA']}))\n",
    "df_spark_new2.show()"
   ]
  },
  {
   "cell_type": "code",
   "execution_count": 63,
   "metadata": {
    "ExecuteTime": {
     "end_time": "2021-12-10T06:23:04.552259Z",
     "start_time": "2021-12-10T06:22:54.839694Z"
    }
   },
   "outputs": [
    {
     "name": "stdout",
     "output_type": "stream",
     "text": [
      "+---+-----+------+----+----+------+\n",
      "| id|idade|idade2|peso|sexo|estado|\n",
      "+---+-----+------+----+----+------+\n",
      "|  0| 16.0|  26.0|  55|   F|    BA|\n",
      "|  7| 16.0|  26.0|  43|   F|    RJ|\n",
      "|  6| 21.0|  31.0|  64|   M|    BA|\n",
      "|  9| 26.0|  36.0|  94|   F|    RJ|\n",
      "|  5| 24.0|  34.0|  49|   F|    SP|\n",
      "|  1| 17.0|  27.0|  60|   F|    BA|\n",
      "| 10| 49.0|  59.0| 102|   M|    BA|\n",
      "|  3| 20.0|  30.0|  76|   F|    SP|\n",
      "|  8| 14.0|  24.0|  92|   M|    RJ|\n",
      "|  2| 18.0|  28.0|  45|   F|    SP|\n",
      "|  4| 22.0|  32.0|  90|   F|    BA|\n",
      "+---+-----+------+----+----+------+\n",
      "\n"
     ]
    }
   ],
   "source": [
    "df_spark_new.join(df_spark_new2,'id','left').show()"
   ]
  },
  {
   "cell_type": "markdown",
   "metadata": {},
   "source": [
    "# PYspark com Pandas"
   ]
  },
  {
   "cell_type": "code",
   "execution_count": null,
   "metadata": {},
   "outputs": [],
   "source": [
    "import pyspark.pandas as ps"
   ]
  },
  {
   "cell_type": "code",
   "execution_count": null,
   "metadata": {},
   "outputs": [],
   "source": [
    "df = spark.read.json(\"examples/src/main/resources/people.json\")"
   ]
  },
  {
   "cell_type": "code",
   "execution_count": null,
   "metadata": {},
   "outputs": [],
   "source": [
    "df.createOrReplaceTempView(\"people\")\n",
    "sqlDF = spark.sql(\"SELECT * FROM people\")\n",
    "sqlDF.show()"
   ]
  },
  {
   "cell_type": "markdown",
   "metadata": {},
   "source": [
    "# CONTAINS\n",
    ".like"
   ]
  }
 ],
 "metadata": {
  "kernelspec": {
   "display_name": "Python 3 (ipykernel)",
   "language": "python",
   "name": "python3"
  },
  "language_info": {
   "codemirror_mode": {
    "name": "ipython",
    "version": 3
   },
   "file_extension": ".py",
   "mimetype": "text/x-python",
   "name": "python",
   "nbconvert_exporter": "python",
   "pygments_lexer": "ipython3",
   "version": "3.9.7"
  },
  "toc": {
   "base_numbering": 1,
   "nav_menu": {},
   "number_sections": true,
   "sideBar": true,
   "skip_h1_title": false,
   "title_cell": "Table of Contents",
   "title_sidebar": "Contents",
   "toc_cell": false,
   "toc_position": {},
   "toc_section_display": true,
   "toc_window_display": false
  },
  "varInspector": {
   "cols": {
    "lenName": 16,
    "lenType": 16,
    "lenVar": 40
   },
   "kernels_config": {
    "python": {
     "delete_cmd_postfix": "",
     "delete_cmd_prefix": "del ",
     "library": "var_list.py",
     "varRefreshCmd": "print(var_dic_list())"
    },
    "r": {
     "delete_cmd_postfix": ") ",
     "delete_cmd_prefix": "rm(",
     "library": "var_list.r",
     "varRefreshCmd": "cat(var_dic_list()) "
    }
   },
   "types_to_exclude": [
    "module",
    "function",
    "builtin_function_or_method",
    "instance",
    "_Feature"
   ],
   "window_display": false
  }
 },
 "nbformat": 4,
 "nbformat_minor": 4
}
