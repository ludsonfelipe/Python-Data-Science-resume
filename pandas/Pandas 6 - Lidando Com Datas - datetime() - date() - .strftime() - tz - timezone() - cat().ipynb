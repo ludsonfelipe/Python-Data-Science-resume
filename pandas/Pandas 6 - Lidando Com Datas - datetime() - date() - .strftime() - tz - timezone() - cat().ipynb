{
 "cells": [
  {
   "attachments": {},
   "cell_type": "markdown",
   "metadata": {},
   "source": [
    "# Datas Normais - date() - timedelta() - .year..."
   ]
  },
  {
   "cell_type": "markdown",
   "metadata": {},
   "source": [
    "## .date()\n",
    "\n",
    "<p> Criando Datas com <b>.date</b> </p>"
   ]
  },
  {
   "cell_type": "code",
   "execution_count": 24,
   "metadata": {
    "ExecuteTime": {
     "end_time": "2022-08-15T01:49:35.266923Z",
     "start_time": "2022-08-15T01:49:35.258923Z"
    }
   },
   "outputs": [],
   "source": [
    "import pandas as pd\n",
    "from datetime import date,timezone,timedelta,datetime\n",
    "from dateutil import tz"
   ]
  },
  {
   "cell_type": "code",
   "execution_count": 11,
   "metadata": {
    "ExecuteTime": {
     "end_time": "2022-08-15T01:47:56.545230Z",
     "start_time": "2022-08-15T01:47:56.529203Z"
    }
   },
   "outputs": [
    {
     "data": {
      "text/plain": [
       "[datetime.date(2016, 10, 7), datetime.date(2017, 6, 21)]"
      ]
     },
     "execution_count": 11,
     "metadata": {},
     "output_type": "execute_result"
    }
   ],
   "source": [
    "datas = [ date(2016, 10, 7), date(2017, 6, 21) ]\n",
    "datas"
   ]
  },
  {
   "cell_type": "markdown",
   "metadata": {},
   "source": [
    "## .year - .month - .day ... etc\n",
    "<p> Podemos ver o ano com <b>datas[0].year</b>, o mês com <b>datas[0].month</b>, o dia com <b>datas[0].day</b> O dia da semana com <b>datas[0].weekday()</b>.</p> "
   ]
  },
  {
   "cell_type": "code",
   "execution_count": 12,
   "metadata": {
    "ExecuteTime": {
     "end_time": "2022-08-15T01:48:08.744868Z",
     "start_time": "2022-08-15T01:48:08.729330Z"
    }
   },
   "outputs": [
    {
     "data": {
      "text/plain": [
       "2016"
      ]
     },
     "execution_count": 12,
     "metadata": {},
     "output_type": "execute_result"
    }
   ],
   "source": [
    "# Exemplo\n",
    "datas[0].year "
   ]
  },
  {
   "cell_type": "markdown",
   "metadata": {},
   "source": [
    "## .timedelta()\n",
    "<p> Podemos efetuar cálculos subtraindo as datas como <b>datas[1] - datas[0]</b>, caso queiramos subtrair uma quantidade de meses ou dias especificos, usaremos o <b>timedelta()</b>.</p>"
   ]
  },
  {
   "cell_type": "code",
   "execution_count": 13,
   "metadata": {
    "ExecuteTime": {
     "end_time": "2022-08-15T01:48:09.801062Z",
     "start_time": "2022-08-15T01:48:09.794088Z"
    }
   },
   "outputs": [
    {
     "data": {
      "text/plain": [
       "datetime.date(2017, 3, 25)"
      ]
     },
     "execution_count": 13,
     "metadata": {},
     "output_type": "execute_result"
    }
   ],
   "source": [
    "# Acrescentando 20 semanas e 29 dias a primeira data\n",
    "td = timedelta(days=29,weeks=20)\n",
    "datas[0]+td"
   ]
  },
  {
   "cell_type": "markdown",
   "metadata": {},
   "source": [
    "## .datetime()\n",
    "<p>Criando data com horas.</p>"
   ]
  },
  {
   "cell_type": "code",
   "execution_count": 14,
   "metadata": {
    "ExecuteTime": {
     "end_time": "2022-08-15T01:48:11.074785Z",
     "start_time": "2022-08-15T01:48:11.065785Z"
    }
   },
   "outputs": [
    {
     "data": {
      "text/plain": [
       "datetime.datetime(2022, 11, 1, 2, 34)"
      ]
     },
     "execution_count": 14,
     "metadata": {},
     "output_type": "execute_result"
    }
   ],
   "source": [
    "dt = datetime(2022,11,1,2,34,0,0) #Y-M-D-H-M-S-MS\n",
    "dt"
   ]
  },
  {
   "cell_type": "markdown",
   "metadata": {},
   "source": [
    "<p>Também podemos utilizar da maneira seguinte:<b> dt = datetime(year=... month=... day=... hour=... minute=... second=... microsecond=...) </b></p>"
   ]
  },
  {
   "cell_type": "markdown",
   "metadata": {},
   "source": [
    "## .strftime()\n",
    "<p> Podemos checar ano, mês e outros atributos com <b>%Y, %m, %M, %d, %s, %ms</b>. junto ao <b>strftime().</b></p>"
   ]
  },
  {
   "cell_type": "code",
   "execution_count": 15,
   "metadata": {
    "ExecuteTime": {
     "end_time": "2022-08-15T01:48:12.452838Z",
     "start_time": "2022-08-15T01:48:12.441837Z"
    }
   },
   "outputs": [
    {
     "data": {
      "text/plain": [
       "'2022/11/01'"
      ]
     },
     "execution_count": 15,
     "metadata": {},
     "output_type": "execute_result"
    }
   ],
   "source": [
    "# Selecionando Ano Mês e Dia da variavel DT\n",
    "dt.strftime('%Y/%m/%d') "
   ]
  },
  {
   "cell_type": "markdown",
   "metadata": {},
   "source": [
    "## .fromtimestamp()\n",
    "<p> Podemos converter tempos de timestamp em horas dias e anos. </p>"
   ]
  },
  {
   "cell_type": "code",
   "execution_count": 16,
   "metadata": {
    "ExecuteTime": {
     "end_time": "2022-08-15T01:48:13.171199Z",
     "start_time": "2022-08-15T01:48:13.161199Z"
    }
   },
   "outputs": [
    {
     "name": "stdout",
     "output_type": "stream",
     "text": [
      "1970-04-26 14:46:39\n"
     ]
    }
   ],
   "source": [
    "ts = 9999999\n",
    "print(datetime.fromtimestamp(ts))"
   ]
  },
  {
   "cell_type": "markdown",
   "metadata": {},
   "source": [
    "## timezone()\n",
    "<p> Com timezone() podemos definir nossa timezone com timedelta(). utilizando ele dentro do nosso datetime, aplicando ele com astimezone ou utilizando replace.</p>\n"
   ]
  },
  {
   "cell_type": "code",
   "execution_count": 17,
   "metadata": {
    "ExecuteTime": {
     "end_time": "2022-08-15T01:48:13.902442Z",
     "start_time": "2022-08-15T01:48:13.897440Z"
    }
   },
   "outputs": [],
   "source": [
    "data = datetime(2021,12,4,0,0,2) # data para ser usado "
   ]
  },
  {
   "cell_type": "code",
   "execution_count": 18,
   "metadata": {
    "ExecuteTime": {
     "end_time": "2022-08-15T01:48:14.199959Z",
     "start_time": "2022-08-15T01:48:14.193960Z"
    }
   },
   "outputs": [],
   "source": [
    "tz = timezone(timedelta(hours=-5))"
   ]
  },
  {
   "cell_type": "markdown",
   "metadata": {},
   "source": [
    "### timezone com tzinfo()\n",
    "<p> O tzinfo deve ser configurado na criação do datetime. </p>"
   ]
  },
  {
   "cell_type": "code",
   "execution_count": 19,
   "metadata": {
    "ExecuteTime": {
     "end_time": "2022-08-15T01:48:14.745026Z",
     "start_time": "2022-08-15T01:48:14.737052Z"
    }
   },
   "outputs": [
    {
     "name": "stdout",
     "output_type": "stream",
     "text": [
      "2021-12-04 00:00:02-05:00\n"
     ]
    }
   ],
   "source": [
    "data_com_tz = datetime(2021,12,4,0,0,2, tzinfo = tz)\n",
    "print(data_com_tz)"
   ]
  },
  {
   "cell_type": "markdown",
   "metadata": {},
   "source": [
    "### timezone com .astimezone()\n",
    "<p> o astimezone já soma o horario. </p>"
   ]
  },
  {
   "cell_type": "code",
   "execution_count": 20,
   "metadata": {
    "ExecuteTime": {
     "end_time": "2022-08-15T01:48:15.798902Z",
     "start_time": "2022-08-15T01:48:15.780898Z"
    }
   },
   "outputs": [
    {
     "name": "stdout",
     "output_type": "stream",
     "text": [
      "2021-12-04 03:00:02+00:00\n"
     ]
    }
   ],
   "source": [
    "data_com_ast = data.astimezone(tz.utc) \n",
    "print(data_com_ast)"
   ]
  },
  {
   "cell_type": "markdown",
   "metadata": {},
   "source": [
    "### timezone com .replace()\n",
    "<p> O replace funciona como tzinfo, porém acontece depois do datetime já criado. </p>"
   ]
  },
  {
   "cell_type": "code",
   "execution_count": 21,
   "metadata": {
    "ExecuteTime": {
     "end_time": "2022-08-15T01:48:16.490063Z",
     "start_time": "2022-08-15T01:48:16.484063Z"
    }
   },
   "outputs": [
    {
     "name": "stdout",
     "output_type": "stream",
     "text": [
      "2021-12-04 00:00:02+00:00\n"
     ]
    }
   ],
   "source": [
    "data_com_rpl = data.replace(tzinfo=tz.utc)\n",
    "print(data_com_rpl)"
   ]
  },
  {
   "cell_type": "markdown",
   "metadata": {},
   "source": [
    "## com tz\n",
    "<p> tz.gettz() com tz.gettz() podemos importar nossas timezones </p> "
   ]
  },
  {
   "cell_type": "code",
   "execution_count": 25,
   "metadata": {
    "ExecuteTime": {
     "end_time": "2022-08-15T01:49:40.969185Z",
     "start_time": "2022-08-15T01:49:40.833836Z"
    }
   },
   "outputs": [],
   "source": [
    "nw = tz.gettz('America/New_York')"
   ]
  },
  {
   "attachments": {},
   "cell_type": "markdown",
   "metadata": {},
   "source": [
    "# Datas Com Pandas - parse_dates - .to_datetime() - .dt - .tz_localize()"
   ]
  },
  {
   "cell_type": "markdown",
   "metadata": {},
   "source": [
    "<p> Podemos transformar nossos dados de duas maneira com <b>to_datetime</b> ou <b>parse_dates</b>\n",
    "    \n",
    "```python \n",
    "df = pd.read_csv(parse_dates = ['data'])\n",
    "\n",
    "df['data'] = pd.to_datetime(df['data'], format = 'Y%-m%-%d %H:%M:%S')\n",
    "```"
   ]
  },
  {
   "cell_type": "markdown",
   "metadata": {},
   "source": [
    "## Criando data"
   ]
  },
  {
   "cell_type": "code",
   "execution_count": 9,
   "metadata": {
    "ExecuteTime": {
     "end_time": "2022-08-15T01:46:37.463993Z",
     "start_time": "2022-08-15T01:46:36.819482Z"
    }
   },
   "outputs": [
    {
     "data": {
      "text/html": [
       "<div>\n",
       "<style scoped>\n",
       "    .dataframe tbody tr th:only-of-type {\n",
       "        vertical-align: middle;\n",
       "    }\n",
       "\n",
       "    .dataframe tbody tr th {\n",
       "        vertical-align: top;\n",
       "    }\n",
       "\n",
       "    .dataframe thead th {\n",
       "        text-align: right;\n",
       "    }\n",
       "</style>\n",
       "<table border=\"1\" class=\"dataframe\">\n",
       "  <thead>\n",
       "    <tr style=\"text-align: right;\">\n",
       "      <th></th>\n",
       "      <th>data</th>\n",
       "      <th>nome</th>\n",
       "    </tr>\n",
       "  </thead>\n",
       "  <tbody>\n",
       "    <tr>\n",
       "      <th>0</th>\n",
       "      <td>1999-07-26</td>\n",
       "      <td>lipe</td>\n",
       "    </tr>\n",
       "    <tr>\n",
       "      <th>1</th>\n",
       "      <td>1999-02-09</td>\n",
       "      <td>thais</td>\n",
       "    </tr>\n",
       "    <tr>\n",
       "      <th>2</th>\n",
       "      <td>1955-06-27</td>\n",
       "      <td>jon</td>\n",
       "    </tr>\n",
       "    <tr>\n",
       "      <th>3</th>\n",
       "      <td>1988-03-05</td>\n",
       "      <td>leo</td>\n",
       "    </tr>\n",
       "  </tbody>\n",
       "</table>\n",
       "</div>"
      ],
      "text/plain": [
       "        data   nome\n",
       "0 1999-07-26   lipe\n",
       "1 1999-02-09  thais\n",
       "2 1955-06-27    jon\n",
       "3 1988-03-05    leo"
      ]
     },
     "execution_count": 9,
     "metadata": {},
     "output_type": "execute_result"
    }
   ],
   "source": [
    "dicio = {'data':['26-07-1999','09-02-1999','27-06-1955','05-03-1988'],\n",
    "        'nome':['lipe','thais','jon','leo']}\n",
    "df = pd.DataFrame(dicio)\n",
    "df['data'] = pd.to_datetime(df['data'],format='%d-%m-%Y')\n",
    "df"
   ]
  },
  {
   "cell_type": "markdown",
   "metadata": {
    "ExecuteTime": {
     "end_time": "2021-11-07T00:04:58.392380Z",
     "start_time": "2021-11-07T00:04:58.376424Z"
    }
   },
   "source": [
    "## Manipulando dados .dt\n",
    "<p> <b>.weekofyear - .total_seconds() </b></p>"
   ]
  },
  {
   "cell_type": "code",
   "execution_count": 26,
   "metadata": {
    "ExecuteTime": {
     "end_time": "2022-08-15T01:50:45.158148Z",
     "start_time": "2022-08-15T01:50:45.147155Z"
    }
   },
   "outputs": [
    {
     "name": "stderr",
     "output_type": "stream",
     "text": [
      "C:\\Users\\felip\\AppData\\Local\\Temp/ipykernel_9800/1779135629.py:1: FutureWarning: Series.dt.weekofyear and Series.dt.week have been deprecated.  Please use Series.dt.isocalendar().week instead.\n",
      "  df['data'].dt.weekofyear\n"
     ]
    },
    {
     "data": {
      "text/plain": [
       "0    30\n",
       "1     6\n",
       "2    26\n",
       "3     9\n",
       "Name: data, dtype: int64"
      ]
     },
     "execution_count": 26,
     "metadata": {},
     "output_type": "execute_result"
    }
   ],
   "source": [
    "df['data'].dt.weekofyear"
   ]
  },
  {
   "cell_type": "markdown",
   "metadata": {
    "ExecuteTime": {
     "end_time": "2021-11-07T04:16:52.273948Z",
     "start_time": "2021-11-07T04:16:52.267116Z"
    },
    "heading_collapsed": true
   },
   "source": [
    "## .tz_localize()\n",
    "\n",
    "<p> Localiza um timezone dentro da coluna do Dataframe </p>\n",
    "\n",
    "```python \n",
    "df['data'].dt.tz_localize(timezone, ambiguous = 'NaT' )\n",
    "```"
   ]
  },
  {
   "cell_type": "markdown",
   "metadata": {
    "heading_collapsed": true
   },
   "source": [
    "# CAT\n",
    "<p> Se tivermos Data separado do tempo. Podemos usar o cat para concatenar Data e Tempo</p>\n",
    "\n",
    "```python\n",
    "df['data_e_tempo'] = df['data'].str.cat(df['tempo'],sep=' ')\n",
    "```"
   ]
  }
 ],
 "metadata": {
  "kernelspec": {
   "display_name": "Python 3 (ipykernel)",
   "language": "python",
   "name": "python3"
  },
  "language_info": {
   "codemirror_mode": {
    "name": "ipython",
    "version": 3
   },
   "file_extension": ".py",
   "mimetype": "text/x-python",
   "name": "python",
   "nbconvert_exporter": "python",
   "pygments_lexer": "ipython3",
   "version": "3.9.7"
  },
  "toc": {
   "base_numbering": 1,
   "nav_menu": {},
   "number_sections": true,
   "sideBar": true,
   "skip_h1_title": false,
   "title_cell": "Table of Contents",
   "title_sidebar": "Contents",
   "toc_cell": false,
   "toc_position": {},
   "toc_section_display": true,
   "toc_window_display": false
  },
  "varInspector": {
   "cols": {
    "lenName": 16,
    "lenType": 16,
    "lenVar": 40
   },
   "kernels_config": {
    "python": {
     "delete_cmd_postfix": "",
     "delete_cmd_prefix": "del ",
     "library": "var_list.py",
     "varRefreshCmd": "print(var_dic_list())"
    },
    "r": {
     "delete_cmd_postfix": ") ",
     "delete_cmd_prefix": "rm(",
     "library": "var_list.r",
     "varRefreshCmd": "cat(var_dic_list()) "
    }
   },
   "types_to_exclude": [
    "module",
    "function",
    "builtin_function_or_method",
    "instance",
    "_Feature"
   ],
   "window_display": false
  }
 },
 "nbformat": 4,
 "nbformat_minor": 4
}
