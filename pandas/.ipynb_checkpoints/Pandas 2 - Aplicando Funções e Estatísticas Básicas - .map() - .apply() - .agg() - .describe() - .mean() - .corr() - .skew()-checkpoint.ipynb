{
 "cells": [
  {
   "cell_type": "code",
   "execution_count": 4,
   "metadata": {
    "ExecuteTime": {
     "end_time": "2022-08-15T00:28:55.114858Z",
     "start_time": "2022-08-15T00:28:54.581822Z"
    }
   },
   "outputs": [],
   "source": [
    "import pandas as pd"
   ]
  },
  {
   "cell_type": "markdown",
   "metadata": {
    "ExecuteTime": {
     "end_time": "2021-06-08T21:21:07.792069Z",
     "start_time": "2021-06-08T21:21:07.777109Z"
    },
    "heading_collapsed": true
   },
   "source": [
    "# Criando DataFrame - pd.DataFrame()\n",
    "<p> Para criar um dataframe utilizaremos o comando pd.DataFrame, porém antes será necessário a criação de um dicionário de listas que representará, os valores e colunas. </p>"
   ]
  },
  {
   "cell_type": "code",
   "execution_count": 1,
   "metadata": {
    "ExecuteTime": {
     "end_time": "2022-08-15T00:28:31.726670Z",
     "start_time": "2022-08-15T00:28:31.704698Z"
    },
    "hidden": true
   },
   "outputs": [],
   "source": [
    "# Dicionário de listas\n",
    "dataset_produtos = {\n",
    "    'Produto':['Produto 1','Produto 1','Produto 2','Produto 3','Produto 4','Produto 5','Produto 6','Produto 6','Produto 7'],\n",
    "    'Preco':[25000,28000,30000,35000,33000,30000,12000,50000,40000],\n",
    "    'Desconto':['20%','30%','40%','10%','30%','40%','80%','35%','44%']\n",
    "}"
   ]
  },
  {
   "cell_type": "code",
   "execution_count": 2,
   "metadata": {
    "ExecuteTime": {
     "end_time": "2022-08-15T00:28:32.198996Z",
     "start_time": "2022-08-15T00:28:32.180997Z"
    },
    "hidden": true
   },
   "outputs": [
    {
     "data": {
      "text/plain": [
       "{'Produto': ['Produto 1',\n",
       "  'Produto 1',\n",
       "  'Produto 2',\n",
       "  'Produto 3',\n",
       "  'Produto 4',\n",
       "  'Produto 5',\n",
       "  'Produto 6',\n",
       "  'Produto 6',\n",
       "  'Produto 7'],\n",
       " 'Preco': [25000, 28000, 30000, 35000, 33000, 30000, 12000, 50000, 40000],\n",
       " 'Desconto': ['20%', '30%', '40%', '10%', '30%', '40%', '80%', '35%', '44%']}"
      ]
     },
     "execution_count": 2,
     "metadata": {},
     "output_type": "execute_result"
    }
   ],
   "source": [
    "dataset_produtos"
   ]
  },
  {
   "cell_type": "code",
   "execution_count": 5,
   "metadata": {
    "ExecuteTime": {
     "end_time": "2022-08-15T00:28:55.503947Z",
     "start_time": "2022-08-15T00:28:55.499949Z"
    },
    "hidden": true
   },
   "outputs": [],
   "source": [
    "# Comando para criação DataFrame\n",
    "df_produtos = pd.DataFrame(dataset_produtos)"
   ]
  },
  {
   "cell_type": "code",
   "execution_count": 6,
   "metadata": {
    "ExecuteTime": {
     "end_time": "2022-08-15T00:29:03.121542Z",
     "start_time": "2022-08-15T00:29:03.109539Z"
    },
    "hidden": true,
    "scrolled": true
   },
   "outputs": [
    {
     "data": {
      "text/html": [
       "<div>\n",
       "<style scoped>\n",
       "    .dataframe tbody tr th:only-of-type {\n",
       "        vertical-align: middle;\n",
       "    }\n",
       "\n",
       "    .dataframe tbody tr th {\n",
       "        vertical-align: top;\n",
       "    }\n",
       "\n",
       "    .dataframe thead th {\n",
       "        text-align: right;\n",
       "    }\n",
       "</style>\n",
       "<table border=\"1\" class=\"dataframe\">\n",
       "  <thead>\n",
       "    <tr style=\"text-align: right;\">\n",
       "      <th></th>\n",
       "      <th>Produto</th>\n",
       "      <th>Preco</th>\n",
       "      <th>Desconto</th>\n",
       "    </tr>\n",
       "  </thead>\n",
       "  <tbody>\n",
       "    <tr>\n",
       "      <th>0</th>\n",
       "      <td>Produto 1</td>\n",
       "      <td>25000</td>\n",
       "      <td>20%</td>\n",
       "    </tr>\n",
       "    <tr>\n",
       "      <th>1</th>\n",
       "      <td>Produto 1</td>\n",
       "      <td>28000</td>\n",
       "      <td>30%</td>\n",
       "    </tr>\n",
       "    <tr>\n",
       "      <th>2</th>\n",
       "      <td>Produto 2</td>\n",
       "      <td>30000</td>\n",
       "      <td>40%</td>\n",
       "    </tr>\n",
       "    <tr>\n",
       "      <th>3</th>\n",
       "      <td>Produto 3</td>\n",
       "      <td>35000</td>\n",
       "      <td>10%</td>\n",
       "    </tr>\n",
       "    <tr>\n",
       "      <th>4</th>\n",
       "      <td>Produto 4</td>\n",
       "      <td>33000</td>\n",
       "      <td>30%</td>\n",
       "    </tr>\n",
       "  </tbody>\n",
       "</table>\n",
       "</div>"
      ],
      "text/plain": [
       "     Produto  Preco Desconto\n",
       "0  Produto 1  25000      20%\n",
       "1  Produto 1  28000      30%\n",
       "2  Produto 2  30000      40%\n",
       "3  Produto 3  35000      10%\n",
       "4  Produto 4  33000      30%"
      ]
     },
     "execution_count": 6,
     "metadata": {},
     "output_type": "execute_result"
    }
   ],
   "source": [
    "# .head() mostra top 5 linhas df\n",
    "df_produtos.head()"
   ]
  },
  {
   "cell_type": "markdown",
   "metadata": {
    "ExecuteTime": {
     "end_time": "2021-06-09T04:11:47.519396Z",
     "start_time": "2021-06-09T04:11:47.514386Z"
    },
    "heading_collapsed": true
   },
   "source": [
    "# Aplicando Funções .map() - .apply() - .agg() "
   ]
  },
  {
   "cell_type": "code",
   "execution_count": 7,
   "metadata": {
    "ExecuteTime": {
     "end_time": "2022-08-15T00:32:13.633572Z",
     "start_time": "2022-08-15T00:32:13.612574Z"
    },
    "hidden": true
   },
   "outputs": [
    {
     "data": {
      "text/html": [
       "<div>\n",
       "<style scoped>\n",
       "    .dataframe tbody tr th:only-of-type {\n",
       "        vertical-align: middle;\n",
       "    }\n",
       "\n",
       "    .dataframe tbody tr th {\n",
       "        vertical-align: top;\n",
       "    }\n",
       "\n",
       "    .dataframe thead th {\n",
       "        text-align: right;\n",
       "    }\n",
       "</style>\n",
       "<table border=\"1\" class=\"dataframe\">\n",
       "  <thead>\n",
       "    <tr style=\"text-align: right;\">\n",
       "      <th></th>\n",
       "      <th>Produto</th>\n",
       "      <th>Preco</th>\n",
       "      <th>Desconto</th>\n",
       "    </tr>\n",
       "  </thead>\n",
       "  <tbody>\n",
       "    <tr>\n",
       "      <th>0</th>\n",
       "      <td>Produto 1</td>\n",
       "      <td>25000</td>\n",
       "      <td>20%</td>\n",
       "    </tr>\n",
       "    <tr>\n",
       "      <th>1</th>\n",
       "      <td>Produto 1</td>\n",
       "      <td>28000</td>\n",
       "      <td>30%</td>\n",
       "    </tr>\n",
       "    <tr>\n",
       "      <th>2</th>\n",
       "      <td>Produto 2</td>\n",
       "      <td>30000</td>\n",
       "      <td>40%</td>\n",
       "    </tr>\n",
       "    <tr>\n",
       "      <th>3</th>\n",
       "      <td>Produto 3</td>\n",
       "      <td>35000</td>\n",
       "      <td>10%</td>\n",
       "    </tr>\n",
       "    <tr>\n",
       "      <th>4</th>\n",
       "      <td>Produto 4</td>\n",
       "      <td>33000</td>\n",
       "      <td>30%</td>\n",
       "    </tr>\n",
       "    <tr>\n",
       "      <th>5</th>\n",
       "      <td>Produto 5</td>\n",
       "      <td>30000</td>\n",
       "      <td>40%</td>\n",
       "    </tr>\n",
       "    <tr>\n",
       "      <th>6</th>\n",
       "      <td>Produto 6</td>\n",
       "      <td>12000</td>\n",
       "      <td>80%</td>\n",
       "    </tr>\n",
       "    <tr>\n",
       "      <th>7</th>\n",
       "      <td>Produto 6</td>\n",
       "      <td>50000</td>\n",
       "      <td>35%</td>\n",
       "    </tr>\n",
       "    <tr>\n",
       "      <th>8</th>\n",
       "      <td>Produto 7</td>\n",
       "      <td>40000</td>\n",
       "      <td>44%</td>\n",
       "    </tr>\n",
       "  </tbody>\n",
       "</table>\n",
       "</div>"
      ],
      "text/plain": [
       "     Produto  Preco Desconto\n",
       "0  Produto 1  25000      20%\n",
       "1  Produto 1  28000      30%\n",
       "2  Produto 2  30000      40%\n",
       "3  Produto 3  35000      10%\n",
       "4  Produto 4  33000      30%\n",
       "5  Produto 5  30000      40%\n",
       "6  Produto 6  12000      80%\n",
       "7  Produto 6  50000      35%\n",
       "8  Produto 7  40000      44%"
      ]
     },
     "execution_count": 7,
     "metadata": {},
     "output_type": "execute_result"
    }
   ],
   "source": [
    "df_produtos"
   ]
  },
  {
   "cell_type": "code",
   "execution_count": 8,
   "metadata": {
    "ExecuteTime": {
     "end_time": "2022-08-15T00:32:53.430486Z",
     "start_time": "2022-08-15T00:32:53.412460Z"
    },
    "hidden": true
   },
   "outputs": [],
   "source": [
    "function = lambda x:x+' 2021' # função a ser aplicada"
   ]
  },
  {
   "cell_type": "markdown",
   "metadata": {
    "heading_collapsed": true,
    "hidden": true
   },
   "source": [
    "## .map()\n",
    "<p> O map efetua o mapeamento dos dados do dataframe, aplicando uma função, assim como a função map built-in do python.</p>"
   ]
  },
  {
   "cell_type": "code",
   "execution_count": 13,
   "metadata": {
    "ExecuteTime": {
     "end_time": "2022-08-15T00:35:22.673684Z",
     "start_time": "2022-08-15T00:35:22.651682Z"
    },
    "hidden": true
   },
   "outputs": [
    {
     "data": {
      "text/html": [
       "<div>\n",
       "<style scoped>\n",
       "    .dataframe tbody tr th:only-of-type {\n",
       "        vertical-align: middle;\n",
       "    }\n",
       "\n",
       "    .dataframe tbody tr th {\n",
       "        vertical-align: top;\n",
       "    }\n",
       "\n",
       "    .dataframe thead th {\n",
       "        text-align: right;\n",
       "    }\n",
       "</style>\n",
       "<table border=\"1\" class=\"dataframe\">\n",
       "  <thead>\n",
       "    <tr style=\"text-align: right;\">\n",
       "      <th></th>\n",
       "      <th>Produto</th>\n",
       "      <th>Preco</th>\n",
       "      <th>Desconto</th>\n",
       "      <th>AnoMap</th>\n",
       "    </tr>\n",
       "  </thead>\n",
       "  <tbody>\n",
       "    <tr>\n",
       "      <th>0</th>\n",
       "      <td>Produto 1</td>\n",
       "      <td>25000</td>\n",
       "      <td>20%</td>\n",
       "      <td>Produto 1 2021</td>\n",
       "    </tr>\n",
       "    <tr>\n",
       "      <th>1</th>\n",
       "      <td>Produto 1</td>\n",
       "      <td>28000</td>\n",
       "      <td>30%</td>\n",
       "      <td>Produto 1 2021</td>\n",
       "    </tr>\n",
       "    <tr>\n",
       "      <th>2</th>\n",
       "      <td>Produto 2</td>\n",
       "      <td>30000</td>\n",
       "      <td>40%</td>\n",
       "      <td>Produto 2 2021</td>\n",
       "    </tr>\n",
       "    <tr>\n",
       "      <th>3</th>\n",
       "      <td>Produto 3</td>\n",
       "      <td>35000</td>\n",
       "      <td>10%</td>\n",
       "      <td>Produto 3 2021</td>\n",
       "    </tr>\n",
       "    <tr>\n",
       "      <th>4</th>\n",
       "      <td>Produto 4</td>\n",
       "      <td>33000</td>\n",
       "      <td>30%</td>\n",
       "      <td>Produto 4 2021</td>\n",
       "    </tr>\n",
       "    <tr>\n",
       "      <th>5</th>\n",
       "      <td>Produto 5</td>\n",
       "      <td>30000</td>\n",
       "      <td>40%</td>\n",
       "      <td>Produto 5 2021</td>\n",
       "    </tr>\n",
       "    <tr>\n",
       "      <th>6</th>\n",
       "      <td>Produto 6</td>\n",
       "      <td>12000</td>\n",
       "      <td>80%</td>\n",
       "      <td>Produto 6 2021</td>\n",
       "    </tr>\n",
       "    <tr>\n",
       "      <th>7</th>\n",
       "      <td>Produto 6</td>\n",
       "      <td>50000</td>\n",
       "      <td>35%</td>\n",
       "      <td>Produto 6 2021</td>\n",
       "    </tr>\n",
       "    <tr>\n",
       "      <th>8</th>\n",
       "      <td>Produto 7</td>\n",
       "      <td>40000</td>\n",
       "      <td>44%</td>\n",
       "      <td>Produto 7 2021</td>\n",
       "    </tr>\n",
       "  </tbody>\n",
       "</table>\n",
       "</div>"
      ],
      "text/plain": [
       "     Produto  Preco Desconto          AnoMap\n",
       "0  Produto 1  25000      20%  Produto 1 2021\n",
       "1  Produto 1  28000      30%  Produto 1 2021\n",
       "2  Produto 2  30000      40%  Produto 2 2021\n",
       "3  Produto 3  35000      10%  Produto 3 2021\n",
       "4  Produto 4  33000      30%  Produto 4 2021\n",
       "5  Produto 5  30000      40%  Produto 5 2021\n",
       "6  Produto 6  12000      80%  Produto 6 2021\n",
       "7  Produto 6  50000      35%  Produto 6 2021\n",
       "8  Produto 7  40000      44%  Produto 7 2021"
      ]
     },
     "execution_count": 13,
     "metadata": {},
     "output_type": "execute_result"
    }
   ],
   "source": [
    "# Utilizando a função Map para aplicar a função na coluna Produto\n",
    "df_produtos['AnoMap'] = df_produtos['Produto'].map(function)\n",
    "df_produtos"
   ]
  },
  {
   "cell_type": "markdown",
   "metadata": {
    "ExecuteTime": {
     "end_time": "2021-11-02T17:14:37.331772Z",
     "start_time": "2021-11-02T17:14:37.328336Z"
    },
    "heading_collapsed": true,
    "hidden": true
   },
   "source": [
    "## .apply()\n",
    "<p> o Apply tem objetvio de aplicar determinda função no nosso conjunto de dados. </p>"
   ]
  },
  {
   "cell_type": "code",
   "execution_count": 15,
   "metadata": {
    "ExecuteTime": {
     "end_time": "2022-08-15T00:35:45.799662Z",
     "start_time": "2022-08-15T00:35:45.779690Z"
    },
    "hidden": true
   },
   "outputs": [
    {
     "data": {
      "text/html": [
       "<div>\n",
       "<style scoped>\n",
       "    .dataframe tbody tr th:only-of-type {\n",
       "        vertical-align: middle;\n",
       "    }\n",
       "\n",
       "    .dataframe tbody tr th {\n",
       "        vertical-align: top;\n",
       "    }\n",
       "\n",
       "    .dataframe thead th {\n",
       "        text-align: right;\n",
       "    }\n",
       "</style>\n",
       "<table border=\"1\" class=\"dataframe\">\n",
       "  <thead>\n",
       "    <tr style=\"text-align: right;\">\n",
       "      <th></th>\n",
       "      <th>Produto</th>\n",
       "      <th>Preco</th>\n",
       "      <th>Desconto</th>\n",
       "      <th>AnoMap</th>\n",
       "      <th>AnoApply</th>\n",
       "    </tr>\n",
       "  </thead>\n",
       "  <tbody>\n",
       "    <tr>\n",
       "      <th>0</th>\n",
       "      <td>Produto 1</td>\n",
       "      <td>25000</td>\n",
       "      <td>20%</td>\n",
       "      <td>Produto 1 2021</td>\n",
       "      <td>Produto 1 2021</td>\n",
       "    </tr>\n",
       "    <tr>\n",
       "      <th>1</th>\n",
       "      <td>Produto 1</td>\n",
       "      <td>28000</td>\n",
       "      <td>30%</td>\n",
       "      <td>Produto 1 2021</td>\n",
       "      <td>Produto 1 2021</td>\n",
       "    </tr>\n",
       "    <tr>\n",
       "      <th>2</th>\n",
       "      <td>Produto 2</td>\n",
       "      <td>30000</td>\n",
       "      <td>40%</td>\n",
       "      <td>Produto 2 2021</td>\n",
       "      <td>Produto 2 2021</td>\n",
       "    </tr>\n",
       "    <tr>\n",
       "      <th>3</th>\n",
       "      <td>Produto 3</td>\n",
       "      <td>35000</td>\n",
       "      <td>10%</td>\n",
       "      <td>Produto 3 2021</td>\n",
       "      <td>Produto 3 2021</td>\n",
       "    </tr>\n",
       "    <tr>\n",
       "      <th>4</th>\n",
       "      <td>Produto 4</td>\n",
       "      <td>33000</td>\n",
       "      <td>30%</td>\n",
       "      <td>Produto 4 2021</td>\n",
       "      <td>Produto 4 2021</td>\n",
       "    </tr>\n",
       "    <tr>\n",
       "      <th>5</th>\n",
       "      <td>Produto 5</td>\n",
       "      <td>30000</td>\n",
       "      <td>40%</td>\n",
       "      <td>Produto 5 2021</td>\n",
       "      <td>Produto 5 2021</td>\n",
       "    </tr>\n",
       "    <tr>\n",
       "      <th>6</th>\n",
       "      <td>Produto 6</td>\n",
       "      <td>12000</td>\n",
       "      <td>80%</td>\n",
       "      <td>Produto 6 2021</td>\n",
       "      <td>Produto 6 2021</td>\n",
       "    </tr>\n",
       "    <tr>\n",
       "      <th>7</th>\n",
       "      <td>Produto 6</td>\n",
       "      <td>50000</td>\n",
       "      <td>35%</td>\n",
       "      <td>Produto 6 2021</td>\n",
       "      <td>Produto 6 2021</td>\n",
       "    </tr>\n",
       "    <tr>\n",
       "      <th>8</th>\n",
       "      <td>Produto 7</td>\n",
       "      <td>40000</td>\n",
       "      <td>44%</td>\n",
       "      <td>Produto 7 2021</td>\n",
       "      <td>Produto 7 2021</td>\n",
       "    </tr>\n",
       "  </tbody>\n",
       "</table>\n",
       "</div>"
      ],
      "text/plain": [
       "     Produto  Preco Desconto          AnoMap        AnoApply\n",
       "0  Produto 1  25000      20%  Produto 1 2021  Produto 1 2021\n",
       "1  Produto 1  28000      30%  Produto 1 2021  Produto 1 2021\n",
       "2  Produto 2  30000      40%  Produto 2 2021  Produto 2 2021\n",
       "3  Produto 3  35000      10%  Produto 3 2021  Produto 3 2021\n",
       "4  Produto 4  33000      30%  Produto 4 2021  Produto 4 2021\n",
       "5  Produto 5  30000      40%  Produto 5 2021  Produto 5 2021\n",
       "6  Produto 6  12000      80%  Produto 6 2021  Produto 6 2021\n",
       "7  Produto 6  50000      35%  Produto 6 2021  Produto 6 2021\n",
       "8  Produto 7  40000      44%  Produto 7 2021  Produto 7 2021"
      ]
     },
     "execution_count": 15,
     "metadata": {},
     "output_type": "execute_result"
    }
   ],
   "source": [
    "df_produtos['AnoApply'] = df_produtos['Produto'].apply(function)\n",
    "df_produtos"
   ]
  },
  {
   "cell_type": "markdown",
   "metadata": {
    "heading_collapsed": true,
    "hidden": true
   },
   "source": [
    "## .agg()\n",
    "<p> O agg efetua a mesma coisa, com uma vatangem, pois pode aplicar uma lista de funções em uma lista de colunas. </p>"
   ]
  },
  {
   "cell_type": "code",
   "execution_count": 17,
   "metadata": {
    "ExecuteTime": {
     "end_time": "2022-08-15T00:38:19.522821Z",
     "start_time": "2022-08-15T00:38:19.508797Z"
    },
    "hidden": true
   },
   "outputs": [
    {
     "data": {
      "text/html": [
       "<div>\n",
       "<style scoped>\n",
       "    .dataframe tbody tr th:only-of-type {\n",
       "        vertical-align: middle;\n",
       "    }\n",
       "\n",
       "    .dataframe tbody tr th {\n",
       "        vertical-align: top;\n",
       "    }\n",
       "\n",
       "    .dataframe thead th {\n",
       "        text-align: right;\n",
       "    }\n",
       "</style>\n",
       "<table border=\"1\" class=\"dataframe\">\n",
       "  <thead>\n",
       "    <tr style=\"text-align: right;\">\n",
       "      <th></th>\n",
       "      <th>Produto</th>\n",
       "      <th>Preco</th>\n",
       "      <th>Desconto</th>\n",
       "      <th>AnoMap</th>\n",
       "      <th>AnoApply</th>\n",
       "      <th>AnoAgg</th>\n",
       "    </tr>\n",
       "  </thead>\n",
       "  <tbody>\n",
       "    <tr>\n",
       "      <th>0</th>\n",
       "      <td>Produto 1</td>\n",
       "      <td>25000</td>\n",
       "      <td>20%</td>\n",
       "      <td>Produto 1 2021</td>\n",
       "      <td>Produto 1 2021</td>\n",
       "      <td>Produto 1 2021</td>\n",
       "    </tr>\n",
       "    <tr>\n",
       "      <th>1</th>\n",
       "      <td>Produto 1</td>\n",
       "      <td>28000</td>\n",
       "      <td>30%</td>\n",
       "      <td>Produto 1 2021</td>\n",
       "      <td>Produto 1 2021</td>\n",
       "      <td>Produto 1 2021</td>\n",
       "    </tr>\n",
       "    <tr>\n",
       "      <th>2</th>\n",
       "      <td>Produto 2</td>\n",
       "      <td>30000</td>\n",
       "      <td>40%</td>\n",
       "      <td>Produto 2 2021</td>\n",
       "      <td>Produto 2 2021</td>\n",
       "      <td>Produto 2 2021</td>\n",
       "    </tr>\n",
       "    <tr>\n",
       "      <th>3</th>\n",
       "      <td>Produto 3</td>\n",
       "      <td>35000</td>\n",
       "      <td>10%</td>\n",
       "      <td>Produto 3 2021</td>\n",
       "      <td>Produto 3 2021</td>\n",
       "      <td>Produto 3 2021</td>\n",
       "    </tr>\n",
       "    <tr>\n",
       "      <th>4</th>\n",
       "      <td>Produto 4</td>\n",
       "      <td>33000</td>\n",
       "      <td>30%</td>\n",
       "      <td>Produto 4 2021</td>\n",
       "      <td>Produto 4 2021</td>\n",
       "      <td>Produto 4 2021</td>\n",
       "    </tr>\n",
       "    <tr>\n",
       "      <th>5</th>\n",
       "      <td>Produto 5</td>\n",
       "      <td>30000</td>\n",
       "      <td>40%</td>\n",
       "      <td>Produto 5 2021</td>\n",
       "      <td>Produto 5 2021</td>\n",
       "      <td>Produto 5 2021</td>\n",
       "    </tr>\n",
       "    <tr>\n",
       "      <th>6</th>\n",
       "      <td>Produto 6</td>\n",
       "      <td>12000</td>\n",
       "      <td>80%</td>\n",
       "      <td>Produto 6 2021</td>\n",
       "      <td>Produto 6 2021</td>\n",
       "      <td>Produto 6 2021</td>\n",
       "    </tr>\n",
       "    <tr>\n",
       "      <th>7</th>\n",
       "      <td>Produto 6</td>\n",
       "      <td>50000</td>\n",
       "      <td>35%</td>\n",
       "      <td>Produto 6 2021</td>\n",
       "      <td>Produto 6 2021</td>\n",
       "      <td>Produto 6 2021</td>\n",
       "    </tr>\n",
       "    <tr>\n",
       "      <th>8</th>\n",
       "      <td>Produto 7</td>\n",
       "      <td>40000</td>\n",
       "      <td>44%</td>\n",
       "      <td>Produto 7 2021</td>\n",
       "      <td>Produto 7 2021</td>\n",
       "      <td>Produto 7 2021</td>\n",
       "    </tr>\n",
       "  </tbody>\n",
       "</table>\n",
       "</div>"
      ],
      "text/plain": [
       "     Produto  Preco Desconto          AnoMap        AnoApply          AnoAgg\n",
       "0  Produto 1  25000      20%  Produto 1 2021  Produto 1 2021  Produto 1 2021\n",
       "1  Produto 1  28000      30%  Produto 1 2021  Produto 1 2021  Produto 1 2021\n",
       "2  Produto 2  30000      40%  Produto 2 2021  Produto 2 2021  Produto 2 2021\n",
       "3  Produto 3  35000      10%  Produto 3 2021  Produto 3 2021  Produto 3 2021\n",
       "4  Produto 4  33000      30%  Produto 4 2021  Produto 4 2021  Produto 4 2021\n",
       "5  Produto 5  30000      40%  Produto 5 2021  Produto 5 2021  Produto 5 2021\n",
       "6  Produto 6  12000      80%  Produto 6 2021  Produto 6 2021  Produto 6 2021\n",
       "7  Produto 6  50000      35%  Produto 6 2021  Produto 6 2021  Produto 6 2021\n",
       "8  Produto 7  40000      44%  Produto 7 2021  Produto 7 2021  Produto 7 2021"
      ]
     },
     "execution_count": 17,
     "metadata": {},
     "output_type": "execute_result"
    }
   ],
   "source": [
    "df_produtos['AnoAgg'] = df_produtos['Produto'].agg(function)\n",
    "df_produtos"
   ]
  },
  {
   "cell_type": "code",
   "execution_count": 13,
   "metadata": {
    "ExecuteTime": {
     "end_time": "2021-11-02T19:23:51.516151Z",
     "start_time": "2021-11-02T19:23:51.352847Z"
    },
    "hidden": true
   },
   "outputs": [
    {
     "data": {
      "text/html": [
       "<div>\n",
       "<style scoped>\n",
       "    .dataframe tbody tr th:only-of-type {\n",
       "        vertical-align: middle;\n",
       "    }\n",
       "\n",
       "    .dataframe tbody tr th {\n",
       "        vertical-align: top;\n",
       "    }\n",
       "\n",
       "    .dataframe thead th {\n",
       "        text-align: right;\n",
       "    }\n",
       "</style>\n",
       "<table border=\"1\" class=\"dataframe\">\n",
       "  <thead>\n",
       "    <tr style=\"text-align: right;\">\n",
       "      <th></th>\n",
       "      <th>Carro</th>\n",
       "      <th>Preco</th>\n",
       "      <th>Desconto</th>\n",
       "      <th>AnoMap</th>\n",
       "      <th>AnoApply</th>\n",
       "      <th>AnoAgg</th>\n",
       "    </tr>\n",
       "  </thead>\n",
       "  <tbody>\n",
       "    <tr>\n",
       "      <th>0</th>\n",
       "      <td>Chervrolet</td>\n",
       "      <td>25000</td>\n",
       "      <td>20%</td>\n",
       "      <td>Chervrolet 2021</td>\n",
       "      <td>Chervrolet 2021</td>\n",
       "      <td>Chervrolet 2021</td>\n",
       "    </tr>\n",
       "    <tr>\n",
       "      <th>1</th>\n",
       "      <td>Fiat</td>\n",
       "      <td>30000</td>\n",
       "      <td>30%</td>\n",
       "      <td>Fiat 2021</td>\n",
       "      <td>Fiat 2021</td>\n",
       "      <td>Fiat 2021</td>\n",
       "    </tr>\n",
       "    <tr>\n",
       "      <th>2</th>\n",
       "      <td>Uno</td>\n",
       "      <td>32000</td>\n",
       "      <td>40%</td>\n",
       "      <td>Uno 2021</td>\n",
       "      <td>Uno 2021</td>\n",
       "      <td>Uno 2021</td>\n",
       "    </tr>\n",
       "    <tr>\n",
       "      <th>3</th>\n",
       "      <td>Volkswagen</td>\n",
       "      <td>31000</td>\n",
       "      <td>10%</td>\n",
       "      <td>Volkswagen 2021</td>\n",
       "      <td>Volkswagen 2021</td>\n",
       "      <td>Volkswagen 2021</td>\n",
       "    </tr>\n",
       "    <tr>\n",
       "      <th>4</th>\n",
       "      <td>Ford</td>\n",
       "      <td>40000</td>\n",
       "      <td>30%</td>\n",
       "      <td>Ford 2021</td>\n",
       "      <td>Ford 2021</td>\n",
       "      <td>Ford 2021</td>\n",
       "    </tr>\n",
       "    <tr>\n",
       "      <th>5</th>\n",
       "      <td>Uno</td>\n",
       "      <td>32000</td>\n",
       "      <td>40%</td>\n",
       "      <td>Uno 2021</td>\n",
       "      <td>Uno 2021</td>\n",
       "      <td>Uno 2021</td>\n",
       "    </tr>\n",
       "    <tr>\n",
       "      <th>6</th>\n",
       "      <td>Mercedes</td>\n",
       "      <td>120000</td>\n",
       "      <td>100%</td>\n",
       "      <td>Mercedes 2021</td>\n",
       "      <td>Mercedes 2021</td>\n",
       "      <td>Mercedes 2021</td>\n",
       "    </tr>\n",
       "  </tbody>\n",
       "</table>\n",
       "</div>"
      ],
      "text/plain": [
       "        Carro   Preco Desconto           AnoMap         AnoApply  \\\n",
       "0  Chervrolet   25000      20%  Chervrolet 2021  Chervrolet 2021   \n",
       "1        Fiat   30000      30%        Fiat 2021        Fiat 2021   \n",
       "2         Uno   32000      40%         Uno 2021         Uno 2021   \n",
       "3  Volkswagen   31000      10%  Volkswagen 2021  Volkswagen 2021   \n",
       "4        Ford   40000      30%        Ford 2021        Ford 2021   \n",
       "5         Uno   32000      40%         Uno 2021         Uno 2021   \n",
       "6    Mercedes  120000     100%    Mercedes 2021    Mercedes 2021   \n",
       "\n",
       "            AnoAgg  \n",
       "0  Chervrolet 2021  \n",
       "1        Fiat 2021  \n",
       "2         Uno 2021  \n",
       "3  Volkswagen 2021  \n",
       "4        Ford 2021  \n",
       "5         Uno 2021  \n",
       "6    Mercedes 2021  "
      ]
     },
     "execution_count": 13,
     "metadata": {},
     "output_type": "execute_result"
    }
   ],
   "source": [
    "carros2"
   ]
  },
  {
   "cell_type": "markdown",
   "metadata": {
    "ExecuteTime": {
     "end_time": "2021-06-09T22:07:57.714871Z",
     "start_time": "2021-06-09T22:07:57.699916Z"
    },
    "heading_collapsed": true
   },
   "source": [
    "# Estatisticas - .info() - .describe() - .mean() - .max() - .min()..."
   ]
  },
  {
   "cell_type": "code",
   "execution_count": 14,
   "metadata": {
    "ExecuteTime": {
     "end_time": "2021-11-02T19:23:51.681127Z",
     "start_time": "2021-11-02T19:23:51.528838Z"
    },
    "hidden": true
   },
   "outputs": [
    {
     "data": {
      "text/html": [
       "<div>\n",
       "<style scoped>\n",
       "    .dataframe tbody tr th:only-of-type {\n",
       "        vertical-align: middle;\n",
       "    }\n",
       "\n",
       "    .dataframe tbody tr th {\n",
       "        vertical-align: top;\n",
       "    }\n",
       "\n",
       "    .dataframe thead th {\n",
       "        text-align: right;\n",
       "    }\n",
       "</style>\n",
       "<table border=\"1\" class=\"dataframe\">\n",
       "  <thead>\n",
       "    <tr style=\"text-align: right;\">\n",
       "      <th></th>\n",
       "      <th>Carro</th>\n",
       "      <th>Preco</th>\n",
       "      <th>Desconto</th>\n",
       "      <th>AnoMap</th>\n",
       "      <th>AnoApply</th>\n",
       "      <th>AnoAgg</th>\n",
       "    </tr>\n",
       "  </thead>\n",
       "  <tbody>\n",
       "    <tr>\n",
       "      <th>0</th>\n",
       "      <td>Chervrolet</td>\n",
       "      <td>25000</td>\n",
       "      <td>20%</td>\n",
       "      <td>Chervrolet 2021</td>\n",
       "      <td>Chervrolet 2021</td>\n",
       "      <td>Chervrolet 2021</td>\n",
       "    </tr>\n",
       "    <tr>\n",
       "      <th>1</th>\n",
       "      <td>Fiat</td>\n",
       "      <td>30000</td>\n",
       "      <td>30%</td>\n",
       "      <td>Fiat 2021</td>\n",
       "      <td>Fiat 2021</td>\n",
       "      <td>Fiat 2021</td>\n",
       "    </tr>\n",
       "    <tr>\n",
       "      <th>2</th>\n",
       "      <td>Uno</td>\n",
       "      <td>32000</td>\n",
       "      <td>40%</td>\n",
       "      <td>Uno 2021</td>\n",
       "      <td>Uno 2021</td>\n",
       "      <td>Uno 2021</td>\n",
       "    </tr>\n",
       "    <tr>\n",
       "      <th>3</th>\n",
       "      <td>Volkswagen</td>\n",
       "      <td>31000</td>\n",
       "      <td>10%</td>\n",
       "      <td>Volkswagen 2021</td>\n",
       "      <td>Volkswagen 2021</td>\n",
       "      <td>Volkswagen 2021</td>\n",
       "    </tr>\n",
       "    <tr>\n",
       "      <th>4</th>\n",
       "      <td>Ford</td>\n",
       "      <td>40000</td>\n",
       "      <td>30%</td>\n",
       "      <td>Ford 2021</td>\n",
       "      <td>Ford 2021</td>\n",
       "      <td>Ford 2021</td>\n",
       "    </tr>\n",
       "    <tr>\n",
       "      <th>5</th>\n",
       "      <td>Uno</td>\n",
       "      <td>32000</td>\n",
       "      <td>40%</td>\n",
       "      <td>Uno 2021</td>\n",
       "      <td>Uno 2021</td>\n",
       "      <td>Uno 2021</td>\n",
       "    </tr>\n",
       "    <tr>\n",
       "      <th>6</th>\n",
       "      <td>Mercedes</td>\n",
       "      <td>120000</td>\n",
       "      <td>100%</td>\n",
       "      <td>Mercedes 2021</td>\n",
       "      <td>Mercedes 2021</td>\n",
       "      <td>Mercedes 2021</td>\n",
       "    </tr>\n",
       "  </tbody>\n",
       "</table>\n",
       "</div>"
      ],
      "text/plain": [
       "        Carro   Preco Desconto           AnoMap         AnoApply  \\\n",
       "0  Chervrolet   25000      20%  Chervrolet 2021  Chervrolet 2021   \n",
       "1        Fiat   30000      30%        Fiat 2021        Fiat 2021   \n",
       "2         Uno   32000      40%         Uno 2021         Uno 2021   \n",
       "3  Volkswagen   31000      10%  Volkswagen 2021  Volkswagen 2021   \n",
       "4        Ford   40000      30%        Ford 2021        Ford 2021   \n",
       "5         Uno   32000      40%         Uno 2021         Uno 2021   \n",
       "6    Mercedes  120000     100%    Mercedes 2021    Mercedes 2021   \n",
       "\n",
       "            AnoAgg  \n",
       "0  Chervrolet 2021  \n",
       "1        Fiat 2021  \n",
       "2         Uno 2021  \n",
       "3  Volkswagen 2021  \n",
       "4        Ford 2021  \n",
       "5         Uno 2021  \n",
       "6    Mercedes 2021  "
      ]
     },
     "execution_count": 14,
     "metadata": {},
     "output_type": "execute_result"
    }
   ],
   "source": [
    "df_produtos"
   ]
  },
  {
   "cell_type": "markdown",
   "metadata": {
    "heading_collapsed": true,
    "hidden": true
   },
   "source": [
    "## .corr()\n",
    "<p> Retorna a correlação entre as colunas. </p>"
   ]
  },
  {
   "cell_type": "code",
   "execution_count": 30,
   "metadata": {
    "ExecuteTime": {
     "end_time": "2022-08-15T00:48:08.597473Z",
     "start_time": "2022-08-15T00:48:08.587474Z"
    },
    "hidden": true
   },
   "outputs": [
    {
     "data": {
      "text/html": [
       "<div>\n",
       "<style scoped>\n",
       "    .dataframe tbody tr th:only-of-type {\n",
       "        vertical-align: middle;\n",
       "    }\n",
       "\n",
       "    .dataframe tbody tr th {\n",
       "        vertical-align: top;\n",
       "    }\n",
       "\n",
       "    .dataframe thead th {\n",
       "        text-align: right;\n",
       "    }\n",
       "</style>\n",
       "<table border=\"1\" class=\"dataframe\">\n",
       "  <thead>\n",
       "    <tr style=\"text-align: right;\">\n",
       "      <th></th>\n",
       "      <th>Preco</th>\n",
       "    </tr>\n",
       "  </thead>\n",
       "  <tbody>\n",
       "    <tr>\n",
       "      <th>Preco</th>\n",
       "      <td>1.0</td>\n",
       "    </tr>\n",
       "  </tbody>\n",
       "</table>\n",
       "</div>"
      ],
      "text/plain": [
       "       Preco\n",
       "Preco    1.0"
      ]
     },
     "execution_count": 30,
     "metadata": {},
     "output_type": "execute_result"
    }
   ],
   "source": [
    "# Como só temos a coluna preço, então é igual a 100%\n",
    "df_produtos.corr() "
   ]
  },
  {
   "cell_type": "markdown",
   "metadata": {
    "heading_collapsed": true,
    "hidden": true
   },
   "source": [
    "## .skew()\n",
    "Retorna simetria dos dados."
   ]
  },
  {
   "cell_type": "code",
   "execution_count": 29,
   "metadata": {
    "ExecuteTime": {
     "end_time": "2022-08-15T00:47:58.511056Z",
     "start_time": "2022-08-15T00:47:58.499058Z"
    },
    "hidden": true
   },
   "outputs": [
    {
     "data": {
      "text/plain": [
       "-0.08563322901771594"
      ]
     },
     "execution_count": 29,
     "metadata": {},
     "output_type": "execute_result"
    }
   ],
   "source": [
    "df_produtos['Preco'].skew()"
   ]
  },
  {
   "cell_type": "markdown",
   "metadata": {
    "ExecuteTime": {
     "end_time": "2021-11-02T05:14:43.427409Z",
     "start_time": "2021-11-02T05:14:43.411428Z"
    },
    "heading_collapsed": true,
    "hidden": true
   },
   "source": [
    "## .info()\n",
    "<p> Retorna informações dos dados como tipos dos dados, colunas null etc </p>"
   ]
  },
  {
   "cell_type": "code",
   "execution_count": 31,
   "metadata": {
    "ExecuteTime": {
     "end_time": "2022-08-15T00:49:10.225670Z",
     "start_time": "2022-08-15T00:49:10.203669Z"
    },
    "hidden": true
   },
   "outputs": [
    {
     "name": "stdout",
     "output_type": "stream",
     "text": [
      "<class 'pandas.core.frame.DataFrame'>\n",
      "RangeIndex: 9 entries, 0 to 8\n",
      "Data columns (total 6 columns):\n",
      " #   Column    Non-Null Count  Dtype \n",
      "---  ------    --------------  ----- \n",
      " 0   Produto   9 non-null      object\n",
      " 1   Preco     9 non-null      int64 \n",
      " 2   Desconto  9 non-null      object\n",
      " 3   AnoMap    9 non-null      object\n",
      " 4   AnoApply  9 non-null      object\n",
      " 5   AnoAgg    9 non-null      object\n",
      "dtypes: int64(1), object(5)\n",
      "memory usage: 560.0+ bytes\n"
     ]
    }
   ],
   "source": [
    "df_produtos.info()"
   ]
  },
  {
   "cell_type": "markdown",
   "metadata": {
    "ExecuteTime": {
     "end_time": "2021-11-02T05:14:44.315258Z",
     "start_time": "2021-11-02T05:14:44.211395Z"
    },
    "hidden": true
   },
   "source": [
    "## .describe() \n",
    "<p> Retorna estatisticas resumidas dos dados </p>"
   ]
  },
  {
   "cell_type": "code",
   "execution_count": 22,
   "metadata": {
    "ExecuteTime": {
     "end_time": "2022-08-15T00:46:22.021229Z",
     "start_time": "2022-08-15T00:46:21.997200Z"
    },
    "hidden": true
   },
   "outputs": [
    {
     "data": {
      "text/html": [
       "<div>\n",
       "<style scoped>\n",
       "    .dataframe tbody tr th:only-of-type {\n",
       "        vertical-align: middle;\n",
       "    }\n",
       "\n",
       "    .dataframe tbody tr th {\n",
       "        vertical-align: top;\n",
       "    }\n",
       "\n",
       "    .dataframe thead th {\n",
       "        text-align: right;\n",
       "    }\n",
       "</style>\n",
       "<table border=\"1\" class=\"dataframe\">\n",
       "  <thead>\n",
       "    <tr style=\"text-align: right;\">\n",
       "      <th></th>\n",
       "      <th>Preco</th>\n",
       "    </tr>\n",
       "  </thead>\n",
       "  <tbody>\n",
       "    <tr>\n",
       "      <th>count</th>\n",
       "      <td>9.000000</td>\n",
       "    </tr>\n",
       "    <tr>\n",
       "      <th>mean</th>\n",
       "      <td>31444.444444</td>\n",
       "    </tr>\n",
       "    <tr>\n",
       "      <th>std</th>\n",
       "      <td>10417.666619</td>\n",
       "    </tr>\n",
       "    <tr>\n",
       "      <th>min</th>\n",
       "      <td>12000.000000</td>\n",
       "    </tr>\n",
       "    <tr>\n",
       "      <th>25%</th>\n",
       "      <td>28000.000000</td>\n",
       "    </tr>\n",
       "    <tr>\n",
       "      <th>50%</th>\n",
       "      <td>30000.000000</td>\n",
       "    </tr>\n",
       "    <tr>\n",
       "      <th>75%</th>\n",
       "      <td>35000.000000</td>\n",
       "    </tr>\n",
       "    <tr>\n",
       "      <th>max</th>\n",
       "      <td>50000.000000</td>\n",
       "    </tr>\n",
       "  </tbody>\n",
       "</table>\n",
       "</div>"
      ],
      "text/plain": [
       "              Preco\n",
       "count      9.000000\n",
       "mean   31444.444444\n",
       "std    10417.666619\n",
       "min    12000.000000\n",
       "25%    28000.000000\n",
       "50%    30000.000000\n",
       "75%    35000.000000\n",
       "max    50000.000000"
      ]
     },
     "execution_count": 22,
     "metadata": {},
     "output_type": "execute_result"
    }
   ],
   "source": [
    "df_produtos.describe()"
   ]
  },
  {
   "cell_type": "markdown",
   "metadata": {
    "heading_collapsed": true,
    "hidden": true
   },
   "source": [
    "## Estatisticas individuais .mean() - .max() - .min() - .std() - .cumsum() - .cumprod()"
   ]
  },
  {
   "cell_type": "markdown",
   "metadata": {
    "heading_collapsed": true,
    "hidden": true
   },
   "source": [
    "### .mean()\n",
    "<p> Média </p>"
   ]
  },
  {
   "cell_type": "code",
   "execution_count": 23,
   "metadata": {
    "ExecuteTime": {
     "end_time": "2022-08-15T00:46:27.005865Z",
     "start_time": "2022-08-15T00:46:26.994891Z"
    },
    "hidden": true,
    "scrolled": true
   },
   "outputs": [
    {
     "data": {
      "text/plain": [
       "31444.444444444445"
      ]
     },
     "execution_count": 23,
     "metadata": {},
     "output_type": "execute_result"
    }
   ],
   "source": [
    "df_produtos['Preco'].mean()"
   ]
  },
  {
   "cell_type": "markdown",
   "metadata": {
    "heading_collapsed": true,
    "hidden": true
   },
   "source": [
    "### .max()\n",
    "<p> Maior Valor </p>"
   ]
  },
  {
   "cell_type": "code",
   "execution_count": 24,
   "metadata": {
    "ExecuteTime": {
     "end_time": "2022-08-15T00:46:30.048434Z",
     "start_time": "2022-08-15T00:46:30.043434Z"
    },
    "hidden": true
   },
   "outputs": [
    {
     "data": {
      "text/plain": [
       "50000"
      ]
     },
     "execution_count": 24,
     "metadata": {},
     "output_type": "execute_result"
    }
   ],
   "source": [
    "df_produtos['Preco'].max()"
   ]
  },
  {
   "cell_type": "markdown",
   "metadata": {
    "heading_collapsed": true,
    "hidden": true
   },
   "source": [
    "### .min()\n",
    "<p> Menor Valor </p>"
   ]
  },
  {
   "cell_type": "code",
   "execution_count": 25,
   "metadata": {
    "ExecuteTime": {
     "end_time": "2022-08-15T00:46:32.782789Z",
     "start_time": "2022-08-15T00:46:32.771789Z"
    },
    "hidden": true
   },
   "outputs": [
    {
     "data": {
      "text/plain": [
       "12000"
      ]
     },
     "execution_count": 25,
     "metadata": {},
     "output_type": "execute_result"
    }
   ],
   "source": [
    "df_produtos['Preco'].min()"
   ]
  },
  {
   "cell_type": "markdown",
   "metadata": {
    "heading_collapsed": true,
    "hidden": true
   },
   "source": [
    "### .std()\n",
    "<p> Desvio Padrão </p>"
   ]
  },
  {
   "cell_type": "code",
   "execution_count": 26,
   "metadata": {
    "ExecuteTime": {
     "end_time": "2022-08-15T00:46:36.089435Z",
     "start_time": "2022-08-15T00:46:36.075407Z"
    },
    "hidden": true
   },
   "outputs": [
    {
     "data": {
      "text/plain": [
       "10417.666618671274"
      ]
     },
     "execution_count": 26,
     "metadata": {},
     "output_type": "execute_result"
    }
   ],
   "source": [
    "df_produtos['Preco'].std()"
   ]
  },
  {
   "cell_type": "markdown",
   "metadata": {
    "heading_collapsed": true,
    "hidden": true
   },
   "source": [
    "### .cumsum()\n",
    "<p> Soma Acumulada </p>"
   ]
  },
  {
   "cell_type": "code",
   "execution_count": 27,
   "metadata": {
    "ExecuteTime": {
     "end_time": "2022-08-15T00:46:42.885532Z",
     "start_time": "2022-08-15T00:46:42.875507Z"
    },
    "hidden": true
   },
   "outputs": [
    {
     "data": {
      "text/plain": [
       "0     25000\n",
       "1     53000\n",
       "2     83000\n",
       "3    118000\n",
       "4    151000\n",
       "5    181000\n",
       "6    193000\n",
       "7    243000\n",
       "8    283000\n",
       "Name: Preco, dtype: int64"
      ]
     },
     "execution_count": 27,
     "metadata": {},
     "output_type": "execute_result"
    }
   ],
   "source": [
    "df_produtos['Preco'].cumsum()"
   ]
  },
  {
   "cell_type": "markdown",
   "metadata": {
    "heading_collapsed": true,
    "hidden": true
   },
   "source": [
    "### .cumprod()\n",
    "<p> Mutiplicação Acumulada </p>"
   ]
  },
  {
   "cell_type": "code",
   "execution_count": 28,
   "metadata": {
    "ExecuteTime": {
     "end_time": "2022-08-15T00:46:47.839693Z",
     "start_time": "2022-08-15T00:46:47.834692Z"
    },
    "hidden": true,
    "scrolled": true
   },
   "outputs": [
    {
     "data": {
      "text/plain": [
       "0                  25000\n",
       "1              700000000\n",
       "2         21000000000000\n",
       "3     735000000000000000\n",
       "4   -2468456928060375040\n",
       "5   -8477129941111013376\n",
       "6    8234273176016650240\n",
       "7     777819709029482496\n",
       "8   -6868891168713736192\n",
       "Name: Preco, dtype: int64"
      ]
     },
     "execution_count": 28,
     "metadata": {},
     "output_type": "execute_result"
    }
   ],
   "source": [
    "df_produtos['Preco'].cumprod()"
   ]
  }
 ],
 "metadata": {
  "kernelspec": {
   "display_name": "Python 3 (ipykernel)",
   "language": "python",
   "name": "python3"
  },
  "language_info": {
   "codemirror_mode": {
    "name": "ipython",
    "version": 3
   },
   "file_extension": ".py",
   "mimetype": "text/x-python",
   "name": "python",
   "nbconvert_exporter": "python",
   "pygments_lexer": "ipython3",
   "version": "3.9.7"
  },
  "toc": {
   "base_numbering": 1,
   "nav_menu": {},
   "number_sections": true,
   "sideBar": true,
   "skip_h1_title": false,
   "title_cell": "Table of Contents",
   "title_sidebar": "Contents",
   "toc_cell": false,
   "toc_position": {},
   "toc_section_display": true,
   "toc_window_display": false
  },
  "varInspector": {
   "cols": {
    "lenName": 16,
    "lenType": 16,
    "lenVar": 40
   },
   "kernels_config": {
    "python": {
     "delete_cmd_postfix": "",
     "delete_cmd_prefix": "del ",
     "library": "var_list.py",
     "varRefreshCmd": "print(var_dic_list())"
    },
    "r": {
     "delete_cmd_postfix": ") ",
     "delete_cmd_prefix": "rm(",
     "library": "var_list.r",
     "varRefreshCmd": "cat(var_dic_list()) "
    }
   },
   "types_to_exclude": [
    "module",
    "function",
    "builtin_function_or_method",
    "instance",
    "_Feature"
   ],
   "window_display": false
  }
 },
 "nbformat": 4,
 "nbformat_minor": 4
}
