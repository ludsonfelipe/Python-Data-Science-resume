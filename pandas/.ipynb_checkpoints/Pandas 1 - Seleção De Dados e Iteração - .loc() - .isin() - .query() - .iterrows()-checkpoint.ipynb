{
 "cells": [
  {
   "cell_type": "code",
   "execution_count": 6,
   "metadata": {
    "ExecuteTime": {
     "end_time": "2022-08-14T23:46:29.139510Z",
     "start_time": "2022-08-14T23:46:28.028800Z"
    }
   },
   "outputs": [],
   "source": [
    "import pandas as pd"
   ]
  },
  {
   "cell_type": "markdown",
   "metadata": {
    "ExecuteTime": {
     "end_time": "2021-06-08T21:21:07.792069Z",
     "start_time": "2021-06-08T21:21:07.777109Z"
    },
    "heading_collapsed": true
   },
   "source": [
    "# Criando DataFrame - pd.DataFrame()\n",
    "<p> Para criar um dataframe utilizaremos o comando pd.DataFrame, porém antes será necessário a criação de um dicionário de listas que representará, os valores e colunas. </p>"
   ]
  },
  {
   "cell_type": "code",
   "execution_count": 46,
   "metadata": {
    "ExecuteTime": {
     "end_time": "2022-08-15T00:28:25.612134Z",
     "start_time": "2022-08-15T00:28:25.603163Z"
    },
    "hidden": true
   },
   "outputs": [],
   "source": [
    "# Dicionário de listas\n",
    "dataset_produtos = {\n",
    "    'Produto':['Produto 1','Produto 1','Produto 2','Produto 3','Produto 4','Produto 5','Produto 6','Produto 6','Produto 7'],\n",
    "    'Preco':[25000,28000,30000,35000,33000,30000,12000,50000,40000],\n",
    "    'Desconto':['20%','30%','40%','10%','30%','40%','80%','35%','44%']\n",
    "}"
   ]
  },
  {
   "cell_type": "code",
   "execution_count": 47,
   "metadata": {
    "ExecuteTime": {
     "end_time": "2022-08-15T00:28:25.890950Z",
     "start_time": "2022-08-15T00:28:25.883924Z"
    },
    "hidden": true
   },
   "outputs": [
    {
     "data": {
      "text/plain": [
       "{'Produto': ['Produto 1',\n",
       "  'Produto 1',\n",
       "  'Produto 2',\n",
       "  'Produto 3',\n",
       "  'Produto 4',\n",
       "  'Produto 5',\n",
       "  'Produto 6',\n",
       "  'Produto 6',\n",
       "  'Produto 7'],\n",
       " 'Preco': [25000, 28000, 30000, 35000, 33000, 30000, 12000, 50000, 40000],\n",
       " 'Desconto': ['20%', '30%', '40%', '10%', '30%', '40%', '80%', '35%', '44%']}"
      ]
     },
     "execution_count": 47,
     "metadata": {},
     "output_type": "execute_result"
    }
   ],
   "source": [
    "dataset_produtos"
   ]
  },
  {
   "cell_type": "code",
   "execution_count": 15,
   "metadata": {
    "ExecuteTime": {
     "end_time": "2022-08-14T23:55:52.861448Z",
     "start_time": "2022-08-14T23:55:52.852445Z"
    },
    "hidden": true
   },
   "outputs": [],
   "source": [
    "# Comando para criação DataFrame\n",
    "df_produtos = pd.DataFrame(dataset_produtos)"
   ]
  },
  {
   "cell_type": "code",
   "execution_count": 16,
   "metadata": {
    "ExecuteTime": {
     "end_time": "2022-08-14T23:55:53.609005Z",
     "start_time": "2022-08-14T23:55:53.589003Z"
    },
    "hidden": true,
    "scrolled": true
   },
   "outputs": [
    {
     "data": {
      "text/html": [
       "<div>\n",
       "<style scoped>\n",
       "    .dataframe tbody tr th:only-of-type {\n",
       "        vertical-align: middle;\n",
       "    }\n",
       "\n",
       "    .dataframe tbody tr th {\n",
       "        vertical-align: top;\n",
       "    }\n",
       "\n",
       "    .dataframe thead th {\n",
       "        text-align: right;\n",
       "    }\n",
       "</style>\n",
       "<table border=\"1\" class=\"dataframe\">\n",
       "  <thead>\n",
       "    <tr style=\"text-align: right;\">\n",
       "      <th></th>\n",
       "      <th>Produto</th>\n",
       "      <th>Preco</th>\n",
       "      <th>Desconto</th>\n",
       "    </tr>\n",
       "  </thead>\n",
       "  <tbody>\n",
       "    <tr>\n",
       "      <th>0</th>\n",
       "      <td>Produto 1</td>\n",
       "      <td>25000</td>\n",
       "      <td>20%</td>\n",
       "    </tr>\n",
       "    <tr>\n",
       "      <th>1</th>\n",
       "      <td>Produto 1</td>\n",
       "      <td>28000</td>\n",
       "      <td>30%</td>\n",
       "    </tr>\n",
       "    <tr>\n",
       "      <th>2</th>\n",
       "      <td>Produto 2</td>\n",
       "      <td>30000</td>\n",
       "      <td>40%</td>\n",
       "    </tr>\n",
       "    <tr>\n",
       "      <th>3</th>\n",
       "      <td>Produto 3</td>\n",
       "      <td>35000</td>\n",
       "      <td>10%</td>\n",
       "    </tr>\n",
       "    <tr>\n",
       "      <th>4</th>\n",
       "      <td>Produto 4</td>\n",
       "      <td>33000</td>\n",
       "      <td>30%</td>\n",
       "    </tr>\n",
       "  </tbody>\n",
       "</table>\n",
       "</div>"
      ],
      "text/plain": [
       "     Produto  Preco Desconto\n",
       "0  Produto 1  25000      20%\n",
       "1  Produto 1  28000      30%\n",
       "2  Produto 2  30000      40%\n",
       "3  Produto 3  35000      10%\n",
       "4  Produto 4  33000      30%"
      ]
     },
     "execution_count": 16,
     "metadata": {},
     "output_type": "execute_result"
    }
   ],
   "source": [
    "# .head() mostra top 5 linhas df\n",
    "df_produtos.head()"
   ]
  },
  {
   "cell_type": "markdown",
   "metadata": {
    "ExecuteTime": {
     "end_time": "2021-06-08T23:52:13.260046Z",
     "start_time": "2021-06-08T23:52:13.253043Z"
    },
    "heading_collapsed": true
   },
   "source": [
    "# Seleção De Dados - .loc[] - .iloc[] - .isin() - .query() - [(bool1)]"
   ]
  },
  {
   "cell_type": "code",
   "execution_count": 17,
   "metadata": {
    "ExecuteTime": {
     "end_time": "2022-08-14T23:55:55.334126Z",
     "start_time": "2022-08-14T23:55:55.325126Z"
    },
    "hidden": true
   },
   "outputs": [
    {
     "data": {
      "text/html": [
       "<div>\n",
       "<style scoped>\n",
       "    .dataframe tbody tr th:only-of-type {\n",
       "        vertical-align: middle;\n",
       "    }\n",
       "\n",
       "    .dataframe tbody tr th {\n",
       "        vertical-align: top;\n",
       "    }\n",
       "\n",
       "    .dataframe thead th {\n",
       "        text-align: right;\n",
       "    }\n",
       "</style>\n",
       "<table border=\"1\" class=\"dataframe\">\n",
       "  <thead>\n",
       "    <tr style=\"text-align: right;\">\n",
       "      <th></th>\n",
       "      <th>Produto</th>\n",
       "      <th>Preco</th>\n",
       "      <th>Desconto</th>\n",
       "    </tr>\n",
       "  </thead>\n",
       "  <tbody>\n",
       "    <tr>\n",
       "      <th>0</th>\n",
       "      <td>Produto 1</td>\n",
       "      <td>25000</td>\n",
       "      <td>20%</td>\n",
       "    </tr>\n",
       "    <tr>\n",
       "      <th>1</th>\n",
       "      <td>Produto 1</td>\n",
       "      <td>28000</td>\n",
       "      <td>30%</td>\n",
       "    </tr>\n",
       "    <tr>\n",
       "      <th>2</th>\n",
       "      <td>Produto 2</td>\n",
       "      <td>30000</td>\n",
       "      <td>40%</td>\n",
       "    </tr>\n",
       "    <tr>\n",
       "      <th>3</th>\n",
       "      <td>Produto 3</td>\n",
       "      <td>35000</td>\n",
       "      <td>10%</td>\n",
       "    </tr>\n",
       "  </tbody>\n",
       "</table>\n",
       "</div>"
      ],
      "text/plain": [
       "     Produto  Preco Desconto\n",
       "0  Produto 1  25000      20%\n",
       "1  Produto 1  28000      30%\n",
       "2  Produto 2  30000      40%\n",
       "3  Produto 3  35000      10%"
      ]
     },
     "execution_count": 17,
     "metadata": {},
     "output_type": "execute_result"
    }
   ],
   "source": [
    "df_produtos.head(4)"
   ]
  },
  {
   "cell_type": "markdown",
   "metadata": {
    "ExecuteTime": {
     "end_time": "2021-06-08T23:58:20.851290Z",
     "start_time": "2021-06-08T23:58:20.837319Z"
    },
    "hidden": true
   },
   "source": [
    "## .loc \n",
    "<p> Com .loc poderemos efetuar uma seleção de dados baseada em seus indices e colunas.</p>\n",
    "<p>\n",
    "    <b>loc[[seleção eixo x(indice)][seleção eixo y(coluna)]]</b>\n",
    "</p>"
   ]
  },
  {
   "cell_type": "code",
   "execution_count": 18,
   "metadata": {
    "ExecuteTime": {
     "end_time": "2022-08-14T23:55:56.520739Z",
     "start_time": "2022-08-14T23:55:56.500738Z"
    },
    "hidden": true
   },
   "outputs": [
    {
     "data": {
      "text/html": [
       "<div>\n",
       "<style scoped>\n",
       "    .dataframe tbody tr th:only-of-type {\n",
       "        vertical-align: middle;\n",
       "    }\n",
       "\n",
       "    .dataframe tbody tr th {\n",
       "        vertical-align: top;\n",
       "    }\n",
       "\n",
       "    .dataframe thead th {\n",
       "        text-align: right;\n",
       "    }\n",
       "</style>\n",
       "<table border=\"1\" class=\"dataframe\">\n",
       "  <thead>\n",
       "    <tr style=\"text-align: right;\">\n",
       "      <th></th>\n",
       "      <th>Produto</th>\n",
       "      <th>Preco</th>\n",
       "      <th>Desconto</th>\n",
       "    </tr>\n",
       "  </thead>\n",
       "  <tbody>\n",
       "    <tr>\n",
       "      <th>2</th>\n",
       "      <td>Produto 2</td>\n",
       "      <td>30000</td>\n",
       "      <td>40%</td>\n",
       "    </tr>\n",
       "    <tr>\n",
       "      <th>3</th>\n",
       "      <td>Produto 3</td>\n",
       "      <td>35000</td>\n",
       "      <td>10%</td>\n",
       "    </tr>\n",
       "  </tbody>\n",
       "</table>\n",
       "</div>"
      ],
      "text/plain": [
       "     Produto  Preco Desconto\n",
       "2  Produto 2  30000      40%\n",
       "3  Produto 3  35000      10%"
      ]
     },
     "execution_count": 18,
     "metadata": {},
     "output_type": "execute_result"
    }
   ],
   "source": [
    "# Selecionando o indice 2 até o 3\n",
    "df_produtos.loc[2:3]"
   ]
  },
  {
   "cell_type": "code",
   "execution_count": 19,
   "metadata": {
    "ExecuteTime": {
     "end_time": "2022-08-14T23:55:57.328727Z",
     "start_time": "2022-08-14T23:55:57.307746Z"
    },
    "hidden": true
   },
   "outputs": [
    {
     "data": {
      "text/html": [
       "<div>\n",
       "<style scoped>\n",
       "    .dataframe tbody tr th:only-of-type {\n",
       "        vertical-align: middle;\n",
       "    }\n",
       "\n",
       "    .dataframe tbody tr th {\n",
       "        vertical-align: top;\n",
       "    }\n",
       "\n",
       "    .dataframe thead th {\n",
       "        text-align: right;\n",
       "    }\n",
       "</style>\n",
       "<table border=\"1\" class=\"dataframe\">\n",
       "  <thead>\n",
       "    <tr style=\"text-align: right;\">\n",
       "      <th></th>\n",
       "      <th>Produto</th>\n",
       "      <th>Preco</th>\n",
       "    </tr>\n",
       "  </thead>\n",
       "  <tbody>\n",
       "    <tr>\n",
       "      <th>0</th>\n",
       "      <td>Produto 1</td>\n",
       "      <td>25000</td>\n",
       "    </tr>\n",
       "    <tr>\n",
       "      <th>1</th>\n",
       "      <td>Produto 1</td>\n",
       "      <td>28000</td>\n",
       "    </tr>\n",
       "    <tr>\n",
       "      <th>2</th>\n",
       "      <td>Produto 2</td>\n",
       "      <td>30000</td>\n",
       "    </tr>\n",
       "  </tbody>\n",
       "</table>\n",
       "</div>"
      ],
      "text/plain": [
       "     Produto  Preco\n",
       "0  Produto 1  25000\n",
       "1  Produto 1  28000\n",
       "2  Produto 2  30000"
      ]
     },
     "execution_count": 19,
     "metadata": {},
     "output_type": "execute_result"
    }
   ],
   "source": [
    "# Seleção dos 3 primeiros produtos, apenas a coluna Produto e Preco\n",
    "df_produtos.loc[0:2][['Produto','Preco']]"
   ]
  },
  {
   "cell_type": "markdown",
   "metadata": {
    "ExecuteTime": {
     "end_time": "2021-11-02T16:37:00.643532Z",
     "start_time": "2021-11-02T16:37:00.639629Z"
    },
    "hidden": true
   },
   "source": [
    "## .iloc \n",
    "<p> Com .iloc podemos efetuar uma seleção pelo indice da coluna diretamente.</p>\n",
    "<p>     <b>iloc[[numero indice x(indice)][numero indice y(indice)]]</b> </p>"
   ]
  },
  {
   "cell_type": "code",
   "execution_count": 21,
   "metadata": {
    "ExecuteTime": {
     "end_time": "2022-08-15T00:00:08.801478Z",
     "start_time": "2022-08-15T00:00:08.789477Z"
    },
    "hidden": true
   },
   "outputs": [
    {
     "data": {
      "text/plain": [
       "'Produto 1'"
      ]
     },
     "execution_count": 21,
     "metadata": {},
     "output_type": "execute_result"
    }
   ],
   "source": [
    "# Selecionando o nome do primeiro item\n",
    "df_produtos.iloc[0][0]"
   ]
  },
  {
   "cell_type": "markdown",
   "metadata": {
    "hidden": true
   },
   "source": [
    "## Seleção com clausulas lógicas & | \n",
    "<p> Sem o uso do loc ou iloc, podemos ainda utilizar operações booleanas para encontrar nos dados </p>\n",
    "<p> Tendo os operadores lógicos<b> & (and) </b>para determinar situações que acontecem simultaneamente, ou <b> | (or) </b> para situações que ocorram individualmente. </p>"
   ]
  },
  {
   "cell_type": "code",
   "execution_count": 31,
   "metadata": {
    "ExecuteTime": {
     "end_time": "2022-08-15T00:09:17.029857Z",
     "start_time": "2022-08-15T00:09:17.020880Z"
    },
    "hidden": true,
    "scrolled": true
   },
   "outputs": [
    {
     "data": {
      "text/html": [
       "<div>\n",
       "<style scoped>\n",
       "    .dataframe tbody tr th:only-of-type {\n",
       "        vertical-align: middle;\n",
       "    }\n",
       "\n",
       "    .dataframe tbody tr th {\n",
       "        vertical-align: top;\n",
       "    }\n",
       "\n",
       "    .dataframe thead th {\n",
       "        text-align: right;\n",
       "    }\n",
       "</style>\n",
       "<table border=\"1\" class=\"dataframe\">\n",
       "  <thead>\n",
       "    <tr style=\"text-align: right;\">\n",
       "      <th></th>\n",
       "      <th>Produto</th>\n",
       "      <th>Preco</th>\n",
       "      <th>Desconto</th>\n",
       "    </tr>\n",
       "  </thead>\n",
       "  <tbody>\n",
       "    <tr>\n",
       "      <th>1</th>\n",
       "      <td>Produto 1</td>\n",
       "      <td>28000</td>\n",
       "      <td>30%</td>\n",
       "    </tr>\n",
       "    <tr>\n",
       "      <th>7</th>\n",
       "      <td>Produto 6</td>\n",
       "      <td>50000</td>\n",
       "      <td>35%</td>\n",
       "    </tr>\n",
       "    <tr>\n",
       "      <th>8</th>\n",
       "      <td>Produto 7</td>\n",
       "      <td>40000</td>\n",
       "      <td>44%</td>\n",
       "    </tr>\n",
       "  </tbody>\n",
       "</table>\n",
       "</div>"
      ],
      "text/plain": [
       "     Produto  Preco Desconto\n",
       "1  Produto 1  28000      30%\n",
       "7  Produto 6  50000      35%\n",
       "8  Produto 7  40000      44%"
      ]
     },
     "execution_count": 31,
     "metadata": {},
     "output_type": "execute_result"
    }
   ],
   "source": [
    "# Selecionando os Produtos 1 que tenham valor maior que 26000 ou produtos com preco maior que 39000\n",
    "df_produtos[\n",
    "            (df_produtos['Preco']>=26000) & \\\n",
    "            (df_produtos['Produto'] == 'Produto 1') | \\\n",
    "            (df_produtos['Preco']>39000)\n",
    "] "
   ]
  },
  {
   "cell_type": "markdown",
   "metadata": {
    "ExecuteTime": {
     "end_time": "2021-06-09T22:15:25.994949Z",
     "start_time": "2021-06-09T22:15:25.984974Z"
    },
    "hidden": true
   },
   "source": [
    "## .isin() \n",
    "<p> O .isin pode efetuar uma seleção dos dados de maneira direta, sendo capaz de selecionar os dados diretamente por seus valores. </p>\n",
    "<p> <b> Dica: </b> Podemos usar o isin para fazer a checkagem de valores iguais entre dois dataframes, passando para o isin a coluna de um dataframe. </p>"
   ]
  },
  {
   "cell_type": "code",
   "execution_count": 35,
   "metadata": {
    "ExecuteTime": {
     "end_time": "2022-08-15T00:17:05.578388Z",
     "start_time": "2022-08-15T00:17:05.555415Z"
    },
    "hidden": true
   },
   "outputs": [
    {
     "data": {
      "text/html": [
       "<div>\n",
       "<style scoped>\n",
       "    .dataframe tbody tr th:only-of-type {\n",
       "        vertical-align: middle;\n",
       "    }\n",
       "\n",
       "    .dataframe tbody tr th {\n",
       "        vertical-align: top;\n",
       "    }\n",
       "\n",
       "    .dataframe thead th {\n",
       "        text-align: right;\n",
       "    }\n",
       "</style>\n",
       "<table border=\"1\" class=\"dataframe\">\n",
       "  <thead>\n",
       "    <tr style=\"text-align: right;\">\n",
       "      <th></th>\n",
       "      <th>Produto</th>\n",
       "      <th>Preco</th>\n",
       "      <th>Desconto</th>\n",
       "    </tr>\n",
       "  </thead>\n",
       "  <tbody>\n",
       "    <tr>\n",
       "      <th>0</th>\n",
       "      <td>Produto 1</td>\n",
       "      <td>25000</td>\n",
       "      <td>20%</td>\n",
       "    </tr>\n",
       "    <tr>\n",
       "      <th>1</th>\n",
       "      <td>Produto 1</td>\n",
       "      <td>28000</td>\n",
       "      <td>30%</td>\n",
       "    </tr>\n",
       "    <tr>\n",
       "      <th>2</th>\n",
       "      <td>Produto 2</td>\n",
       "      <td>30000</td>\n",
       "      <td>40%</td>\n",
       "    </tr>\n",
       "  </tbody>\n",
       "</table>\n",
       "</div>"
      ],
      "text/plain": [
       "     Produto  Preco Desconto\n",
       "0  Produto 1  25000      20%\n",
       "1  Produto 1  28000      30%\n",
       "2  Produto 2  30000      40%"
      ]
     },
     "execution_count": 35,
     "metadata": {},
     "output_type": "execute_result"
    }
   ],
   "source": [
    "# Selecionando na coluna Produto os produtos 1 e 2\n",
    "df_produtos[df_produtos['Produto'].isin(['Produto 1','Produto 2'])]"
   ]
  },
  {
   "cell_type": "markdown",
   "metadata": {
    "hidden": true
   },
   "source": [
    "## .query\n",
    "<p> Com Query podemos fazer uma seleção que imite a seleção do SQL, efetuando querys para uma ou mais seleções. </p>"
   ]
  },
  {
   "cell_type": "code",
   "execution_count": 36,
   "metadata": {
    "ExecuteTime": {
     "end_time": "2022-08-15T00:17:26.473805Z",
     "start_time": "2022-08-15T00:17:26.451803Z"
    },
    "hidden": true,
    "scrolled": true
   },
   "outputs": [
    {
     "data": {
      "text/html": [
       "<div>\n",
       "<style scoped>\n",
       "    .dataframe tbody tr th:only-of-type {\n",
       "        vertical-align: middle;\n",
       "    }\n",
       "\n",
       "    .dataframe tbody tr th {\n",
       "        vertical-align: top;\n",
       "    }\n",
       "\n",
       "    .dataframe thead th {\n",
       "        text-align: right;\n",
       "    }\n",
       "</style>\n",
       "<table border=\"1\" class=\"dataframe\">\n",
       "  <thead>\n",
       "    <tr style=\"text-align: right;\">\n",
       "      <th></th>\n",
       "      <th>Produto</th>\n",
       "      <th>Preco</th>\n",
       "      <th>Desconto</th>\n",
       "    </tr>\n",
       "  </thead>\n",
       "  <tbody>\n",
       "    <tr>\n",
       "      <th>0</th>\n",
       "      <td>Produto 1</td>\n",
       "      <td>25000</td>\n",
       "      <td>20%</td>\n",
       "    </tr>\n",
       "    <tr>\n",
       "      <th>1</th>\n",
       "      <td>Produto 1</td>\n",
       "      <td>28000</td>\n",
       "      <td>30%</td>\n",
       "    </tr>\n",
       "  </tbody>\n",
       "</table>\n",
       "</div>"
      ],
      "text/plain": [
       "     Produto  Preco Desconto\n",
       "0  Produto 1  25000      20%\n",
       "1  Produto 1  28000      30%"
      ]
     },
     "execution_count": 36,
     "metadata": {},
     "output_type": "execute_result"
    }
   ],
   "source": [
    "# Selecionando o produto 1\n",
    "df_produtos.query(\"Produto == 'Produto 1'\")"
   ]
  },
  {
   "cell_type": "code",
   "execution_count": 37,
   "metadata": {
    "ExecuteTime": {
     "end_time": "2022-08-15T00:17:44.457566Z",
     "start_time": "2022-08-15T00:17:44.436548Z"
    },
    "hidden": true,
    "scrolled": true
   },
   "outputs": [
    {
     "data": {
      "text/html": [
       "<div>\n",
       "<style scoped>\n",
       "    .dataframe tbody tr th:only-of-type {\n",
       "        vertical-align: middle;\n",
       "    }\n",
       "\n",
       "    .dataframe tbody tr th {\n",
       "        vertical-align: top;\n",
       "    }\n",
       "\n",
       "    .dataframe thead th {\n",
       "        text-align: right;\n",
       "    }\n",
       "</style>\n",
       "<table border=\"1\" class=\"dataframe\">\n",
       "  <thead>\n",
       "    <tr style=\"text-align: right;\">\n",
       "      <th></th>\n",
       "      <th>Produto</th>\n",
       "      <th>Preco</th>\n",
       "      <th>Desconto</th>\n",
       "    </tr>\n",
       "  </thead>\n",
       "  <tbody>\n",
       "    <tr>\n",
       "      <th>0</th>\n",
       "      <td>Produto 1</td>\n",
       "      <td>25000</td>\n",
       "      <td>20%</td>\n",
       "    </tr>\n",
       "    <tr>\n",
       "      <th>1</th>\n",
       "      <td>Produto 1</td>\n",
       "      <td>28000</td>\n",
       "      <td>30%</td>\n",
       "    </tr>\n",
       "    <tr>\n",
       "      <th>3</th>\n",
       "      <td>Produto 3</td>\n",
       "      <td>35000</td>\n",
       "      <td>10%</td>\n",
       "    </tr>\n",
       "    <tr>\n",
       "      <th>4</th>\n",
       "      <td>Produto 4</td>\n",
       "      <td>33000</td>\n",
       "      <td>30%</td>\n",
       "    </tr>\n",
       "    <tr>\n",
       "      <th>7</th>\n",
       "      <td>Produto 6</td>\n",
       "      <td>50000</td>\n",
       "      <td>35%</td>\n",
       "    </tr>\n",
       "    <tr>\n",
       "      <th>8</th>\n",
       "      <td>Produto 7</td>\n",
       "      <td>40000</td>\n",
       "      <td>44%</td>\n",
       "    </tr>\n",
       "  </tbody>\n",
       "</table>\n",
       "</div>"
      ],
      "text/plain": [
       "     Produto  Preco Desconto\n",
       "0  Produto 1  25000      20%\n",
       "1  Produto 1  28000      30%\n",
       "3  Produto 3  35000      10%\n",
       "4  Produto 4  33000      30%\n",
       "7  Produto 6  50000      35%\n",
       "8  Produto 7  40000      44%"
      ]
     },
     "execution_count": 37,
     "metadata": {},
     "output_type": "execute_result"
    }
   ],
   "source": [
    "# Selecionando o produto 1 ou produtos com preco maior igual 32000\n",
    "df_produtos.query(\"Produto == 'Produto 1' or Preco >= 32000\")"
   ]
  },
  {
   "cell_type": "markdown",
   "metadata": {
    "ExecuteTime": {
     "end_time": "2021-06-09T01:34:05.241686Z",
     "start_time": "2021-06-09T01:34:05.227751Z"
    },
    "heading_collapsed": true
   },
   "source": [
    "# Loops Em DataFrames - .iterrows()"
   ]
  },
  {
   "cell_type": "code",
   "execution_count": 38,
   "metadata": {
    "ExecuteTime": {
     "end_time": "2022-08-15T00:17:50.969469Z",
     "start_time": "2022-08-15T00:17:50.948443Z"
    },
    "hidden": true,
    "scrolled": true
   },
   "outputs": [
    {
     "data": {
      "text/html": [
       "<div>\n",
       "<style scoped>\n",
       "    .dataframe tbody tr th:only-of-type {\n",
       "        vertical-align: middle;\n",
       "    }\n",
       "\n",
       "    .dataframe tbody tr th {\n",
       "        vertical-align: top;\n",
       "    }\n",
       "\n",
       "    .dataframe thead th {\n",
       "        text-align: right;\n",
       "    }\n",
       "</style>\n",
       "<table border=\"1\" class=\"dataframe\">\n",
       "  <thead>\n",
       "    <tr style=\"text-align: right;\">\n",
       "      <th></th>\n",
       "      <th>Produto</th>\n",
       "      <th>Preco</th>\n",
       "      <th>Desconto</th>\n",
       "    </tr>\n",
       "  </thead>\n",
       "  <tbody>\n",
       "    <tr>\n",
       "      <th>0</th>\n",
       "      <td>Produto 1</td>\n",
       "      <td>25000</td>\n",
       "      <td>20%</td>\n",
       "    </tr>\n",
       "    <tr>\n",
       "      <th>1</th>\n",
       "      <td>Produto 1</td>\n",
       "      <td>28000</td>\n",
       "      <td>30%</td>\n",
       "    </tr>\n",
       "    <tr>\n",
       "      <th>2</th>\n",
       "      <td>Produto 2</td>\n",
       "      <td>30000</td>\n",
       "      <td>40%</td>\n",
       "    </tr>\n",
       "    <tr>\n",
       "      <th>3</th>\n",
       "      <td>Produto 3</td>\n",
       "      <td>35000</td>\n",
       "      <td>10%</td>\n",
       "    </tr>\n",
       "    <tr>\n",
       "      <th>4</th>\n",
       "      <td>Produto 4</td>\n",
       "      <td>33000</td>\n",
       "      <td>30%</td>\n",
       "    </tr>\n",
       "    <tr>\n",
       "      <th>5</th>\n",
       "      <td>Produto 5</td>\n",
       "      <td>30000</td>\n",
       "      <td>40%</td>\n",
       "    </tr>\n",
       "    <tr>\n",
       "      <th>6</th>\n",
       "      <td>Produto 6</td>\n",
       "      <td>12000</td>\n",
       "      <td>80%</td>\n",
       "    </tr>\n",
       "    <tr>\n",
       "      <th>7</th>\n",
       "      <td>Produto 6</td>\n",
       "      <td>50000</td>\n",
       "      <td>35%</td>\n",
       "    </tr>\n",
       "    <tr>\n",
       "      <th>8</th>\n",
       "      <td>Produto 7</td>\n",
       "      <td>40000</td>\n",
       "      <td>44%</td>\n",
       "    </tr>\n",
       "  </tbody>\n",
       "</table>\n",
       "</div>"
      ],
      "text/plain": [
       "     Produto  Preco Desconto\n",
       "0  Produto 1  25000      20%\n",
       "1  Produto 1  28000      30%\n",
       "2  Produto 2  30000      40%\n",
       "3  Produto 3  35000      10%\n",
       "4  Produto 4  33000      30%\n",
       "5  Produto 5  30000      40%\n",
       "6  Produto 6  12000      80%\n",
       "7  Produto 6  50000      35%\n",
       "8  Produto 7  40000      44%"
      ]
     },
     "execution_count": 38,
     "metadata": {},
     "output_type": "execute_result"
    }
   ],
   "source": [
    "df_produtos"
   ]
  },
  {
   "cell_type": "markdown",
   "metadata": {
    "ExecuteTime": {
     "end_time": "2021-11-02T17:07:33.048895Z",
     "start_time": "2021-11-02T17:07:32.986408Z"
    },
    "hidden": true
   },
   "source": [
    "## for normal\n",
    "<p> Um for normal dentro de um DataFrame só nos retornará as colunas do DataFrame, com isso será necessário utilizar de algum método que nos forneça uma seleção melhor. </p>"
   ]
  },
  {
   "cell_type": "code",
   "execution_count": 41,
   "metadata": {
    "ExecuteTime": {
     "end_time": "2022-08-15T00:23:33.049729Z",
     "start_time": "2022-08-15T00:23:33.036732Z"
    },
    "hidden": true
   },
   "outputs": [
    {
     "name": "stdout",
     "output_type": "stream",
     "text": [
      "Produto\n",
      "Preco\n",
      "Desconto\n"
     ]
    }
   ],
   "source": [
    "# Retorna o nome das colunas\n",
    "for i in df_produtos:\n",
    "    print(i)"
   ]
  },
  {
   "cell_type": "markdown",
   "metadata": {
    "hidden": true
   },
   "source": [
    "## .iterrows()\n",
    "<p> O iterrows tem objetivo de fazer uma divisão de linhas no nosso dataset, criando assim uma seleção mais utilizavel. </p>"
   ]
  },
  {
   "cell_type": "code",
   "execution_count": 42,
   "metadata": {
    "ExecuteTime": {
     "end_time": "2022-08-15T00:23:36.183599Z",
     "start_time": "2022-08-15T00:23:36.164626Z"
    },
    "hidden": true,
    "scrolled": true
   },
   "outputs": [
    {
     "name": "stdout",
     "output_type": "stream",
     "text": [
      "Produto 1\n",
      "Produto 1\n",
      "Produto 2\n",
      "Produto 3\n",
      "Produto 4\n",
      "Produto 5\n",
      "Produto 6\n",
      "Produto 6\n",
      "Produto 7\n"
     ]
    }
   ],
   "source": [
    "# Retornando os produtos de cada linha\n",
    "for indices,valores in df_produtos.iterrows():\n",
    "    print(valores['Produto'])"
   ]
  },
  {
   "cell_type": "code",
   "execution_count": 43,
   "metadata": {
    "ExecuteTime": {
     "end_time": "2022-08-15T00:24:48.126872Z",
     "start_time": "2022-08-15T00:24:48.108870Z"
    },
    "hidden": true
   },
   "outputs": [],
   "source": [
    "# Criando uma nova coluna com iterrows\n",
    "for lin,col in df_produtos.iterrows():\n",
    "    df_produtos.loc[lin,'iterrows_len'] = len(col['Produto'])"
   ]
  },
  {
   "cell_type": "code",
   "execution_count": 44,
   "metadata": {
    "ExecuteTime": {
     "end_time": "2022-08-15T00:24:48.549177Z",
     "start_time": "2022-08-15T00:24:48.532153Z"
    },
    "hidden": true
   },
   "outputs": [
    {
     "data": {
      "text/html": [
       "<div>\n",
       "<style scoped>\n",
       "    .dataframe tbody tr th:only-of-type {\n",
       "        vertical-align: middle;\n",
       "    }\n",
       "\n",
       "    .dataframe tbody tr th {\n",
       "        vertical-align: top;\n",
       "    }\n",
       "\n",
       "    .dataframe thead th {\n",
       "        text-align: right;\n",
       "    }\n",
       "</style>\n",
       "<table border=\"1\" class=\"dataframe\">\n",
       "  <thead>\n",
       "    <tr style=\"text-align: right;\">\n",
       "      <th></th>\n",
       "      <th>Produto</th>\n",
       "      <th>Preco</th>\n",
       "      <th>Desconto</th>\n",
       "      <th>iterrows_len</th>\n",
       "    </tr>\n",
       "  </thead>\n",
       "  <tbody>\n",
       "    <tr>\n",
       "      <th>0</th>\n",
       "      <td>Produto 1</td>\n",
       "      <td>25000</td>\n",
       "      <td>20%</td>\n",
       "      <td>9.0</td>\n",
       "    </tr>\n",
       "    <tr>\n",
       "      <th>1</th>\n",
       "      <td>Produto 1</td>\n",
       "      <td>28000</td>\n",
       "      <td>30%</td>\n",
       "      <td>9.0</td>\n",
       "    </tr>\n",
       "    <tr>\n",
       "      <th>2</th>\n",
       "      <td>Produto 2</td>\n",
       "      <td>30000</td>\n",
       "      <td>40%</td>\n",
       "      <td>9.0</td>\n",
       "    </tr>\n",
       "    <tr>\n",
       "      <th>3</th>\n",
       "      <td>Produto 3</td>\n",
       "      <td>35000</td>\n",
       "      <td>10%</td>\n",
       "      <td>9.0</td>\n",
       "    </tr>\n",
       "    <tr>\n",
       "      <th>4</th>\n",
       "      <td>Produto 4</td>\n",
       "      <td>33000</td>\n",
       "      <td>30%</td>\n",
       "      <td>9.0</td>\n",
       "    </tr>\n",
       "    <tr>\n",
       "      <th>5</th>\n",
       "      <td>Produto 5</td>\n",
       "      <td>30000</td>\n",
       "      <td>40%</td>\n",
       "      <td>9.0</td>\n",
       "    </tr>\n",
       "    <tr>\n",
       "      <th>6</th>\n",
       "      <td>Produto 6</td>\n",
       "      <td>12000</td>\n",
       "      <td>80%</td>\n",
       "      <td>9.0</td>\n",
       "    </tr>\n",
       "    <tr>\n",
       "      <th>7</th>\n",
       "      <td>Produto 6</td>\n",
       "      <td>50000</td>\n",
       "      <td>35%</td>\n",
       "      <td>9.0</td>\n",
       "    </tr>\n",
       "    <tr>\n",
       "      <th>8</th>\n",
       "      <td>Produto 7</td>\n",
       "      <td>40000</td>\n",
       "      <td>44%</td>\n",
       "      <td>9.0</td>\n",
       "    </tr>\n",
       "  </tbody>\n",
       "</table>\n",
       "</div>"
      ],
      "text/plain": [
       "     Produto  Preco Desconto  iterrows_len\n",
       "0  Produto 1  25000      20%           9.0\n",
       "1  Produto 1  28000      30%           9.0\n",
       "2  Produto 2  30000      40%           9.0\n",
       "3  Produto 3  35000      10%           9.0\n",
       "4  Produto 4  33000      30%           9.0\n",
       "5  Produto 5  30000      40%           9.0\n",
       "6  Produto 6  12000      80%           9.0\n",
       "7  Produto 6  50000      35%           9.0\n",
       "8  Produto 7  40000      44%           9.0"
      ]
     },
     "execution_count": 44,
     "metadata": {},
     "output_type": "execute_result"
    }
   ],
   "source": [
    "df_produtos"
   ]
  },
  {
   "cell_type": "code",
   "execution_count": null,
   "metadata": {
    "hidden": true
   },
   "outputs": [],
   "source": []
  }
 ],
 "metadata": {
  "kernelspec": {
   "display_name": "Python 3 (ipykernel)",
   "language": "python",
   "name": "python3"
  },
  "language_info": {
   "codemirror_mode": {
    "name": "ipython",
    "version": 3
   },
   "file_extension": ".py",
   "mimetype": "text/x-python",
   "name": "python",
   "nbconvert_exporter": "python",
   "pygments_lexer": "ipython3",
   "version": "3.9.7"
  },
  "toc": {
   "base_numbering": 1,
   "nav_menu": {},
   "number_sections": true,
   "sideBar": true,
   "skip_h1_title": false,
   "title_cell": "Table of Contents",
   "title_sidebar": "Contents",
   "toc_cell": false,
   "toc_position": {},
   "toc_section_display": true,
   "toc_window_display": false
  },
  "varInspector": {
   "cols": {
    "lenName": 16,
    "lenType": 16,
    "lenVar": 40
   },
   "kernels_config": {
    "python": {
     "delete_cmd_postfix": "",
     "delete_cmd_prefix": "del ",
     "library": "var_list.py",
     "varRefreshCmd": "print(var_dic_list())"
    },
    "r": {
     "delete_cmd_postfix": ") ",
     "delete_cmd_prefix": "rm(",
     "library": "var_list.r",
     "varRefreshCmd": "cat(var_dic_list()) "
    }
   },
   "types_to_exclude": [
    "module",
    "function",
    "builtin_function_or_method",
    "instance",
    "_Feature"
   ],
   "window_display": false
  }
 },
 "nbformat": 4,
 "nbformat_minor": 4
}
