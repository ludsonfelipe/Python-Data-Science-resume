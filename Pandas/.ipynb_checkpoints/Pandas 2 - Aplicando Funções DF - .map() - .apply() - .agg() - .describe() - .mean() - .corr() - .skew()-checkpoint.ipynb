{
 "cells": [
  {
   "cell_type": "code",
   "execution_count": 4,
   "metadata": {
    "ExecuteTime": {
     "end_time": "2021-11-02T19:23:49.803930Z",
     "start_time": "2021-11-02T19:23:42.500505Z"
    }
   },
   "outputs": [],
   "source": [
    "import pandas as pd"
   ]
  },
  {
   "cell_type": "markdown",
   "metadata": {
    "ExecuteTime": {
     "end_time": "2021-06-08T21:21:07.792069Z",
     "start_time": "2021-06-08T21:21:07.777109Z"
    },
    "heading_collapsed": true
   },
   "source": [
    "# Criando DataFrame - pd.DataFrame()\n",
    "<p> Para criar um dataframe utilizaremos o comando pd.DataFrame, porém antes será necessário a criação de um dicionário de listas que representará, os valores e colunas. </p>"
   ]
  },
  {
   "cell_type": "code",
   "execution_count": 5,
   "metadata": {
    "ExecuteTime": {
     "end_time": "2021-11-02T19:23:49.816618Z",
     "start_time": "2021-11-02T19:23:49.812715Z"
    },
    "hidden": true
   },
   "outputs": [],
   "source": [
    "# Dicionário de listas\n",
    "dataset_carros = {\n",
    "    'Carro':['Chervrolet','Fiat','Uno','Volkswagen','Ford','Uno','Mercedes'],\n",
    "    'Preco':[25000,30000,32000,31000,40000,32000,120000],\n",
    "    'Desconto':['20%','30%','40%','10%','30%','40%','100%']\n",
    "}"
   ]
  },
  {
   "cell_type": "code",
   "execution_count": 6,
   "metadata": {
    "ExecuteTime": {
     "end_time": "2021-11-02T19:23:49.994831Z",
     "start_time": "2021-11-02T19:23:49.824426Z"
    },
    "hidden": true
   },
   "outputs": [
    {
     "data": {
      "text/plain": [
       "{'Carro': ['Chervrolet',\n",
       "  'Fiat',\n",
       "  'Uno',\n",
       "  'Volkswagen',\n",
       "  'Ford',\n",
       "  'Uno',\n",
       "  'Mercedes'],\n",
       " 'Preco': [25000, 30000, 32000, 31000, 40000, 32000, 120000],\n",
       " 'Desconto': ['20%', '30%', '40%', '10%', '30%', '40%', '100%']}"
      ]
     },
     "execution_count": 6,
     "metadata": {},
     "output_type": "execute_result"
    }
   ],
   "source": [
    "dataset_carros"
   ]
  },
  {
   "cell_type": "code",
   "execution_count": 7,
   "metadata": {
    "ExecuteTime": {
     "end_time": "2021-11-02T19:23:50.127698Z",
     "start_time": "2021-11-02T19:23:49.999714Z"
    },
    "hidden": true
   },
   "outputs": [],
   "source": [
    "# Comando Criação DataFrame\n",
    "carros2 = pd.DataFrame(dataset_carros)"
   ]
  },
  {
   "cell_type": "code",
   "execution_count": 8,
   "metadata": {
    "ExecuteTime": {
     "end_time": "2021-11-02T19:23:50.307445Z",
     "start_time": "2021-11-02T19:23:50.136477Z"
    },
    "hidden": true,
    "scrolled": true
   },
   "outputs": [
    {
     "data": {
      "text/html": [
       "<div>\n",
       "<style scoped>\n",
       "    .dataframe tbody tr th:only-of-type {\n",
       "        vertical-align: middle;\n",
       "    }\n",
       "\n",
       "    .dataframe tbody tr th {\n",
       "        vertical-align: top;\n",
       "    }\n",
       "\n",
       "    .dataframe thead th {\n",
       "        text-align: right;\n",
       "    }\n",
       "</style>\n",
       "<table border=\"1\" class=\"dataframe\">\n",
       "  <thead>\n",
       "    <tr style=\"text-align: right;\">\n",
       "      <th></th>\n",
       "      <th>Carro</th>\n",
       "      <th>Preco</th>\n",
       "      <th>Desconto</th>\n",
       "    </tr>\n",
       "  </thead>\n",
       "  <tbody>\n",
       "    <tr>\n",
       "      <th>0</th>\n",
       "      <td>Chervrolet</td>\n",
       "      <td>25000</td>\n",
       "      <td>20%</td>\n",
       "    </tr>\n",
       "    <tr>\n",
       "      <th>1</th>\n",
       "      <td>Fiat</td>\n",
       "      <td>30000</td>\n",
       "      <td>30%</td>\n",
       "    </tr>\n",
       "    <tr>\n",
       "      <th>2</th>\n",
       "      <td>Uno</td>\n",
       "      <td>32000</td>\n",
       "      <td>40%</td>\n",
       "    </tr>\n",
       "    <tr>\n",
       "      <th>3</th>\n",
       "      <td>Volkswagen</td>\n",
       "      <td>31000</td>\n",
       "      <td>10%</td>\n",
       "    </tr>\n",
       "    <tr>\n",
       "      <th>4</th>\n",
       "      <td>Ford</td>\n",
       "      <td>40000</td>\n",
       "      <td>30%</td>\n",
       "    </tr>\n",
       "  </tbody>\n",
       "</table>\n",
       "</div>"
      ],
      "text/plain": [
       "        Carro  Preco Desconto\n",
       "0  Chervrolet  25000      20%\n",
       "1        Fiat  30000      30%\n",
       "2         Uno  32000      40%\n",
       "3  Volkswagen  31000      10%\n",
       "4        Ford  40000      30%"
      ]
     },
     "execution_count": 8,
     "metadata": {},
     "output_type": "execute_result"
    }
   ],
   "source": [
    "carros2.head()"
   ]
  },
  {
   "cell_type": "markdown",
   "metadata": {
    "ExecuteTime": {
     "end_time": "2021-06-09T04:11:47.519396Z",
     "start_time": "2021-06-09T04:11:47.514386Z"
    }
   },
   "source": [
    "# Aplicando Funções .map() - .apply() - .agg() "
   ]
  },
  {
   "cell_type": "code",
   "execution_count": 9,
   "metadata": {
    "ExecuteTime": {
     "end_time": "2021-11-02T19:23:50.431110Z",
     "start_time": "2021-11-02T19:23:50.320156Z"
    }
   },
   "outputs": [
    {
     "data": {
      "text/html": [
       "<div>\n",
       "<style scoped>\n",
       "    .dataframe tbody tr th:only-of-type {\n",
       "        vertical-align: middle;\n",
       "    }\n",
       "\n",
       "    .dataframe tbody tr th {\n",
       "        vertical-align: top;\n",
       "    }\n",
       "\n",
       "    .dataframe thead th {\n",
       "        text-align: right;\n",
       "    }\n",
       "</style>\n",
       "<table border=\"1\" class=\"dataframe\">\n",
       "  <thead>\n",
       "    <tr style=\"text-align: right;\">\n",
       "      <th></th>\n",
       "      <th>Carro</th>\n",
       "      <th>Preco</th>\n",
       "      <th>Desconto</th>\n",
       "    </tr>\n",
       "  </thead>\n",
       "  <tbody>\n",
       "    <tr>\n",
       "      <th>0</th>\n",
       "      <td>Chervrolet</td>\n",
       "      <td>25000</td>\n",
       "      <td>20%</td>\n",
       "    </tr>\n",
       "    <tr>\n",
       "      <th>1</th>\n",
       "      <td>Fiat</td>\n",
       "      <td>30000</td>\n",
       "      <td>30%</td>\n",
       "    </tr>\n",
       "    <tr>\n",
       "      <th>2</th>\n",
       "      <td>Uno</td>\n",
       "      <td>32000</td>\n",
       "      <td>40%</td>\n",
       "    </tr>\n",
       "    <tr>\n",
       "      <th>3</th>\n",
       "      <td>Volkswagen</td>\n",
       "      <td>31000</td>\n",
       "      <td>10%</td>\n",
       "    </tr>\n",
       "    <tr>\n",
       "      <th>4</th>\n",
       "      <td>Ford</td>\n",
       "      <td>40000</td>\n",
       "      <td>30%</td>\n",
       "    </tr>\n",
       "    <tr>\n",
       "      <th>5</th>\n",
       "      <td>Uno</td>\n",
       "      <td>32000</td>\n",
       "      <td>40%</td>\n",
       "    </tr>\n",
       "    <tr>\n",
       "      <th>6</th>\n",
       "      <td>Mercedes</td>\n",
       "      <td>120000</td>\n",
       "      <td>100%</td>\n",
       "    </tr>\n",
       "  </tbody>\n",
       "</table>\n",
       "</div>"
      ],
      "text/plain": [
       "        Carro   Preco Desconto\n",
       "0  Chervrolet   25000      20%\n",
       "1        Fiat   30000      30%\n",
       "2         Uno   32000      40%\n",
       "3  Volkswagen   31000      10%\n",
       "4        Ford   40000      30%\n",
       "5         Uno   32000      40%\n",
       "6    Mercedes  120000     100%"
      ]
     },
     "execution_count": 9,
     "metadata": {},
     "output_type": "execute_result"
    }
   ],
   "source": [
    "carros2"
   ]
  },
  {
   "cell_type": "code",
   "execution_count": 7,
   "metadata": {
    "ExecuteTime": {
     "end_time": "2021-11-02T19:23:50.552120Z",
     "start_time": "2021-11-02T19:23:50.438918Z"
    }
   },
   "outputs": [],
   "source": [
    "function = lambda x:x+' 2021' # função a ser aplicada"
   ]
  },
  {
   "cell_type": "markdown",
   "metadata": {
    "heading_collapsed": true
   },
   "source": [
    "## .map()\n",
    "<p> O map efetua o mapeamento dos dados, aplicando uma função ou dicionário </p>"
   ]
  },
  {
   "cell_type": "code",
   "execution_count": 8,
   "metadata": {
    "ExecuteTime": {
     "end_time": "2021-11-02T19:23:50.697383Z",
     "start_time": "2021-11-02T19:23:50.559825Z"
    },
    "hidden": true
   },
   "outputs": [],
   "source": [
    "carros2['AnoMap'] = carros2['Carro'].map(function)"
   ]
  },
  {
   "cell_type": "code",
   "execution_count": 9,
   "metadata": {
    "ExecuteTime": {
     "end_time": "2021-11-02T19:23:50.831143Z",
     "start_time": "2021-11-02T19:23:50.712000Z"
    },
    "hidden": true
   },
   "outputs": [
    {
     "data": {
      "text/html": [
       "<div>\n",
       "<style scoped>\n",
       "    .dataframe tbody tr th:only-of-type {\n",
       "        vertical-align: middle;\n",
       "    }\n",
       "\n",
       "    .dataframe tbody tr th {\n",
       "        vertical-align: top;\n",
       "    }\n",
       "\n",
       "    .dataframe thead th {\n",
       "        text-align: right;\n",
       "    }\n",
       "</style>\n",
       "<table border=\"1\" class=\"dataframe\">\n",
       "  <thead>\n",
       "    <tr style=\"text-align: right;\">\n",
       "      <th></th>\n",
       "      <th>Carro</th>\n",
       "      <th>Preco</th>\n",
       "      <th>Desconto</th>\n",
       "      <th>AnoMap</th>\n",
       "    </tr>\n",
       "  </thead>\n",
       "  <tbody>\n",
       "    <tr>\n",
       "      <th>0</th>\n",
       "      <td>Chervrolet</td>\n",
       "      <td>25000</td>\n",
       "      <td>20%</td>\n",
       "      <td>Chervrolet 2021</td>\n",
       "    </tr>\n",
       "    <tr>\n",
       "      <th>1</th>\n",
       "      <td>Fiat</td>\n",
       "      <td>30000</td>\n",
       "      <td>30%</td>\n",
       "      <td>Fiat 2021</td>\n",
       "    </tr>\n",
       "    <tr>\n",
       "      <th>2</th>\n",
       "      <td>Uno</td>\n",
       "      <td>32000</td>\n",
       "      <td>40%</td>\n",
       "      <td>Uno 2021</td>\n",
       "    </tr>\n",
       "    <tr>\n",
       "      <th>3</th>\n",
       "      <td>Volkswagen</td>\n",
       "      <td>31000</td>\n",
       "      <td>10%</td>\n",
       "      <td>Volkswagen 2021</td>\n",
       "    </tr>\n",
       "    <tr>\n",
       "      <th>4</th>\n",
       "      <td>Ford</td>\n",
       "      <td>40000</td>\n",
       "      <td>30%</td>\n",
       "      <td>Ford 2021</td>\n",
       "    </tr>\n",
       "    <tr>\n",
       "      <th>5</th>\n",
       "      <td>Uno</td>\n",
       "      <td>32000</td>\n",
       "      <td>40%</td>\n",
       "      <td>Uno 2021</td>\n",
       "    </tr>\n",
       "    <tr>\n",
       "      <th>6</th>\n",
       "      <td>Mercedes</td>\n",
       "      <td>120000</td>\n",
       "      <td>100%</td>\n",
       "      <td>Mercedes 2021</td>\n",
       "    </tr>\n",
       "  </tbody>\n",
       "</table>\n",
       "</div>"
      ],
      "text/plain": [
       "        Carro   Preco Desconto           AnoMap\n",
       "0  Chervrolet   25000      20%  Chervrolet 2021\n",
       "1        Fiat   30000      30%        Fiat 2021\n",
       "2         Uno   32000      40%         Uno 2021\n",
       "3  Volkswagen   31000      10%  Volkswagen 2021\n",
       "4        Ford   40000      30%        Ford 2021\n",
       "5         Uno   32000      40%         Uno 2021\n",
       "6    Mercedes  120000     100%    Mercedes 2021"
      ]
     },
     "execution_count": 9,
     "metadata": {},
     "output_type": "execute_result"
    }
   ],
   "source": [
    "carros2"
   ]
  },
  {
   "cell_type": "markdown",
   "metadata": {
    "ExecuteTime": {
     "end_time": "2021-11-02T17:14:37.331772Z",
     "start_time": "2021-11-02T17:14:37.328336Z"
    },
    "heading_collapsed": true
   },
   "source": [
    "## .apply()\n",
    "<p> o Apply tem objetvio de aplicar determinda função no nosso conjunto de dados. </p>"
   ]
  },
  {
   "cell_type": "code",
   "execution_count": 10,
   "metadata": {
    "ExecuteTime": {
     "end_time": "2021-11-02T19:23:51.027718Z",
     "start_time": "2021-11-02T19:23:50.838928Z"
    },
    "hidden": true
   },
   "outputs": [],
   "source": [
    "carros2['AnoApply'] = carros2['Carro'].apply(function)"
   ]
  },
  {
   "cell_type": "code",
   "execution_count": 11,
   "metadata": {
    "ExecuteTime": {
     "end_time": "2021-11-02T19:23:51.191630Z",
     "start_time": "2021-11-02T19:23:51.035501Z"
    },
    "hidden": true
   },
   "outputs": [
    {
     "data": {
      "text/html": [
       "<div>\n",
       "<style scoped>\n",
       "    .dataframe tbody tr th:only-of-type {\n",
       "        vertical-align: middle;\n",
       "    }\n",
       "\n",
       "    .dataframe tbody tr th {\n",
       "        vertical-align: top;\n",
       "    }\n",
       "\n",
       "    .dataframe thead th {\n",
       "        text-align: right;\n",
       "    }\n",
       "</style>\n",
       "<table border=\"1\" class=\"dataframe\">\n",
       "  <thead>\n",
       "    <tr style=\"text-align: right;\">\n",
       "      <th></th>\n",
       "      <th>Carro</th>\n",
       "      <th>Preco</th>\n",
       "      <th>Desconto</th>\n",
       "      <th>AnoMap</th>\n",
       "      <th>AnoApply</th>\n",
       "    </tr>\n",
       "  </thead>\n",
       "  <tbody>\n",
       "    <tr>\n",
       "      <th>0</th>\n",
       "      <td>Chervrolet</td>\n",
       "      <td>25000</td>\n",
       "      <td>20%</td>\n",
       "      <td>Chervrolet 2021</td>\n",
       "      <td>Chervrolet 2021</td>\n",
       "    </tr>\n",
       "    <tr>\n",
       "      <th>1</th>\n",
       "      <td>Fiat</td>\n",
       "      <td>30000</td>\n",
       "      <td>30%</td>\n",
       "      <td>Fiat 2021</td>\n",
       "      <td>Fiat 2021</td>\n",
       "    </tr>\n",
       "    <tr>\n",
       "      <th>2</th>\n",
       "      <td>Uno</td>\n",
       "      <td>32000</td>\n",
       "      <td>40%</td>\n",
       "      <td>Uno 2021</td>\n",
       "      <td>Uno 2021</td>\n",
       "    </tr>\n",
       "    <tr>\n",
       "      <th>3</th>\n",
       "      <td>Volkswagen</td>\n",
       "      <td>31000</td>\n",
       "      <td>10%</td>\n",
       "      <td>Volkswagen 2021</td>\n",
       "      <td>Volkswagen 2021</td>\n",
       "    </tr>\n",
       "    <tr>\n",
       "      <th>4</th>\n",
       "      <td>Ford</td>\n",
       "      <td>40000</td>\n",
       "      <td>30%</td>\n",
       "      <td>Ford 2021</td>\n",
       "      <td>Ford 2021</td>\n",
       "    </tr>\n",
       "    <tr>\n",
       "      <th>5</th>\n",
       "      <td>Uno</td>\n",
       "      <td>32000</td>\n",
       "      <td>40%</td>\n",
       "      <td>Uno 2021</td>\n",
       "      <td>Uno 2021</td>\n",
       "    </tr>\n",
       "    <tr>\n",
       "      <th>6</th>\n",
       "      <td>Mercedes</td>\n",
       "      <td>120000</td>\n",
       "      <td>100%</td>\n",
       "      <td>Mercedes 2021</td>\n",
       "      <td>Mercedes 2021</td>\n",
       "    </tr>\n",
       "  </tbody>\n",
       "</table>\n",
       "</div>"
      ],
      "text/plain": [
       "        Carro   Preco Desconto           AnoMap         AnoApply\n",
       "0  Chervrolet   25000      20%  Chervrolet 2021  Chervrolet 2021\n",
       "1        Fiat   30000      30%        Fiat 2021        Fiat 2021\n",
       "2         Uno   32000      40%         Uno 2021         Uno 2021\n",
       "3  Volkswagen   31000      10%  Volkswagen 2021  Volkswagen 2021\n",
       "4        Ford   40000      30%        Ford 2021        Ford 2021\n",
       "5         Uno   32000      40%         Uno 2021         Uno 2021\n",
       "6    Mercedes  120000     100%    Mercedes 2021    Mercedes 2021"
      ]
     },
     "execution_count": 11,
     "metadata": {},
     "output_type": "execute_result"
    }
   ],
   "source": [
    "carros2"
   ]
  },
  {
   "cell_type": "markdown",
   "metadata": {
    "heading_collapsed": true
   },
   "source": [
    "## .agg()\n",
    "<p> O agg efetua a mesma coisa, com uma vatangem, pois pode aplicar uma lista de funções em uma lista de colunas </p>"
   ]
  },
  {
   "cell_type": "code",
   "execution_count": 12,
   "metadata": {
    "ExecuteTime": {
     "end_time": "2021-11-02T19:23:51.345063Z",
     "start_time": "2021-11-02T19:23:51.204291Z"
    },
    "hidden": true
   },
   "outputs": [],
   "source": [
    "carros2['AnoAgg'] = carros2['Carro'].agg(function)"
   ]
  },
  {
   "cell_type": "code",
   "execution_count": 13,
   "metadata": {
    "ExecuteTime": {
     "end_time": "2021-11-02T19:23:51.516151Z",
     "start_time": "2021-11-02T19:23:51.352847Z"
    },
    "hidden": true
   },
   "outputs": [
    {
     "data": {
      "text/html": [
       "<div>\n",
       "<style scoped>\n",
       "    .dataframe tbody tr th:only-of-type {\n",
       "        vertical-align: middle;\n",
       "    }\n",
       "\n",
       "    .dataframe tbody tr th {\n",
       "        vertical-align: top;\n",
       "    }\n",
       "\n",
       "    .dataframe thead th {\n",
       "        text-align: right;\n",
       "    }\n",
       "</style>\n",
       "<table border=\"1\" class=\"dataframe\">\n",
       "  <thead>\n",
       "    <tr style=\"text-align: right;\">\n",
       "      <th></th>\n",
       "      <th>Carro</th>\n",
       "      <th>Preco</th>\n",
       "      <th>Desconto</th>\n",
       "      <th>AnoMap</th>\n",
       "      <th>AnoApply</th>\n",
       "      <th>AnoAgg</th>\n",
       "    </tr>\n",
       "  </thead>\n",
       "  <tbody>\n",
       "    <tr>\n",
       "      <th>0</th>\n",
       "      <td>Chervrolet</td>\n",
       "      <td>25000</td>\n",
       "      <td>20%</td>\n",
       "      <td>Chervrolet 2021</td>\n",
       "      <td>Chervrolet 2021</td>\n",
       "      <td>Chervrolet 2021</td>\n",
       "    </tr>\n",
       "    <tr>\n",
       "      <th>1</th>\n",
       "      <td>Fiat</td>\n",
       "      <td>30000</td>\n",
       "      <td>30%</td>\n",
       "      <td>Fiat 2021</td>\n",
       "      <td>Fiat 2021</td>\n",
       "      <td>Fiat 2021</td>\n",
       "    </tr>\n",
       "    <tr>\n",
       "      <th>2</th>\n",
       "      <td>Uno</td>\n",
       "      <td>32000</td>\n",
       "      <td>40%</td>\n",
       "      <td>Uno 2021</td>\n",
       "      <td>Uno 2021</td>\n",
       "      <td>Uno 2021</td>\n",
       "    </tr>\n",
       "    <tr>\n",
       "      <th>3</th>\n",
       "      <td>Volkswagen</td>\n",
       "      <td>31000</td>\n",
       "      <td>10%</td>\n",
       "      <td>Volkswagen 2021</td>\n",
       "      <td>Volkswagen 2021</td>\n",
       "      <td>Volkswagen 2021</td>\n",
       "    </tr>\n",
       "    <tr>\n",
       "      <th>4</th>\n",
       "      <td>Ford</td>\n",
       "      <td>40000</td>\n",
       "      <td>30%</td>\n",
       "      <td>Ford 2021</td>\n",
       "      <td>Ford 2021</td>\n",
       "      <td>Ford 2021</td>\n",
       "    </tr>\n",
       "    <tr>\n",
       "      <th>5</th>\n",
       "      <td>Uno</td>\n",
       "      <td>32000</td>\n",
       "      <td>40%</td>\n",
       "      <td>Uno 2021</td>\n",
       "      <td>Uno 2021</td>\n",
       "      <td>Uno 2021</td>\n",
       "    </tr>\n",
       "    <tr>\n",
       "      <th>6</th>\n",
       "      <td>Mercedes</td>\n",
       "      <td>120000</td>\n",
       "      <td>100%</td>\n",
       "      <td>Mercedes 2021</td>\n",
       "      <td>Mercedes 2021</td>\n",
       "      <td>Mercedes 2021</td>\n",
       "    </tr>\n",
       "  </tbody>\n",
       "</table>\n",
       "</div>"
      ],
      "text/plain": [
       "        Carro   Preco Desconto           AnoMap         AnoApply  \\\n",
       "0  Chervrolet   25000      20%  Chervrolet 2021  Chervrolet 2021   \n",
       "1        Fiat   30000      30%        Fiat 2021        Fiat 2021   \n",
       "2         Uno   32000      40%         Uno 2021         Uno 2021   \n",
       "3  Volkswagen   31000      10%  Volkswagen 2021  Volkswagen 2021   \n",
       "4        Ford   40000      30%        Ford 2021        Ford 2021   \n",
       "5         Uno   32000      40%         Uno 2021         Uno 2021   \n",
       "6    Mercedes  120000     100%    Mercedes 2021    Mercedes 2021   \n",
       "\n",
       "            AnoAgg  \n",
       "0  Chervrolet 2021  \n",
       "1        Fiat 2021  \n",
       "2         Uno 2021  \n",
       "3  Volkswagen 2021  \n",
       "4        Ford 2021  \n",
       "5         Uno 2021  \n",
       "6    Mercedes 2021  "
      ]
     },
     "execution_count": 13,
     "metadata": {},
     "output_type": "execute_result"
    }
   ],
   "source": [
    "carros2"
   ]
  },
  {
   "cell_type": "markdown",
   "metadata": {
    "ExecuteTime": {
     "end_time": "2021-06-09T22:07:57.714871Z",
     "start_time": "2021-06-09T22:07:57.699916Z"
    }
   },
   "source": [
    "# Estatisticas - .info() - .describe() - .mean() - .max() - .min()..."
   ]
  },
  {
   "cell_type": "code",
   "execution_count": 14,
   "metadata": {
    "ExecuteTime": {
     "end_time": "2021-11-02T19:23:51.681127Z",
     "start_time": "2021-11-02T19:23:51.528838Z"
    }
   },
   "outputs": [
    {
     "data": {
      "text/html": [
       "<div>\n",
       "<style scoped>\n",
       "    .dataframe tbody tr th:only-of-type {\n",
       "        vertical-align: middle;\n",
       "    }\n",
       "\n",
       "    .dataframe tbody tr th {\n",
       "        vertical-align: top;\n",
       "    }\n",
       "\n",
       "    .dataframe thead th {\n",
       "        text-align: right;\n",
       "    }\n",
       "</style>\n",
       "<table border=\"1\" class=\"dataframe\">\n",
       "  <thead>\n",
       "    <tr style=\"text-align: right;\">\n",
       "      <th></th>\n",
       "      <th>Carro</th>\n",
       "      <th>Preco</th>\n",
       "      <th>Desconto</th>\n",
       "      <th>AnoMap</th>\n",
       "      <th>AnoApply</th>\n",
       "      <th>AnoAgg</th>\n",
       "    </tr>\n",
       "  </thead>\n",
       "  <tbody>\n",
       "    <tr>\n",
       "      <th>0</th>\n",
       "      <td>Chervrolet</td>\n",
       "      <td>25000</td>\n",
       "      <td>20%</td>\n",
       "      <td>Chervrolet 2021</td>\n",
       "      <td>Chervrolet 2021</td>\n",
       "      <td>Chervrolet 2021</td>\n",
       "    </tr>\n",
       "    <tr>\n",
       "      <th>1</th>\n",
       "      <td>Fiat</td>\n",
       "      <td>30000</td>\n",
       "      <td>30%</td>\n",
       "      <td>Fiat 2021</td>\n",
       "      <td>Fiat 2021</td>\n",
       "      <td>Fiat 2021</td>\n",
       "    </tr>\n",
       "    <tr>\n",
       "      <th>2</th>\n",
       "      <td>Uno</td>\n",
       "      <td>32000</td>\n",
       "      <td>40%</td>\n",
       "      <td>Uno 2021</td>\n",
       "      <td>Uno 2021</td>\n",
       "      <td>Uno 2021</td>\n",
       "    </tr>\n",
       "    <tr>\n",
       "      <th>3</th>\n",
       "      <td>Volkswagen</td>\n",
       "      <td>31000</td>\n",
       "      <td>10%</td>\n",
       "      <td>Volkswagen 2021</td>\n",
       "      <td>Volkswagen 2021</td>\n",
       "      <td>Volkswagen 2021</td>\n",
       "    </tr>\n",
       "    <tr>\n",
       "      <th>4</th>\n",
       "      <td>Ford</td>\n",
       "      <td>40000</td>\n",
       "      <td>30%</td>\n",
       "      <td>Ford 2021</td>\n",
       "      <td>Ford 2021</td>\n",
       "      <td>Ford 2021</td>\n",
       "    </tr>\n",
       "    <tr>\n",
       "      <th>5</th>\n",
       "      <td>Uno</td>\n",
       "      <td>32000</td>\n",
       "      <td>40%</td>\n",
       "      <td>Uno 2021</td>\n",
       "      <td>Uno 2021</td>\n",
       "      <td>Uno 2021</td>\n",
       "    </tr>\n",
       "    <tr>\n",
       "      <th>6</th>\n",
       "      <td>Mercedes</td>\n",
       "      <td>120000</td>\n",
       "      <td>100%</td>\n",
       "      <td>Mercedes 2021</td>\n",
       "      <td>Mercedes 2021</td>\n",
       "      <td>Mercedes 2021</td>\n",
       "    </tr>\n",
       "  </tbody>\n",
       "</table>\n",
       "</div>"
      ],
      "text/plain": [
       "        Carro   Preco Desconto           AnoMap         AnoApply  \\\n",
       "0  Chervrolet   25000      20%  Chervrolet 2021  Chervrolet 2021   \n",
       "1        Fiat   30000      30%        Fiat 2021        Fiat 2021   \n",
       "2         Uno   32000      40%         Uno 2021         Uno 2021   \n",
       "3  Volkswagen   31000      10%  Volkswagen 2021  Volkswagen 2021   \n",
       "4        Ford   40000      30%        Ford 2021        Ford 2021   \n",
       "5         Uno   32000      40%         Uno 2021         Uno 2021   \n",
       "6    Mercedes  120000     100%    Mercedes 2021    Mercedes 2021   \n",
       "\n",
       "            AnoAgg  \n",
       "0  Chervrolet 2021  \n",
       "1        Fiat 2021  \n",
       "2         Uno 2021  \n",
       "3  Volkswagen 2021  \n",
       "4        Ford 2021  \n",
       "5         Uno 2021  \n",
       "6    Mercedes 2021  "
      ]
     },
     "execution_count": 14,
     "metadata": {},
     "output_type": "execute_result"
    }
   ],
   "source": [
    "carros2"
   ]
  },
  {
   "cell_type": "markdown",
   "metadata": {},
   "source": [
    "## .corr()\n",
    "<p> Retorna a correlação entre as colunas. </p>"
   ]
  },
  {
   "cell_type": "code",
   "execution_count": 11,
   "metadata": {},
   "outputs": [
    {
     "data": {
      "text/html": [
       "<div>\n",
       "<style scoped>\n",
       "    .dataframe tbody tr th:only-of-type {\n",
       "        vertical-align: middle;\n",
       "    }\n",
       "\n",
       "    .dataframe tbody tr th {\n",
       "        vertical-align: top;\n",
       "    }\n",
       "\n",
       "    .dataframe thead th {\n",
       "        text-align: right;\n",
       "    }\n",
       "</style>\n",
       "<table border=\"1\" class=\"dataframe\">\n",
       "  <thead>\n",
       "    <tr style=\"text-align: right;\">\n",
       "      <th></th>\n",
       "      <th>Preco</th>\n",
       "    </tr>\n",
       "  </thead>\n",
       "  <tbody>\n",
       "    <tr>\n",
       "      <th>Preco</th>\n",
       "      <td>1.0</td>\n",
       "    </tr>\n",
       "  </tbody>\n",
       "</table>\n",
       "</div>"
      ],
      "text/plain": [
       "       Preco\n",
       "Preco    1.0"
      ]
     },
     "execution_count": 11,
     "metadata": {},
     "output_type": "execute_result"
    }
   ],
   "source": [
    "carros2.corr() # Como só temos a coluna preço, então é igual a 100%"
   ]
  },
  {
   "attachments": {},
   "cell_type": "markdown",
   "metadata": {},
   "source": [
    "## .skew()\n",
    "<p> Simetria dos dados, usado para verificação de distribuição normal </p>"
   ]
  },
  {
   "cell_type": "code",
   "execution_count": 13,
   "metadata": {},
   "outputs": [
    {
     "data": {
      "text/plain": [
       "2.55218634506766"
      ]
     },
     "execution_count": 13,
     "metadata": {},
     "output_type": "execute_result"
    }
   ],
   "source": [
    "carros2['Preco'].skew()"
   ]
  },
  {
   "cell_type": "markdown",
   "metadata": {
    "ExecuteTime": {
     "end_time": "2021-11-02T05:14:43.427409Z",
     "start_time": "2021-11-02T05:14:43.411428Z"
    },
    "heading_collapsed": true
   },
   "source": [
    "## .info()\n",
    "<p> Retorna informações dos dados como tipos dos dados, colunas null etc </p>"
   ]
  },
  {
   "cell_type": "code",
   "execution_count": 15,
   "metadata": {
    "ExecuteTime": {
     "end_time": "2021-11-02T19:23:51.919768Z",
     "start_time": "2021-11-02T19:23:51.689878Z"
    },
    "hidden": true
   },
   "outputs": [
    {
     "name": "stdout",
     "output_type": "stream",
     "text": [
      "<class 'pandas.core.frame.DataFrame'>\n",
      "RangeIndex: 7 entries, 0 to 6\n",
      "Data columns (total 6 columns):\n",
      " #   Column    Non-Null Count  Dtype \n",
      "---  ------    --------------  ----- \n",
      " 0   Carro     7 non-null      object\n",
      " 1   Preco     7 non-null      int64 \n",
      " 2   Desconto  7 non-null      object\n",
      " 3   AnoMap    7 non-null      object\n",
      " 4   AnoApply  7 non-null      object\n",
      " 5   AnoAgg    7 non-null      object\n",
      "dtypes: int64(1), object(5)\n",
      "memory usage: 464.0+ bytes\n"
     ]
    }
   ],
   "source": [
    "carros2.info()"
   ]
  },
  {
   "cell_type": "markdown",
   "metadata": {
    "ExecuteTime": {
     "end_time": "2021-11-02T05:14:44.315258Z",
     "start_time": "2021-11-02T05:14:44.211395Z"
    },
    "heading_collapsed": true
   },
   "source": [
    "## .describe() \n",
    "<p> Retorna estatisticas resumidas dos dados </p>"
   ]
  },
  {
   "cell_type": "code",
   "execution_count": 16,
   "metadata": {
    "ExecuteTime": {
     "end_time": "2021-11-02T19:23:52.090688Z",
     "start_time": "2021-11-02T19:23:51.928525Z"
    },
    "hidden": true
   },
   "outputs": [
    {
     "data": {
      "text/html": [
       "<div>\n",
       "<style scoped>\n",
       "    .dataframe tbody tr th:only-of-type {\n",
       "        vertical-align: middle;\n",
       "    }\n",
       "\n",
       "    .dataframe tbody tr th {\n",
       "        vertical-align: top;\n",
       "    }\n",
       "\n",
       "    .dataframe thead th {\n",
       "        text-align: right;\n",
       "    }\n",
       "</style>\n",
       "<table border=\"1\" class=\"dataframe\">\n",
       "  <thead>\n",
       "    <tr style=\"text-align: right;\">\n",
       "      <th></th>\n",
       "      <th>Preco</th>\n",
       "    </tr>\n",
       "  </thead>\n",
       "  <tbody>\n",
       "    <tr>\n",
       "      <th>count</th>\n",
       "      <td>7.000000</td>\n",
       "    </tr>\n",
       "    <tr>\n",
       "      <th>mean</th>\n",
       "      <td>44285.714286</td>\n",
       "    </tr>\n",
       "    <tr>\n",
       "      <th>std</th>\n",
       "      <td>33678.451497</td>\n",
       "    </tr>\n",
       "    <tr>\n",
       "      <th>min</th>\n",
       "      <td>25000.000000</td>\n",
       "    </tr>\n",
       "    <tr>\n",
       "      <th>25%</th>\n",
       "      <td>30500.000000</td>\n",
       "    </tr>\n",
       "    <tr>\n",
       "      <th>50%</th>\n",
       "      <td>32000.000000</td>\n",
       "    </tr>\n",
       "    <tr>\n",
       "      <th>75%</th>\n",
       "      <td>36000.000000</td>\n",
       "    </tr>\n",
       "    <tr>\n",
       "      <th>max</th>\n",
       "      <td>120000.000000</td>\n",
       "    </tr>\n",
       "  </tbody>\n",
       "</table>\n",
       "</div>"
      ],
      "text/plain": [
       "               Preco\n",
       "count       7.000000\n",
       "mean    44285.714286\n",
       "std     33678.451497\n",
       "min     25000.000000\n",
       "25%     30500.000000\n",
       "50%     32000.000000\n",
       "75%     36000.000000\n",
       "max    120000.000000"
      ]
     },
     "execution_count": 16,
     "metadata": {},
     "output_type": "execute_result"
    }
   ],
   "source": [
    "carros2.describe()"
   ]
  },
  {
   "cell_type": "markdown",
   "metadata": {},
   "source": [
    "## Estatisticas individuais .mean() - .max() - .min() - .std() - .cumsum() - .cumprod()"
   ]
  },
  {
   "cell_type": "markdown",
   "metadata": {},
   "source": [
    "### .mean()\n",
    "<p> Média </p>"
   ]
  },
  {
   "cell_type": "code",
   "execution_count": 17,
   "metadata": {
    "ExecuteTime": {
     "end_time": "2021-11-02T19:23:52.213130Z",
     "start_time": "2021-11-02T19:23:52.099473Z"
    },
    "scrolled": true
   },
   "outputs": [
    {
     "data": {
      "text/plain": [
       "44285.71428571428"
      ]
     },
     "execution_count": 17,
     "metadata": {},
     "output_type": "execute_result"
    }
   ],
   "source": [
    "carros2['Preco'].mean()"
   ]
  },
  {
   "cell_type": "markdown",
   "metadata": {},
   "source": [
    "### .max()\n",
    "<p> Maior Valor </p>"
   ]
  },
  {
   "cell_type": "code",
   "execution_count": 18,
   "metadata": {
    "ExecuteTime": {
     "end_time": "2021-11-02T19:23:52.335975Z",
     "start_time": "2021-11-02T19:23:52.220938Z"
    }
   },
   "outputs": [
    {
     "data": {
      "text/plain": [
       "120000"
      ]
     },
     "execution_count": 18,
     "metadata": {},
     "output_type": "execute_result"
    }
   ],
   "source": [
    "carros2['Preco'].max()"
   ]
  },
  {
   "cell_type": "markdown",
   "metadata": {},
   "source": [
    "### .min()\n",
    "<p> Menor Valor </p>"
   ]
  },
  {
   "cell_type": "code",
   "execution_count": 19,
   "metadata": {
    "ExecuteTime": {
     "end_time": "2021-11-02T19:23:52.522971Z",
     "start_time": "2021-11-02T19:23:52.343783Z"
    }
   },
   "outputs": [
    {
     "data": {
      "text/plain": [
       "25000"
      ]
     },
     "execution_count": 19,
     "metadata": {},
     "output_type": "execute_result"
    }
   ],
   "source": [
    "carros2['Preco'].min()"
   ]
  },
  {
   "cell_type": "markdown",
   "metadata": {},
   "source": [
    "### .std()\n",
    "<p> Desvio Padrão </p>"
   ]
  },
  {
   "cell_type": "code",
   "execution_count": 20,
   "metadata": {
    "ExecuteTime": {
     "end_time": "2021-11-02T19:23:52.653296Z",
     "start_time": "2021-11-02T19:23:52.538552Z"
    }
   },
   "outputs": [
    {
     "data": {
      "text/plain": [
       "33678.451497034344"
      ]
     },
     "execution_count": 20,
     "metadata": {},
     "output_type": "execute_result"
    }
   ],
   "source": [
    "carros2['Preco'].std()"
   ]
  },
  {
   "cell_type": "markdown",
   "metadata": {},
   "source": [
    "### .cumsum()\n",
    "<p> Soma Acumulada </p>"
   ]
  },
  {
   "cell_type": "code",
   "execution_count": 21,
   "metadata": {
    "ExecuteTime": {
     "end_time": "2021-11-02T19:23:52.830248Z",
     "start_time": "2021-11-02T19:23:52.661104Z"
    }
   },
   "outputs": [
    {
     "data": {
      "text/plain": [
       "0     25000\n",
       "1     55000\n",
       "2     87000\n",
       "3    118000\n",
       "4    158000\n",
       "5    190000\n",
       "6    310000\n",
       "Name: Preco, dtype: int64"
      ]
     },
     "execution_count": 21,
     "metadata": {},
     "output_type": "execute_result"
    }
   ],
   "source": [
    "carros2['Preco'].cumsum()"
   ]
  },
  {
   "cell_type": "markdown",
   "metadata": {},
   "source": [
    "### .cumprod()\n",
    "<p> Mutiplicação Acumulada </p>"
   ]
  },
  {
   "cell_type": "code",
   "execution_count": 22,
   "metadata": {
    "ExecuteTime": {
     "end_time": "2021-11-02T19:23:53.086060Z",
     "start_time": "2021-11-02T19:23:52.839001Z"
    },
    "scrolled": true
   },
   "outputs": [
    {
     "data": {
      "text/plain": [
       "0                  25000\n",
       "1              750000000\n",
       "2         24000000000000\n",
       "3     744000000000000000\n",
       "4    5401809106493243392\n",
       "5   -6547306948419649536\n",
       "6    6889777079278108672\n",
       "Name: Preco, dtype: int64"
      ]
     },
     "execution_count": 22,
     "metadata": {},
     "output_type": "execute_result"
    }
   ],
   "source": [
    "carros2['Preco'].cumprod()"
   ]
  }
 ],
 "metadata": {
  "kernelspec": {
   "display_name": "Python 3 (ipykernel)",
   "language": "python",
   "name": "python3"
  },
  "language_info": {
   "codemirror_mode": {
    "name": "ipython",
    "version": 3
   },
   "file_extension": ".py",
   "mimetype": "text/x-python",
   "name": "python",
   "nbconvert_exporter": "python",
   "pygments_lexer": "ipython3",
   "version": "3.9.7"
  },
  "toc": {
   "base_numbering": 1,
   "nav_menu": {},
   "number_sections": true,
   "sideBar": true,
   "skip_h1_title": false,
   "title_cell": "Table of Contents",
   "title_sidebar": "Contents",
   "toc_cell": false,
   "toc_position": {},
   "toc_section_display": true,
   "toc_window_display": false
  },
  "varInspector": {
   "cols": {
    "lenName": 16,
    "lenType": 16,
    "lenVar": 40
   },
   "kernels_config": {
    "python": {
     "delete_cmd_postfix": "",
     "delete_cmd_prefix": "del ",
     "library": "var_list.py",
     "varRefreshCmd": "print(var_dic_list())"
    },
    "r": {
     "delete_cmd_postfix": ") ",
     "delete_cmd_prefix": "rm(",
     "library": "var_list.r",
     "varRefreshCmd": "cat(var_dic_list()) "
    }
   },
   "types_to_exclude": [
    "module",
    "function",
    "builtin_function_or_method",
    "instance",
    "_Feature"
   ],
   "window_display": false
  }
 },
 "nbformat": 4,
 "nbformat_minor": 4
}
