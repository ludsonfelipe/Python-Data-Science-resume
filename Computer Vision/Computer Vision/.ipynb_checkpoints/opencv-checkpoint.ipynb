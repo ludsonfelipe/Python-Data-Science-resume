{
 "cells": [
  {
   "cell_type": "code",
   "execution_count": 4,
   "metadata": {},
   "outputs": [],
   "source": [
    "# !pip install opencv-contrib-python"
   ]
  },
  {
   "cell_type": "code",
   "execution_count": 2,
   "metadata": {},
   "outputs": [],
   "source": [
    "import cv2"
   ]
  },
  {
   "cell_type": "markdown",
   "metadata": {},
   "source": [
    "# Ler uma imagem"
   ]
  },
  {
   "cell_type": "code",
   "execution_count": 3,
   "metadata": {},
   "outputs": [],
   "source": [
    "imagem = cv2.imread(\"LoL-Braum.png\")    # Se colocar, 0 dentro do imgread ele já carrega cinza"
   ]
  },
  {
   "cell_type": "markdown",
   "metadata": {},
   "source": [
    "# Exibe a imagem"
   ]
  },
  {
   "cell_type": "code",
   "execution_count": 17,
   "metadata": {},
   "outputs": [
    {
     "data": {
      "text/plain": [
       "27"
      ]
     },
     "execution_count": 17,
     "metadata": {},
     "output_type": "execute_result"
    }
   ],
   "source": [
    "cv2.imshow(\"Braum\",imagem)\n",
    "cv2.waitKey(0) "
   ]
  },
  {
   "cell_type": "markdown",
   "metadata": {},
   "source": [
    "# Transformando em Cinza"
   ]
  },
  {
   "cell_type": "code",
   "execution_count": 5,
   "metadata": {},
   "outputs": [
    {
     "data": {
      "text/plain": [
       "-1"
      ]
     },
     "execution_count": 5,
     "metadata": {},
     "output_type": "execute_result"
    }
   ],
   "source": [
    "imagemCinza = cv2.cvtColor( imagem, cv2.COLOR_BGR2GRAY )    # Altera a cor de um imagem\n",
    "cv2.imshow(\"Braum\",imagemCinza)\n",
    "cv2.waitKey(0) "
   ]
  },
  {
   "cell_type": "markdown",
   "metadata": {},
   "source": [
    "# Transformando em HSV"
   ]
  },
  {
   "cell_type": "code",
   "execution_count": 8,
   "metadata": {},
   "outputs": [
    {
     "data": {
      "text/plain": [
       "-1"
      ]
     },
     "execution_count": 8,
     "metadata": {},
     "output_type": "execute_result"
    }
   ],
   "source": [
    "imagemHsv = cv2.cvtColor( imagem, cv2.COLOR_BGR2HSV )    # Altera a cor de um imagem\n",
    "cv2.imshow(\"Braum\",imagemHsv)\n",
    "cv2.waitKey(0) "
   ]
  },
  {
   "cell_type": "markdown",
   "metadata": {},
   "source": [
    "# Mudando "
   ]
  },
  {
   "cell_type": "code",
   "execution_count": 10,
   "metadata": {},
   "outputs": [
    {
     "data": {
      "text/plain": [
       "-1"
      ]
     },
     "execution_count": 10,
     "metadata": {},
     "output_type": "execute_result"
    }
   ],
   "source": [
    "imagemHsv = cv2.cvtColor( imagem, cv2.COLOR_BGR2HSV )    # Altera a cor de um imagem\n",
    "\n",
    "\n",
    "imagemHsv = cv2.add(imagemHsv, (50,0,0,0))\n",
    "\n",
    "\n",
    "imagem = cv2.cvtColor( imagemHsv, cv2.COLOR_HSV2BGR )    # Altera a cor de um imagem\n",
    "\n",
    "cv2.imshow(\"Braum\",imagem)\n",
    "cv2.waitKey(0) "
   ]
  },
  {
   "cell_type": "markdown",
   "metadata": {},
   "source": [
    "# BGR checando cores\n",
    "<p>LARGURA, ALTURA, COR</p>"
   ]
  },
  {
   "cell_type": "code",
   "execution_count": 11,
   "metadata": {},
   "outputs": [
    {
     "data": {
      "text/plain": [
       "-1"
      ]
     },
     "execution_count": 11,
     "metadata": {},
     "output_type": "execute_result"
    }
   ],
   "source": [
    "b = imagem.copy()                       # Copia imagem\n",
    "b[:,:,1] = 0                            # LARGURA, ALTURA, COR\n",
    "b[:,:,2] = 0\n",
    "cv2.imshow(\"Braum\",b)\n",
    "cv2.waitKey(0) "
   ]
  },
  {
   "cell_type": "code",
   "execution_count": 12,
   "metadata": {},
   "outputs": [
    {
     "data": {
      "text/plain": [
       "-1"
      ]
     },
     "execution_count": 12,
     "metadata": {},
     "output_type": "execute_result"
    }
   ],
   "source": [
    "g = imagem.copy()\n",
    "g[:,:,0] = 0\n",
    "g[:,:,2] = 0\n",
    "cv2.imshow(\"Braum\",g)\n",
    "cv2.waitKey(0) "
   ]
  },
  {
   "cell_type": "code",
   "execution_count": 13,
   "metadata": {},
   "outputs": [
    {
     "data": {
      "text/plain": [
       "-1"
      ]
     },
     "execution_count": 13,
     "metadata": {},
     "output_type": "execute_result"
    }
   ],
   "source": [
    "r = imagem.copy()\n",
    "r[:,:,0] = 0\n",
    "r[:,:,1] = 0\n",
    "cv2.imshow(\"Braum\",r)\n",
    "cv2.waitKey(0) "
   ]
  },
  {
   "cell_type": "markdown",
   "metadata": {},
   "source": [
    "# Formas geometricas"
   ]
  },
  {
   "cell_type": "code",
   "execution_count": 10,
   "metadata": {},
   "outputs": [
    {
     "data": {
      "text/plain": [
       "-1"
      ]
     },
     "execution_count": 10,
     "metadata": {},
     "output_type": "execute_result"
    }
   ],
   "source": [
    "retangulo = cv2.rectangle(imagem,(10,100),(1000,500),(0,255,0),2)\n",
    "linha = cv2.line(imagem,(10,100),(300,120),(0,255,0),2)\n",
    "circulo = cv2.circle(imagem,(300,300),50,(255,0,0),10)\n",
    "texto = cv2.putText(imagem,\"BRAUM\",(500,500),cv2.FONT_HERSHEY_COMPLEX,10,(0,0,255))\n",
    "\n",
    "cv2.imshow(\"Braum\",texto)\n",
    "cv2.waitKey(0) "
   ]
  },
  {
   "cell_type": "code",
   "execution_count": null,
   "metadata": {},
   "outputs": [],
   "source": []
  }
 ],
 "metadata": {
  "interpreter": {
   "hash": "4e0e1271361751f657d4b9254e9345a3ef3fc88385efe0739bbc0f6f3f5a9c09"
  },
  "kernelspec": {
   "display_name": "Python 3 (ipykernel)",
   "language": "python",
   "name": "python3"
  },
  "language_info": {
   "codemirror_mode": {
    "name": "ipython",
    "version": 3
   },
   "file_extension": ".py",
   "mimetype": "text/x-python",
   "name": "python",
   "nbconvert_exporter": "python",
   "pygments_lexer": "ipython3",
   "version": "3.9.7"
  },
  "toc": {
   "base_numbering": 1,
   "nav_menu": {},
   "number_sections": true,
   "sideBar": true,
   "skip_h1_title": false,
   "title_cell": "Table of Contents",
   "title_sidebar": "Contents",
   "toc_cell": false,
   "toc_position": {},
   "toc_section_display": true,
   "toc_window_display": false
  }
 },
 "nbformat": 4,
 "nbformat_minor": 2
}
