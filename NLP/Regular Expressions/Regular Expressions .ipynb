{
 "cells": [
  {
   "cell_type": "code",
   "execution_count": 1,
   "id": "774fd3e4",
   "metadata": {
    "ExecuteTime": {
     "end_time": "2022-04-19T18:08:05.969180Z",
     "start_time": "2022-04-19T18:08:05.948260Z"
    }
   },
   "outputs": [],
   "source": [
    "import re"
   ]
  },
  {
   "cell_type": "markdown",
   "id": "fa557f4c",
   "metadata": {},
   "source": [
    "* RE é a library para expressões regulares\n",
    "* Se utilizarmos o <b>re.search( )</b> procuraremos se uma determinada expressão regular existe\n",
    "* Se utilizarmos o <b>re.findall( )</b> retorna a expressão procurada se encontrada\n",
    "* Se utilizarmos o <b>re.split( )</b> ira dividir os dados em dois de acordo com a expressão regular\n",
    "* Se utilizarmos o <b>re.sub(re, new, text)</b> ira substituir a regular expression pelo novo texto"
   ]
  },
  {
   "cell_type": "code",
   "execution_count": 126,
   "id": "69929399",
   "metadata": {
    "ExecuteTime": {
     "end_time": "2022-04-19T23:11:04.606904Z",
     "start_time": "2022-04-19T23:11:04.591968Z"
    }
   },
   "outputs": [],
   "source": [
    "text = \"Olá tudo bem, essa é minha primeira expressão regular, yo soy italiano, tudo, taaaa, tat.\""
   ]
  },
  {
   "cell_type": "markdown",
   "id": "a75c102f",
   "metadata": {
    "ExecuteTime": {
     "end_time": "2022-04-19T18:42:03.823960Z",
     "start_time": "2022-04-19T18:42:03.816979Z"
    }
   },
   "source": [
    "# Search"
   ]
  },
  {
   "cell_type": "code",
   "execution_count": 110,
   "id": "8018e133",
   "metadata": {
    "ExecuteTime": {
     "end_time": "2022-04-19T19:20:31.341383Z",
     "start_time": "2022-04-19T19:20:31.329414Z"
    }
   },
   "outputs": [
    {
     "data": {
      "text/plain": [
       "<re.Match object; span=(4, 8), match='tudo'>"
      ]
     },
     "execution_count": 110,
     "metadata": {},
     "output_type": "execute_result"
    }
   ],
   "source": [
    "contains = re.search('tudo',text)\n",
    "contains"
   ]
  },
  {
   "cell_type": "code",
   "execution_count": 111,
   "id": "6e3de5aa",
   "metadata": {
    "ExecuteTime": {
     "end_time": "2022-04-19T19:20:31.469227Z",
     "start_time": "2022-04-19T19:20:31.464240Z"
    }
   },
   "outputs": [
    {
     "data": {
      "text/plain": [
       "4"
      ]
     },
     "execution_count": 111,
     "metadata": {},
     "output_type": "execute_result"
    }
   ],
   "source": [
    "# Mostra o indice que a string começa\n",
    "contains.start()"
   ]
  },
  {
   "cell_type": "code",
   "execution_count": 112,
   "id": "b15f0b22",
   "metadata": {
    "ExecuteTime": {
     "end_time": "2022-04-19T19:20:31.594898Z",
     "start_time": "2022-04-19T19:20:31.584924Z"
    }
   },
   "outputs": [
    {
     "data": {
      "text/plain": [
       "8"
      ]
     },
     "execution_count": 112,
     "metadata": {},
     "output_type": "execute_result"
    }
   ],
   "source": [
    "# A palavra tudo termina no indice 8\n",
    "contains.end()"
   ]
  },
  {
   "cell_type": "code",
   "execution_count": 113,
   "id": "d8a9005d",
   "metadata": {
    "ExecuteTime": {
     "end_time": "2022-04-19T19:20:31.737014Z",
     "start_time": "2022-04-19T19:20:31.720952Z"
    }
   },
   "outputs": [
    {
     "data": {
      "text/plain": [
       "(4, 8)"
      ]
     },
     "execution_count": 113,
     "metadata": {},
     "output_type": "execute_result"
    }
   ],
   "source": [
    "# Retorna onde a palavra começa e onde termina\n",
    "contains.span()"
   ]
  },
  {
   "cell_type": "code",
   "execution_count": 114,
   "id": "8fa98617",
   "metadata": {
    "ExecuteTime": {
     "end_time": "2022-04-19T19:20:31.863851Z",
     "start_time": "2022-04-19T19:20:31.856895Z"
    }
   },
   "outputs": [
    {
     "data": {
      "text/plain": [
       "88"
      ]
     },
     "execution_count": 114,
     "metadata": {},
     "output_type": "execute_result"
    }
   ],
   "source": [
    "# Retorna o len do meu texto\n",
    "contains.endpos"
   ]
  },
  {
   "cell_type": "markdown",
   "id": "19d9d3f9",
   "metadata": {},
   "source": [
    "# Find all"
   ]
  },
  {
   "cell_type": "code",
   "execution_count": 115,
   "id": "c6ed605e",
   "metadata": {
    "ExecuteTime": {
     "end_time": "2022-04-19T19:20:32.117634Z",
     "start_time": "2022-04-19T19:20:32.104670Z"
    }
   },
   "outputs": [
    {
     "data": {
      "text/plain": [
       "['tudo', 'tudo']"
      ]
     },
     "execution_count": 115,
     "metadata": {},
     "output_type": "execute_result"
    }
   ],
   "source": [
    "found = re.findall('tudo',text)\n",
    "found"
   ]
  },
  {
   "cell_type": "markdown",
   "id": "34990f86",
   "metadata": {
    "ExecuteTime": {
     "end_time": "2022-04-19T18:43:33.720523Z",
     "start_time": "2022-04-19T18:43:33.714515Z"
    }
   },
   "source": [
    "# Split\n"
   ]
  },
  {
   "cell_type": "code",
   "execution_count": 116,
   "id": "92659f10",
   "metadata": {
    "ExecuteTime": {
     "end_time": "2022-04-19T19:20:32.414686Z",
     "start_time": "2022-04-19T19:20:32.401720Z"
    }
   },
   "outputs": [],
   "source": [
    "splitado = re.split('tudo',text)"
   ]
  },
  {
   "cell_type": "code",
   "execution_count": 117,
   "id": "a524e171",
   "metadata": {
    "ExecuteTime": {
     "end_time": "2022-04-19T19:20:32.525951Z",
     "start_time": "2022-04-19T19:20:32.514954Z"
    }
   },
   "outputs": [
    {
     "data": {
      "text/plain": [
       "['Olá ',\n",
       " ' bem, essa é minha primeira expressão regular, yo soy italiano, ',\n",
       " ', taaaa, tat']"
      ]
     },
     "execution_count": 117,
     "metadata": {},
     "output_type": "execute_result"
    }
   ],
   "source": [
    "splitado"
   ]
  },
  {
   "cell_type": "code",
   "execution_count": 118,
   "id": "acc64206",
   "metadata": {
    "ExecuteTime": {
     "end_time": "2022-04-19T19:20:32.669132Z",
     "start_time": "2022-04-19T19:20:32.665143Z"
    }
   },
   "outputs": [],
   "source": [
    "splitado = re.split('tudo',text,1)"
   ]
  },
  {
   "cell_type": "code",
   "execution_count": 119,
   "id": "00844ddb",
   "metadata": {
    "ExecuteTime": {
     "end_time": "2022-04-19T19:20:32.825926Z",
     "start_time": "2022-04-19T19:20:32.808971Z"
    }
   },
   "outputs": [
    {
     "data": {
      "text/plain": [
       "['Olá ',\n",
       " ' bem, essa é minha primeira expressão regular, yo soy italiano, tudo, taaaa, tat']"
      ]
     },
     "execution_count": 119,
     "metadata": {},
     "output_type": "execute_result"
    }
   ],
   "source": [
    "splitado"
   ]
  },
  {
   "cell_type": "markdown",
   "id": "87962fb2",
   "metadata": {},
   "source": [
    "# Expressions"
   ]
  },
  {
   "cell_type": "markdown",
   "id": "89e39617",
   "metadata": {},
   "source": [
    "## Operadores"
   ]
  },
  {
   "cell_type": "code",
   "execution_count": 120,
   "id": "4f0572f6",
   "metadata": {
    "ExecuteTime": {
     "end_time": "2022-04-19T19:20:33.312328Z",
     "start_time": "2022-04-19T19:20:33.297394Z"
    }
   },
   "outputs": [
    {
     "data": {
      "text/plain": [
       "'Olá tudo bem, essa é minha primeira expressão regular, yo soy italiano, tudo, taaaa, tat'"
      ]
     },
     "execution_count": 120,
     "metadata": {},
     "output_type": "execute_result"
    }
   ],
   "source": [
    "text"
   ]
  },
  {
   "cell_type": "markdown",
   "id": "c14752ca",
   "metadata": {},
   "source": [
    "Operador +"
   ]
  },
  {
   "cell_type": "code",
   "execution_count": 121,
   "id": "272993e3",
   "metadata": {
    "ExecuteTime": {
     "end_time": "2022-04-19T19:20:33.485436Z",
     "start_time": "2022-04-19T19:20:33.472468Z"
    }
   },
   "outputs": [
    {
     "data": {
      "text/plain": [
       "['ta', 'ta', 'ta']"
      ]
     },
     "execution_count": 121,
     "metadata": {},
     "output_type": "execute_result"
    }
   ],
   "source": [
    "# Seleciona unicamente o t+a\n",
    "found = re.findall('t+a',text)\n",
    "found"
   ]
  },
  {
   "cell_type": "markdown",
   "id": "ecc1e961",
   "metadata": {},
   "source": [
    "Operador ?"
   ]
  },
  {
   "cell_type": "code",
   "execution_count": 122,
   "id": "fccf2ca8",
   "metadata": {
    "ExecuteTime": {
     "end_time": "2022-04-19T19:20:33.642085Z",
     "start_time": "2022-04-19T19:20:33.633110Z"
    }
   },
   "outputs": [
    {
     "data": {
      "text/plain": [
       "['t', 'ta', 't', 'ta', 'ta', 't']"
      ]
     },
     "execution_count": 122,
     "metadata": {},
     "output_type": "execute_result"
    }
   ],
   "source": [
    "# A interrogação seleciona todas as letras \"t\", e também as \"ta\"\n",
    "found = re.findall('ta?',text)\n",
    "found"
   ]
  },
  {
   "cell_type": "markdown",
   "id": "e54e7cbf",
   "metadata": {},
   "source": [
    "Operador *"
   ]
  },
  {
   "cell_type": "code",
   "execution_count": 123,
   "id": "6d5e41ab",
   "metadata": {
    "ExecuteTime": {
     "end_time": "2022-04-19T19:20:35.023851Z",
     "start_time": "2022-04-19T19:20:35.009864Z"
    }
   },
   "outputs": [
    {
     "data": {
      "text/plain": [
       "['t', 'ta', 't', 'taaaa', 'ta', 't']"
      ]
     },
     "execution_count": 123,
     "metadata": {},
     "output_type": "execute_result"
    }
   ],
   "source": [
    "# Seleciona todos os \"a\" depois do ta\n",
    "found = re.findall('ta*',text)\n",
    "found"
   ]
  },
  {
   "cell_type": "markdown",
   "id": "f2643046",
   "metadata": {},
   "source": [
    "Operador ."
   ]
  },
  {
   "cell_type": "code",
   "execution_count": 124,
   "id": "e018fe39",
   "metadata": {
    "ExecuteTime": {
     "end_time": "2022-04-19T23:07:55.522463Z",
     "start_time": "2022-04-19T23:07:55.503515Z"
    }
   },
   "outputs": [
    {
     "data": {
      "text/plain": [
       "['tal', 'taa', 'tat']"
      ]
     },
     "execution_count": 124,
     "metadata": {},
     "output_type": "execute_result"
    }
   ],
   "source": [
    "# Seleciona uma letra apos a palavra pesquisada ou anterior\n",
    "found = re.findall('ta.',text)\n",
    "found"
   ]
  },
  {
   "cell_type": "code",
   "execution_count": 125,
   "id": "df4e093b",
   "metadata": {
    "ExecuteTime": {
     "end_time": "2022-04-19T23:09:01.996296Z",
     "start_time": "2022-04-19T23:09:01.985324Z"
    }
   },
   "outputs": [
    {
     "data": {
      "text/plain": [
       "['ita', ' ta', ' ta']"
      ]
     },
     "execution_count": 125,
     "metadata": {},
     "output_type": "execute_result"
    }
   ],
   "source": [
    "# Seleciona uma letra apos a palavra pesquisada ou anterior\n",
    "found = re.findall('.ta',text)\n",
    "found"
   ]
  },
  {
   "cell_type": "markdown",
   "id": "2c8ee508",
   "metadata": {
    "ExecuteTime": {
     "end_time": "2022-04-19T23:11:23.701693Z",
     "start_time": "2022-04-19T23:11:23.681743Z"
    }
   },
   "source": [
    "Eliminando operador com \\"
   ]
  },
  {
   "cell_type": "code",
   "execution_count": 129,
   "id": "672214dc",
   "metadata": {
    "ExecuteTime": {
     "end_time": "2022-04-19T23:11:47.457764Z",
     "start_time": "2022-04-19T23:11:47.450783Z"
    }
   },
   "outputs": [
    {
     "data": {
      "text/plain": [
       "['.']"
      ]
     },
     "execution_count": 129,
     "metadata": {},
     "output_type": "execute_result"
    }
   ],
   "source": [
    "# Seleciona o caracter como se ele não fosse um operador\n",
    "found = re.findall('\\.',text)\n",
    "found"
   ]
  },
  {
   "cell_type": "markdown",
   "id": "18f881b6",
   "metadata": {},
   "source": [
    "## Selecionando determinadas coisas "
   ]
  },
  {
   "cell_type": "markdown",
   "id": "56d45413",
   "metadata": {
    "ExecuteTime": {
     "end_time": "2022-04-19T23:16:55.098100Z",
     "start_time": "2022-04-19T23:16:55.089140Z"
    }
   },
   "source": [
    "selecionando palavras \\w"
   ]
  },
  {
   "cell_type": "code",
   "execution_count": 130,
   "id": "56f82030",
   "metadata": {
    "ExecuteTime": {
     "end_time": "2022-04-19T23:13:05.777818Z",
     "start_time": "2022-04-19T23:13:05.768817Z"
    }
   },
   "outputs": [
    {
     "data": {
      "text/plain": [
       "['O',\n",
       " 'l',\n",
       " 'á',\n",
       " 't',\n",
       " 'u',\n",
       " 'd',\n",
       " 'o',\n",
       " 'b',\n",
       " 'e',\n",
       " 'm',\n",
       " 'e',\n",
       " 's',\n",
       " 's',\n",
       " 'a',\n",
       " 'é',\n",
       " 'm',\n",
       " 'i',\n",
       " 'n',\n",
       " 'h',\n",
       " 'a',\n",
       " 'p',\n",
       " 'r',\n",
       " 'i',\n",
       " 'm',\n",
       " 'e',\n",
       " 'i',\n",
       " 'r',\n",
       " 'a',\n",
       " 'e',\n",
       " 'x',\n",
       " 'p',\n",
       " 'r',\n",
       " 'e',\n",
       " 's',\n",
       " 's',\n",
       " 'ã',\n",
       " 'o',\n",
       " 'r',\n",
       " 'e',\n",
       " 'g',\n",
       " 'u',\n",
       " 'l',\n",
       " 'a',\n",
       " 'r',\n",
       " 'y',\n",
       " 'o',\n",
       " 's',\n",
       " 'o',\n",
       " 'y',\n",
       " 'i',\n",
       " 't',\n",
       " 'a',\n",
       " 'l',\n",
       " 'i',\n",
       " 'a',\n",
       " 'n',\n",
       " 'o',\n",
       " 't',\n",
       " 'u',\n",
       " 'd',\n",
       " 'o',\n",
       " 't',\n",
       " 'a',\n",
       " 'a',\n",
       " 'a',\n",
       " 'a',\n",
       " 't',\n",
       " 'a',\n",
       " 't']"
      ]
     },
     "execution_count": 130,
     "metadata": {},
     "output_type": "execute_result"
    }
   ],
   "source": [
    "# seleciona tudo que ele considera uma palavra\n",
    "found = re.findall('\\w',text)\n",
    "found"
   ]
  },
  {
   "cell_type": "markdown",
   "id": "ed8460d0",
   "metadata": {},
   "source": [
    "selecionando caracteres em branco"
   ]
  },
  {
   "cell_type": "code",
   "execution_count": 131,
   "id": "7cf7a361",
   "metadata": {
    "ExecuteTime": {
     "end_time": "2022-04-19T23:13:36.715519Z",
     "start_time": "2022-04-19T23:13:36.704547Z"
    }
   },
   "outputs": [
    {
     "data": {
      "text/plain": [
       "[' ', ' ', ' ', ' ', ' ', ' ', ' ', ' ', ' ', ' ', ' ', ' ', ' ', ' ']"
      ]
     },
     "execution_count": 131,
     "metadata": {},
     "output_type": "execute_result"
    }
   ],
   "source": [
    "# seleciona todos espaços em branco\n",
    "found = re.findall('\\s',text)\n",
    "found"
   ]
  },
  {
   "cell_type": "markdown",
   "id": "89be8e0f",
   "metadata": {},
   "source": [
    "Se colocarmos em capitalize selecionaremos o inverso disso"
   ]
  },
  {
   "cell_type": "code",
   "execution_count": null,
   "id": "a5c78719",
   "metadata": {},
   "outputs": [],
   "source": [
    "# SELECIONA TODOS ESPAÇOS QUE NÃO ESTÃO EM BRANCO\n",
    "found = re.findall('\\S',text)\n",
    "found"
   ]
  },
  {
   "cell_type": "markdown",
   "id": "5174879e",
   "metadata": {},
   "source": [
    "Selecionando palavras com limite de letras"
   ]
  },
  {
   "cell_type": "code",
   "execution_count": 137,
   "id": "248f93d6",
   "metadata": {
    "ExecuteTime": {
     "end_time": "2022-04-19T23:19:48.343313Z",
     "start_time": "2022-04-19T23:19:48.328352Z"
    }
   },
   "outputs": [
    {
     "data": {
      "text/plain": [
       "['minha', 'primei', 'expres', 'regula', 'italia', 'taaaa']"
      ]
     },
     "execution_count": 137,
     "metadata": {},
     "output_type": "execute_result"
    }
   ],
   "source": [
    "# o {} seleciona apenas palavras de 5 ou 6 letras\n",
    "found = re.findall('\\w{5,6}',text)\n",
    "found"
   ]
  },
  {
   "cell_type": "markdown",
   "id": "a9f3dc19",
   "metadata": {},
   "source": [
    "Selecionando letras que vem antes, podendo ser r ou l"
   ]
  },
  {
   "cell_type": "code",
   "execution_count": 140,
   "id": "95162cb3",
   "metadata": {
    "ExecuteTime": {
     "end_time": "2022-04-19T23:20:48.405868Z",
     "start_time": "2022-04-19T23:20:48.392878Z"
    }
   },
   "outputs": [
    {
     "data": {
      "text/plain": [
       "['ri', 'li']"
      ]
     },
     "execution_count": 140,
     "metadata": {},
     "output_type": "execute_result"
    }
   ],
   "source": [
    "# Usamos colchetes para representar que a palavra pode ter r ou l antes do i\n",
    "found = re.findall('[rl]i',text)\n",
    "found"
   ]
  },
  {
   "cell_type": "markdown",
   "id": "cf434747",
   "metadata": {},
   "source": [
    "Selecionando todas palavras vindas antes do i, sendo lower case a-z ou upper case A-Z"
   ]
  },
  {
   "cell_type": "code",
   "execution_count": 141,
   "id": "dcd58d17",
   "metadata": {
    "ExecuteTime": {
     "end_time": "2022-04-19T23:22:21.520393Z",
     "start_time": "2022-04-19T23:22:21.505403Z"
    }
   },
   "outputs": [
    {
     "data": {
      "text/plain": [
       "['mi', 'ri', 'ei', 'li']"
      ]
     },
     "execution_count": 141,
     "metadata": {},
     "output_type": "execute_result"
    }
   ],
   "source": [
    "found = re.findall('[a-zA-Z]i',text)\n",
    "found"
   ]
  },
  {
   "cell_type": "markdown",
   "id": "9d716efd",
   "metadata": {},
   "source": [
    "<p> O () é usado para usar a expressão regular | ou </p>"
   ]
  },
  {
   "cell_type": "code",
   "execution_count": 149,
   "id": "c7cc3cf9",
   "metadata": {
    "ExecuteTime": {
     "end_time": "2022-04-19T23:26:26.825717Z",
     "start_time": "2022-04-19T23:26:26.817711Z"
    }
   },
   "outputs": [
    {
     "data": {
      "text/plain": [
       "['m', 'r']"
      ]
     },
     "execution_count": 149,
     "metadata": {},
     "output_type": "execute_result"
    }
   ],
   "source": [
    "# Retorna todas palavras sendo com mi ou ri\n",
    "found = re.findall('(m|r)i',text)\n",
    "found"
   ]
  },
  {
   "cell_type": "markdown",
   "id": "494b91a1",
   "metadata": {},
   "source": [
    "<p> Podemos utilizar o () também para representar apenas um booleano unico </p>"
   ]
  },
  {
   "cell_type": "code",
   "execution_count": 152,
   "id": "3979fb09",
   "metadata": {
    "ExecuteTime": {
     "end_time": "2022-04-19T23:30:53.054767Z",
     "start_time": "2022-04-19T23:30:53.039832Z"
    }
   },
   "outputs": [
    {
     "data": {
      "text/plain": [
       "['a']"
      ]
     },
     "execution_count": 152,
     "metadata": {},
     "output_type": "execute_result"
    }
   ],
   "source": [
    "# Seleciona todas as palavras que tenham mais de 2 a\n",
    "found = re.findall('(a){2,4}',text)\n",
    "found"
   ]
  },
  {
   "cell_type": "markdown",
   "id": "64b8accc",
   "metadata": {},
   "source": [
    "Selecão primeiro e ultimo caracter"
   ]
  },
  {
   "cell_type": "code",
   "execution_count": 160,
   "id": "22aa41ce",
   "metadata": {
    "ExecuteTime": {
     "end_time": "2022-04-19T23:35:45.416683Z",
     "start_time": "2022-04-19T23:35:45.401724Z"
    }
   },
   "outputs": [
    {
     "data": {
      "text/plain": [
       "['O']"
      ]
     },
     "execution_count": 160,
     "metadata": {},
     "output_type": "execute_result"
    }
   ],
   "source": [
    "# Seleciona a palavra inicial\n",
    "found = re.findall('^O',text)\n",
    "found"
   ]
  },
  {
   "cell_type": "code",
   "execution_count": 164,
   "id": "b6d0eba6",
   "metadata": {
    "ExecuteTime": {
     "end_time": "2022-04-19T23:37:02.874792Z",
     "start_time": "2022-04-19T23:37:02.864793Z"
    }
   },
   "outputs": [
    {
     "data": {
      "text/plain": [
       "['.']"
      ]
     },
     "execution_count": 164,
     "metadata": {},
     "output_type": "execute_result"
    }
   ],
   "source": [
    "# Seleciona a palavra final\n",
    "found = re.findall('.$',text)\n",
    "found"
   ]
  },
  {
   "cell_type": "markdown",
   "id": "0c2120ee",
   "metadata": {},
   "source": [
    "Selecionando os caracteres depois da string ou antes"
   ]
  },
  {
   "cell_type": "code",
   "execution_count": 174,
   "id": "ff5f92e9",
   "metadata": {
    "ExecuteTime": {
     "end_time": "2022-04-19T23:42:21.329603Z",
     "start_time": "2022-04-19T23:42:21.314645Z"
    }
   },
   "outputs": [
    {
     "data": {
      "text/plain": [
       "['tudo bem', 'tudo, ta']"
      ]
     },
     "execution_count": 174,
     "metadata": {},
     "output_type": "execute_result"
    }
   ],
   "source": [
    "# ?<= seleciona determinados caracteres em seu final\n",
    "found = re.findall('....(?<=[tT]udo)....',text)\n",
    "found"
   ]
  },
  {
   "cell_type": "code",
   "execution_count": 180,
   "id": "18ab6d97",
   "metadata": {
    "ExecuteTime": {
     "end_time": "2022-04-19T23:47:05.395274Z",
     "start_time": "2022-04-19T23:47:05.376326Z"
    }
   },
   "outputs": [
    {
     "data": {
      "text/plain": [
       "['tudo', 'tudo']"
      ]
     },
     "execution_count": 180,
     "metadata": {},
     "output_type": "execute_result"
    }
   ],
   "source": [
    "# ?<= seleciona determinados caracteres em seu inicio\n",
    "found = re.findall('(?=[tT]udo)....',text)\n",
    "found"
   ]
  },
  {
   "attachments": {
    "image.png": {
     "image/png": "[encoded data removed]"
    }
   },
   "cell_type": "markdown",
   "id": "36592977",
   "metadata": {},
   "source": [
    "![image.png](attachment:image.png)"
   ]
  },
  {
   "cell_type": "code",
   "execution_count": null,
   "id": "4dda827f",
   "metadata": {},
   "outputs": [],
   "source": []
  }
 ],
 "metadata": {
  "kernelspec": {
   "display_name": "Python 3 (ipykernel)",
   "language": "python",
   "name": "python3"
  },
  "language_info": {
   "codemirror_mode": {
    "name": "ipython",
    "version": 3
   },
   "file_extension": ".py",
   "mimetype": "text/x-python",
   "name": "python",
   "nbconvert_exporter": "python",
   "pygments_lexer": "ipython3",
   "version": "3.9.7"
  },
  "toc": {
   "base_numbering": 1,
   "nav_menu": {},
   "number_sections": true,
   "sideBar": true,
   "skip_h1_title": false,
   "title_cell": "Table of Contents",
   "title_sidebar": "Contents",
   "toc_cell": false,
   "toc_position": {},
   "toc_section_display": true,
   "toc_window_display": false
  }
 },
 "nbformat": 4,
 "nbformat_minor": 5
}
