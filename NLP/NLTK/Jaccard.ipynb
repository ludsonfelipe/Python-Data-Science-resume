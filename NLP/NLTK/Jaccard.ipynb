{
 "cells": [
  {
   "cell_type": "markdown",
   "id": "446e668e",
   "metadata": {},
   "source": [
    "<p> Calculando a distancia entre duas strings com base em jaccard </p>\n"
   ]
  },
  {
   "cell_type": "code",
   "execution_count": 2,
   "id": "aef321e9",
   "metadata": {},
   "outputs": [],
   "source": [
    "string1 = 'Oi eu sou goku'.split()\n",
    "string2 = 'Oi eu sou naruto'.split()"
   ]
  },
  {
   "cell_type": "code",
   "execution_count": 4,
   "id": "15b54813",
   "metadata": {},
   "outputs": [],
   "source": [
    "intersecao = set(string1).intersection(string2)\n",
    "uniao = set(string1).union(string2)"
   ]
  },
  {
   "cell_type": "code",
   "execution_count": 6,
   "id": "dfe3680a",
   "metadata": {},
   "outputs": [
    {
     "data": {
      "text/plain": [
       "{'Oi', 'eu', 'sou'}"
      ]
     },
     "execution_count": 6,
     "metadata": {},
     "output_type": "execute_result"
    }
   ],
   "source": [
    "intersecao"
   ]
  },
  {
   "cell_type": "code",
   "execution_count": 7,
   "id": "1649b98b",
   "metadata": {},
   "outputs": [
    {
     "data": {
      "text/plain": [
       "{'Oi', 'eu', 'goku', 'naruto', 'sou'}"
      ]
     },
     "execution_count": 7,
     "metadata": {},
     "output_type": "execute_result"
    }
   ],
   "source": [
    "uniao"
   ]
  },
  {
   "cell_type": "markdown",
   "id": "a98228ad",
   "metadata": {},
   "source": [
    "<p> Calculo de jaccard é <b>qntd união</b> - <b>qntd interscção</b> / <b>qntd uniao</b> </p>"
   ]
  },
  {
   "cell_type": "code",
   "execution_count": 8,
   "id": "23436d9c",
   "metadata": {},
   "outputs": [
    {
     "data": {
      "text/plain": [
       "0.4"
      ]
     },
     "execution_count": 8,
     "metadata": {},
     "output_type": "execute_result"
    }
   ],
   "source": [
    "(len(uniao)-len(intersecao))/len(uniao)"
   ]
  },
  {
   "cell_type": "code",
   "execution_count": 9,
   "id": "09bb2f21",
   "metadata": {},
   "outputs": [],
   "source": [
    "from nltk.metrics.distance import jaccard_distance"
   ]
  },
  {
   "cell_type": "code",
   "execution_count": 10,
   "id": "ec0cd118",
   "metadata": {},
   "outputs": [
    {
     "data": {
      "text/plain": [
       "0.4"
      ]
     },
     "execution_count": 10,
     "metadata": {},
     "output_type": "execute_result"
    }
   ],
   "source": [
    "jaccard_distance(intersecao,uniao)"
   ]
  },
  {
   "cell_type": "code",
   "execution_count": null,
   "id": "b0af847d",
   "metadata": {},
   "outputs": [],
   "source": []
  }
 ],
 "metadata": {
  "kernelspec": {
   "display_name": "Python 3 (ipykernel)",
   "language": "python",
   "name": "python3"
  },
  "language_info": {
   "codemirror_mode": {
    "name": "ipython",
    "version": 3
   },
   "file_extension": ".py",
   "mimetype": "text/x-python",
   "name": "python",
   "nbconvert_exporter": "python",
   "pygments_lexer": "ipython3",
   "version": "3.9.7"
  },
  "toc": {
   "base_numbering": 1,
   "nav_menu": {},
   "number_sections": true,
   "sideBar": true,
   "skip_h1_title": false,
   "title_cell": "Table of Contents",
   "title_sidebar": "Contents",
   "toc_cell": false,
   "toc_position": {},
   "toc_section_display": true,
   "toc_window_display": false
  }
 },
 "nbformat": 4,
 "nbformat_minor": 5
}
