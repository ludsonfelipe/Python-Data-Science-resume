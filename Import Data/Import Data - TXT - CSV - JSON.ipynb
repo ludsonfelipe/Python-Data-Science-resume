{
 "cells": [
  {
   "cell_type": "markdown",
   "metadata": {},
   "source": [
    "<b> SUMARIO </b>\n",
    "* TxT - Open( )\n",
    "* Read( ) / Write( ) / Close( )\n",
    "* Readline( )\n",
    "* CSV - Writer( )\n",
    "* Reader( ) / Writer( ) / Writerow( )\n",
    "* JSON - Dumps( )\n",
    "* Loads ( )"
   ]
  },
  {
   "cell_type": "code",
   "execution_count": 2,
   "metadata": {
    "ExecuteTime": {
     "end_time": "2022-08-20T04:34:10.234715Z",
     "start_time": "2022-08-20T04:34:09.734823Z"
    }
   },
   "outputs": [],
   "source": [
    "import pandas as pd"
   ]
  },
  {
   "cell_type": "markdown",
   "metadata": {
    "ExecuteTime": {
     "end_time": "2021-07-29T01:54:24.172918Z",
     "start_time": "2021-07-29T01:54:24.169990Z"
    }
   },
   "source": [
    "# Como abrir ou criar um arquivo em python - Open()\n",
    "<p> Para abrir ou criar arquivos em python, utilizaremos a função built-in do python open(), o open tem a função de abrir um arquivo recebendo como parametro seu diretório e um comando para leitura ou escritura do mesmo. </p>\n"
   ]
  },
  {
   "cell_type": "code",
   "execution_count": 13,
   "metadata": {
    "ExecuteTime": {
     "end_time": "2021-07-29T18:07:38.786709Z",
     "start_time": "2021-07-29T18:07:38.775739Z"
    }
   },
   "outputs": [],
   "source": [
    "# Criaremos então um arquivo chamado ola.txt"
   ]
  },
  {
   "cell_type": "code",
   "execution_count": 21,
   "metadata": {
    "ExecuteTime": {
     "end_time": "2021-07-29T18:14:42.925095Z",
     "start_time": "2021-07-29T18:14:42.913106Z"
    }
   },
   "outputs": [],
   "source": [
    "arquivo = open('ola.txt','w')"
   ]
  },
  {
   "cell_type": "markdown",
   "metadata": {},
   "source": [
    "# Escrevendo com comando - Write()\n",
    "<p> Podemos escrever nossa primeira frase no nosso TxT com o comando Write. </p>"
   ]
  },
  {
   "cell_type": "code",
   "execution_count": 22,
   "metadata": {
    "ExecuteTime": {
     "end_time": "2021-07-29T18:14:43.313000Z",
     "start_time": "2021-07-29T18:14:43.297039Z"
    }
   },
   "outputs": [],
   "source": [
    "# Escrevendo a frase \"olá mundo\" com write"
   ]
  },
  {
   "cell_type": "code",
   "execution_count": 23,
   "metadata": {
    "ExecuteTime": {
     "end_time": "2021-07-29T18:14:43.466256Z",
     "start_time": "2021-07-29T18:14:43.459274Z"
    }
   },
   "outputs": [
    {
     "data": {
      "text/plain": [
       "9"
      ]
     },
     "execution_count": 23,
     "metadata": {},
     "output_type": "execute_result"
    }
   ],
   "source": [
    "arquivo.write('Olá Mundo')"
   ]
  },
  {
   "cell_type": "markdown",
   "metadata": {
    "ExecuteTime": {
     "end_time": "2021-07-29T18:05:35.051731Z",
     "start_time": "2021-07-29T18:05:35.016825Z"
    }
   },
   "source": [
    "# Fechando arquivos com - Close()\n",
    "<p> E então salvaremos nosso resultado fechando o arquivo com Close. </p>"
   ]
  },
  {
   "cell_type": "code",
   "execution_count": 24,
   "metadata": {
    "ExecuteTime": {
     "end_time": "2021-07-29T18:14:43.823932Z",
     "start_time": "2021-07-29T18:14:43.817948Z"
    }
   },
   "outputs": [],
   "source": [
    "# Fechando o arquivo com close()"
   ]
  },
  {
   "cell_type": "code",
   "execution_count": 25,
   "metadata": {
    "ExecuteTime": {
     "end_time": "2021-07-29T18:14:44.026071Z",
     "start_time": "2021-07-29T18:14:44.016097Z"
    }
   },
   "outputs": [],
   "source": [
    "arquivo.close()"
   ]
  },
  {
   "cell_type": "markdown",
   "metadata": {},
   "source": [
    "# Lendo arquivos com - Read()\n",
    "<p> Podemos então ler nosso arquivo com read. </p>"
   ]
  },
  {
   "cell_type": "code",
   "execution_count": 26,
   "metadata": {
    "ExecuteTime": {
     "end_time": "2021-07-29T18:14:45.197647Z",
     "start_time": "2021-07-29T18:14:45.184578Z"
    }
   },
   "outputs": [],
   "source": [
    "arquivo2 = open('ola.txt','r')"
   ]
  },
  {
   "cell_type": "code",
   "execution_count": 27,
   "metadata": {
    "ExecuteTime": {
     "end_time": "2021-07-29T18:14:46.126022Z",
     "start_time": "2021-07-29T18:14:46.114043Z"
    }
   },
   "outputs": [
    {
     "data": {
      "text/plain": [
       "'Olá Mundo'"
      ]
     },
     "execution_count": 27,
     "metadata": {},
     "output_type": "execute_result"
    }
   ],
   "source": [
    "arquivo2.read()"
   ]
  },
  {
   "cell_type": "markdown",
   "metadata": {
    "ExecuteTime": {
     "end_time": "2021-07-29T18:16:05.098255Z",
     "start_time": "2021-07-29T18:16:05.081300Z"
    }
   },
   "source": [
    "# Otimizando usando - With  \n",
    "<p> O with tem como função principal, funcionar como uma estrutra que abre o arquivo, o modifica e depois se fecha automaticamente, em sua estrutura ele pode ser determinado da seguinte maneira. </p>"
   ]
  },
  {
   "cell_type": "markdown",
   "metadata": {},
   "source": [
    "```Python \n",
    "with open(diretorio/arquivo, 'w') as nome_arquivo:\n",
    "    comandos...\n",
    "```"
   ]
  },
  {
   "cell_type": "code",
   "execution_count": 30,
   "metadata": {
    "ExecuteTime": {
     "end_time": "2021-07-29T18:28:19.825316Z",
     "start_time": "2021-07-29T18:28:19.817361Z"
    }
   },
   "outputs": [],
   "source": [
    "# Usando with para ler um arquivo"
   ]
  },
  {
   "cell_type": "code",
   "execution_count": 31,
   "metadata": {
    "ExecuteTime": {
     "end_time": "2021-07-29T18:34:53.021778Z",
     "start_time": "2021-07-29T18:34:53.002801Z"
    }
   },
   "outputs": [],
   "source": [
    "with open('usandowith.txt','w') as escrever:\n",
    "    escrever.write('Olá')"
   ]
  },
  {
   "cell_type": "markdown",
   "metadata": {},
   "source": [
    "# Outros tipos de arquivos - CSV\n",
    "<p> Para arquivos CSV devemos primeiro importar sua biblioteca</p>\n",
    "\n",
    "```python\n",
    "import csv\n",
    "```\n"
   ]
  },
  {
   "cell_type": "code",
   "execution_count": 39,
   "metadata": {
    "ExecuteTime": {
     "end_time": "2021-07-29T18:59:56.930584Z",
     "start_time": "2021-07-29T18:59:56.915601Z"
    }
   },
   "outputs": [],
   "source": [
    "import csv"
   ]
  },
  {
   "cell_type": "markdown",
   "metadata": {
    "ExecuteTime": {
     "end_time": "2021-07-29T18:58:02.374616Z",
     "start_time": "2021-07-29T18:58:02.361651Z"
    }
   },
   "source": [
    "## Escrevendo nosso primeiro CSV - Writer( ) - Writerow( )\n",
    "<p> Em seguida podemos criar com sua biblioteca um escritor ou um leitor de arquivos CSV utilizando o metódo <b>.writer( ) poderemos criar nosso arquivo e escreve-lo</b></p>\n",
    "\n",
    "```python\n",
    "with open('arquivo.csv', 'w') as arquivo_csv:\n",
    "    escritor = csv.writer(arquivo_csv)\n",
    "```\n",
    "<p> Por fim podemos escrever no nosso arquivo que agora está apto a escrita com o comando <b>.writerow( )</b>\n",
    "\n",
    "```python\n",
    "escritor.writerow(['nome', 'sobrenome', 'email', 'genero'])\n",
    "```"
   ]
  },
  {
   "cell_type": "code",
   "execution_count": 40,
   "metadata": {
    "ExecuteTime": {
     "end_time": "2021-07-29T18:59:57.899578Z",
     "start_time": "2021-07-29T18:59:57.883517Z"
    }
   },
   "outputs": [],
   "source": [
    "with open('arquivo.csv', 'w') as arquivo_csv:\n",
    "    escritor = csv.writer(arquivo_csv)\n",
    "    escritor.writerow(['nome', 'sobrenome', 'email', 'genero'])"
   ]
  },
  {
   "cell_type": "markdown",
   "metadata": {
    "ExecuteTime": {
     "end_time": "2021-07-29T18:59:31.940629Z",
     "start_time": "2021-07-29T18:59:31.930656Z"
    }
   },
   "source": [
    "## Lendo nosso CSV - Reader( ) \n",
    "<p> após isso podemos com o metódo <b>.reader( )</b> viabilizar a leitura do arquivo</p>\n",
    "\n",
    "```python\n",
    "with open('arquivo.csv', 'r') as arquivo_csv:\n",
    "    csv_reader = csv.reader(arquivo_csv, delimiter = ',')\n",
    "```"
   ]
  },
  {
   "cell_type": "code",
   "execution_count": 43,
   "metadata": {
    "ExecuteTime": {
     "end_time": "2021-07-29T19:02:25.224925Z",
     "start_time": "2021-07-29T19:02:25.210962Z"
    }
   },
   "outputs": [
    {
     "name": "stdout",
     "output_type": "stream",
     "text": [
      "['nome', 'sobrenome', 'email', 'genero']\n",
      "[]\n"
     ]
    }
   ],
   "source": [
    "with open('arquivo.csv', 'r') as arquivo_csv:\n",
    "    csv_reader = csv.reader(arquivo_csv, delimiter = ',')\n",
    "    for i in csv_reader:\n",
    "        print(i)"
   ]
  },
  {
   "cell_type": "markdown",
   "metadata": {},
   "source": [
    "## Transformando em dataframe em CSV\n",
    "\n",
    "<p>df.to_csv('files.csv')</p>"
   ]
  },
  {
   "cell_type": "code",
   "execution_count": 3,
   "metadata": {
    "ExecuteTime": {
     "end_time": "2022-08-20T04:34:13.334026Z",
     "start_time": "2022-08-20T04:34:13.310025Z"
    }
   },
   "outputs": [
    {
     "data": {
      "text/html": [
       "<div>\n",
       "<style scoped>\n",
       "    .dataframe tbody tr th:only-of-type {\n",
       "        vertical-align: middle;\n",
       "    }\n",
       "\n",
       "    .dataframe tbody tr th {\n",
       "        vertical-align: top;\n",
       "    }\n",
       "\n",
       "    .dataframe thead th {\n",
       "        text-align: right;\n",
       "    }\n",
       "</style>\n",
       "<table border=\"1\" class=\"dataframe\">\n",
       "  <thead>\n",
       "    <tr style=\"text-align: right;\">\n",
       "      <th></th>\n",
       "      <th>valores</th>\n",
       "    </tr>\n",
       "  </thead>\n",
       "  <tbody>\n",
       "    <tr>\n",
       "      <th>0</th>\n",
       "      <td>1</td>\n",
       "    </tr>\n",
       "    <tr>\n",
       "      <th>1</th>\n",
       "      <td>2</td>\n",
       "    </tr>\n",
       "    <tr>\n",
       "      <th>2</th>\n",
       "      <td>3</td>\n",
       "    </tr>\n",
       "    <tr>\n",
       "      <th>3</th>\n",
       "      <td>4</td>\n",
       "    </tr>\n",
       "    <tr>\n",
       "      <th>4</th>\n",
       "      <td>5</td>\n",
       "    </tr>\n",
       "  </tbody>\n",
       "</table>\n",
       "</div>"
      ],
      "text/plain": [
       "   valores\n",
       "0        1\n",
       "1        2\n",
       "2        3\n",
       "3        4\n",
       "4        5"
      ]
     },
     "execution_count": 3,
     "metadata": {},
     "output_type": "execute_result"
    }
   ],
   "source": [
    "pd.DataFrame({'valores':[1,2,3,4,5]}).to_csv('meu_arquivo.csv')"
   ]
  },
  {
   "cell_type": "markdown",
   "metadata": {
    "ExecuteTime": {
     "end_time": "2021-07-29T19:59:40.409329Z",
     "start_time": "2021-07-29T19:59:40.400547Z"
    }
   },
   "source": [
    "# LIDANDO COM JSON\n",
    "<p> JSON ou JavaScript Object Notation os dados JSON vem da web em formato de string, e podem ser manipulado com a biblioteca JSON\n",
    "    \n",
    "```python\n",
    "   import json \n",
    "```"
   ]
  },
  {
   "cell_type": "markdown",
   "metadata": {},
   "source": [
    "## Escrevendo JSON - dumps( )\n",
    "<p> Para escrever em JSON, faremos como nos outros tipos de arquivo, primeiro o criaremos com open( )\n",
    "\n",
    "```python\n",
    "    with open('jsonfile.json','w') as file:\n",
    "```\n",
    "<p> E então poderemos usar o nosso metódo <b>dumps( )</b> para escrever um valor no nosso JSON </p>"
   ]
  },
  {
   "cell_type": "code",
   "execution_count": 4,
   "metadata": {
    "ExecuteTime": {
     "end_time": "2022-08-20T04:35:24.240488Z",
     "start_time": "2022-08-20T04:35:24.230187Z"
    }
   },
   "outputs": [],
   "source": [
    "import json\n",
    "with open('jsonfile.json','w') as file:\n",
    "    file.write(json.dumps({'chave':'valor'}))"
   ]
  },
  {
   "cell_type": "markdown",
   "metadata": {
    "ExecuteTime": {
     "end_time": "2021-07-29T20:15:15.936168Z",
     "start_time": "2021-07-29T20:15:15.932264Z"
    }
   },
   "source": [
    "## Lendo JSON - load( )\n",
    "<p> Com loads poderemos então carregar o arquivo criado, antes usamos o read para ler.</p>"
   ]
  },
  {
   "cell_type": "code",
   "execution_count": 5,
   "metadata": {
    "ExecuteTime": {
     "end_time": "2022-08-20T04:35:57.439828Z",
     "start_time": "2022-08-20T04:35:57.422800Z"
    }
   },
   "outputs": [],
   "source": [
    "with open('jsonfile.json','r') as file:\n",
    "    file2 = file.read()\n",
    "    data = json.loads(file2)"
   ]
  }
 ],
 "metadata": {
  "kernelspec": {
   "display_name": "Python 3 (ipykernel)",
   "language": "python",
   "name": "python3"
  },
  "language_info": {
   "codemirror_mode": {
    "name": "ipython",
    "version": 3
   },
   "file_extension": ".py",
   "mimetype": "text/x-python",
   "name": "python",
   "nbconvert_exporter": "python",
   "pygments_lexer": "ipython3",
   "version": "3.9.7"
  },
  "toc": {
   "base_numbering": 1,
   "nav_menu": {},
   "number_sections": true,
   "sideBar": true,
   "skip_h1_title": false,
   "title_cell": "Table of Contents",
   "title_sidebar": "Contents",
   "toc_cell": false,
   "toc_position": {},
   "toc_section_display": true,
   "toc_window_display": false
  },
  "varInspector": {
   "cols": {
    "lenName": 16,
    "lenType": 16,
    "lenVar": 40
   },
   "kernels_config": {
    "python": {
     "delete_cmd_postfix": "",
     "delete_cmd_prefix": "del ",
     "library": "var_list.py",
     "varRefreshCmd": "print(var_dic_list())"
    },
    "r": {
     "delete_cmd_postfix": ") ",
     "delete_cmd_prefix": "rm(",
     "library": "var_list.r",
     "varRefreshCmd": "cat(var_dic_list()) "
    }
   },
   "types_to_exclude": [
    "module",
    "function",
    "builtin_function_or_method",
    "instance",
    "_Feature"
   ],
   "window_display": false
  }
 },
 "nbformat": 4,
 "nbformat_minor": 4
}
