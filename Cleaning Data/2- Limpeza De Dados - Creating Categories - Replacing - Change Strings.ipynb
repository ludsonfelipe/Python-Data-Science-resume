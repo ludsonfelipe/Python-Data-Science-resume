{
 "cells": [
  {
   "cell_type": "code",
   "execution_count": 1,
   "metadata": {
    "ExecuteTime": {
     "end_time": "2022-08-25T18:51:54.176225Z",
     "start_time": "2022-08-25T18:51:53.118122Z"
    }
   },
   "outputs": [],
   "source": [
    "import warnings\n",
    "warnings.filterwarnings('ignore')\n",
    "import pandas as pd\n",
    "df_vendas = pd.DataFrame({'frutas':['Alface','Cebola','Amora','Maça','Cereja','Melão','Melão','MELÃO','Melancia'],\n",
    "                  'vendas':[2000,1500,3000,2200,1800,1750,2000,2430,3000]})\n",
    "\n",
    "frutas = {'manga','goiaba','amora','maça','cereja','melao','melancia'} "
   ]
  },
  {
   "cell_type": "code",
   "execution_count": 2,
   "metadata": {
    "ExecuteTime": {
     "end_time": "2022-08-25T18:51:55.391866Z",
     "start_time": "2022-08-25T18:51:55.366287Z"
    }
   },
   "outputs": [
    {
     "data": {
      "text/html": [
       "<div>\n",
       "<style scoped>\n",
       "    .dataframe tbody tr th:only-of-type {\n",
       "        vertical-align: middle;\n",
       "    }\n",
       "\n",
       "    .dataframe tbody tr th {\n",
       "        vertical-align: top;\n",
       "    }\n",
       "\n",
       "    .dataframe thead th {\n",
       "        text-align: right;\n",
       "    }\n",
       "</style>\n",
       "<table border=\"1\" class=\"dataframe\">\n",
       "  <thead>\n",
       "    <tr style=\"text-align: right;\">\n",
       "      <th></th>\n",
       "      <th>frutas</th>\n",
       "      <th>vendas</th>\n",
       "    </tr>\n",
       "  </thead>\n",
       "  <tbody>\n",
       "    <tr>\n",
       "      <th>0</th>\n",
       "      <td>Alface</td>\n",
       "      <td>2000</td>\n",
       "    </tr>\n",
       "    <tr>\n",
       "      <th>1</th>\n",
       "      <td>Cebola</td>\n",
       "      <td>1500</td>\n",
       "    </tr>\n",
       "    <tr>\n",
       "      <th>2</th>\n",
       "      <td>Amora</td>\n",
       "      <td>3000</td>\n",
       "    </tr>\n",
       "    <tr>\n",
       "      <th>3</th>\n",
       "      <td>Maça</td>\n",
       "      <td>2200</td>\n",
       "    </tr>\n",
       "    <tr>\n",
       "      <th>4</th>\n",
       "      <td>Cereja</td>\n",
       "      <td>1800</td>\n",
       "    </tr>\n",
       "    <tr>\n",
       "      <th>5</th>\n",
       "      <td>Melão</td>\n",
       "      <td>1750</td>\n",
       "    </tr>\n",
       "    <tr>\n",
       "      <th>6</th>\n",
       "      <td>Melão</td>\n",
       "      <td>2000</td>\n",
       "    </tr>\n",
       "    <tr>\n",
       "      <th>7</th>\n",
       "      <td>MELÃO</td>\n",
       "      <td>2430</td>\n",
       "    </tr>\n",
       "    <tr>\n",
       "      <th>8</th>\n",
       "      <td>Melancia</td>\n",
       "      <td>3000</td>\n",
       "    </tr>\n",
       "  </tbody>\n",
       "</table>\n",
       "</div>"
      ],
      "text/plain": [
       "     frutas  vendas\n",
       "0    Alface    2000\n",
       "1    Cebola    1500\n",
       "2     Amora    3000\n",
       "3      Maça    2200\n",
       "4    Cereja    1800\n",
       "5     Melão    1750\n",
       "6     Melão    2000\n",
       "7     MELÃO    2430\n",
       "8  Melancia    3000"
      ]
     },
     "execution_count": 2,
     "metadata": {},
     "output_type": "execute_result"
    }
   ],
   "source": [
    "df_vendas"
   ]
  },
  {
   "cell_type": "markdown",
   "metadata": {},
   "source": [
    "# Separando dados incorretos com base em outros corretos - set( ) - difference( )\n",
    "<p> É muito comum que queiramos separar nossos datasets, para que nossas analises façam sentido. </p>\n",
    "<p> Nesse exemplo para explicar as maneiras de separar e manipular nossos dados, faremos uma simulação de um dataset de vendas. </p> \n",
    "<p><b>No exemplo queremos ter em nossa base tipos de frutas para assim analisar sua venda, mas podemos ver que Cebola e Alface não são um tipo de fruta, solicitamos então ao gestor uma lista com todas frutas que são vendidas dentro do mercadinho, e com essa lista podemos efetuar essa filtragem.</b></p>"
   ]
  },
  {
   "cell_type": "markdown",
   "metadata": {},
   "source": [
    "<p>Nossos itens unicos da nossa coluna <b>frutas</b>:</p>"
   ]
  },
  {
   "cell_type": "code",
   "execution_count": 3,
   "metadata": {
    "ExecuteTime": {
     "end_time": "2022-08-25T18:51:56.703388Z",
     "start_time": "2022-08-25T18:51:56.684817Z"
    }
   },
   "outputs": [
    {
     "data": {
      "text/plain": [
       "{'Alface', 'Amora', 'Cebola', 'Cereja', 'MELÃO', 'Maça', 'Melancia', 'Melão'}"
      ]
     },
     "execution_count": 3,
     "metadata": {},
     "output_type": "execute_result"
    }
   ],
   "source": [
    "set(df_vendas['frutas']) "
   ]
  },
  {
   "cell_type": "markdown",
   "metadata": {},
   "source": [
    "<p>Todas frutas que podem ser vendidas na loja: </p>"
   ]
  },
  {
   "cell_type": "code",
   "execution_count": 4,
   "metadata": {
    "ExecuteTime": {
     "end_time": "2022-08-25T18:51:57.776280Z",
     "start_time": "2022-08-25T18:51:57.757309Z"
    }
   },
   "outputs": [
    {
     "data": {
      "text/plain": [
       "{'amora', 'cereja', 'goiaba', 'manga', 'maça', 'melancia', 'melao'}"
      ]
     },
     "execution_count": 4,
     "metadata": {},
     "output_type": "execute_result"
    }
   ],
   "source": [
    "frutas"
   ]
  },
  {
   "cell_type": "markdown",
   "metadata": {},
   "source": [
    "<p> Percebemos que além da cebola e alface que estão na categoria frutas, existem frutas que ainda não foram vendidas, mas deixa-las na lista é importante, pois futuramente elas poderão ser vendidas, e ter impacto na filtragem. </p>"
   ]
  },
  {
   "cell_type": "markdown",
   "metadata": {},
   "source": [
    "## Verificando formatação dos dados de uma coluna - contains ( )"
   ]
  },
  {
   "cell_type": "markdown",
   "metadata": {
    "ExecuteTime": {
     "end_time": "2021-07-30T21:28:22.652690Z",
     "start_time": "2021-07-30T21:28:22.507265Z"
    }
   },
   "source": [
    "<p>Dados podem ser salvos de diversas formas, porém... Para uma analise precisa é necessário que eles tenham um determinado padrão, assim como dados divididos em letras maiúsuclas e minúsculas, os dados que apresentam caracteres a mais ou a menos devem ser modificados, para que todos se tornem um mesmo padrão.</p>"
   ]
  },
  {
   "cell_type": "markdown",
   "metadata": {},
   "source": [
    "<p> Com <b>contains</b> podemos ver que temos dados com ~ dos quais devem ser padronizados, para que si encaixem com as frutas </p>"
   ]
  },
  {
   "cell_type": "code",
   "execution_count": 5,
   "metadata": {
    "ExecuteTime": {
     "end_time": "2022-08-25T18:51:59.453840Z",
     "start_time": "2022-08-25T18:51:59.437840Z"
    }
   },
   "outputs": [
    {
     "data": {
      "text/html": [
       "<div>\n",
       "<style scoped>\n",
       "    .dataframe tbody tr th:only-of-type {\n",
       "        vertical-align: middle;\n",
       "    }\n",
       "\n",
       "    .dataframe tbody tr th {\n",
       "        vertical-align: top;\n",
       "    }\n",
       "\n",
       "    .dataframe thead th {\n",
       "        text-align: right;\n",
       "    }\n",
       "</style>\n",
       "<table border=\"1\" class=\"dataframe\">\n",
       "  <thead>\n",
       "    <tr style=\"text-align: right;\">\n",
       "      <th></th>\n",
       "      <th>frutas</th>\n",
       "      <th>vendas</th>\n",
       "    </tr>\n",
       "  </thead>\n",
       "  <tbody>\n",
       "    <tr>\n",
       "      <th>5</th>\n",
       "      <td>Melão</td>\n",
       "      <td>1750</td>\n",
       "    </tr>\n",
       "    <tr>\n",
       "      <th>6</th>\n",
       "      <td>Melão</td>\n",
       "      <td>2000</td>\n",
       "    </tr>\n",
       "    <tr>\n",
       "      <th>7</th>\n",
       "      <td>MELÃO</td>\n",
       "      <td>2430</td>\n",
       "    </tr>\n",
       "  </tbody>\n",
       "</table>\n",
       "</div>"
      ],
      "text/plain": [
       "  frutas  vendas\n",
       "5  Melão    1750\n",
       "6  Melão    2000\n",
       "7  MELÃO    2430"
      ]
     },
     "execution_count": 5,
     "metadata": {},
     "output_type": "execute_result"
    }
   ],
   "source": [
    "df_vendas[df_vendas['frutas'].str.contains(\"ã|Ã\")]"
   ]
  },
  {
   "cell_type": "markdown",
   "metadata": {},
   "source": [
    "<p> Podemos substitui-las com o replace </p>"
   ]
  },
  {
   "cell_type": "code",
   "execution_count": 6,
   "metadata": {
    "ExecuteTime": {
     "end_time": "2022-08-25T18:52:00.841144Z",
     "start_time": "2022-08-25T18:52:00.821143Z"
    },
    "scrolled": true
   },
   "outputs": [
    {
     "data": {
      "text/html": [
       "<div>\n",
       "<style scoped>\n",
       "    .dataframe tbody tr th:only-of-type {\n",
       "        vertical-align: middle;\n",
       "    }\n",
       "\n",
       "    .dataframe tbody tr th {\n",
       "        vertical-align: top;\n",
       "    }\n",
       "\n",
       "    .dataframe thead th {\n",
       "        text-align: right;\n",
       "    }\n",
       "</style>\n",
       "<table border=\"1\" class=\"dataframe\">\n",
       "  <thead>\n",
       "    <tr style=\"text-align: right;\">\n",
       "      <th></th>\n",
       "      <th>frutas</th>\n",
       "      <th>vendas</th>\n",
       "    </tr>\n",
       "  </thead>\n",
       "  <tbody>\n",
       "    <tr>\n",
       "      <th>0</th>\n",
       "      <td>Alface</td>\n",
       "      <td>2000</td>\n",
       "    </tr>\n",
       "    <tr>\n",
       "      <th>1</th>\n",
       "      <td>Cebola</td>\n",
       "      <td>1500</td>\n",
       "    </tr>\n",
       "    <tr>\n",
       "      <th>2</th>\n",
       "      <td>Amora</td>\n",
       "      <td>3000</td>\n",
       "    </tr>\n",
       "    <tr>\n",
       "      <th>3</th>\n",
       "      <td>Maça</td>\n",
       "      <td>2200</td>\n",
       "    </tr>\n",
       "    <tr>\n",
       "      <th>4</th>\n",
       "      <td>Cereja</td>\n",
       "      <td>1800</td>\n",
       "    </tr>\n",
       "    <tr>\n",
       "      <th>5</th>\n",
       "      <td>Melao</td>\n",
       "      <td>1750</td>\n",
       "    </tr>\n",
       "    <tr>\n",
       "      <th>6</th>\n",
       "      <td>Melao</td>\n",
       "      <td>2000</td>\n",
       "    </tr>\n",
       "    <tr>\n",
       "      <th>7</th>\n",
       "      <td>MELaO</td>\n",
       "      <td>2430</td>\n",
       "    </tr>\n",
       "    <tr>\n",
       "      <th>8</th>\n",
       "      <td>Melancia</td>\n",
       "      <td>3000</td>\n",
       "    </tr>\n",
       "  </tbody>\n",
       "</table>\n",
       "</div>"
      ],
      "text/plain": [
       "     frutas  vendas\n",
       "0    Alface    2000\n",
       "1    Cebola    1500\n",
       "2     Amora    3000\n",
       "3      Maça    2200\n",
       "4    Cereja    1800\n",
       "5     Melao    1750\n",
       "6     Melao    2000\n",
       "7     MELaO    2430\n",
       "8  Melancia    3000"
      ]
     },
     "execution_count": 6,
     "metadata": {},
     "output_type": "execute_result"
    }
   ],
   "source": [
    "df_vendas['frutas'] = df_vendas['frutas'].str.replace(\"ã|Ã\",\"a\")\n",
    "df_vendas"
   ]
  },
  {
   "cell_type": "markdown",
   "metadata": {},
   "source": [
    "<p>Podemos também padronizar os dados com letras minúsculas </p>"
   ]
  },
  {
   "cell_type": "code",
   "execution_count": 7,
   "metadata": {
    "ExecuteTime": {
     "end_time": "2022-08-25T18:52:02.041070Z",
     "start_time": "2022-08-25T18:52:02.022069Z"
    }
   },
   "outputs": [
    {
     "data": {
      "text/html": [
       "<div>\n",
       "<style scoped>\n",
       "    .dataframe tbody tr th:only-of-type {\n",
       "        vertical-align: middle;\n",
       "    }\n",
       "\n",
       "    .dataframe tbody tr th {\n",
       "        vertical-align: top;\n",
       "    }\n",
       "\n",
       "    .dataframe thead th {\n",
       "        text-align: right;\n",
       "    }\n",
       "</style>\n",
       "<table border=\"1\" class=\"dataframe\">\n",
       "  <thead>\n",
       "    <tr style=\"text-align: right;\">\n",
       "      <th></th>\n",
       "      <th>frutas</th>\n",
       "      <th>vendas</th>\n",
       "    </tr>\n",
       "  </thead>\n",
       "  <tbody>\n",
       "    <tr>\n",
       "      <th>0</th>\n",
       "      <td>alface</td>\n",
       "      <td>2000</td>\n",
       "    </tr>\n",
       "    <tr>\n",
       "      <th>1</th>\n",
       "      <td>cebola</td>\n",
       "      <td>1500</td>\n",
       "    </tr>\n",
       "    <tr>\n",
       "      <th>2</th>\n",
       "      <td>amora</td>\n",
       "      <td>3000</td>\n",
       "    </tr>\n",
       "    <tr>\n",
       "      <th>3</th>\n",
       "      <td>maça</td>\n",
       "      <td>2200</td>\n",
       "    </tr>\n",
       "    <tr>\n",
       "      <th>4</th>\n",
       "      <td>cereja</td>\n",
       "      <td>1800</td>\n",
       "    </tr>\n",
       "    <tr>\n",
       "      <th>5</th>\n",
       "      <td>melao</td>\n",
       "      <td>1750</td>\n",
       "    </tr>\n",
       "    <tr>\n",
       "      <th>6</th>\n",
       "      <td>melao</td>\n",
       "      <td>2000</td>\n",
       "    </tr>\n",
       "    <tr>\n",
       "      <th>7</th>\n",
       "      <td>melao</td>\n",
       "      <td>2430</td>\n",
       "    </tr>\n",
       "    <tr>\n",
       "      <th>8</th>\n",
       "      <td>melancia</td>\n",
       "      <td>3000</td>\n",
       "    </tr>\n",
       "  </tbody>\n",
       "</table>\n",
       "</div>"
      ],
      "text/plain": [
       "     frutas  vendas\n",
       "0    alface    2000\n",
       "1    cebola    1500\n",
       "2     amora    3000\n",
       "3      maça    2200\n",
       "4    cereja    1800\n",
       "5     melao    1750\n",
       "6     melao    2000\n",
       "7     melao    2430\n",
       "8  melancia    3000"
      ]
     },
     "execution_count": 7,
     "metadata": {},
     "output_type": "execute_result"
    }
   ],
   "source": [
    "df_vendas['frutas'] = df_vendas['frutas'].str.lower()\n",
    "df_vendas"
   ]
  },
  {
   "cell_type": "markdown",
   "metadata": {},
   "source": [
    "<p> Agora que os dados estão padronizados podemos efetuar sua seleção </p>"
   ]
  },
  {
   "cell_type": "markdown",
   "metadata": {},
   "source": [
    "<b>DICA: podemos usar o .str.contains(\" palavra 1 | palavra 2 \").any() para verificar palavras no DF</b>"
   ]
  },
  {
   "cell_type": "markdown",
   "metadata": {},
   "source": [
    "## Efetuando filtragem"
   ]
  },
  {
   "cell_type": "markdown",
   "metadata": {},
   "source": [
    "\n",
    "<p><b><i>1- Passo</i></b>: Transformamos os dados a serem analisados em <b>SET</b>, para que assim eles apresentem seus valores de maneira unica. </p>\n",
    "<p><b><i>2- Passo</i></b>: Usamos o método <b>.difference( )</b> de <b>SET</b> com a nossa lista de frutas possiveis. </p>\n",
    "\n",
    "```python\n",
    "SET(df['coluna analisada']).difference(df['coluna dados corretos'])\n",
    "```"
   ]
  },
  {
   "cell_type": "code",
   "execution_count": 8,
   "metadata": {
    "ExecuteTime": {
     "end_time": "2022-08-25T18:52:04.436115Z",
     "start_time": "2022-08-25T18:52:04.421115Z"
    }
   },
   "outputs": [
    {
     "data": {
      "text/plain": [
       "{'alface', 'cebola'}"
      ]
     },
     "execution_count": 8,
     "metadata": {},
     "output_type": "execute_result"
    }
   ],
   "source": [
    "set(df_vendas['frutas']).difference(frutas) "
   ]
  },
  {
   "cell_type": "markdown",
   "metadata": {},
   "source": [
    "<p><b><i>3- Passo</i></b>: Com isso receberemos como resposta, os dados que estão diferentes do dataset analisado aos dados que são possíveis e corretos.</p>\n",
    "<p><b><i>4- Passo</i></b>:\n",
    "\tPodemos então utilizar o <b>isin( )</b> para localizar as linhas em que os dados errados se encontram e utilizar o <i>~</i> para selecionar as linhas em que os dados errados não se encontram. </p>"
   ]
  },
  {
   "cell_type": "code",
   "execution_count": 9,
   "metadata": {
    "ExecuteTime": {
     "end_time": "2022-08-25T18:52:05.835358Z",
     "start_time": "2022-08-25T18:52:05.813357Z"
    }
   },
   "outputs": [
    {
     "data": {
      "text/html": [
       "<div>\n",
       "<style scoped>\n",
       "    .dataframe tbody tr th:only-of-type {\n",
       "        vertical-align: middle;\n",
       "    }\n",
       "\n",
       "    .dataframe tbody tr th {\n",
       "        vertical-align: top;\n",
       "    }\n",
       "\n",
       "    .dataframe thead th {\n",
       "        text-align: right;\n",
       "    }\n",
       "</style>\n",
       "<table border=\"1\" class=\"dataframe\">\n",
       "  <thead>\n",
       "    <tr style=\"text-align: right;\">\n",
       "      <th></th>\n",
       "      <th>frutas</th>\n",
       "      <th>vendas</th>\n",
       "    </tr>\n",
       "  </thead>\n",
       "  <tbody>\n",
       "    <tr>\n",
       "      <th>2</th>\n",
       "      <td>amora</td>\n",
       "      <td>3000</td>\n",
       "    </tr>\n",
       "    <tr>\n",
       "      <th>3</th>\n",
       "      <td>maça</td>\n",
       "      <td>2200</td>\n",
       "    </tr>\n",
       "    <tr>\n",
       "      <th>4</th>\n",
       "      <td>cereja</td>\n",
       "      <td>1800</td>\n",
       "    </tr>\n",
       "    <tr>\n",
       "      <th>5</th>\n",
       "      <td>melao</td>\n",
       "      <td>1750</td>\n",
       "    </tr>\n",
       "    <tr>\n",
       "      <th>6</th>\n",
       "      <td>melao</td>\n",
       "      <td>2000</td>\n",
       "    </tr>\n",
       "    <tr>\n",
       "      <th>7</th>\n",
       "      <td>melao</td>\n",
       "      <td>2430</td>\n",
       "    </tr>\n",
       "    <tr>\n",
       "      <th>8</th>\n",
       "      <td>melancia</td>\n",
       "      <td>3000</td>\n",
       "    </tr>\n",
       "  </tbody>\n",
       "</table>\n",
       "</div>"
      ],
      "text/plain": [
       "     frutas  vendas\n",
       "2     amora    3000\n",
       "3      maça    2200\n",
       "4    cereja    1800\n",
       "5     melao    1750\n",
       "6     melao    2000\n",
       "7     melao    2430\n",
       "8  melancia    3000"
      ]
     },
     "execution_count": 9,
     "metadata": {},
     "output_type": "execute_result"
    }
   ],
   "source": [
    "df_frutas = df_vendas[~df_vendas['frutas'].isin(set(df_vendas['frutas']).difference(frutas))]\n",
    "df_frutas"
   ]
  },
  {
   "cell_type": "markdown",
   "metadata": {},
   "source": [
    "<p> Temos assim nosso dataset limpo, sem itens que não sejam frutas. </p>"
   ]
  },
  {
   "attachments": {
    "image.png": {
     "image/png": "[encoded data removed]"
    }
   },
   "cell_type": "markdown",
   "metadata": {},
   "source": [
    "![image.png](attachment:image.png)"
   ]
  },
  {
   "cell_type": "markdown",
   "metadata": {
    "ExecuteTime": {
     "end_time": "2021-07-30T20:21:12.959342Z",
     "start_time": "2021-07-30T20:21:12.955437Z"
    }
   },
   "source": [
    "# Separando para categoriza-los. - cut( ) - qcut( )\n",
    "<p> Quando temos dados numericos podemos transforma-los em categorias, para que assim seja mais fácil sua visualização. </p>\n",
    "<p> Podemos separar as quantidades de vendas em ranges de valores <b>cut.</b> </p>\n",
    "<p> Podemos separar as quantidades de vendas por quantis <b>qcut.</b></p>\n",
    "<p> Podemos separar as quantidades de vendas de produtos que venderam acima de 2000 e abaixo de 2000 <b>booleano.</b> </p>"
   ]
  },
  {
   "cell_type": "code",
   "execution_count": 10,
   "metadata": {
    "ExecuteTime": {
     "end_time": "2022-08-25T18:52:07.781798Z",
     "start_time": "2022-08-25T18:52:07.765828Z"
    }
   },
   "outputs": [
    {
     "data": {
      "text/html": [
       "<div>\n",
       "<style scoped>\n",
       "    .dataframe tbody tr th:only-of-type {\n",
       "        vertical-align: middle;\n",
       "    }\n",
       "\n",
       "    .dataframe tbody tr th {\n",
       "        vertical-align: top;\n",
       "    }\n",
       "\n",
       "    .dataframe thead th {\n",
       "        text-align: right;\n",
       "    }\n",
       "</style>\n",
       "<table border=\"1\" class=\"dataframe\">\n",
       "  <thead>\n",
       "    <tr style=\"text-align: right;\">\n",
       "      <th></th>\n",
       "      <th>frutas</th>\n",
       "      <th>vendas</th>\n",
       "    </tr>\n",
       "  </thead>\n",
       "  <tbody>\n",
       "    <tr>\n",
       "      <th>2</th>\n",
       "      <td>amora</td>\n",
       "      <td>3000</td>\n",
       "    </tr>\n",
       "    <tr>\n",
       "      <th>3</th>\n",
       "      <td>maça</td>\n",
       "      <td>2200</td>\n",
       "    </tr>\n",
       "    <tr>\n",
       "      <th>4</th>\n",
       "      <td>cereja</td>\n",
       "      <td>1800</td>\n",
       "    </tr>\n",
       "    <tr>\n",
       "      <th>5</th>\n",
       "      <td>melao</td>\n",
       "      <td>1750</td>\n",
       "    </tr>\n",
       "    <tr>\n",
       "      <th>6</th>\n",
       "      <td>melao</td>\n",
       "      <td>2000</td>\n",
       "    </tr>\n",
       "    <tr>\n",
       "      <th>7</th>\n",
       "      <td>melao</td>\n",
       "      <td>2430</td>\n",
       "    </tr>\n",
       "    <tr>\n",
       "      <th>8</th>\n",
       "      <td>melancia</td>\n",
       "      <td>3000</td>\n",
       "    </tr>\n",
       "  </tbody>\n",
       "</table>\n",
       "</div>"
      ],
      "text/plain": [
       "     frutas  vendas\n",
       "2     amora    3000\n",
       "3      maça    2200\n",
       "4    cereja    1800\n",
       "5     melao    1750\n",
       "6     melao    2000\n",
       "7     melao    2430\n",
       "8  melancia    3000"
      ]
     },
     "execution_count": 10,
     "metadata": {},
     "output_type": "execute_result"
    }
   ],
   "source": [
    "df_frutas"
   ]
  },
  {
   "cell_type": "markdown",
   "metadata": {},
   "source": [
    "<p> Separamos os dados em 3 ranges diferentes com <b>CUT</b> </p>"
   ]
  },
  {
   "cell_type": "code",
   "execution_count": 11,
   "metadata": {
    "ExecuteTime": {
     "end_time": "2022-08-25T18:52:08.890969Z",
     "start_time": "2022-08-25T18:52:08.877995Z"
    }
   },
   "outputs": [
    {
     "data": {
      "text/html": [
       "<div>\n",
       "<style scoped>\n",
       "    .dataframe tbody tr th:only-of-type {\n",
       "        vertical-align: middle;\n",
       "    }\n",
       "\n",
       "    .dataframe tbody tr th {\n",
       "        vertical-align: top;\n",
       "    }\n",
       "\n",
       "    .dataframe thead th {\n",
       "        text-align: right;\n",
       "    }\n",
       "</style>\n",
       "<table border=\"1\" class=\"dataframe\">\n",
       "  <thead>\n",
       "    <tr style=\"text-align: right;\">\n",
       "      <th></th>\n",
       "      <th>frutas</th>\n",
       "      <th>vendas</th>\n",
       "      <th>cut_vendas</th>\n",
       "    </tr>\n",
       "  </thead>\n",
       "  <tbody>\n",
       "    <tr>\n",
       "      <th>2</th>\n",
       "      <td>amora</td>\n",
       "      <td>3000</td>\n",
       "      <td>C</td>\n",
       "    </tr>\n",
       "    <tr>\n",
       "      <th>3</th>\n",
       "      <td>maça</td>\n",
       "      <td>2200</td>\n",
       "      <td>B</td>\n",
       "    </tr>\n",
       "    <tr>\n",
       "      <th>4</th>\n",
       "      <td>cereja</td>\n",
       "      <td>1800</td>\n",
       "      <td>A</td>\n",
       "    </tr>\n",
       "    <tr>\n",
       "      <th>5</th>\n",
       "      <td>melao</td>\n",
       "      <td>1750</td>\n",
       "      <td>A</td>\n",
       "    </tr>\n",
       "    <tr>\n",
       "      <th>6</th>\n",
       "      <td>melao</td>\n",
       "      <td>2000</td>\n",
       "      <td>A</td>\n",
       "    </tr>\n",
       "    <tr>\n",
       "      <th>7</th>\n",
       "      <td>melao</td>\n",
       "      <td>2430</td>\n",
       "      <td>B</td>\n",
       "    </tr>\n",
       "    <tr>\n",
       "      <th>8</th>\n",
       "      <td>melancia</td>\n",
       "      <td>3000</td>\n",
       "      <td>C</td>\n",
       "    </tr>\n",
       "  </tbody>\n",
       "</table>\n",
       "</div>"
      ],
      "text/plain": [
       "     frutas  vendas cut_vendas\n",
       "2     amora    3000          C\n",
       "3      maça    2200          B\n",
       "4    cereja    1800          A\n",
       "5     melao    1750          A\n",
       "6     melao    2000          A\n",
       "7     melao    2430          B\n",
       "8  melancia    3000          C"
      ]
     },
     "execution_count": 11,
     "metadata": {},
     "output_type": "execute_result"
    }
   ],
   "source": [
    "df_frutas['cut_vendas'] = pd.cut(df_frutas['vendas'],bins = 3,labels = ['A','B','C'])\n",
    "df_frutas"
   ]
  },
  {
   "cell_type": "markdown",
   "metadata": {},
   "source": [
    "<p> Separamos os dados em 3 quantis diferentes com <b>QCUT</b> </p>"
   ]
  },
  {
   "cell_type": "code",
   "execution_count": 12,
   "metadata": {
    "ExecuteTime": {
     "end_time": "2022-08-25T18:52:09.993957Z",
     "start_time": "2022-08-25T18:52:09.974136Z"
    }
   },
   "outputs": [
    {
     "data": {
      "text/html": [
       "<div>\n",
       "<style scoped>\n",
       "    .dataframe tbody tr th:only-of-type {\n",
       "        vertical-align: middle;\n",
       "    }\n",
       "\n",
       "    .dataframe tbody tr th {\n",
       "        vertical-align: top;\n",
       "    }\n",
       "\n",
       "    .dataframe thead th {\n",
       "        text-align: right;\n",
       "    }\n",
       "</style>\n",
       "<table border=\"1\" class=\"dataframe\">\n",
       "  <thead>\n",
       "    <tr style=\"text-align: right;\">\n",
       "      <th></th>\n",
       "      <th>frutas</th>\n",
       "      <th>vendas</th>\n",
       "      <th>cut_vendas</th>\n",
       "      <th>qcut_vendas</th>\n",
       "    </tr>\n",
       "  </thead>\n",
       "  <tbody>\n",
       "    <tr>\n",
       "      <th>2</th>\n",
       "      <td>amora</td>\n",
       "      <td>3000</td>\n",
       "      <td>C</td>\n",
       "      <td>C</td>\n",
       "    </tr>\n",
       "    <tr>\n",
       "      <th>3</th>\n",
       "      <td>maça</td>\n",
       "      <td>2200</td>\n",
       "      <td>B</td>\n",
       "      <td>B</td>\n",
       "    </tr>\n",
       "    <tr>\n",
       "      <th>4</th>\n",
       "      <td>cereja</td>\n",
       "      <td>1800</td>\n",
       "      <td>A</td>\n",
       "      <td>A</td>\n",
       "    </tr>\n",
       "    <tr>\n",
       "      <th>5</th>\n",
       "      <td>melao</td>\n",
       "      <td>1750</td>\n",
       "      <td>A</td>\n",
       "      <td>A</td>\n",
       "    </tr>\n",
       "    <tr>\n",
       "      <th>6</th>\n",
       "      <td>melao</td>\n",
       "      <td>2000</td>\n",
       "      <td>A</td>\n",
       "      <td>A</td>\n",
       "    </tr>\n",
       "    <tr>\n",
       "      <th>7</th>\n",
       "      <td>melao</td>\n",
       "      <td>2430</td>\n",
       "      <td>B</td>\n",
       "      <td>B</td>\n",
       "    </tr>\n",
       "    <tr>\n",
       "      <th>8</th>\n",
       "      <td>melancia</td>\n",
       "      <td>3000</td>\n",
       "      <td>C</td>\n",
       "      <td>C</td>\n",
       "    </tr>\n",
       "  </tbody>\n",
       "</table>\n",
       "</div>"
      ],
      "text/plain": [
       "     frutas  vendas cut_vendas qcut_vendas\n",
       "2     amora    3000          C           C\n",
       "3      maça    2200          B           B\n",
       "4    cereja    1800          A           A\n",
       "5     melao    1750          A           A\n",
       "6     melao    2000          A           A\n",
       "7     melao    2430          B           B\n",
       "8  melancia    3000          C           C"
      ]
     },
     "execution_count": 12,
     "metadata": {},
     "output_type": "execute_result"
    }
   ],
   "source": [
    "df_frutas['qcut_vendas'] = pd.qcut(df_frutas['vendas'],q = 3,labels = ['A','B','C'])\n",
    "df_frutas"
   ]
  },
  {
   "cell_type": "markdown",
   "metadata": {},
   "source": [
    "<p> Separamos os dados com mais de 2000 vendas e menos de 2000 vendas com <b>loc</b> </p>"
   ]
  },
  {
   "cell_type": "code",
   "execution_count": 13,
   "metadata": {
    "ExecuteTime": {
     "end_time": "2022-08-25T18:52:10.802980Z",
     "start_time": "2022-08-25T18:52:10.781980Z"
    }
   },
   "outputs": [
    {
     "data": {
      "text/html": [
       "<div>\n",
       "<style scoped>\n",
       "    .dataframe tbody tr th:only-of-type {\n",
       "        vertical-align: middle;\n",
       "    }\n",
       "\n",
       "    .dataframe tbody tr th {\n",
       "        vertical-align: top;\n",
       "    }\n",
       "\n",
       "    .dataframe thead th {\n",
       "        text-align: right;\n",
       "    }\n",
       "</style>\n",
       "<table border=\"1\" class=\"dataframe\">\n",
       "  <thead>\n",
       "    <tr style=\"text-align: right;\">\n",
       "      <th></th>\n",
       "      <th>frutas</th>\n",
       "      <th>vendas</th>\n",
       "      <th>cut_vendas</th>\n",
       "      <th>qcut_vendas</th>\n",
       "      <th>booleano_vendas</th>\n",
       "    </tr>\n",
       "  </thead>\n",
       "  <tbody>\n",
       "    <tr>\n",
       "      <th>2</th>\n",
       "      <td>amora</td>\n",
       "      <td>3000</td>\n",
       "      <td>C</td>\n",
       "      <td>C</td>\n",
       "      <td>&gt;2000</td>\n",
       "    </tr>\n",
       "    <tr>\n",
       "      <th>3</th>\n",
       "      <td>maça</td>\n",
       "      <td>2200</td>\n",
       "      <td>B</td>\n",
       "      <td>B</td>\n",
       "      <td>&gt;2000</td>\n",
       "    </tr>\n",
       "    <tr>\n",
       "      <th>4</th>\n",
       "      <td>cereja</td>\n",
       "      <td>1800</td>\n",
       "      <td>A</td>\n",
       "      <td>A</td>\n",
       "      <td>&lt;2000</td>\n",
       "    </tr>\n",
       "    <tr>\n",
       "      <th>5</th>\n",
       "      <td>melao</td>\n",
       "      <td>1750</td>\n",
       "      <td>A</td>\n",
       "      <td>A</td>\n",
       "      <td>&lt;2000</td>\n",
       "    </tr>\n",
       "    <tr>\n",
       "      <th>6</th>\n",
       "      <td>melao</td>\n",
       "      <td>2000</td>\n",
       "      <td>A</td>\n",
       "      <td>A</td>\n",
       "      <td>&gt;2000</td>\n",
       "    </tr>\n",
       "    <tr>\n",
       "      <th>7</th>\n",
       "      <td>melao</td>\n",
       "      <td>2430</td>\n",
       "      <td>B</td>\n",
       "      <td>B</td>\n",
       "      <td>&gt;2000</td>\n",
       "    </tr>\n",
       "    <tr>\n",
       "      <th>8</th>\n",
       "      <td>melancia</td>\n",
       "      <td>3000</td>\n",
       "      <td>C</td>\n",
       "      <td>C</td>\n",
       "      <td>&gt;2000</td>\n",
       "    </tr>\n",
       "  </tbody>\n",
       "</table>\n",
       "</div>"
      ],
      "text/plain": [
       "     frutas  vendas cut_vendas qcut_vendas booleano_vendas\n",
       "2     amora    3000          C           C           >2000\n",
       "3      maça    2200          B           B           >2000\n",
       "4    cereja    1800          A           A           <2000\n",
       "5     melao    1750          A           A           <2000\n",
       "6     melao    2000          A           A           >2000\n",
       "7     melao    2430          B           B           >2000\n",
       "8  melancia    3000          C           C           >2000"
      ]
     },
     "execution_count": 13,
     "metadata": {},
     "output_type": "execute_result"
    }
   ],
   "source": [
    "df_frutas.loc[df_frutas['vendas']>=2000,'booleano_vendas'] = '>2000'\n",
    "df_frutas.loc[df_frutas['vendas']<2000,'booleano_vendas'] = '<2000'\n",
    "df_frutas"
   ]
  },
  {
   "cell_type": "markdown",
   "metadata": {},
   "source": [
    "<p> Maneiras de aplicar a separação. </p>"
   ]
  },
  {
   "cell_type": "markdown",
   "metadata": {},
   "source": [
    "Syntax\n",
    "```python\n",
    "# usando qcut e separando com base em quantis\n",
    "df['col nova'] = pd.qcut(df['col'],q = quantidades de quantis , labels = ['nomes_das_separações'])\n",
    "\n",
    "# usando cut e separando com base em bins\n",
    "df['col nova'] = pd.cut(df['col'], bins = valores_de_separação, labels = ['nomes_das_separações'])\n",
    "\n",
    "# Outra opção\n",
    "df.loc[ df['col'] > parametro, df['col nova'] = nome_da_categoria\n",
    "```"
   ]
  },
  {
   "cell_type": "markdown",
   "metadata": {},
   "source": [
    "# Categorizar numericamente nossas categorias\n",
    "<p> Muitas vezes para alguns objetivos, queremos que nossas variáveis tenham valor numerico, para isso podemos utilizar o map ou replace para remapealas ou o label encoder para encoda-las. </p>"
   ]
  },
  {
   "cell_type": "markdown",
   "metadata": {},
   "source": [
    "Replacing ou Mapping"
   ]
  },
  {
   "cell_type": "code",
   "execution_count": 14,
   "metadata": {
    "ExecuteTime": {
     "end_time": "2022-08-25T18:52:15.441711Z",
     "start_time": "2022-08-25T18:52:15.421685Z"
    }
   },
   "outputs": [
    {
     "data": {
      "text/html": [
       "<div>\n",
       "<style scoped>\n",
       "    .dataframe tbody tr th:only-of-type {\n",
       "        vertical-align: middle;\n",
       "    }\n",
       "\n",
       "    .dataframe tbody tr th {\n",
       "        vertical-align: top;\n",
       "    }\n",
       "\n",
       "    .dataframe thead th {\n",
       "        text-align: right;\n",
       "    }\n",
       "</style>\n",
       "<table border=\"1\" class=\"dataframe\">\n",
       "  <thead>\n",
       "    <tr style=\"text-align: right;\">\n",
       "      <th></th>\n",
       "      <th>frutas</th>\n",
       "      <th>vendas</th>\n",
       "      <th>cut_vendas</th>\n",
       "      <th>qcut_vendas</th>\n",
       "      <th>booleano_vendas</th>\n",
       "      <th>vendas_mapeadas</th>\n",
       "    </tr>\n",
       "  </thead>\n",
       "  <tbody>\n",
       "    <tr>\n",
       "      <th>2</th>\n",
       "      <td>amora</td>\n",
       "      <td>3000</td>\n",
       "      <td>C</td>\n",
       "      <td>C</td>\n",
       "      <td>&gt;2000</td>\n",
       "      <td>1</td>\n",
       "    </tr>\n",
       "    <tr>\n",
       "      <th>3</th>\n",
       "      <td>maça</td>\n",
       "      <td>2200</td>\n",
       "      <td>B</td>\n",
       "      <td>B</td>\n",
       "      <td>&gt;2000</td>\n",
       "      <td>1</td>\n",
       "    </tr>\n",
       "    <tr>\n",
       "      <th>4</th>\n",
       "      <td>cereja</td>\n",
       "      <td>1800</td>\n",
       "      <td>A</td>\n",
       "      <td>A</td>\n",
       "      <td>&lt;2000</td>\n",
       "      <td>0</td>\n",
       "    </tr>\n",
       "    <tr>\n",
       "      <th>5</th>\n",
       "      <td>melao</td>\n",
       "      <td>1750</td>\n",
       "      <td>A</td>\n",
       "      <td>A</td>\n",
       "      <td>&lt;2000</td>\n",
       "      <td>0</td>\n",
       "    </tr>\n",
       "    <tr>\n",
       "      <th>6</th>\n",
       "      <td>melao</td>\n",
       "      <td>2000</td>\n",
       "      <td>A</td>\n",
       "      <td>A</td>\n",
       "      <td>&gt;2000</td>\n",
       "      <td>1</td>\n",
       "    </tr>\n",
       "    <tr>\n",
       "      <th>7</th>\n",
       "      <td>melao</td>\n",
       "      <td>2430</td>\n",
       "      <td>B</td>\n",
       "      <td>B</td>\n",
       "      <td>&gt;2000</td>\n",
       "      <td>1</td>\n",
       "    </tr>\n",
       "    <tr>\n",
       "      <th>8</th>\n",
       "      <td>melancia</td>\n",
       "      <td>3000</td>\n",
       "      <td>C</td>\n",
       "      <td>C</td>\n",
       "      <td>&gt;2000</td>\n",
       "      <td>1</td>\n",
       "    </tr>\n",
       "  </tbody>\n",
       "</table>\n",
       "</div>"
      ],
      "text/plain": [
       "     frutas  vendas cut_vendas qcut_vendas booleano_vendas  vendas_mapeadas\n",
       "2     amora    3000          C           C           >2000                1\n",
       "3      maça    2200          B           B           >2000                1\n",
       "4    cereja    1800          A           A           <2000                0\n",
       "5     melao    1750          A           A           <2000                0\n",
       "6     melao    2000          A           A           >2000                1\n",
       "7     melao    2430          B           B           >2000                1\n",
       "8  melancia    3000          C           C           >2000                1"
      ]
     },
     "execution_count": 14,
     "metadata": {},
     "output_type": "execute_result"
    }
   ],
   "source": [
    "mapa = {'>2000':1,'<2000':0}\n",
    "df_frutas['vendas_mapeadas'] = df_frutas['booleano_vendas'].replace(mapa) # podemos usar o map ao invés do replace\n",
    "df_frutas"
   ]
  },
  {
   "cell_type": "markdown",
   "metadata": {},
   "source": [
    "<p> Também podemos encodar as variaveis com LabelEncoder </p>"
   ]
  },
  {
   "cell_type": "code",
   "execution_count": 15,
   "metadata": {
    "ExecuteTime": {
     "end_time": "2022-08-25T18:52:17.623574Z",
     "start_time": "2022-08-25T18:52:16.550059Z"
    }
   },
   "outputs": [
    {
     "data": {
      "text/html": [
       "<div>\n",
       "<style scoped>\n",
       "    .dataframe tbody tr th:only-of-type {\n",
       "        vertical-align: middle;\n",
       "    }\n",
       "\n",
       "    .dataframe tbody tr th {\n",
       "        vertical-align: top;\n",
       "    }\n",
       "\n",
       "    .dataframe thead th {\n",
       "        text-align: right;\n",
       "    }\n",
       "</style>\n",
       "<table border=\"1\" class=\"dataframe\">\n",
       "  <thead>\n",
       "    <tr style=\"text-align: right;\">\n",
       "      <th></th>\n",
       "      <th>frutas</th>\n",
       "      <th>vendas</th>\n",
       "      <th>cut_vendas</th>\n",
       "      <th>qcut_vendas</th>\n",
       "      <th>booleano_vendas</th>\n",
       "      <th>vendas_mapeadas</th>\n",
       "      <th>encoding</th>\n",
       "    </tr>\n",
       "  </thead>\n",
       "  <tbody>\n",
       "    <tr>\n",
       "      <th>2</th>\n",
       "      <td>amora</td>\n",
       "      <td>3000</td>\n",
       "      <td>C</td>\n",
       "      <td>C</td>\n",
       "      <td>&gt;2000</td>\n",
       "      <td>1</td>\n",
       "      <td>1</td>\n",
       "    </tr>\n",
       "    <tr>\n",
       "      <th>3</th>\n",
       "      <td>maça</td>\n",
       "      <td>2200</td>\n",
       "      <td>B</td>\n",
       "      <td>B</td>\n",
       "      <td>&gt;2000</td>\n",
       "      <td>1</td>\n",
       "      <td>1</td>\n",
       "    </tr>\n",
       "    <tr>\n",
       "      <th>4</th>\n",
       "      <td>cereja</td>\n",
       "      <td>1800</td>\n",
       "      <td>A</td>\n",
       "      <td>A</td>\n",
       "      <td>&lt;2000</td>\n",
       "      <td>0</td>\n",
       "      <td>0</td>\n",
       "    </tr>\n",
       "    <tr>\n",
       "      <th>5</th>\n",
       "      <td>melao</td>\n",
       "      <td>1750</td>\n",
       "      <td>A</td>\n",
       "      <td>A</td>\n",
       "      <td>&lt;2000</td>\n",
       "      <td>0</td>\n",
       "      <td>0</td>\n",
       "    </tr>\n",
       "    <tr>\n",
       "      <th>6</th>\n",
       "      <td>melao</td>\n",
       "      <td>2000</td>\n",
       "      <td>A</td>\n",
       "      <td>A</td>\n",
       "      <td>&gt;2000</td>\n",
       "      <td>1</td>\n",
       "      <td>1</td>\n",
       "    </tr>\n",
       "    <tr>\n",
       "      <th>7</th>\n",
       "      <td>melao</td>\n",
       "      <td>2430</td>\n",
       "      <td>B</td>\n",
       "      <td>B</td>\n",
       "      <td>&gt;2000</td>\n",
       "      <td>1</td>\n",
       "      <td>1</td>\n",
       "    </tr>\n",
       "    <tr>\n",
       "      <th>8</th>\n",
       "      <td>melancia</td>\n",
       "      <td>3000</td>\n",
       "      <td>C</td>\n",
       "      <td>C</td>\n",
       "      <td>&gt;2000</td>\n",
       "      <td>1</td>\n",
       "      <td>1</td>\n",
       "    </tr>\n",
       "  </tbody>\n",
       "</table>\n",
       "</div>"
      ],
      "text/plain": [
       "     frutas  vendas cut_vendas qcut_vendas booleano_vendas  vendas_mapeadas  \\\n",
       "2     amora    3000          C           C           >2000                1   \n",
       "3      maça    2200          B           B           >2000                1   \n",
       "4    cereja    1800          A           A           <2000                0   \n",
       "5     melao    1750          A           A           <2000                0   \n",
       "6     melao    2000          A           A           >2000                1   \n",
       "7     melao    2430          B           B           >2000                1   \n",
       "8  melancia    3000          C           C           >2000                1   \n",
       "\n",
       "   encoding  \n",
       "2         1  \n",
       "3         1  \n",
       "4         0  \n",
       "5         0  \n",
       "6         1  \n",
       "7         1  \n",
       "8         1  "
      ]
     },
     "execution_count": 15,
     "metadata": {},
     "output_type": "execute_result"
    }
   ],
   "source": [
    "from sklearn.preprocessing import LabelEncoder\n",
    "\n",
    "le = LabelEncoder()\n",
    "encoding = le.fit_transform(df_frutas['booleano_vendas'])\n",
    "df_frutas['encoding'] = encoding\n",
    "df_frutas"
   ]
  },
  {
   "cell_type": "markdown",
   "metadata": {},
   "source": [
    "<p> RESULTADOS </p>"
   ]
  },
  {
   "cell_type": "code",
   "execution_count": 16,
   "metadata": {
    "ExecuteTime": {
     "end_time": "2022-08-25T18:52:19.613162Z",
     "start_time": "2022-08-25T18:52:18.853651Z"
    }
   },
   "outputs": [
    {
     "data": {
      "image/png": "[encoded data removed]",
      "text/plain": [
       "<Figure size 432x288 with 1 Axes>"
      ]
     },
     "metadata": {
      "needs_background": "light"
     },
     "output_type": "display_data"
    },
    {
     "data": {
      "image/png": "[encoded data removed]",
      "text/plain": [
       "<Figure size 432x288 with 1 Axes>"
      ]
     },
     "metadata": {
      "needs_background": "light"
     },
     "output_type": "display_data"
    }
   ],
   "source": [
    "import seaborn as sns\n",
    "import matplotlib.pyplot as plt\n",
    "df_grouped = df_frutas.groupby('frutas',as_index=False).sum()\n",
    "df_grouped_b = df_frutas.groupby('booleano_vendas',as_index=False).sum()\n",
    "sns.barplot(x='frutas',y='vendas',data=df_grouped)\n",
    "plt.show()\n",
    "sns.countplot(x='booleano_vendas',data=df_frutas)\n",
    "plt.show()"
   ]
  },
  {
   "cell_type": "markdown",
   "metadata": {
    "ExecuteTime": {
     "end_time": "2021-07-30T20:34:56.753151Z",
     "start_time": "2021-07-30T20:34:56.738485Z"
    }
   },
   "source": [
    "<p><b>Dica: podemos usar o np.nan quando queremos atribuir o valor nan a alguma replace</b></p>\n",
    "</div>"
   ]
  }
 ],
 "metadata": {
  "kernelspec": {
   "display_name": "Python 3 (ipykernel)",
   "language": "python",
   "name": "python3"
  },
  "language_info": {
   "codemirror_mode": {
    "name": "ipython",
    "version": 3
   },
   "file_extension": ".py",
   "mimetype": "text/x-python",
   "name": "python",
   "nbconvert_exporter": "python",
   "pygments_lexer": "ipython3",
   "version": "3.9.7"
  },
  "toc": {
   "base_numbering": 1,
   "nav_menu": {},
   "number_sections": true,
   "sideBar": true,
   "skip_h1_title": false,
   "title_cell": "Table of Contents",
   "title_sidebar": "Contents",
   "toc_cell": false,
   "toc_position": {},
   "toc_section_display": true,
   "toc_window_display": false
  },
  "varInspector": {
   "cols": {
    "lenName": 16,
    "lenType": 16,
    "lenVar": 40
   },
   "kernels_config": {
    "python": {
     "delete_cmd_postfix": "",
     "delete_cmd_prefix": "del ",
     "library": "var_list.py",
     "varRefreshCmd": "print(var_dic_list())"
    },
    "r": {
     "delete_cmd_postfix": ") ",
     "delete_cmd_prefix": "rm(",
     "library": "var_list.r",
     "varRefreshCmd": "cat(var_dic_list()) "
    }
   },
   "types_to_exclude": [
    "module",
    "function",
    "builtin_function_or_method",
    "instance",
    "_Feature"
   ],
   "window_display": false
  }
 },
 "nbformat": 4,
 "nbformat_minor": 4
}
