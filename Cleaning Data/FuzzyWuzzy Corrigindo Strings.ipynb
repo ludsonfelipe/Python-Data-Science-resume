{
 "cells": [
  {
   "cell_type": "code",
   "execution_count": 8,
   "metadata": {
    "ExecuteTime": {
     "end_time": "2022-08-18T19:44:54.351788Z",
     "start_time": "2022-08-18T19:44:53.223492Z"
    }
   },
   "outputs": [
    {
     "name": "stderr",
     "output_type": "stream",
     "text": [
      "C:\\Users\\felip\\anaconda3\\lib\\site-packages\\fuzzywuzzy\\fuzz.py:11: UserWarning: Using slow pure-python SequenceMatcher. Install python-Levenshtein to remove this warning\n",
      "  warnings.warn('Using slow pure-python SequenceMatcher. Install python-Levenshtein to remove this warning')\n"
     ]
    }
   ],
   "source": [
    "from fuzzywuzzy import fuzz\n",
    "import pandas as pd\n",
    "from fuzzywuzzy import process"
   ]
  },
  {
   "cell_type": "markdown",
   "metadata": {},
   "source": [
    "# Lidando com strings confusas"
   ]
  },
  {
   "cell_type": "markdown",
   "metadata": {
    "ExecuteTime": {
     "end_time": "2022-08-18T19:37:02.854871Z",
     "start_time": "2022-08-18T19:37:02.835871Z"
    }
   },
   "source": [
    "<p><center>Salvador = Salvadr = S@alvad#r </center></p>"
   ]
  },
  {
   "cell_type": "markdown",
   "metadata": {
    "ExecuteTime": {
     "end_time": "2022-08-18T19:14:42.622777Z",
     "start_time": "2022-08-18T19:14:42.602803Z"
    }
   },
   "source": [
    "<p> Sempre que lidarmos com strings diferentes das quais representam a mesma informação, porém com determinados problemas de escrita, podemos utilizar a library fuzzywuzzy para consertar isso.</p>"
   ]
  },
  {
   "cell_type": "markdown",
   "metadata": {
    "ExecuteTime": {
     "end_time": "2021-08-01T00:44:40.478767Z",
     "start_time": "2021-08-01T00:44:40.476791Z"
    }
   },
   "source": [
    "## Criando Dados Para Testes"
   ]
  },
  {
   "cell_type": "code",
   "execution_count": 48,
   "metadata": {
    "ExecuteTime": {
     "end_time": "2022-08-19T00:54:14.519024Z",
     "start_time": "2022-08-19T00:54:14.504024Z"
    }
   },
   "outputs": [
    {
     "data": {
      "text/html": [
       "<div>\n",
       "<style scoped>\n",
       "    .dataframe tbody tr th:only-of-type {\n",
       "        vertical-align: middle;\n",
       "    }\n",
       "\n",
       "    .dataframe tbody tr th {\n",
       "        vertical-align: top;\n",
       "    }\n",
       "\n",
       "    .dataframe thead th {\n",
       "        text-align: right;\n",
       "    }\n",
       "</style>\n",
       "<table border=\"1\" class=\"dataframe\">\n",
       "  <thead>\n",
       "    <tr style=\"text-align: right;\">\n",
       "      <th></th>\n",
       "      <th>cidades</th>\n",
       "    </tr>\n",
       "  </thead>\n",
       "  <tbody>\n",
       "    <tr>\n",
       "      <th>0</th>\n",
       "      <td>Santos</td>\n",
       "    </tr>\n",
       "    <tr>\n",
       "      <th>1</th>\n",
       "      <td>$$#%Salvdor$#@</td>\n",
       "    </tr>\n",
       "    <tr>\n",
       "      <th>2</th>\n",
       "      <td>$$#%dorsalva$#@</td>\n",
       "    </tr>\n",
       "    <tr>\n",
       "      <th>3</th>\n",
       "      <td>Salvador</td>\n",
       "    </tr>\n",
       "    <tr>\n",
       "      <th>4</th>\n",
       "      <td>Snts</td>\n",
       "    </tr>\n",
       "    <tr>\n",
       "      <th>5</th>\n",
       "      <td>santos</td>\n",
       "    </tr>\n",
       "    <tr>\n",
       "      <th>6</th>\n",
       "      <td>sants</td>\n",
       "    </tr>\n",
       "    <tr>\n",
       "      <th>7</th>\n",
       "      <td>salvador</td>\n",
       "    </tr>\n",
       "    <tr>\n",
       "      <th>8</th>\n",
       "      <td>ssa</td>\n",
       "    </tr>\n",
       "    <tr>\n",
       "      <th>9</th>\n",
       "      <td>salvdor</td>\n",
       "    </tr>\n",
       "  </tbody>\n",
       "</table>\n",
       "</div>"
      ],
      "text/plain": [
       "           cidades\n",
       "0           Santos\n",
       "1   $$#%Salvdor$#@\n",
       "2  $$#%dorsalva$#@\n",
       "3         Salvador\n",
       "4             Snts\n",
       "5           santos\n",
       "6            sants\n",
       "7         salvador\n",
       "8              ssa\n",
       "9          salvdor"
      ]
     },
     "execution_count": 48,
     "metadata": {},
     "output_type": "execute_result"
    }
   ],
   "source": [
    "dicio = {'cidades':['Santos','$$#%Salvdor$#@','$$#%dorsalva$#@',\\\n",
    "                    'Salvador','Snts','santos',\\\n",
    "                    'sants','salvador','ssa','salvdor']}\n",
    "df = pd.DataFrame(dicio)\n",
    "df"
   ]
  },
  {
   "cell_type": "markdown",
   "metadata": {
    "ExecuteTime": {
     "end_time": "2021-08-01T00:46:46.416796Z",
     "start_time": "2021-08-01T00:46:46.412868Z"
    }
   },
   "source": [
    "# Funções(fuzz) - ratio( ) - partial_ratio( ) - partial_token_sort_ratio( )\n",
    "<p> Dentro da classe fuzz temos diversos métodos com funcionalidades diferentes, sendo as principais <b>ratio</b> | <b>partial_ratio</b> | <b>partial_token_sort_ratio</b>.</p>\n",
    "\n",
    "```python\n",
    "fuzz.********(palavra1,palavra2)\n",
    "```"
   ]
  },
  {
   "cell_type": "markdown",
   "metadata": {},
   "source": [
    "* Necessidade: Ter as palavras corretas em um array assim como nossa string a ser analisada."
   ]
  },
  {
   "cell_type": "code",
   "execution_count": 15,
   "metadata": {
    "ExecuteTime": {
     "end_time": "2022-08-19T00:17:04.819674Z",
     "start_time": "2022-08-19T00:17:04.798674Z"
    }
   },
   "outputs": [
    {
     "data": {
      "text/html": [
       "<div>\n",
       "<style scoped>\n",
       "    .dataframe tbody tr th:only-of-type {\n",
       "        vertical-align: middle;\n",
       "    }\n",
       "\n",
       "    .dataframe tbody tr th {\n",
       "        vertical-align: top;\n",
       "    }\n",
       "\n",
       "    .dataframe thead th {\n",
       "        text-align: right;\n",
       "    }\n",
       "</style>\n",
       "<table border=\"1\" class=\"dataframe\">\n",
       "  <thead>\n",
       "    <tr style=\"text-align: right;\">\n",
       "      <th></th>\n",
       "      <th>cidades</th>\n",
       "    </tr>\n",
       "  </thead>\n",
       "  <tbody>\n",
       "    <tr>\n",
       "      <th>0</th>\n",
       "      <td>Santos</td>\n",
       "    </tr>\n",
       "    <tr>\n",
       "      <th>1</th>\n",
       "      <td>$$#%Salvdor$#@</td>\n",
       "    </tr>\n",
       "    <tr>\n",
       "      <th>2</th>\n",
       "      <td>$$#%dorsalva$#@</td>\n",
       "    </tr>\n",
       "    <tr>\n",
       "      <th>3</th>\n",
       "      <td>Salvador</td>\n",
       "    </tr>\n",
       "    <tr>\n",
       "      <th>4</th>\n",
       "      <td>Snts</td>\n",
       "    </tr>\n",
       "    <tr>\n",
       "      <th>5</th>\n",
       "      <td>santos</td>\n",
       "    </tr>\n",
       "    <tr>\n",
       "      <th>6</th>\n",
       "      <td>sants</td>\n",
       "    </tr>\n",
       "    <tr>\n",
       "      <th>7</th>\n",
       "      <td>salvador</td>\n",
       "    </tr>\n",
       "    <tr>\n",
       "      <th>8</th>\n",
       "      <td>ssa</td>\n",
       "    </tr>\n",
       "    <tr>\n",
       "      <th>9</th>\n",
       "      <td>salvdor</td>\n",
       "    </tr>\n",
       "  </tbody>\n",
       "</table>\n",
       "</div>"
      ],
      "text/plain": [
       "           cidades\n",
       "0           Santos\n",
       "1   $$#%Salvdor$#@\n",
       "2  $$#%dorsalva$#@\n",
       "3         Salvador\n",
       "4             Snts\n",
       "5           santos\n",
       "6            sants\n",
       "7         salvador\n",
       "8              ssa\n",
       "9          salvdor"
      ]
     },
     "execution_count": 15,
     "metadata": {},
     "output_type": "execute_result"
    }
   ],
   "source": [
    "palavras_corretas = ['Santos','Salvador']\n",
    "df"
   ]
  },
  {
   "cell_type": "markdown",
   "metadata": {
    "ExecuteTime": {
     "end_time": "2021-08-01T01:01:46.216150Z",
     "start_time": "2021-08-01T01:01:46.211270Z"
    }
   },
   "source": [
    "### Ratio()\n",
    "<p> Com <b>Ratio</b> podemos fazer uma checagem simples, identificando de 0 a 100 qual a similaridade entre duas palavras utilizando o metódo de levensthein. </p>"
   ]
  },
  {
   "cell_type": "markdown",
   "metadata": {},
   "source": [
    "Checando a diferença entre a palavra 'Santos' do dataframe e 'Santos' da lista de palavras corretas, 100% igual.\n"
   ]
  },
  {
   "cell_type": "code",
   "execution_count": 16,
   "metadata": {
    "ExecuteTime": {
     "end_time": "2022-08-19T00:17:06.279903Z",
     "start_time": "2022-08-19T00:17:06.262927Z"
    },
    "scrolled": true
   },
   "outputs": [
    {
     "data": {
      "text/plain": [
       "100"
      ]
     },
     "execution_count": 16,
     "metadata": {},
     "output_type": "execute_result"
    }
   ],
   "source": [
    "fuzz.ratio(df.loc[0,'cidades'], palavras_corretas[0])"
   ]
  },
  {
   "cell_type": "markdown",
   "metadata": {},
   "source": [
    "Checando a diferença entre a palavra 'Santos' do dataframe e 'Salvador' da lista de palavras corretas, 43% igual.\n"
   ]
  },
  {
   "cell_type": "code",
   "execution_count": 17,
   "metadata": {
    "ExecuteTime": {
     "end_time": "2022-08-19T00:17:07.188823Z",
     "start_time": "2022-08-19T00:17:07.174824Z"
    }
   },
   "outputs": [
    {
     "data": {
      "text/plain": [
       "43"
      ]
     },
     "execution_count": 17,
     "metadata": {},
     "output_type": "execute_result"
    }
   ],
   "source": [
    "fuzz.ratio(df.loc[0,'cidades'], palavras_corretas[1])"
   ]
  },
  {
   "cell_type": "markdown",
   "metadata": {
    "ExecuteTime": {
     "end_time": "2021-08-01T01:05:48.943427Z",
     "start_time": "2021-08-01T01:05:48.938542Z"
    }
   },
   "source": [
    "## Partial_ratio()\n",
    "<p> Com <b>partial_ratio</b> poderemos fazer uma busca parcial na string, buscando exatamente a palavra que queremos (ideal para consultas de dados na WEB).</p>"
   ]
  },
  {
   "cell_type": "code",
   "execution_count": 20,
   "metadata": {
    "ExecuteTime": {
     "end_time": "2022-08-19T00:36:37.709356Z",
     "start_time": "2022-08-19T00:36:37.696330Z"
    }
   },
   "outputs": [
    {
     "data": {
      "text/plain": [
       "'$$#%Salvdor$#@'"
      ]
     },
     "execution_count": 20,
     "metadata": {},
     "output_type": "execute_result"
    }
   ],
   "source": [
    "df.loc[1,'cidades']"
   ]
  },
  {
   "cell_type": "markdown",
   "metadata": {},
   "source": [
    "Comparando a cidade acima com ratio normal."
   ]
  },
  {
   "cell_type": "code",
   "execution_count": 23,
   "metadata": {
    "ExecuteTime": {
     "end_time": "2022-08-19T00:41:50.293709Z",
     "start_time": "2022-08-19T00:41:50.280693Z"
    }
   },
   "outputs": [
    {
     "data": {
      "text/plain": [
       "64"
      ]
     },
     "execution_count": 23,
     "metadata": {},
     "output_type": "execute_result"
    }
   ],
   "source": [
    "# Vemos que a semelhança entre \"Salvador\" e \"$$#%Salvdor$#@\" com ratio é de 64 \n",
    "fuzz.ratio(df.loc[1,'cidades'],palavras_corretas[1]) "
   ]
  },
  {
   "cell_type": "markdown",
   "metadata": {},
   "source": [
    "Utilizando agora o partial_ratio para a comparação."
   ]
  },
  {
   "cell_type": "code",
   "execution_count": 22,
   "metadata": {
    "ExecuteTime": {
     "end_time": "2022-08-19T00:41:08.546982Z",
     "start_time": "2022-08-19T00:41:08.535987Z"
    }
   },
   "outputs": [
    {
     "data": {
      "text/plain": [
       "88"
      ]
     },
     "execution_count": 22,
     "metadata": {},
     "output_type": "execute_result"
    }
   ],
   "source": [
    "# Vemos que com o método partial_ratio o resultado é de 88\n",
    "fuzz.partial_ratio(df.loc[1,'cidades'],palavras_corretas[1]) "
   ]
  },
  {
   "cell_type": "markdown",
   "metadata": {},
   "source": [
    "## partial_token_sort_ratio( )\n",
    "<p>Com <b>partial_token_sort_ratio</b>, poderemos diferente do partial_ratio, não apenas analisar a string em si, como separa-la por ordem alfabetica antes de analisar, e efetuar uma verificação parcial em cima dessa ordem. </p>"
   ]
  },
  {
   "cell_type": "code",
   "execution_count": 24,
   "metadata": {
    "ExecuteTime": {
     "end_time": "2022-08-19T00:44:27.135094Z",
     "start_time": "2022-08-19T00:44:27.120094Z"
    }
   },
   "outputs": [
    {
     "data": {
      "text/plain": [
       "'$$#%dorsalva$#@'"
      ]
     },
     "execution_count": 24,
     "metadata": {},
     "output_type": "execute_result"
    }
   ],
   "source": [
    "df.loc[2,'cidades']"
   ]
  },
  {
   "cell_type": "markdown",
   "metadata": {},
   "source": [
    "Utilizando um ratio simples para palavra."
   ]
  },
  {
   "cell_type": "code",
   "execution_count": 25,
   "metadata": {
    "ExecuteTime": {
     "end_time": "2022-08-19T00:44:29.790475Z",
     "start_time": "2022-08-19T00:44:29.775474Z"
    }
   },
   "outputs": [
    {
     "data": {
      "text/plain": [
       "35"
      ]
     },
     "execution_count": 25,
     "metadata": {},
     "output_type": "execute_result"
    }
   ],
   "source": [
    "fuzz.ratio(df.loc[2,'cidades'],palavras_corretas[1])"
   ]
  },
  {
   "cell_type": "markdown",
   "metadata": {},
   "source": [
    "Utilizando um partial ratio para focar parcialmente na palavra buscada.\n"
   ]
  },
  {
   "cell_type": "code",
   "execution_count": 26,
   "metadata": {
    "ExecuteTime": {
     "end_time": "2022-08-19T00:44:35.117641Z",
     "start_time": "2022-08-19T00:44:35.111640Z"
    }
   },
   "outputs": [
    {
     "data": {
      "text/plain": [
       "50"
      ]
     },
     "execution_count": 26,
     "metadata": {},
     "output_type": "execute_result"
    }
   ],
   "source": [
    "fuzz.partial_ratio(df.loc[2,'cidades'],palavras_corretas[1])"
   ]
  },
  {
   "cell_type": "markdown",
   "metadata": {
    "ExecuteTime": {
     "end_time": "2022-08-19T00:23:20.751687Z",
     "start_time": "2022-08-19T00:23:20.735695Z"
    }
   },
   "source": [
    "Utilizando o token sort para organizar a palavra alfabeticamente e ver sua semelhança."
   ]
  },
  {
   "cell_type": "code",
   "execution_count": 27,
   "metadata": {
    "ExecuteTime": {
     "end_time": "2022-08-19T00:44:43.954029Z",
     "start_time": "2022-08-19T00:44:43.943006Z"
    }
   },
   "outputs": [
    {
     "data": {
      "text/plain": [
       "62"
      ]
     },
     "execution_count": 27,
     "metadata": {},
     "output_type": "execute_result"
    }
   ],
   "source": [
    "fuzz.partial_token_sort_ratio(df.loc[2,'cidades'],palavras_corretas[1])"
   ]
  },
  {
   "cell_type": "markdown",
   "metadata": {},
   "source": [
    "# Funções(process) - extract( )\n",
    "\n",
    "<p> Para aplicar a função em dataframes podemos utilizar a classe process. </p>\n",
    "\n",
    "```python\n",
    "process.extract( 'nome_correto', lista_a_ser_testada, scorer = função_fuzzy_a_ser_usada, \n",
    "                score_cutoff = valor_que_cortaremos, limit = numero_de_resultados )\n",
    "```"
   ]
  },
  {
   "cell_type": "markdown",
   "metadata": {},
   "source": [
    "## EXEMPLO: Verificando as cidades Santos"
   ]
  },
  {
   "cell_type": "markdown",
   "metadata": {},
   "source": [
    "<p> Comparando as palavras da coluna 'cidades', com a palavra 'Santos'. </p>"
   ]
  },
  {
   "cell_type": "code",
   "execution_count": 40,
   "metadata": {
    "ExecuteTime": {
     "end_time": "2022-08-19T00:48:30.428635Z",
     "start_time": "2022-08-19T00:48:30.408581Z"
    }
   },
   "outputs": [
    {
     "data": {
      "text/plain": [
       "[('Santos', 100, 0),\n",
       " ('santos', 100, 5),\n",
       " ('sants', 80, 6),\n",
       " ('Snts', 75, 4),\n",
       " ('ssa', 67, 8),\n",
       " ('$$#%Salvdor$#@', 50, 1),\n",
       " ('salvdor', 50, 9),\n",
       " ('$$#%dorsalva$#@', 36, 2),\n",
       " ('Salvador', 33, 3),\n",
       " ('salvador', 33, 7)]"
      ]
     },
     "execution_count": 40,
     "metadata": {},
     "output_type": "execute_result"
    }
   ],
   "source": [
    "process.extract(palavras_corretas[0],df['cidades'],scorer = fuzz.partial_token_sort_ratio, limit =10)"
   ]
  },
  {
   "cell_type": "markdown",
   "metadata": {},
   "source": [
    "# MODIFICANDO UM DATAFRAME COM AS FUNÇÕES\n",
    "<p> Usando um for para fazer a alteração das palavras, com base em uma lista de palavras corretas. </p>"
   ]
  },
  {
   "cell_type": "code",
   "execution_count": 49,
   "metadata": {
    "ExecuteTime": {
     "end_time": "2022-08-19T00:54:50.976056Z",
     "start_time": "2022-08-19T00:54:50.960053Z"
    }
   },
   "outputs": [
    {
     "name": "stdout",
     "output_type": "stream",
     "text": [
      "['Santos', 'Salvador']\n"
     ]
    },
    {
     "data": {
      "text/plain": [
       "0             Santos\n",
       "1     $$#%Salvdor$#@\n",
       "2    $$#%dorsalva$#@\n",
       "3           Salvador\n",
       "4               Snts\n",
       "5             santos\n",
       "6              sants\n",
       "7           salvador\n",
       "8                ssa\n",
       "9            salvdor\n",
       "Name: cidades, dtype: object"
      ]
     },
     "execution_count": 49,
     "metadata": {},
     "output_type": "execute_result"
    }
   ],
   "source": [
    "print(palavras_corretas)\n",
    "df['cidades']"
   ]
  },
  {
   "cell_type": "markdown",
   "metadata": {},
   "source": [
    "* Rodamos a lista de palavras corretas;\n",
    "* Comparamos cada palavra em relação a coluna;\n",
    "* Selecionamos só os valores onde o valor for maior que 80;\n",
    "* Criando uma nova coluna e acrescentando o valor correto da string;"
   ]
  },
  {
   "cell_type": "code",
   "execution_count": 50,
   "metadata": {
    "ExecuteTime": {
     "end_time": "2022-08-19T00:54:51.984154Z",
     "start_time": "2022-08-19T00:54:51.960176Z"
    }
   },
   "outputs": [
    {
     "data": {
      "text/html": [
       "<div>\n",
       "<style scoped>\n",
       "    .dataframe tbody tr th:only-of-type {\n",
       "        vertical-align: middle;\n",
       "    }\n",
       "\n",
       "    .dataframe tbody tr th {\n",
       "        vertical-align: top;\n",
       "    }\n",
       "\n",
       "    .dataframe thead th {\n",
       "        text-align: right;\n",
       "    }\n",
       "</style>\n",
       "<table border=\"1\" class=\"dataframe\">\n",
       "  <thead>\n",
       "    <tr style=\"text-align: right;\">\n",
       "      <th></th>\n",
       "      <th>cidades</th>\n",
       "      <th>Cidades_Novas</th>\n",
       "    </tr>\n",
       "  </thead>\n",
       "  <tbody>\n",
       "    <tr>\n",
       "      <th>0</th>\n",
       "      <td>Santos</td>\n",
       "      <td>Santos</td>\n",
       "    </tr>\n",
       "    <tr>\n",
       "      <th>1</th>\n",
       "      <td>$$#%Salvdor$#@</td>\n",
       "      <td>Salvador</td>\n",
       "    </tr>\n",
       "    <tr>\n",
       "      <th>2</th>\n",
       "      <td>$$#%dorsalva$#@</td>\n",
       "      <td>NaN</td>\n",
       "    </tr>\n",
       "    <tr>\n",
       "      <th>3</th>\n",
       "      <td>Salvador</td>\n",
       "      <td>Salvador</td>\n",
       "    </tr>\n",
       "    <tr>\n",
       "      <th>4</th>\n",
       "      <td>Snts</td>\n",
       "      <td>NaN</td>\n",
       "    </tr>\n",
       "    <tr>\n",
       "      <th>5</th>\n",
       "      <td>santos</td>\n",
       "      <td>Santos</td>\n",
       "    </tr>\n",
       "    <tr>\n",
       "      <th>6</th>\n",
       "      <td>sants</td>\n",
       "      <td>Santos</td>\n",
       "    </tr>\n",
       "    <tr>\n",
       "      <th>7</th>\n",
       "      <td>salvador</td>\n",
       "      <td>Salvador</td>\n",
       "    </tr>\n",
       "    <tr>\n",
       "      <th>8</th>\n",
       "      <td>ssa</td>\n",
       "      <td>NaN</td>\n",
       "    </tr>\n",
       "    <tr>\n",
       "      <th>9</th>\n",
       "      <td>salvdor</td>\n",
       "      <td>Salvador</td>\n",
       "    </tr>\n",
       "  </tbody>\n",
       "</table>\n",
       "</div>"
      ],
      "text/plain": [
       "           cidades Cidades_Novas\n",
       "0           Santos        Santos\n",
       "1   $$#%Salvdor$#@      Salvador\n",
       "2  $$#%dorsalva$#@           NaN\n",
       "3         Salvador      Salvador\n",
       "4             Snts           NaN\n",
       "5           santos        Santos\n",
       "6            sants        Santos\n",
       "7         salvador      Salvador\n",
       "8              ssa           NaN\n",
       "9          salvdor      Salvador"
      ]
     },
     "execution_count": 50,
     "metadata": {},
     "output_type": "execute_result"
    }
   ],
   "source": [
    "for palavra in palavras_corretas:\n",
    "    cidades = process.extract(palavra, df['cidades'], scorer = fuzz.partial_token_sort_ratio)\n",
    "    for x in cidades:\n",
    "        if x[1] >= 80:\n",
    "            df.loc[df['cidades']==x[0],'Cidades_Novas'] = palavra\n",
    "df"
   ]
  },
  {
   "cell_type": "markdown",
   "metadata": {},
   "source": [
    "* Rodando o mesmo código sem exigencia de valor minimo de similaridade"
   ]
  },
  {
   "cell_type": "code",
   "execution_count": 51,
   "metadata": {
    "ExecuteTime": {
     "end_time": "2022-08-19T00:56:10.668907Z",
     "start_time": "2022-08-19T00:56:10.647909Z"
    }
   },
   "outputs": [
    {
     "data": {
      "text/html": [
       "<div>\n",
       "<style scoped>\n",
       "    .dataframe tbody tr th:only-of-type {\n",
       "        vertical-align: middle;\n",
       "    }\n",
       "\n",
       "    .dataframe tbody tr th {\n",
       "        vertical-align: top;\n",
       "    }\n",
       "\n",
       "    .dataframe thead th {\n",
       "        text-align: right;\n",
       "    }\n",
       "</style>\n",
       "<table border=\"1\" class=\"dataframe\">\n",
       "  <thead>\n",
       "    <tr style=\"text-align: right;\">\n",
       "      <th></th>\n",
       "      <th>cidades</th>\n",
       "      <th>Cidades_Novas</th>\n",
       "      <th>outras</th>\n",
       "    </tr>\n",
       "  </thead>\n",
       "  <tbody>\n",
       "    <tr>\n",
       "      <th>0</th>\n",
       "      <td>Santos</td>\n",
       "      <td>Santos</td>\n",
       "      <td>Santos</td>\n",
       "    </tr>\n",
       "    <tr>\n",
       "      <th>1</th>\n",
       "      <td>$$#%Salvdor$#@</td>\n",
       "      <td>Salvador</td>\n",
       "      <td>Salvador</td>\n",
       "    </tr>\n",
       "    <tr>\n",
       "      <th>2</th>\n",
       "      <td>$$#%dorsalva$#@</td>\n",
       "      <td>NaN</td>\n",
       "      <td>Salvador</td>\n",
       "    </tr>\n",
       "    <tr>\n",
       "      <th>3</th>\n",
       "      <td>Salvador</td>\n",
       "      <td>Salvador</td>\n",
       "      <td>Salvador</td>\n",
       "    </tr>\n",
       "    <tr>\n",
       "      <th>4</th>\n",
       "      <td>Snts</td>\n",
       "      <td>NaN</td>\n",
       "      <td>Santos</td>\n",
       "    </tr>\n",
       "    <tr>\n",
       "      <th>5</th>\n",
       "      <td>santos</td>\n",
       "      <td>Santos</td>\n",
       "      <td>Santos</td>\n",
       "    </tr>\n",
       "    <tr>\n",
       "      <th>6</th>\n",
       "      <td>sants</td>\n",
       "      <td>Santos</td>\n",
       "      <td>Santos</td>\n",
       "    </tr>\n",
       "    <tr>\n",
       "      <th>7</th>\n",
       "      <td>salvador</td>\n",
       "      <td>Salvador</td>\n",
       "      <td>Salvador</td>\n",
       "    </tr>\n",
       "    <tr>\n",
       "      <th>8</th>\n",
       "      <td>ssa</td>\n",
       "      <td>NaN</td>\n",
       "      <td>Santos</td>\n",
       "    </tr>\n",
       "    <tr>\n",
       "      <th>9</th>\n",
       "      <td>salvdor</td>\n",
       "      <td>Salvador</td>\n",
       "      <td>Salvador</td>\n",
       "    </tr>\n",
       "  </tbody>\n",
       "</table>\n",
       "</div>"
      ],
      "text/plain": [
       "           cidades Cidades_Novas    outras\n",
       "0           Santos        Santos    Santos\n",
       "1   $$#%Salvdor$#@      Salvador  Salvador\n",
       "2  $$#%dorsalva$#@           NaN  Salvador\n",
       "3         Salvador      Salvador  Salvador\n",
       "4             Snts           NaN    Santos\n",
       "5           santos        Santos    Santos\n",
       "6            sants        Santos    Santos\n",
       "7         salvador      Salvador  Salvador\n",
       "8              ssa           NaN    Santos\n",
       "9          salvdor      Salvador  Salvador"
      ]
     },
     "execution_count": 51,
     "metadata": {},
     "output_type": "execute_result"
    }
   ],
   "source": [
    "for z in palavras_corretas:\n",
    "    lista = process.extract(z, df['cidades'])\n",
    "    for k in lista:\n",
    "        df.loc[df['cidades'] == k[0],'outras'] = z\n",
    "df"
   ]
  },
  {
   "cell_type": "code",
   "execution_count": 57,
   "metadata": {
    "ExecuteTime": {
     "end_time": "2022-08-19T01:08:56.997494Z",
     "start_time": "2022-08-19T01:08:56.864461Z"
    }
   },
   "outputs": [
    {
     "data": {
      "text/plain": [
       "<AxesSubplot:xlabel='cidades', ylabel='count'>"
      ]
     },
     "execution_count": 57,
     "metadata": {},
     "output_type": "execute_result"
    },
    {
     "data": {
      "image/png": "[encoded data removed]",
      "text/plain": [
       "<Figure size 432x288 with 1 Axes>"
      ]
     },
     "metadata": {
      "needs_background": "light"
     },
     "output_type": "display_data"
    }
   ],
   "source": [
    "import seaborn as sns\n",
    "import matplotlib.pyplot as plt\n",
    "plt.xticks(rotation=90)\n",
    "sns.countplot(x=df['cidades'])"
   ]
  },
  {
   "cell_type": "code",
   "execution_count": 55,
   "metadata": {
    "ExecuteTime": {
     "end_time": "2022-08-19T01:06:14.356628Z",
     "start_time": "2022-08-19T01:06:14.263601Z"
    }
   },
   "outputs": [
    {
     "data": {
      "text/plain": [
       "<AxesSubplot:xlabel='Cidades_Novas', ylabel='count'>"
      ]
     },
     "execution_count": 55,
     "metadata": {},
     "output_type": "execute_result"
    },
    {
     "data": {
      "image/png": "[encoded data removed]",
      "text/plain": [
       "<Figure size 432x288 with 1 Axes>"
      ]
     },
     "metadata": {
      "needs_background": "light"
     },
     "output_type": "display_data"
    }
   ],
   "source": [
    "sns.countplot(x=df['Cidades_Novas'])"
   ]
  }
 ],
 "metadata": {
  "kernelspec": {
   "display_name": "Python 3 (ipykernel)",
   "language": "python",
   "name": "python3"
  },
  "language_info": {
   "codemirror_mode": {
    "name": "ipython",
    "version": 3
   },
   "file_extension": ".py",
   "mimetype": "text/x-python",
   "name": "python",
   "nbconvert_exporter": "python",
   "pygments_lexer": "ipython3",
   "version": "3.9.7"
  },
  "toc": {
   "base_numbering": 1,
   "nav_menu": {},
   "number_sections": true,
   "sideBar": true,
   "skip_h1_title": false,
   "title_cell": "Table of Contents",
   "title_sidebar": "Contents",
   "toc_cell": false,
   "toc_position": {},
   "toc_section_display": true,
   "toc_window_display": false
  },
  "varInspector": {
   "cols": {
    "lenName": 16,
    "lenType": 16,
    "lenVar": 40
   },
   "kernels_config": {
    "python": {
     "delete_cmd_postfix": "",
     "delete_cmd_prefix": "del ",
     "library": "var_list.py",
     "varRefreshCmd": "print(var_dic_list())"
    },
    "r": {
     "delete_cmd_postfix": ") ",
     "delete_cmd_prefix": "rm(",
     "library": "var_list.r",
     "varRefreshCmd": "cat(var_dic_list()) "
    }
   },
   "types_to_exclude": [
    "module",
    "function",
    "builtin_function_or_method",
    "instance",
    "_Feature"
   ],
   "window_display": false
  }
 },
 "nbformat": 4,
 "nbformat_minor": 4
}
