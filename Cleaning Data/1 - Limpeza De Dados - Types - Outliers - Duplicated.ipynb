{
 "cells": [
  {
   "cell_type": "markdown",
   "metadata": {
    "ExecuteTime": {
     "end_time": "2021-07-29T20:33:05.232232Z",
     "start_time": "2021-07-29T20:33:05.229318Z"
    }
   },
   "source": [
    "Começando a limpeza de dados (1º visão)\n",
    "<p>Porque limpar os dados? A principal resposta é que dados com problemas acabam gerando resultados com problemas, seja para analise de dados ou machine learning. </p>\n",
    "\n",
    "* 1 Verificar categorias dos dados\n",
    "* 2 Verificar dados Outvalues\n",
    "* 3 Verificar dados Duplicados"
   ]
  },
  {
   "cell_type": "code",
   "execution_count": 23,
   "metadata": {
    "ExecuteTime": {
     "end_time": "2022-08-16T19:48:37.744227Z",
     "start_time": "2022-08-16T19:48:37.013653Z"
    }
   },
   "outputs": [],
   "source": [
    "import pandas as pd\n",
    "import numpy as np\n",
    "import matplotlib.pyplot as plt"
   ]
  },
  {
   "cell_type": "markdown",
   "metadata": {},
   "source": [
    "# Categoria dos dados - .dtypes( ) - .info( ) - .str. - .astype( )\n",
    "<p> A primeiro momento o que devemos checar são as categorias em que os dados do DataFrame se encontram, sendo elas: (str, int, float, bool, datetime, etc), dados em categorias erradas podem apresentar resultados errados.</p>"
   ]
  },
  {
   "cell_type": "code",
   "execution_count": 3,
   "metadata": {
    "ExecuteTime": {
     "end_time": "2022-08-16T19:06:28.525107Z",
     "start_time": "2022-08-16T19:06:28.502108Z"
    }
   },
   "outputs": [
    {
     "data": {
      "text/html": [
       "<div>\n",
       "<style scoped>\n",
       "    .dataframe tbody tr th:only-of-type {\n",
       "        vertical-align: middle;\n",
       "    }\n",
       "\n",
       "    .dataframe tbody tr th {\n",
       "        vertical-align: top;\n",
       "    }\n",
       "\n",
       "    .dataframe thead th {\n",
       "        text-align: right;\n",
       "    }\n",
       "</style>\n",
       "<table border=\"1\" class=\"dataframe\">\n",
       "  <thead>\n",
       "    <tr style=\"text-align: right;\">\n",
       "      <th></th>\n",
       "      <th>produto</th>\n",
       "      <th>preco</th>\n",
       "      <th>quantidade</th>\n",
       "    </tr>\n",
       "  </thead>\n",
       "  <tbody>\n",
       "    <tr>\n",
       "      <th>0</th>\n",
       "      <td>prod1</td>\n",
       "      <td>2300$</td>\n",
       "      <td>1</td>\n",
       "    </tr>\n",
       "    <tr>\n",
       "      <th>1</th>\n",
       "      <td>prod2</td>\n",
       "      <td>2200$</td>\n",
       "      <td>3</td>\n",
       "    </tr>\n",
       "    <tr>\n",
       "      <th>2</th>\n",
       "      <td>prod3</td>\n",
       "      <td>4000$</td>\n",
       "      <td>2</td>\n",
       "    </tr>\n",
       "  </tbody>\n",
       "</table>\n",
       "</div>"
      ],
      "text/plain": [
       "  produto  preco  quantidade\n",
       "0   prod1  2300$           1\n",
       "1   prod2  2200$           3\n",
       "2   prod3  4000$           2"
      ]
     },
     "execution_count": 3,
     "metadata": {},
     "output_type": "execute_result"
    }
   ],
   "source": [
    "df = pd.DataFrame({'produto':['prod1','prod2','prod3'],\n",
    "            'preco':['2300$','2200$','4000$'],\n",
    "             'quantidade':[1,3,2]})\n",
    "df"
   ]
  },
  {
   "cell_type": "markdown",
   "metadata": {},
   "source": [
    "<p> Na situação do DATASET acima, por receber <b>$</b> o dado é considerado <b>string</b>, então o pandas o considera categorico, sendo assim impossivel de realizar contas como <b>.sum( )</b>, <b>.mean( )</b> etc. </p>"
   ]
  },
  {
   "cell_type": "markdown",
   "metadata": {
    "ExecuteTime": {
     "end_time": "2021-07-29T20:58:05.802454Z",
     "start_time": "2021-07-29T20:58:05.782913Z"
    }
   },
   "source": [
    "```python\n",
    "DF.dtypes() \n",
    "ou\n",
    "DF.info()\n",
    "```"
   ]
  },
  {
   "cell_type": "code",
   "execution_count": 4,
   "metadata": {
    "ExecuteTime": {
     "end_time": "2022-08-16T19:06:37.839489Z",
     "start_time": "2022-08-16T19:06:37.822464Z"
    }
   },
   "outputs": [
    {
     "data": {
      "text/plain": [
       "produto       object\n",
       "preco         object\n",
       "quantidade     int64\n",
       "dtype: object"
      ]
     },
     "execution_count": 4,
     "metadata": {},
     "output_type": "execute_result"
    }
   ],
   "source": [
    "df.dtypes"
   ]
  },
  {
   "cell_type": "markdown",
   "metadata": {
    "ExecuteTime": {
     "end_time": "2021-07-29T21:14:29.466311Z",
     "start_time": "2021-07-29T21:14:29.462406Z"
    }
   },
   "source": [
    "<p> Podemos utilizar o comando strip visto como método de <b>STRING</b> com auxilio do <b>.str</b> para removermos a formatação com $ na nossa coluna </p>\n",
    "\n",
    "```python\n",
    "df['col'] = df['col'].str.strip('$')\n",
    "```"
   ]
  },
  {
   "cell_type": "code",
   "execution_count": 5,
   "metadata": {
    "ExecuteTime": {
     "end_time": "2022-08-16T19:08:05.110942Z",
     "start_time": "2022-08-16T19:08:05.094908Z"
    }
   },
   "outputs": [
    {
     "data": {
      "text/html": [
       "<div>\n",
       "<style scoped>\n",
       "    .dataframe tbody tr th:only-of-type {\n",
       "        vertical-align: middle;\n",
       "    }\n",
       "\n",
       "    .dataframe tbody tr th {\n",
       "        vertical-align: top;\n",
       "    }\n",
       "\n",
       "    .dataframe thead th {\n",
       "        text-align: right;\n",
       "    }\n",
       "</style>\n",
       "<table border=\"1\" class=\"dataframe\">\n",
       "  <thead>\n",
       "    <tr style=\"text-align: right;\">\n",
       "      <th></th>\n",
       "      <th>produto</th>\n",
       "      <th>preco</th>\n",
       "      <th>quantidade</th>\n",
       "    </tr>\n",
       "  </thead>\n",
       "  <tbody>\n",
       "    <tr>\n",
       "      <th>0</th>\n",
       "      <td>prod1</td>\n",
       "      <td>2300</td>\n",
       "      <td>1</td>\n",
       "    </tr>\n",
       "    <tr>\n",
       "      <th>1</th>\n",
       "      <td>prod2</td>\n",
       "      <td>2200</td>\n",
       "      <td>3</td>\n",
       "    </tr>\n",
       "    <tr>\n",
       "      <th>2</th>\n",
       "      <td>prod3</td>\n",
       "      <td>4000</td>\n",
       "      <td>2</td>\n",
       "    </tr>\n",
       "  </tbody>\n",
       "</table>\n",
       "</div>"
      ],
      "text/plain": [
       "  produto preco  quantidade\n",
       "0   prod1  2300           1\n",
       "1   prod2  2200           3\n",
       "2   prod3  4000           2"
      ]
     },
     "execution_count": 5,
     "metadata": {},
     "output_type": "execute_result"
    }
   ],
   "source": [
    "df['preco']=df['preco'].str.strip('$')\n",
    "df"
   ]
  },
  {
   "cell_type": "markdown",
   "metadata": {},
   "source": [
    "<p> Além disso, sempre que tivermos problemas com strings, podemos utilizar do <b>str</b> e seu metodos para solucionar os problemas.</p> \n",
    "\n",
    "```python\n",
    "df['col'] = df['col'].str.lower()\n",
    "df['col'] = df['col'].str.upper()\n",
    "```"
   ]
  },
  {
   "cell_type": "markdown",
   "metadata": {},
   "source": [
    "## Modificando dados - .astype( )\n",
    "<p> Feito isso podemos utilizar o comando <b>astype( ) </b> para modificar todos os dados de uma coluna num DATASET </p>"
   ]
  },
  {
   "cell_type": "markdown",
   "metadata": {
    "ExecuteTime": {
     "end_time": "2021-07-29T21:25:11.268925Z",
     "start_time": "2021-07-29T21:25:11.264045Z"
    }
   },
   "source": [
    "```python\n",
    "df['col'] = df['col'].astype('int')\n",
    "```"
   ]
  },
  {
   "cell_type": "code",
   "execution_count": 9,
   "metadata": {
    "ExecuteTime": {
     "end_time": "2022-08-16T19:09:25.114102Z",
     "start_time": "2022-08-16T19:09:25.097103Z"
    }
   },
   "outputs": [],
   "source": [
    "df['preco'] = df['preco'].astype('int')"
   ]
  },
  {
   "cell_type": "markdown",
   "metadata": {},
   "source": [
    "## Selecionando dados - select_dtypes()\n",
    "<p> Seleciona apenas colunas de determinados tipos de dados. </p>"
   ]
  },
  {
   "cell_type": "markdown",
   "metadata": {},
   "source": [
    "```python\n",
    "df.select_dtypes('int')\n",
    "```"
   ]
  },
  {
   "cell_type": "code",
   "execution_count": 12,
   "metadata": {
    "ExecuteTime": {
     "end_time": "2022-08-16T19:11:12.004300Z",
     "start_time": "2022-08-16T19:11:11.982308Z"
    }
   },
   "outputs": [
    {
     "data": {
      "text/html": [
       "<div>\n",
       "<style scoped>\n",
       "    .dataframe tbody tr th:only-of-type {\n",
       "        vertical-align: middle;\n",
       "    }\n",
       "\n",
       "    .dataframe tbody tr th {\n",
       "        vertical-align: top;\n",
       "    }\n",
       "\n",
       "    .dataframe thead th {\n",
       "        text-align: right;\n",
       "    }\n",
       "</style>\n",
       "<table border=\"1\" class=\"dataframe\">\n",
       "  <thead>\n",
       "    <tr style=\"text-align: right;\">\n",
       "      <th></th>\n",
       "      <th>preco</th>\n",
       "      <th>quantidade</th>\n",
       "    </tr>\n",
       "  </thead>\n",
       "  <tbody>\n",
       "    <tr>\n",
       "      <th>0</th>\n",
       "      <td>2300</td>\n",
       "      <td>1</td>\n",
       "    </tr>\n",
       "    <tr>\n",
       "      <th>1</th>\n",
       "      <td>2200</td>\n",
       "      <td>3</td>\n",
       "    </tr>\n",
       "    <tr>\n",
       "      <th>2</th>\n",
       "      <td>4000</td>\n",
       "      <td>2</td>\n",
       "    </tr>\n",
       "  </tbody>\n",
       "</table>\n",
       "</div>"
      ],
      "text/plain": [
       "   preco  quantidade\n",
       "0   2300           1\n",
       "1   2200           3\n",
       "2   4000           2"
      ]
     },
     "execution_count": 12,
     "metadata": {},
     "output_type": "execute_result"
    }
   ],
   "source": [
    "df.select_dtypes('int')"
   ]
  },
  {
   "cell_type": "markdown",
   "metadata": {
    "ExecuteTime": {
     "end_time": "2021-07-29T21:33:28.782159Z",
     "start_time": "2021-07-29T21:33:28.775299Z"
    }
   },
   "source": [
    "# Buscando sentido dos dados - .drop( ) - .to_datetime( ) - .strftime( )\n",
    "<p> Durante a analise de dados, podemos encontrar muitos dados sem sentido, por exemplo, se temos um sistema de avaliações com <b>nota máxima 10</b>, porque existiria um dado com <b>nota máxima 11</b> podemos com isso utilizar o método drop aninhado com uma clausula booleana para remover esses determinados dados. </p>"
   ]
  },
  {
   "cell_type": "markdown",
   "metadata": {
    "ExecuteTime": {
     "end_time": "2021-07-29T21:34:45.372055Z",
     "start_time": "2021-07-29T21:34:45.367174Z"
    }
   },
   "source": [
    "Podemos usar o comando <b>.drop( )</b> da seguinte maneira:\n",
    "\n",
    "```python\n",
    "df.drop(df[df['coluna']>10].index, axis=0, inplace = True)\n",
    "```\n",
    "\n",
    "<h6> (o drop elimina o determinado eixo escolhido, sendo coluna para axis=1 e linha para axis=0, além disso usamos o inplace para que o DataSet se sobescreva.) </h6>\n"
   ]
  },
  {
   "cell_type": "markdown",
   "metadata": {
    "ExecuteTime": {
     "end_time": "2021-07-29T21:51:44.423660Z",
     "start_time": "2021-07-29T21:51:44.421670Z"
    }
   },
   "source": [
    "## Dados correlacionados com datas"
   ]
  },
  {
   "cell_type": "markdown",
   "metadata": {
    "ExecuteTime": {
     "end_time": "2021-07-29T21:53:24.265439Z",
     "start_time": "2021-07-29T21:53:24.215560Z"
    }
   },
   "source": [
    "<p> Para dados com datas, as modificações também são necessárias, é possível que seja necessário a eliminação de datas antes do dia de <b>hoje</b> ou outros booleanos que se correlacionem com os tipos de dados desejados. </p>\n",
    "\n",
    "* 1 Importamos o <b>datetime</b>\n",
    "```\n",
    "import datetime as dt\n",
    "```\n",
    "* 2 Colocamos os dados em datatime\n",
    "```python \n",
    "df['col'] = pd.to_datetime(df['col'])\n",
    "```\n",
    "* 3 Colocamos eles em um padrão caso eles já não tenham um definido\n",
    "```python \n",
    "df['col'] = df['col'].strftime('%D-%M-%Y') \n",
    "```\n",
    "* 4 Fazemos as alterações necessárias, nesse caso \n",
    "```python\n",
    "df.drop(df[df['col'] > dt.date.today()].index, inplace = True)\n",
    "```"
   ]
  },
  {
   "cell_type": "markdown",
   "metadata": {},
   "source": [
    "# Tratando Outliers\n",
    "<p> Para tratar outliers existem diversos métodos, alguns desses são o método de tukey, método do desvio padrão e metódo do z-score. </p>"
   ]
  },
  {
   "cell_type": "markdown",
   "metadata": {},
   "source": [
    "Método de tukey, tem como objetivo separar os dados por meio de seus quantis, levando em conta que a distribuição seja uma distribuição gaussiana.\n",
    "\n",
    "Criamos limites dos quantis Q3 = 75% | Q1 = 25% \n",
    "\n",
    "E utilizamos o valor 1.5 para representar 2.7 desvios padrões da média;\n",
    "\n",
    "Se utilizassemos o valor 1.0 pegariamos os dados com 2.025 desvios padrões da média;\n",
    "\n",
    "Se utilizassemos o valor 3.0 pegariamos os dados com 3.375 desvios padrões da média;\n",
    "\n",
    "Para se ter exatos 3 desvios padrões colocariamos a constante valendo 1.7;"
   ]
  },
  {
   "cell_type": "code",
   "execution_count": 51,
   "metadata": {
    "ExecuteTime": {
     "end_time": "2022-08-16T20:09:34.101094Z",
     "start_time": "2022-08-16T20:09:34.084093Z"
    }
   },
   "outputs": [],
   "source": [
    "base_outlier =  [20,22,24,19,18,25,44]"
   ]
  },
  {
   "cell_type": "code",
   "execution_count": 52,
   "metadata": {
    "ExecuteTime": {
     "end_time": "2022-08-16T20:09:34.668087Z",
     "start_time": "2022-08-16T20:09:34.565315Z"
    }
   },
   "outputs": [
    {
     "name": "stdout",
     "output_type": "stream",
     "text": [
      "11.0 limite inferior\n",
      "33.0 limite superior\n",
      "8 desvio padrão\n",
      "25 media\n",
      "22.0 mediana\n"
     ]
    },
    {
     "data": {
      "image/png": "[encoded data removed]",
      "text/plain": [
       "<Figure size 432x288 with 1 Axes>"
      ]
     },
     "metadata": {
      "needs_background": "light"
     },
     "output_type": "display_data"
    }
   ],
   "source": [
    "q25, q50, q75 = np.percentile(base_outlier,[25,50,75])\n",
    "\n",
    "iqr = q75-q25\n",
    "\n",
    "limit_min = q25 - 1.7*(iqr)\n",
    "print(limit_min,'limite inferior')\n",
    "\n",
    "limit_max = q75 + 1.7*(iqr)\n",
    "print(limit_max,'limite superior')\n",
    "\n",
    "print(round(np.std(base_outlier)),'desvio padrão')\n",
    "print(round(np.mean(base_outlier)),'media')\n",
    "print(np.median(base_outlier),'mediana')\n",
    "plt.boxplot(base_outlier);"
   ]
  },
  {
   "cell_type": "markdown",
   "metadata": {},
   "source": [
    "Podemos utilizar essa formula num Dataset também\n",
    "\n",
    "```python\n",
    "q25, q50, q75 = np.percentile(concreto['Age (day)'],[25,50,75])\n",
    "iqr = q75-q25\n",
    "min = q25 - 1.5*(iqr)\n",
    "max = q75 + 1.5*(iqr)\n",
    "```"
   ]
  },
  {
   "cell_type": "markdown",
   "metadata": {},
   "source": [
    "Lembrando que para distribuição Gaussiana levamos em conta.\n",
    "\n",
    "* Cerca de 68,26% de todos os dados estão dentro de um desvio padrão (<σ) da média (μ);\n",
    "\n",
    "* Cerca de 95,44% de todos os dados estão dentro de dois desvios padrão (2σ) da média (μ);\n",
    "\n",
    "* Cerca de 99,72% de todos os dados estão dentro de três desvios padrão (<3σ) da média (μ);\n",
    "\n",
    "* E os 0,28% restantes de todos os dados estão fora de três desvios padrão (>3σ) da média (μ);\n",
    "\n",
    "* O primeiro e o terceiro quartis, Q1 e Q3, situam-se a -0,675σ e +0,675σ da média, respectivamente."
   ]
  },
  {
   "cell_type": "markdown",
   "metadata": {},
   "source": [
    "## Método Z-score\n",
    "<p> O Método Z-score, tem como objetivo, identificar a distancia da média em desvios padrões dos nossos dados. </p>"
   ]
  },
  {
   "cell_type": "code",
   "execution_count": 54,
   "metadata": {
    "ExecuteTime": {
     "end_time": "2022-08-16T20:18:08.094384Z",
     "start_time": "2022-08-16T20:18:08.084382Z"
    }
   },
   "outputs": [
    {
     "data": {
      "text/plain": [
       "[20, 22, 24, 19, 18, 25, 44]"
      ]
     },
     "execution_count": 54,
     "metadata": {},
     "output_type": "execute_result"
    }
   ],
   "source": [
    "base_outlier"
   ]
  },
  {
   "cell_type": "code",
   "execution_count": 55,
   "metadata": {
    "ExecuteTime": {
     "end_time": "2022-08-16T20:20:08.677996Z",
     "start_time": "2022-08-16T20:20:08.667997Z"
    }
   },
   "outputs": [],
   "source": [
    "distancias_std = [(x - np.mean(base_outlier))/np.std(base_outlier)\\\n",
    "                  for x in base_outlier]"
   ]
  },
  {
   "cell_type": "code",
   "execution_count": 56,
   "metadata": {
    "ExecuteTime": {
     "end_time": "2022-08-16T20:20:12.168028Z",
     "start_time": "2022-08-16T20:20:12.158030Z"
    }
   },
   "outputs": [
    {
     "data": {
      "text/plain": [
       "[-0.5522168221827439,\n",
       " -0.31062196247779356,\n",
       " -0.06902710277284316,\n",
       " -0.6730142520352191,\n",
       " -0.7938116818876944,\n",
       " 0.05177032707963204,\n",
       " 2.346921494276661]"
      ]
     },
     "execution_count": 56,
     "metadata": {},
     "output_type": "execute_result"
    }
   ],
   "source": [
    "distancias_std # Distancia da média de cada dado em desvios padrões"
   ]
  },
  {
   "cell_type": "code",
   "execution_count": 58,
   "metadata": {
    "ExecuteTime": {
     "end_time": "2022-08-16T20:23:49.615936Z",
     "start_time": "2022-08-16T20:23:49.604965Z"
    }
   },
   "outputs": [
    {
     "data": {
      "text/plain": [
       "(array([], dtype=int64),)"
      ]
     },
     "execution_count": 58,
     "metadata": {},
     "output_type": "execute_result"
    }
   ],
   "source": [
    "np.where(np.array(distancias_std) >= 3)"
   ]
  },
  {
   "cell_type": "markdown",
   "metadata": {},
   "source": [
    "## Método MAD\n",
    "<p> Outra opção mais sensível que o z-score quando as nossas amostras são pequenas e o desvio padrão não performa bem, é o desvio absoluto mediano, este por sua vez tem enfoque em ver dados muito afastados da distribuição mediana dos dados. </p>\n",
    "\n",
    "<p> Como calcular o MAD </p>"
   ]
  },
  {
   "cell_type": "code",
   "execution_count": 87,
   "metadata": {
    "ExecuteTime": {
     "end_time": "2022-08-16T20:47:11.582862Z",
     "start_time": "2022-08-16T20:47:11.571889Z"
    }
   },
   "outputs": [
    {
     "data": {
      "text/plain": [
       "22.0"
      ]
     },
     "execution_count": 87,
     "metadata": {},
     "output_type": "execute_result"
    }
   ],
   "source": [
    "# Calculando a mediana do array\n",
    "base_outlier = np.array(base_outlier) \n",
    "mediana_base = np.median(base_outlier)\n",
    "mediana_base"
   ]
  },
  {
   "cell_type": "code",
   "execution_count": 88,
   "metadata": {
    "ExecuteTime": {
     "end_time": "2022-08-16T20:47:26.757169Z",
     "start_time": "2022-08-16T20:47:26.747194Z"
    }
   },
   "outputs": [
    {
     "data": {
      "text/plain": [
       "array([ 2.,  0.,  2.,  3.,  4.,  3., 22.])"
      ]
     },
     "execution_count": 88,
     "metadata": {},
     "output_type": "execute_result"
    }
   ],
   "source": [
    "# Calculando o array abs mad\n",
    "valores_para_mad = abs(base_outlier-mediana_base)\n",
    "valores_para_mad"
   ]
  },
  {
   "cell_type": "code",
   "execution_count": 89,
   "metadata": {
    "ExecuteTime": {
     "end_time": "2022-08-16T20:47:46.237442Z",
     "start_time": "2022-08-16T20:47:46.231442Z"
    }
   },
   "outputs": [
    {
     "data": {
      "text/plain": [
       "4.4478"
      ]
     },
     "execution_count": 89,
     "metadata": {},
     "output_type": "execute_result"
    }
   ],
   "source": [
    "# Calculando o cut off do mad assumindo que é uma distribuição normal\n",
    "mad = np.median(valores_para_mad)* 1.4826 # Constante que assumme que a distribuição é normal\n",
    "mad"
   ]
  },
  {
   "cell_type": "code",
   "execution_count": 91,
   "metadata": {
    "ExecuteTime": {
     "end_time": "2022-08-16T20:50:16.144068Z",
     "start_time": "2022-08-16T20:50:16.139068Z"
    }
   },
   "outputs": [
    {
     "data": {
      "text/plain": [
       "array([-0.44966051,  0.        ,  0.44966051, -0.67449076, -0.89932101,\n",
       "        0.67449076,  4.94626557])"
      ]
     },
     "execution_count": 91,
     "metadata": {},
     "output_type": "execute_result"
    }
   ],
   "source": [
    "# Pontos outliers para analise mad\n",
    "outliers_mad = (base_outlier-np.median(base_outlier))/mad\n",
    "outliers_mad"
   ]
  },
  {
   "cell_type": "code",
   "execution_count": 93,
   "metadata": {
    "ExecuteTime": {
     "end_time": "2022-08-16T20:50:42.513195Z",
     "start_time": "2022-08-16T20:50:42.493197Z"
    }
   },
   "outputs": [
    {
     "data": {
      "text/plain": [
       "(array([6], dtype=int64),)"
      ]
     },
     "execution_count": 93,
     "metadata": {},
     "output_type": "execute_result"
    }
   ],
   "source": [
    "# Podemos esperar que aproximadamente 95% dos pontos retirados de uma distribuição normal sejam mais do que 2 desvios padrão da média (e mediana) então vamos considerar 2 como cute off\n",
    "np.where(np.array(outliers_mad) >= 3) # o ponto de indice 6 foi considerado um outlier"
   ]
  },
  {
   "cell_type": "markdown",
   "metadata": {
    "ExecuteTime": {
     "end_time": "2021-07-29T22:09:02.457210Z",
     "start_time": "2021-07-29T22:09:02.454281Z"
    }
   },
   "source": [
    "# Analisando dados duplicados - .duplicated( ) - .drop_duplicates( )"
   ]
  },
  {
   "cell_type": "markdown",
   "metadata": {
    "ExecuteTime": {
     "end_time": "2021-07-29T22:10:43.518475Z",
     "start_time": "2021-07-29T22:10:43.473549Z"
    }
   },
   "source": [
    "<p> Dados duplicados são responsáveis por aumento significativo de problemas quando utilizado em analises, mas então: </p>\n",
    "<p>Como checar se existem dados duplicados?</p>\n",
    "\n",
    "```python\n",
    "#Vendo todos dados duplicados\n",
    "df[df['col'].duplicated( subset = [], keep = [] )] \n",
    "```\n",
    "<p> <b>Subset</b> = colunas que queremos checar se há duplicadas.</p>\n",
    "<p> <b>Keep</b> = podendo ser 'last', 'first' ou False (indicando se a ultima a primeira ou todas linhas devem ser checadas)</p>\n",
    "<p> Apos termos nossas colunas, podemos elimina-las, de maneira com que preservemos a integridade do nosso Dataframe. </p>\n",
    "\n",
    "```python\n",
    "#Eliminando todos dados duplicados\n",
    "df.drop_duplicates(subset = [], keep = [])\n",
    "```\n",
    "<p> <b>Subset</b> = colunas que queremos deletar se há duplicadas.</p>\n",
    "<p> <b>Keep</b> = podendo ser 'last', 'first' ou False (indicando se a ultima a primeira ou todas linhas devem ser apagadas)</p>\n"
   ]
  }
 ],
 "metadata": {
  "kernelspec": {
   "display_name": "Python 3 (ipykernel)",
   "language": "python",
   "name": "python3"
  },
  "language_info": {
   "codemirror_mode": {
    "name": "ipython",
    "version": 3
   },
   "file_extension": ".py",
   "mimetype": "text/x-python",
   "name": "python",
   "nbconvert_exporter": "python",
   "pygments_lexer": "ipython3",
   "version": "3.9.7"
  },
  "toc": {
   "base_numbering": 1,
   "nav_menu": {},
   "number_sections": true,
   "sideBar": true,
   "skip_h1_title": false,
   "title_cell": "Table of Contents",
   "title_sidebar": "Contents",
   "toc_cell": false,
   "toc_position": {},
   "toc_section_display": true,
   "toc_window_display": false
  },
  "varInspector": {
   "cols": {
    "lenName": 16,
    "lenType": 16,
    "lenVar": 40
   },
   "kernels_config": {
    "python": {
     "delete_cmd_postfix": "",
     "delete_cmd_prefix": "del ",
     "library": "var_list.py",
     "varRefreshCmd": "print(var_dic_list())"
    },
    "r": {
     "delete_cmd_postfix": ") ",
     "delete_cmd_prefix": "rm(",
     "library": "var_list.r",
     "varRefreshCmd": "cat(var_dic_list()) "
    }
   },
   "types_to_exclude": [
    "module",
    "function",
    "builtin_function_or_method",
    "instance",
    "_Feature"
   ],
   "window_display": false
  }
 },
 "nbformat": 4,
 "nbformat_minor": 4
}
