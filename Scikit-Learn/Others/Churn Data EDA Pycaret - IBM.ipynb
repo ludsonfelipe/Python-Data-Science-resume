{
 "cells": [
  {
   "cell_type": "code",
   "execution_count": 50,
   "metadata": {
    "ExecuteTime": {
     "end_time": "2021-11-01T02:35:16.961230Z",
     "start_time": "2021-11-01T02:35:16.819738Z"
    }
   },
   "outputs": [],
   "source": [
    "import pandas as pd\n",
    "import seaborn as sns\n",
    "import matplotlib.pyplot as plt\n",
    "import numpy as np\n",
    "from sklearn.model_selection import train_test_split\n",
    "from sklearn.preprocessing import MinMaxScaler\n",
    "from sklearn.preprocessing import StandardScaler\n",
    "from pycaret.classification import *"
   ]
  },
  {
   "cell_type": "code",
   "execution_count": 129,
   "metadata": {
    "ExecuteTime": {
     "end_time": "2021-11-01T03:16:38.124315Z",
     "start_time": "2021-11-01T03:16:38.086273Z"
    },
    "scrolled": true
   },
   "outputs": [
    {
     "name": "stdout",
     "output_type": "stream",
     "text": [
      "(7043, 21)\n"
     ]
    },
    {
     "data": {
      "text/html": [
       "<div>\n",
       "<style scoped>\n",
       "    .dataframe tbody tr th:only-of-type {\n",
       "        vertical-align: middle;\n",
       "    }\n",
       "\n",
       "    .dataframe tbody tr th {\n",
       "        vertical-align: top;\n",
       "    }\n",
       "\n",
       "    .dataframe thead th {\n",
       "        text-align: right;\n",
       "    }\n",
       "</style>\n",
       "<table border=\"1\" class=\"dataframe\">\n",
       "  <thead>\n",
       "    <tr style=\"text-align: right;\">\n",
       "      <th></th>\n",
       "      <th>customerID</th>\n",
       "      <th>gender</th>\n",
       "      <th>SeniorCitizen</th>\n",
       "      <th>Partner</th>\n",
       "      <th>Dependents</th>\n",
       "      <th>tenure</th>\n",
       "      <th>PhoneService</th>\n",
       "      <th>MultipleLines</th>\n",
       "      <th>InternetService</th>\n",
       "      <th>OnlineSecurity</th>\n",
       "      <th>OnlineBackup</th>\n",
       "      <th>DeviceProtection</th>\n",
       "      <th>TechSupport</th>\n",
       "      <th>StreamingTV</th>\n",
       "      <th>StreamingMovies</th>\n",
       "      <th>Contract</th>\n",
       "      <th>PaperlessBilling</th>\n",
       "      <th>PaymentMethod</th>\n",
       "      <th>MonthlyCharges</th>\n",
       "      <th>TotalCharges</th>\n",
       "      <th>Churn</th>\n",
       "    </tr>\n",
       "  </thead>\n",
       "  <tbody>\n",
       "    <tr>\n",
       "      <th>0</th>\n",
       "      <td>7590-VHVEG</td>\n",
       "      <td>Female</td>\n",
       "      <td>0</td>\n",
       "      <td>Yes</td>\n",
       "      <td>No</td>\n",
       "      <td>1</td>\n",
       "      <td>No</td>\n",
       "      <td>No phone service</td>\n",
       "      <td>DSL</td>\n",
       "      <td>No</td>\n",
       "      <td>Yes</td>\n",
       "      <td>No</td>\n",
       "      <td>No</td>\n",
       "      <td>No</td>\n",
       "      <td>No</td>\n",
       "      <td>Month-to-month</td>\n",
       "      <td>Yes</td>\n",
       "      <td>Electronic check</td>\n",
       "      <td>29.85</td>\n",
       "      <td>29.85</td>\n",
       "      <td>No</td>\n",
       "    </tr>\n",
       "    <tr>\n",
       "      <th>1</th>\n",
       "      <td>5575-GNVDE</td>\n",
       "      <td>Male</td>\n",
       "      <td>0</td>\n",
       "      <td>No</td>\n",
       "      <td>No</td>\n",
       "      <td>34</td>\n",
       "      <td>Yes</td>\n",
       "      <td>No</td>\n",
       "      <td>DSL</td>\n",
       "      <td>Yes</td>\n",
       "      <td>No</td>\n",
       "      <td>Yes</td>\n",
       "      <td>No</td>\n",
       "      <td>No</td>\n",
       "      <td>No</td>\n",
       "      <td>One year</td>\n",
       "      <td>No</td>\n",
       "      <td>Mailed check</td>\n",
       "      <td>56.95</td>\n",
       "      <td>1889.5</td>\n",
       "      <td>No</td>\n",
       "    </tr>\n",
       "    <tr>\n",
       "      <th>2</th>\n",
       "      <td>3668-QPYBK</td>\n",
       "      <td>Male</td>\n",
       "      <td>0</td>\n",
       "      <td>No</td>\n",
       "      <td>No</td>\n",
       "      <td>2</td>\n",
       "      <td>Yes</td>\n",
       "      <td>No</td>\n",
       "      <td>DSL</td>\n",
       "      <td>Yes</td>\n",
       "      <td>Yes</td>\n",
       "      <td>No</td>\n",
       "      <td>No</td>\n",
       "      <td>No</td>\n",
       "      <td>No</td>\n",
       "      <td>Month-to-month</td>\n",
       "      <td>Yes</td>\n",
       "      <td>Mailed check</td>\n",
       "      <td>53.85</td>\n",
       "      <td>108.15</td>\n",
       "      <td>Yes</td>\n",
       "    </tr>\n",
       "    <tr>\n",
       "      <th>3</th>\n",
       "      <td>7795-CFOCW</td>\n",
       "      <td>Male</td>\n",
       "      <td>0</td>\n",
       "      <td>No</td>\n",
       "      <td>No</td>\n",
       "      <td>45</td>\n",
       "      <td>No</td>\n",
       "      <td>No phone service</td>\n",
       "      <td>DSL</td>\n",
       "      <td>Yes</td>\n",
       "      <td>No</td>\n",
       "      <td>Yes</td>\n",
       "      <td>Yes</td>\n",
       "      <td>No</td>\n",
       "      <td>No</td>\n",
       "      <td>One year</td>\n",
       "      <td>No</td>\n",
       "      <td>Bank transfer (automatic)</td>\n",
       "      <td>42.30</td>\n",
       "      <td>1840.75</td>\n",
       "      <td>No</td>\n",
       "    </tr>\n",
       "    <tr>\n",
       "      <th>4</th>\n",
       "      <td>9237-HQITU</td>\n",
       "      <td>Female</td>\n",
       "      <td>0</td>\n",
       "      <td>No</td>\n",
       "      <td>No</td>\n",
       "      <td>2</td>\n",
       "      <td>Yes</td>\n",
       "      <td>No</td>\n",
       "      <td>Fiber optic</td>\n",
       "      <td>No</td>\n",
       "      <td>No</td>\n",
       "      <td>No</td>\n",
       "      <td>No</td>\n",
       "      <td>No</td>\n",
       "      <td>No</td>\n",
       "      <td>Month-to-month</td>\n",
       "      <td>Yes</td>\n",
       "      <td>Electronic check</td>\n",
       "      <td>70.70</td>\n",
       "      <td>151.65</td>\n",
       "      <td>Yes</td>\n",
       "    </tr>\n",
       "  </tbody>\n",
       "</table>\n",
       "</div>"
      ],
      "text/plain": [
       "   customerID  gender  SeniorCitizen Partner Dependents  tenure PhoneService  \\\n",
       "0  7590-VHVEG  Female              0     Yes         No       1           No   \n",
       "1  5575-GNVDE    Male              0      No         No      34          Yes   \n",
       "2  3668-QPYBK    Male              0      No         No       2          Yes   \n",
       "3  7795-CFOCW    Male              0      No         No      45           No   \n",
       "4  9237-HQITU  Female              0      No         No       2          Yes   \n",
       "\n",
       "      MultipleLines InternetService OnlineSecurity OnlineBackup  \\\n",
       "0  No phone service             DSL             No          Yes   \n",
       "1                No             DSL            Yes           No   \n",
       "2                No             DSL            Yes          Yes   \n",
       "3  No phone service             DSL            Yes           No   \n",
       "4                No     Fiber optic             No           No   \n",
       "\n",
       "  DeviceProtection TechSupport StreamingTV StreamingMovies        Contract  \\\n",
       "0               No          No          No              No  Month-to-month   \n",
       "1              Yes          No          No              No        One year   \n",
       "2               No          No          No              No  Month-to-month   \n",
       "3              Yes         Yes          No              No        One year   \n",
       "4               No          No          No              No  Month-to-month   \n",
       "\n",
       "  PaperlessBilling              PaymentMethod  MonthlyCharges TotalCharges  \\\n",
       "0              Yes           Electronic check           29.85        29.85   \n",
       "1               No               Mailed check           56.95       1889.5   \n",
       "2              Yes               Mailed check           53.85       108.15   \n",
       "3               No  Bank transfer (automatic)           42.30      1840.75   \n",
       "4              Yes           Electronic check           70.70       151.65   \n",
       "\n",
       "  Churn  \n",
       "0    No  \n",
       "1    No  \n",
       "2   Yes  \n",
       "3    No  \n",
       "4   Yes  "
      ]
     },
     "execution_count": 129,
     "metadata": {},
     "output_type": "execute_result"
    }
   ],
   "source": [
    "url = 'C:/Users/felip/Downloads/DataSet/churndata.csv'\n",
    "df = pd.read_csv(url)\n",
    "print(df.shape)\n",
    "df.head()"
   ]
  },
  {
   "cell_type": "markdown",
   "metadata": {},
   "source": [
    "# Data Info\n",
    "<p><b>Context</b></p><p>\n",
    "<b>A fictional telco company that provided home phone and Internet services to 7043 customers in California in Q3.</b>\n",
    "<b>Variables</b></p>\n",
    "<p>\n",
    "<b>CustomerID:</b> A unique ID that identifies each customer.\n",
    "</p><p>\n",
    "<b>Gender:</b> The customer’s gender: Male, Female\n",
    "</p><p>\n",
    "<b>Senior Citizen:</b> Indicates if the customer is 65 or older: Yes, No\n",
    "</p><p>\n",
    "<b>Partner:</b> Indicate if the customer has a partner: Yes, No\n",
    "</p><p>\n",
    "<b>Dependents:</b> Indicates if the customer lives with any dependents: Yes, No. Dependents could be children, parents, grandparents, etc.\n",
    "</p><p>\n",
    "<b>Tenure:</b> Indicates the total amount of months that the customer has been with the company by the end of the quarter specified above.\n",
    "</p><p>\n",
    "<b>Phone Service:</b> Indicates if the customer subscribes to home phone service with the company: Yes, No\n",
    "</p><p>\n",
    "<b>Multiple Lines:</b> Indicates if the customer subscribes to multiple telephone lines with the company: Yes, No\n",
    "</p><p>\n",
    "<b>Internet Service:</b> Indicates if the customer subscribes to Internet service with the company: No, DSL, Fiber Optic, Cable.\n",
    "</p><p>\n",
    "<b>Online Security:</b> Indicates if the customer subscribes to an additional online security service provided by the company: Yes, No\n",
    "</p><p>\n",
    "<b>Online Backup:</b> Indicates if the customer subscribes to an additional online backup service provided by the company: Yes, No\n",
    "</p><p>\n",
    "<b>Device Protection:</b> Indicates if the customer subscribes to an additional device protection plan for their Internet equipment provided by the company: Yes, No\n",
    "</p><p>\n",
    "<b>Tech Support:</b> Indicates if the customer subscribes to an additional technical support plan from the company with reduced wait times: Yes, No\n",
    "</p><p>\n",
    "<b>Streaming TV:</b> Indicates if the customer uses their Internet service to stream television programing from a third party provider: Yes, No. The company does not charge an additional fee for this service.\n",
    "</p><p>\n",
    "<b>Streaming Movies:</b> Indicates if the customer uses their Internet service to stream movies from a third party provider: Yes, No. The company does not charge an additional fee for this service.\n",
    "</p><p>\n",
    "<b>Contract:</b> Indicates the customer’s current contract type: Month-to-Month, One Year, Two Year.\n",
    "</p><p>\n",
    "<b>Paperless Billing:</b> Indicates if the customer has chosen paperless billing: Yes, No\n",
    "</p><p>\n",
    "<b>Payment Method:</b> Indicates how the customer pays their bill: Bank Withdrawal, Credit Card, Mailed Check\n",
    "</p><p>\n",
    "<b>Monthly Charge:</b> Indicates the customer’s current total monthly charge for all their services from the company.\n",
    "</p><p>\n",
    "<b>Total Charges:</b> Indicates the customer’s total charges, calculated to the end of the quarter specified above.\n",
    "</p><p>\n",
    "<b>Churn Label:</b> Yes = the customer left the company this quarter. No = the customer remained with the company. Directly related to Churn Value.\n",
    "</p>"
   ]
  },
  {
   "cell_type": "code",
   "execution_count": 130,
   "metadata": {
    "ExecuteTime": {
     "end_time": "2021-11-01T03:16:38.512595Z",
     "start_time": "2021-11-01T03:16:38.501834Z"
    }
   },
   "outputs": [
    {
     "name": "stdout",
     "output_type": "stream",
     "text": [
      "<class 'pandas.core.frame.DataFrame'>\n",
      "RangeIndex: 7043 entries, 0 to 7042\n",
      "Data columns (total 21 columns):\n",
      " #   Column            Non-Null Count  Dtype  \n",
      "---  ------            --------------  -----  \n",
      " 0   customerID        7043 non-null   object \n",
      " 1   gender            7043 non-null   object \n",
      " 2   SeniorCitizen     7043 non-null   int64  \n",
      " 3   Partner           7043 non-null   object \n",
      " 4   Dependents        7043 non-null   object \n",
      " 5   tenure            7043 non-null   int64  \n",
      " 6   PhoneService      7043 non-null   object \n",
      " 7   MultipleLines     7043 non-null   object \n",
      " 8   InternetService   7043 non-null   object \n",
      " 9   OnlineSecurity    7043 non-null   object \n",
      " 10  OnlineBackup      7043 non-null   object \n",
      " 11  DeviceProtection  7043 non-null   object \n",
      " 12  TechSupport       7043 non-null   object \n",
      " 13  StreamingTV       7043 non-null   object \n",
      " 14  StreamingMovies   7043 non-null   object \n",
      " 15  Contract          7043 non-null   object \n",
      " 16  PaperlessBilling  7043 non-null   object \n",
      " 17  PaymentMethod     7043 non-null   object \n",
      " 18  MonthlyCharges    7043 non-null   float64\n",
      " 19  TotalCharges      7043 non-null   object \n",
      " 20  Churn             7043 non-null   object \n",
      "dtypes: float64(1), int64(2), object(18)\n",
      "memory usage: 1.1+ MB\n"
     ]
    }
   ],
   "source": [
    "df.info()"
   ]
  },
  {
   "cell_type": "markdown",
   "metadata": {},
   "source": [
    "# goal\n",
    "<p> With this Dataset we will be able to do a churn analysis, churn is one of the most requested types of analysis for data scientists, it aims to analyze the reasons why a person leaves or not a certain company or abandons a service, we will work on this dataset, in search of discovering the main reasons for the departure of customers from our fictitious company, cleaning the data and performing our proper analyses.</p>"
   ]
  },
  {
   "cell_type": "markdown",
   "metadata": {},
   "source": [
    "# Cleaning Data\n",
    "<p> In our cleanup process, we look at our useful and not useful variables for our analysis</p>"
   ]
  },
  {
   "cell_type": "code",
   "execution_count": 131,
   "metadata": {
    "ExecuteTime": {
     "end_time": "2021-11-01T03:16:39.111276Z",
     "start_time": "2021-11-01T03:16:39.094685Z"
    }
   },
   "outputs": [
    {
     "data": {
      "text/html": [
       "<div>\n",
       "<style scoped>\n",
       "    .dataframe tbody tr th:only-of-type {\n",
       "        vertical-align: middle;\n",
       "    }\n",
       "\n",
       "    .dataframe tbody tr th {\n",
       "        vertical-align: top;\n",
       "    }\n",
       "\n",
       "    .dataframe thead th {\n",
       "        text-align: right;\n",
       "    }\n",
       "</style>\n",
       "<table border=\"1\" class=\"dataframe\">\n",
       "  <thead>\n",
       "    <tr style=\"text-align: right;\">\n",
       "      <th></th>\n",
       "      <th>customerID</th>\n",
       "      <th>gender</th>\n",
       "      <th>SeniorCitizen</th>\n",
       "      <th>Partner</th>\n",
       "      <th>Dependents</th>\n",
       "      <th>tenure</th>\n",
       "      <th>PhoneService</th>\n",
       "      <th>MultipleLines</th>\n",
       "      <th>InternetService</th>\n",
       "      <th>OnlineSecurity</th>\n",
       "      <th>OnlineBackup</th>\n",
       "      <th>DeviceProtection</th>\n",
       "      <th>TechSupport</th>\n",
       "      <th>StreamingTV</th>\n",
       "      <th>StreamingMovies</th>\n",
       "      <th>Contract</th>\n",
       "      <th>PaperlessBilling</th>\n",
       "      <th>PaymentMethod</th>\n",
       "      <th>MonthlyCharges</th>\n",
       "      <th>TotalCharges</th>\n",
       "      <th>Churn</th>\n",
       "    </tr>\n",
       "  </thead>\n",
       "  <tbody>\n",
       "    <tr>\n",
       "      <th>0</th>\n",
       "      <td>7590-VHVEG</td>\n",
       "      <td>Female</td>\n",
       "      <td>0</td>\n",
       "      <td>Yes</td>\n",
       "      <td>No</td>\n",
       "      <td>1</td>\n",
       "      <td>No</td>\n",
       "      <td>No phone service</td>\n",
       "      <td>DSL</td>\n",
       "      <td>No</td>\n",
       "      <td>Yes</td>\n",
       "      <td>No</td>\n",
       "      <td>No</td>\n",
       "      <td>No</td>\n",
       "      <td>No</td>\n",
       "      <td>Month-to-month</td>\n",
       "      <td>Yes</td>\n",
       "      <td>Electronic check</td>\n",
       "      <td>29.85</td>\n",
       "      <td>29.85</td>\n",
       "      <td>No</td>\n",
       "    </tr>\n",
       "    <tr>\n",
       "      <th>1</th>\n",
       "      <td>5575-GNVDE</td>\n",
       "      <td>Male</td>\n",
       "      <td>0</td>\n",
       "      <td>No</td>\n",
       "      <td>No</td>\n",
       "      <td>34</td>\n",
       "      <td>Yes</td>\n",
       "      <td>No</td>\n",
       "      <td>DSL</td>\n",
       "      <td>Yes</td>\n",
       "      <td>No</td>\n",
       "      <td>Yes</td>\n",
       "      <td>No</td>\n",
       "      <td>No</td>\n",
       "      <td>No</td>\n",
       "      <td>One year</td>\n",
       "      <td>No</td>\n",
       "      <td>Mailed check</td>\n",
       "      <td>56.95</td>\n",
       "      <td>1889.5</td>\n",
       "      <td>No</td>\n",
       "    </tr>\n",
       "    <tr>\n",
       "      <th>2</th>\n",
       "      <td>3668-QPYBK</td>\n",
       "      <td>Male</td>\n",
       "      <td>0</td>\n",
       "      <td>No</td>\n",
       "      <td>No</td>\n",
       "      <td>2</td>\n",
       "      <td>Yes</td>\n",
       "      <td>No</td>\n",
       "      <td>DSL</td>\n",
       "      <td>Yes</td>\n",
       "      <td>Yes</td>\n",
       "      <td>No</td>\n",
       "      <td>No</td>\n",
       "      <td>No</td>\n",
       "      <td>No</td>\n",
       "      <td>Month-to-month</td>\n",
       "      <td>Yes</td>\n",
       "      <td>Mailed check</td>\n",
       "      <td>53.85</td>\n",
       "      <td>108.15</td>\n",
       "      <td>Yes</td>\n",
       "    </tr>\n",
       "  </tbody>\n",
       "</table>\n",
       "</div>"
      ],
      "text/plain": [
       "   customerID  gender  SeniorCitizen Partner Dependents  tenure PhoneService  \\\n",
       "0  7590-VHVEG  Female              0     Yes         No       1           No   \n",
       "1  5575-GNVDE    Male              0      No         No      34          Yes   \n",
       "2  3668-QPYBK    Male              0      No         No       2          Yes   \n",
       "\n",
       "      MultipleLines InternetService OnlineSecurity OnlineBackup  \\\n",
       "0  No phone service             DSL             No          Yes   \n",
       "1                No             DSL            Yes           No   \n",
       "2                No             DSL            Yes          Yes   \n",
       "\n",
       "  DeviceProtection TechSupport StreamingTV StreamingMovies        Contract  \\\n",
       "0               No          No          No              No  Month-to-month   \n",
       "1              Yes          No          No              No        One year   \n",
       "2               No          No          No              No  Month-to-month   \n",
       "\n",
       "  PaperlessBilling     PaymentMethod  MonthlyCharges TotalCharges Churn  \n",
       "0              Yes  Electronic check           29.85        29.85    No  \n",
       "1               No      Mailed check           56.95       1889.5    No  \n",
       "2              Yes      Mailed check           53.85       108.15   Yes  "
      ]
     },
     "execution_count": 131,
     "metadata": {},
     "output_type": "execute_result"
    }
   ],
   "source": [
    "df.head(3)"
   ]
  },
  {
   "cell_type": "markdown",
   "metadata": {},
   "source": [
    "<p> We can see that all variables have their certain importance, but the customerID variable does not bring us any relevant information, and each customer is unique in our dataset. </p>"
   ]
  },
  {
   "cell_type": "code",
   "execution_count": 132,
   "metadata": {
    "ExecuteTime": {
     "end_time": "2021-11-01T03:16:39.556870Z",
     "start_time": "2021-11-01T03:16:39.549036Z"
    }
   },
   "outputs": [
    {
     "name": "stdout",
     "output_type": "stream",
     "text": [
      "number of unique customers: 0\n"
     ]
    }
   ],
   "source": [
    "clients = df.duplicated(subset='customerID').sum()\n",
    "print(f'number of unique customers: {clients}')\n",
    "df_new = df.drop('customerID',axis=1) # eliminating customerID"
   ]
  },
  {
   "cell_type": "markdown",
   "metadata": {},
   "source": [
    "## We can now separate our categorical variables and numeric variables\n"
   ]
  },
  {
   "cell_type": "code",
   "execution_count": 133,
   "metadata": {
    "ExecuteTime": {
     "end_time": "2021-11-01T03:16:40.041957Z",
     "start_time": "2021-11-01T03:16:40.038076Z"
    }
   },
   "outputs": [],
   "source": [
    "list_cat = []\n",
    "list_num = []\n",
    "for i in df_new.columns.tolist():\n",
    "    if df_new[i].dtypes == 'O':\n",
    "        list_cat.append(i)\n",
    "    else:\n",
    "        list_num.append(i)"
   ]
  },
  {
   "cell_type": "code",
   "execution_count": 134,
   "metadata": {
    "ExecuteTime": {
     "end_time": "2021-11-01T03:16:40.307468Z",
     "start_time": "2021-11-01T03:16:40.301608Z"
    }
   },
   "outputs": [
    {
     "data": {
      "text/plain": [
       "['gender',\n",
       " 'Partner',\n",
       " 'Dependents',\n",
       " 'PhoneService',\n",
       " 'MultipleLines',\n",
       " 'InternetService',\n",
       " 'OnlineSecurity',\n",
       " 'OnlineBackup',\n",
       " 'DeviceProtection',\n",
       " 'TechSupport',\n",
       " 'StreamingTV',\n",
       " 'StreamingMovies',\n",
       " 'Contract',\n",
       " 'PaperlessBilling',\n",
       " 'PaymentMethod',\n",
       " 'TotalCharges',\n",
       " 'Churn']"
      ]
     },
     "execution_count": 134,
     "metadata": {},
     "output_type": "execute_result"
    }
   ],
   "source": [
    "list_cat"
   ]
  },
  {
   "cell_type": "code",
   "execution_count": 135,
   "metadata": {
    "ExecuteTime": {
     "end_time": "2021-11-01T03:16:40.562691Z",
     "start_time": "2021-11-01T03:16:40.557783Z"
    }
   },
   "outputs": [
    {
     "data": {
      "text/plain": [
       "['SeniorCitizen', 'tenure', 'MonthlyCharges']"
      ]
     },
     "execution_count": 135,
     "metadata": {},
     "output_type": "execute_result"
    }
   ],
   "source": [
    "list_num"
   ]
  },
  {
   "cell_type": "markdown",
   "metadata": {},
   "source": [
    "<p> With our separation we could see clear errors, such as TotalCharges classified as a categorical variable, and SeniorCitizen classified as a numerical variable </p>\n",
    "<p>Senior Citizen: Indicates if the customer is 65 or older: Yes, No</p>\n",
    "<p>Total Charges: Indicates the customer’s total charges, calculated to the end of the quarter specified above.</p>"
   ]
  },
  {
   "cell_type": "code",
   "execution_count": 136,
   "metadata": {
    "ExecuteTime": {
     "end_time": "2021-11-01T03:16:41.029217Z",
     "start_time": "2021-11-01T03:16:41.020408Z"
    }
   },
   "outputs": [
    {
     "data": {
      "text/plain": [
       "20.2       11\n",
       "           11\n",
       "19.75       9\n",
       "19.65       8\n",
       "20.05       8\n",
       "           ..\n",
       "2275.1      1\n",
       "389.25      1\n",
       "1686.85     1\n",
       "863.1       1\n",
       "272.95      1\n",
       "Name: TotalCharges, Length: 6531, dtype: int64"
      ]
     },
     "execution_count": 136,
     "metadata": {},
     "output_type": "execute_result"
    }
   ],
   "source": [
    "# we can see that there are several lines of our data there are blank data, we will eliminate all of them\n",
    "df_new['TotalCharges'].value_counts()"
   ]
  },
  {
   "cell_type": "code",
   "execution_count": 137,
   "metadata": {
    "ExecuteTime": {
     "end_time": "2021-11-01T03:16:41.269776Z",
     "start_time": "2021-11-01T03:16:41.261942Z"
    }
   },
   "outputs": [],
   "source": [
    "# our seniorcitizen data is probably correct, just categorized wrong.\n",
    "df_new['SeniorCitizen'].unique()\n",
    "df_new.loc[df_new['SeniorCitizen']==0,'SeniorCitizen'] = 'No'\n",
    "df_new.loc[df_new['SeniorCitizen']==1,'SeniorCitizen'] = 'Yes'"
   ]
  },
  {
   "cell_type": "code",
   "execution_count": 138,
   "metadata": {
    "ExecuteTime": {
     "end_time": "2021-11-01T03:16:41.495445Z",
     "start_time": "2021-11-01T03:16:41.484735Z"
    }
   },
   "outputs": [],
   "source": [
    "# eliminating our blank data\n",
    "df_new = df_new[~df_new['TotalCharges'].str.contains(' ')]\n",
    "# floating our data\n",
    "df_new['TotalCharges'] = df_new.loc[:,'TotalCharges'].astype('float')"
   ]
  },
  {
   "cell_type": "code",
   "execution_count": 139,
   "metadata": {
    "ExecuteTime": {
     "end_time": "2021-11-01T03:16:41.749695Z",
     "start_time": "2021-11-01T03:16:41.727219Z"
    }
   },
   "outputs": [
    {
     "data": {
      "text/html": [
       "<div>\n",
       "<style scoped>\n",
       "    .dataframe tbody tr th:only-of-type {\n",
       "        vertical-align: middle;\n",
       "    }\n",
       "\n",
       "    .dataframe tbody tr th {\n",
       "        vertical-align: top;\n",
       "    }\n",
       "\n",
       "    .dataframe thead th {\n",
       "        text-align: right;\n",
       "    }\n",
       "</style>\n",
       "<table border=\"1\" class=\"dataframe\">\n",
       "  <thead>\n",
       "    <tr style=\"text-align: right;\">\n",
       "      <th></th>\n",
       "      <th>gender</th>\n",
       "      <th>SeniorCitizen</th>\n",
       "      <th>Partner</th>\n",
       "      <th>Dependents</th>\n",
       "      <th>tenure</th>\n",
       "      <th>PhoneService</th>\n",
       "      <th>MultipleLines</th>\n",
       "      <th>InternetService</th>\n",
       "      <th>OnlineSecurity</th>\n",
       "      <th>OnlineBackup</th>\n",
       "      <th>DeviceProtection</th>\n",
       "      <th>TechSupport</th>\n",
       "      <th>StreamingTV</th>\n",
       "      <th>StreamingMovies</th>\n",
       "      <th>Contract</th>\n",
       "      <th>PaperlessBilling</th>\n",
       "      <th>PaymentMethod</th>\n",
       "      <th>MonthlyCharges</th>\n",
       "      <th>TotalCharges</th>\n",
       "      <th>Churn</th>\n",
       "    </tr>\n",
       "  </thead>\n",
       "  <tbody>\n",
       "    <tr>\n",
       "      <th>0</th>\n",
       "      <td>Female</td>\n",
       "      <td>No</td>\n",
       "      <td>Yes</td>\n",
       "      <td>No</td>\n",
       "      <td>1</td>\n",
       "      <td>No</td>\n",
       "      <td>No phone service</td>\n",
       "      <td>DSL</td>\n",
       "      <td>No</td>\n",
       "      <td>Yes</td>\n",
       "      <td>No</td>\n",
       "      <td>No</td>\n",
       "      <td>No</td>\n",
       "      <td>No</td>\n",
       "      <td>Month-to-month</td>\n",
       "      <td>Yes</td>\n",
       "      <td>Electronic check</td>\n",
       "      <td>29.85</td>\n",
       "      <td>29.85</td>\n",
       "      <td>No</td>\n",
       "    </tr>\n",
       "    <tr>\n",
       "      <th>1</th>\n",
       "      <td>Male</td>\n",
       "      <td>No</td>\n",
       "      <td>No</td>\n",
       "      <td>No</td>\n",
       "      <td>34</td>\n",
       "      <td>Yes</td>\n",
       "      <td>No</td>\n",
       "      <td>DSL</td>\n",
       "      <td>Yes</td>\n",
       "      <td>No</td>\n",
       "      <td>Yes</td>\n",
       "      <td>No</td>\n",
       "      <td>No</td>\n",
       "      <td>No</td>\n",
       "      <td>One year</td>\n",
       "      <td>No</td>\n",
       "      <td>Mailed check</td>\n",
       "      <td>56.95</td>\n",
       "      <td>1889.50</td>\n",
       "      <td>No</td>\n",
       "    </tr>\n",
       "    <tr>\n",
       "      <th>2</th>\n",
       "      <td>Male</td>\n",
       "      <td>No</td>\n",
       "      <td>No</td>\n",
       "      <td>No</td>\n",
       "      <td>2</td>\n",
       "      <td>Yes</td>\n",
       "      <td>No</td>\n",
       "      <td>DSL</td>\n",
       "      <td>Yes</td>\n",
       "      <td>Yes</td>\n",
       "      <td>No</td>\n",
       "      <td>No</td>\n",
       "      <td>No</td>\n",
       "      <td>No</td>\n",
       "      <td>Month-to-month</td>\n",
       "      <td>Yes</td>\n",
       "      <td>Mailed check</td>\n",
       "      <td>53.85</td>\n",
       "      <td>108.15</td>\n",
       "      <td>Yes</td>\n",
       "    </tr>\n",
       "    <tr>\n",
       "      <th>3</th>\n",
       "      <td>Male</td>\n",
       "      <td>No</td>\n",
       "      <td>No</td>\n",
       "      <td>No</td>\n",
       "      <td>45</td>\n",
       "      <td>No</td>\n",
       "      <td>No phone service</td>\n",
       "      <td>DSL</td>\n",
       "      <td>Yes</td>\n",
       "      <td>No</td>\n",
       "      <td>Yes</td>\n",
       "      <td>Yes</td>\n",
       "      <td>No</td>\n",
       "      <td>No</td>\n",
       "      <td>One year</td>\n",
       "      <td>No</td>\n",
       "      <td>Bank transfer (automatic)</td>\n",
       "      <td>42.30</td>\n",
       "      <td>1840.75</td>\n",
       "      <td>No</td>\n",
       "    </tr>\n",
       "    <tr>\n",
       "      <th>4</th>\n",
       "      <td>Female</td>\n",
       "      <td>No</td>\n",
       "      <td>No</td>\n",
       "      <td>No</td>\n",
       "      <td>2</td>\n",
       "      <td>Yes</td>\n",
       "      <td>No</td>\n",
       "      <td>Fiber optic</td>\n",
       "      <td>No</td>\n",
       "      <td>No</td>\n",
       "      <td>No</td>\n",
       "      <td>No</td>\n",
       "      <td>No</td>\n",
       "      <td>No</td>\n",
       "      <td>Month-to-month</td>\n",
       "      <td>Yes</td>\n",
       "      <td>Electronic check</td>\n",
       "      <td>70.70</td>\n",
       "      <td>151.65</td>\n",
       "      <td>Yes</td>\n",
       "    </tr>\n",
       "    <tr>\n",
       "      <th>...</th>\n",
       "      <td>...</td>\n",
       "      <td>...</td>\n",
       "      <td>...</td>\n",
       "      <td>...</td>\n",
       "      <td>...</td>\n",
       "      <td>...</td>\n",
       "      <td>...</td>\n",
       "      <td>...</td>\n",
       "      <td>...</td>\n",
       "      <td>...</td>\n",
       "      <td>...</td>\n",
       "      <td>...</td>\n",
       "      <td>...</td>\n",
       "      <td>...</td>\n",
       "      <td>...</td>\n",
       "      <td>...</td>\n",
       "      <td>...</td>\n",
       "      <td>...</td>\n",
       "      <td>...</td>\n",
       "      <td>...</td>\n",
       "    </tr>\n",
       "    <tr>\n",
       "      <th>7038</th>\n",
       "      <td>Male</td>\n",
       "      <td>No</td>\n",
       "      <td>Yes</td>\n",
       "      <td>Yes</td>\n",
       "      <td>24</td>\n",
       "      <td>Yes</td>\n",
       "      <td>Yes</td>\n",
       "      <td>DSL</td>\n",
       "      <td>Yes</td>\n",
       "      <td>No</td>\n",
       "      <td>Yes</td>\n",
       "      <td>Yes</td>\n",
       "      <td>Yes</td>\n",
       "      <td>Yes</td>\n",
       "      <td>One year</td>\n",
       "      <td>Yes</td>\n",
       "      <td>Mailed check</td>\n",
       "      <td>84.80</td>\n",
       "      <td>1990.50</td>\n",
       "      <td>No</td>\n",
       "    </tr>\n",
       "    <tr>\n",
       "      <th>7039</th>\n",
       "      <td>Female</td>\n",
       "      <td>No</td>\n",
       "      <td>Yes</td>\n",
       "      <td>Yes</td>\n",
       "      <td>72</td>\n",
       "      <td>Yes</td>\n",
       "      <td>Yes</td>\n",
       "      <td>Fiber optic</td>\n",
       "      <td>No</td>\n",
       "      <td>Yes</td>\n",
       "      <td>Yes</td>\n",
       "      <td>No</td>\n",
       "      <td>Yes</td>\n",
       "      <td>Yes</td>\n",
       "      <td>One year</td>\n",
       "      <td>Yes</td>\n",
       "      <td>Credit card (automatic)</td>\n",
       "      <td>103.20</td>\n",
       "      <td>7362.90</td>\n",
       "      <td>No</td>\n",
       "    </tr>\n",
       "    <tr>\n",
       "      <th>7040</th>\n",
       "      <td>Female</td>\n",
       "      <td>No</td>\n",
       "      <td>Yes</td>\n",
       "      <td>Yes</td>\n",
       "      <td>11</td>\n",
       "      <td>No</td>\n",
       "      <td>No phone service</td>\n",
       "      <td>DSL</td>\n",
       "      <td>Yes</td>\n",
       "      <td>No</td>\n",
       "      <td>No</td>\n",
       "      <td>No</td>\n",
       "      <td>No</td>\n",
       "      <td>No</td>\n",
       "      <td>Month-to-month</td>\n",
       "      <td>Yes</td>\n",
       "      <td>Electronic check</td>\n",
       "      <td>29.60</td>\n",
       "      <td>346.45</td>\n",
       "      <td>No</td>\n",
       "    </tr>\n",
       "    <tr>\n",
       "      <th>7041</th>\n",
       "      <td>Male</td>\n",
       "      <td>Yes</td>\n",
       "      <td>Yes</td>\n",
       "      <td>No</td>\n",
       "      <td>4</td>\n",
       "      <td>Yes</td>\n",
       "      <td>Yes</td>\n",
       "      <td>Fiber optic</td>\n",
       "      <td>No</td>\n",
       "      <td>No</td>\n",
       "      <td>No</td>\n",
       "      <td>No</td>\n",
       "      <td>No</td>\n",
       "      <td>No</td>\n",
       "      <td>Month-to-month</td>\n",
       "      <td>Yes</td>\n",
       "      <td>Mailed check</td>\n",
       "      <td>74.40</td>\n",
       "      <td>306.60</td>\n",
       "      <td>Yes</td>\n",
       "    </tr>\n",
       "    <tr>\n",
       "      <th>7042</th>\n",
       "      <td>Male</td>\n",
       "      <td>No</td>\n",
       "      <td>No</td>\n",
       "      <td>No</td>\n",
       "      <td>66</td>\n",
       "      <td>Yes</td>\n",
       "      <td>No</td>\n",
       "      <td>Fiber optic</td>\n",
       "      <td>Yes</td>\n",
       "      <td>No</td>\n",
       "      <td>Yes</td>\n",
       "      <td>Yes</td>\n",
       "      <td>Yes</td>\n",
       "      <td>Yes</td>\n",
       "      <td>Two year</td>\n",
       "      <td>Yes</td>\n",
       "      <td>Bank transfer (automatic)</td>\n",
       "      <td>105.65</td>\n",
       "      <td>6844.50</td>\n",
       "      <td>No</td>\n",
       "    </tr>\n",
       "  </tbody>\n",
       "</table>\n",
       "<p>7032 rows × 20 columns</p>\n",
       "</div>"
      ],
      "text/plain": [
       "      gender SeniorCitizen Partner Dependents  tenure PhoneService  \\\n",
       "0     Female            No     Yes         No       1           No   \n",
       "1       Male            No      No         No      34          Yes   \n",
       "2       Male            No      No         No       2          Yes   \n",
       "3       Male            No      No         No      45           No   \n",
       "4     Female            No      No         No       2          Yes   \n",
       "...      ...           ...     ...        ...     ...          ...   \n",
       "7038    Male            No     Yes        Yes      24          Yes   \n",
       "7039  Female            No     Yes        Yes      72          Yes   \n",
       "7040  Female            No     Yes        Yes      11           No   \n",
       "7041    Male           Yes     Yes         No       4          Yes   \n",
       "7042    Male            No      No         No      66          Yes   \n",
       "\n",
       "         MultipleLines InternetService OnlineSecurity OnlineBackup  \\\n",
       "0     No phone service             DSL             No          Yes   \n",
       "1                   No             DSL            Yes           No   \n",
       "2                   No             DSL            Yes          Yes   \n",
       "3     No phone service             DSL            Yes           No   \n",
       "4                   No     Fiber optic             No           No   \n",
       "...                ...             ...            ...          ...   \n",
       "7038               Yes             DSL            Yes           No   \n",
       "7039               Yes     Fiber optic             No          Yes   \n",
       "7040  No phone service             DSL            Yes           No   \n",
       "7041               Yes     Fiber optic             No           No   \n",
       "7042                No     Fiber optic            Yes           No   \n",
       "\n",
       "     DeviceProtection TechSupport StreamingTV StreamingMovies        Contract  \\\n",
       "0                  No          No          No              No  Month-to-month   \n",
       "1                 Yes          No          No              No        One year   \n",
       "2                  No          No          No              No  Month-to-month   \n",
       "3                 Yes         Yes          No              No        One year   \n",
       "4                  No          No          No              No  Month-to-month   \n",
       "...               ...         ...         ...             ...             ...   \n",
       "7038              Yes         Yes         Yes             Yes        One year   \n",
       "7039              Yes          No         Yes             Yes        One year   \n",
       "7040               No          No          No              No  Month-to-month   \n",
       "7041               No          No          No              No  Month-to-month   \n",
       "7042              Yes         Yes         Yes             Yes        Two year   \n",
       "\n",
       "     PaperlessBilling              PaymentMethod  MonthlyCharges  \\\n",
       "0                 Yes           Electronic check           29.85   \n",
       "1                  No               Mailed check           56.95   \n",
       "2                 Yes               Mailed check           53.85   \n",
       "3                  No  Bank transfer (automatic)           42.30   \n",
       "4                 Yes           Electronic check           70.70   \n",
       "...               ...                        ...             ...   \n",
       "7038              Yes               Mailed check           84.80   \n",
       "7039              Yes    Credit card (automatic)          103.20   \n",
       "7040              Yes           Electronic check           29.60   \n",
       "7041              Yes               Mailed check           74.40   \n",
       "7042              Yes  Bank transfer (automatic)          105.65   \n",
       "\n",
       "      TotalCharges Churn  \n",
       "0            29.85    No  \n",
       "1          1889.50    No  \n",
       "2           108.15   Yes  \n",
       "3          1840.75    No  \n",
       "4           151.65   Yes  \n",
       "...            ...   ...  \n",
       "7038       1990.50    No  \n",
       "7039       7362.90    No  \n",
       "7040        346.45    No  \n",
       "7041        306.60   Yes  \n",
       "7042       6844.50    No  \n",
       "\n",
       "[7032 rows x 20 columns]"
      ]
     },
     "execution_count": 139,
     "metadata": {},
     "output_type": "execute_result"
    }
   ],
   "source": [
    "df_new"
   ]
  },
  {
   "cell_type": "markdown",
   "metadata": {},
   "source": [
    "## reviewing our data\n"
   ]
  },
  {
   "cell_type": "code",
   "execution_count": 140,
   "metadata": {
    "ExecuteTime": {
     "end_time": "2021-11-01T03:16:42.216613Z",
     "start_time": "2021-11-01T03:16:42.212688Z"
    }
   },
   "outputs": [],
   "source": [
    "list_cat = []\n",
    "list_num = []\n",
    "for i in df_new.columns.tolist():\n",
    "    if df_new[i].dtypes == 'O':\n",
    "        list_cat.append(i)\n",
    "    else:\n",
    "        list_num.append(i)"
   ]
  },
  {
   "cell_type": "code",
   "execution_count": 141,
   "metadata": {
    "ExecuteTime": {
     "end_time": "2021-11-01T03:16:42.722288Z",
     "start_time": "2021-11-01T03:16:42.717406Z"
    }
   },
   "outputs": [
    {
     "data": {
      "text/plain": [
       "['gender',\n",
       " 'SeniorCitizen',\n",
       " 'Partner',\n",
       " 'Dependents',\n",
       " 'PhoneService',\n",
       " 'MultipleLines',\n",
       " 'InternetService',\n",
       " 'OnlineSecurity',\n",
       " 'OnlineBackup',\n",
       " 'DeviceProtection',\n",
       " 'TechSupport',\n",
       " 'StreamingTV',\n",
       " 'StreamingMovies',\n",
       " 'Contract',\n",
       " 'PaperlessBilling',\n",
       " 'PaymentMethod']"
      ]
     },
     "execution_count": 141,
     "metadata": {},
     "output_type": "execute_result"
    }
   ],
   "source": [
    "list_cat.pop()\n",
    "list_cat"
   ]
  },
  {
   "cell_type": "code",
   "execution_count": 142,
   "metadata": {
    "ExecuteTime": {
     "end_time": "2021-11-01T03:16:43.866553Z",
     "start_time": "2021-11-01T03:16:43.861666Z"
    }
   },
   "outputs": [
    {
     "data": {
      "text/plain": [
       "['tenure', 'MonthlyCharges', 'TotalCharges']"
      ]
     },
     "execution_count": 142,
     "metadata": {},
     "output_type": "execute_result"
    }
   ],
   "source": [
    "list_num"
   ]
  },
  {
   "cell_type": "code",
   "execution_count": 154,
   "metadata": {
    "ExecuteTime": {
     "end_time": "2021-11-01T03:24:04.211538Z",
     "start_time": "2021-11-01T03:24:02.534885Z"
    }
   },
   "outputs": [
    {
     "data": {
      "text/plain": [
       "<seaborn.axisgrid.PairGrid at 0x27858a21040>"
      ]
     },
     "execution_count": 154,
     "metadata": {},
     "output_type": "execute_result"
    },
    {
     "data": {
      "image/png": "[encoded data removed]",
      "text/plain": [
       "<Figure size 540x540 with 12 Axes>"
      ]
     },
     "metadata": {
      "needs_background": "light"
     },
     "output_type": "display_data"
    }
   ],
   "source": [
    "# seeing the distribution of our data\n",
    "sns.pairplot(df_new)"
   ]
  },
  {
   "cell_type": "markdown",
   "metadata": {},
   "source": [
    "<p> We can continue this data, making a more refined analysis on top of your variables, and creating models to predict churn </p>"
   ]
  },
  {
   "cell_type": "code",
   "execution_count": 155,
   "metadata": {
    "ExecuteTime": {
     "end_time": "2021-11-01T04:18:54.761578Z",
     "start_time": "2021-11-01T04:18:52.080764Z"
    },
    "scrolled": false
   },
   "outputs": [
    {
     "name": "stdout",
     "output_type": "stream",
     "text": [
      "gender\n"
     ]
    },
    {
     "data": {
      "text/plain": [
       "<AxesSubplot:xlabel='gender', ylabel='count'>"
      ]
     },
     "metadata": {},
     "output_type": "display_data"
    },
    {
     "data": {
      "image/png": "[encoded data removed]",
      "text/plain": [
       "<Figure size 432x288 with 1 Axes>"
      ]
     },
     "metadata": {
      "needs_background": "light"
     },
     "output_type": "display_data"
    },
    {
     "name": "stdout",
     "output_type": "stream",
     "text": [
      "SeniorCitizen\n"
     ]
    },
    {
     "data": {
      "text/plain": [
       "<AxesSubplot:xlabel='SeniorCitizen', ylabel='count'>"
      ]
     },
     "metadata": {},
     "output_type": "display_data"
    },
    {
     "data": {
      "image/png": "[encoded data removed]",
      "text/plain": [
       "<Figure size 432x288 with 1 Axes>"
      ]
     },
     "metadata": {
      "needs_background": "light"
     },
     "output_type": "display_data"
    },
    {
     "name": "stdout",
     "output_type": "stream",
     "text": [
      "Partner\n"
     ]
    },
    {
     "data": {
      "text/plain": [
       "<AxesSubplot:xlabel='Partner', ylabel='count'>"
      ]
     },
     "metadata": {},
     "output_type": "display_data"
    },
    {
     "data": {
      "image/png": "[encoded data removed]",
      "text/plain": [
       "<Figure size 432x288 with 1 Axes>"
      ]
     },
     "metadata": {
      "needs_background": "light"
     },
     "output_type": "display_data"
    },
    {
     "name": "stdout",
     "output_type": "stream",
     "text": [
      "Dependents\n"
     ]
    },
    {
     "data": {
      "text/plain": [
       "<AxesSubplot:xlabel='Dependents', ylabel='count'>"
      ]
     },
     "metadata": {},
     "output_type": "display_data"
    },
    {
     "data": {
      "image/png": "[encoded data removed]",
      "text/plain": [
       "<Figure size 432x288 with 1 Axes>"
      ]
     },
     "metadata": {
      "needs_background": "light"
     },
     "output_type": "display_data"
    },
    {
     "name": "stdout",
     "output_type": "stream",
     "text": [
      "PhoneService\n"
     ]
    },
    {
     "data": {
      "text/plain": [
       "<AxesSubplot:xlabel='PhoneService', ylabel='count'>"
      ]
     },
     "metadata": {},
     "output_type": "display_data"
    },
    {
     "data": {
      "image/png": "[encoded data removed]",
      "text/plain": [
       "<Figure size 432x288 with 1 Axes>"
      ]
     },
     "metadata": {
      "needs_background": "light"
     },
     "output_type": "display_data"
    },
    {
     "name": "stdout",
     "output_type": "stream",
     "text": [
      "MultipleLines\n"
     ]
    },
    {
     "data": {
      "text/plain": [
       "<AxesSubplot:xlabel='MultipleLines', ylabel='count'>"
      ]
     },
     "metadata": {},
     "output_type": "display_data"
    },
    {
     "data": {
      "image/png": "[encoded data removed]",
      "text/plain": [
       "<Figure size 432x288 with 1 Axes>"
      ]
     },
     "metadata": {
      "needs_background": "light"
     },
     "output_type": "display_data"
    },
    {
     "name": "stdout",
     "output_type": "stream",
     "text": [
      "InternetService\n"
     ]
    },
    {
     "data": {
      "text/plain": [
       "<AxesSubplot:xlabel='InternetService', ylabel='count'>"
      ]
     },
     "metadata": {},
     "output_type": "display_data"
    },
    {
     "data": {
      "image/png": "[encoded data removed]",
      "text/plain": [
       "<Figure size 432x288 with 1 Axes>"
      ]
     },
     "metadata": {
      "needs_background": "light"
     },
     "output_type": "display_data"
    },
    {
     "name": "stdout",
     "output_type": "stream",
     "text": [
      "OnlineSecurity\n"
     ]
    },
    {
     "data": {
      "text/plain": [
       "<AxesSubplot:xlabel='OnlineSecurity', ylabel='count'>"
      ]
     },
     "metadata": {},
     "output_type": "display_data"
    },
    {
     "data": {
      "image/png": "[encoded data removed]",
      "text/plain": [
       "<Figure size 432x288 with 1 Axes>"
      ]
     },
     "metadata": {
      "needs_background": "light"
     },
     "output_type": "display_data"
    },
    {
     "name": "stdout",
     "output_type": "stream",
     "text": [
      "OnlineBackup\n"
     ]
    },
    {
     "data": {
      "text/plain": [
       "<AxesSubplot:xlabel='OnlineBackup', ylabel='count'>"
      ]
     },
     "metadata": {},
     "output_type": "display_data"
    },
    {
     "data": {
      "image/png": "[encoded data removed]",
      "text/plain": [
       "<Figure size 432x288 with 1 Axes>"
      ]
     },
     "metadata": {
      "needs_background": "light"
     },
     "output_type": "display_data"
    },
    {
     "name": "stdout",
     "output_type": "stream",
     "text": [
      "DeviceProtection\n"
     ]
    },
    {
     "data": {
      "text/plain": [
       "<AxesSubplot:xlabel='DeviceProtection', ylabel='count'>"
      ]
     },
     "metadata": {},
     "output_type": "display_data"
    },
    {
     "data": {
      "image/png": "[encoded data removed]",
      "text/plain": [
       "<Figure size 432x288 with 1 Axes>"
      ]
     },
     "metadata": {
      "needs_background": "light"
     },
     "output_type": "display_data"
    },
    {
     "name": "stdout",
     "output_type": "stream",
     "text": [
      "TechSupport\n"
     ]
    },
    {
     "data": {
      "text/plain": [
       "<AxesSubplot:xlabel='TechSupport', ylabel='count'>"
      ]
     },
     "metadata": {},
     "output_type": "display_data"
    },
    {
     "data": {
      "image/png": "[encoded data removed]",
      "text/plain": [
       "<Figure size 432x288 with 1 Axes>"
      ]
     },
     "metadata": {
      "needs_background": "light"
     },
     "output_type": "display_data"
    },
    {
     "name": "stdout",
     "output_type": "stream",
     "text": [
      "StreamingTV\n"
     ]
    },
    {
     "data": {
      "text/plain": [
       "<AxesSubplot:xlabel='StreamingTV', ylabel='count'>"
      ]
     },
     "metadata": {},
     "output_type": "display_data"
    },
    {
     "data": {
      "image/png": "[encoded data removed]",
      "text/plain": [
       "<Figure size 432x288 with 1 Axes>"
      ]
     },
     "metadata": {
      "needs_background": "light"
     },
     "output_type": "display_data"
    },
    {
     "name": "stdout",
     "output_type": "stream",
     "text": [
      "StreamingMovies\n"
     ]
    },
    {
     "data": {
      "text/plain": [
       "<AxesSubplot:xlabel='StreamingMovies', ylabel='count'>"
      ]
     },
     "metadata": {},
     "output_type": "display_data"
    },
    {
     "data": {
      "image/png": "[encoded data removed]",
      "text/plain": [
       "<Figure size 432x288 with 1 Axes>"
      ]
     },
     "metadata": {
      "needs_background": "light"
     },
     "output_type": "display_data"
    },
    {
     "name": "stdout",
     "output_type": "stream",
     "text": [
      "Contract\n"
     ]
    },
    {
     "data": {
      "text/plain": [
       "<AxesSubplot:xlabel='Contract', ylabel='count'>"
      ]
     },
     "metadata": {},
     "output_type": "display_data"
    },
    {
     "data": {
      "image/png": "[encoded data removed]",
      "text/plain": [
       "<Figure size 432x288 with 1 Axes>"
      ]
     },
     "metadata": {
      "needs_background": "light"
     },
     "output_type": "display_data"
    },
    {
     "name": "stdout",
     "output_type": "stream",
     "text": [
      "PaperlessBilling\n"
     ]
    },
    {
     "data": {
      "text/plain": [
       "<AxesSubplot:xlabel='PaperlessBilling', ylabel='count'>"
      ]
     },
     "metadata": {},
     "output_type": "display_data"
    },
    {
     "data": {
      "image/png": "[encoded data removed]",
      "text/plain": [
       "<Figure size 432x288 with 1 Axes>"
      ]
     },
     "metadata": {
      "needs_background": "light"
     },
     "output_type": "display_data"
    },
    {
     "name": "stdout",
     "output_type": "stream",
     "text": [
      "PaymentMethod\n"
     ]
    },
    {
     "data": {
      "text/plain": [
       "<AxesSubplot:xlabel='PaymentMethod', ylabel='count'>"
      ]
     },
     "metadata": {},
     "output_type": "display_data"
    },
    {
     "data": {
      "image/png": "[encoded data removed]",
      "text/plain": [
       "<Figure size 432x288 with 1 Axes>"
      ]
     },
     "metadata": {
      "needs_background": "light"
     },
     "output_type": "display_data"
    }
   ],
   "source": [
    "for i in list_cat:\n",
    "    print(i)\n",
    "    display(sns.countplot(x=i,data=df_new))\n",
    "    plt.show()"
   ]
  },
  {
   "cell_type": "code",
   "execution_count": 179,
   "metadata": {
    "ExecuteTime": {
     "end_time": "2021-11-01T05:07:06.697608Z",
     "start_time": "2021-11-01T05:07:06.680956Z"
    }
   },
   "outputs": [],
   "source": [
    "data_to_ml = pd.get_dummies(df_new,columns=['PaymentMethod'])"
   ]
  },
  {
   "cell_type": "code",
   "execution_count": 180,
   "metadata": {
    "ExecuteTime": {
     "end_time": "2021-11-01T05:07:43.877924Z",
     "start_time": "2021-11-01T05:07:21.418340Z"
    },
    "scrolled": true
   },
   "outputs": [
    {
     "data": {
      "text/html": [
       "<style  type=\"text/css\" >\n",
       "#T_a54afa62_3ad1_11ec_ab6e_7085c2d1bd59row29_col1,#T_a54afa62_3ad1_11ec_ab6e_7085c2d1bd59row44_col1{\n",
       "            background-color:  lightgreen;\n",
       "        }</style><table id=\"T_a54afa62_3ad1_11ec_ab6e_7085c2d1bd59\" ><thead>    <tr>        <th class=\"blank level0\" ></th>        <th class=\"col_heading level0 col0\" >Description</th>        <th class=\"col_heading level0 col1\" >Value</th>    </tr></thead><tbody>\n",
       "                <tr>\n",
       "                        <th id=\"T_a54afa62_3ad1_11ec_ab6e_7085c2d1bd59level0_row0\" class=\"row_heading level0 row0\" >0</th>\n",
       "                        <td id=\"T_a54afa62_3ad1_11ec_ab6e_7085c2d1bd59row0_col0\" class=\"data row0 col0\" >session_id</td>\n",
       "                        <td id=\"T_a54afa62_3ad1_11ec_ab6e_7085c2d1bd59row0_col1\" class=\"data row0 col1\" >3674</td>\n",
       "            </tr>\n",
       "            <tr>\n",
       "                        <th id=\"T_a54afa62_3ad1_11ec_ab6e_7085c2d1bd59level0_row1\" class=\"row_heading level0 row1\" >1</th>\n",
       "                        <td id=\"T_a54afa62_3ad1_11ec_ab6e_7085c2d1bd59row1_col0\" class=\"data row1 col0\" >Target</td>\n",
       "                        <td id=\"T_a54afa62_3ad1_11ec_ab6e_7085c2d1bd59row1_col1\" class=\"data row1 col1\" >Churn</td>\n",
       "            </tr>\n",
       "            <tr>\n",
       "                        <th id=\"T_a54afa62_3ad1_11ec_ab6e_7085c2d1bd59level0_row2\" class=\"row_heading level0 row2\" >2</th>\n",
       "                        <td id=\"T_a54afa62_3ad1_11ec_ab6e_7085c2d1bd59row2_col0\" class=\"data row2 col0\" >Target Type</td>\n",
       "                        <td id=\"T_a54afa62_3ad1_11ec_ab6e_7085c2d1bd59row2_col1\" class=\"data row2 col1\" >Binary</td>\n",
       "            </tr>\n",
       "            <tr>\n",
       "                        <th id=\"T_a54afa62_3ad1_11ec_ab6e_7085c2d1bd59level0_row3\" class=\"row_heading level0 row3\" >3</th>\n",
       "                        <td id=\"T_a54afa62_3ad1_11ec_ab6e_7085c2d1bd59row3_col0\" class=\"data row3 col0\" >Label Encoded</td>\n",
       "                        <td id=\"T_a54afa62_3ad1_11ec_ab6e_7085c2d1bd59row3_col1\" class=\"data row3 col1\" >No: 0, Yes: 1</td>\n",
       "            </tr>\n",
       "            <tr>\n",
       "                        <th id=\"T_a54afa62_3ad1_11ec_ab6e_7085c2d1bd59level0_row4\" class=\"row_heading level0 row4\" >4</th>\n",
       "                        <td id=\"T_a54afa62_3ad1_11ec_ab6e_7085c2d1bd59row4_col0\" class=\"data row4 col0\" >Original Data</td>\n",
       "                        <td id=\"T_a54afa62_3ad1_11ec_ab6e_7085c2d1bd59row4_col1\" class=\"data row4 col1\" >(7032, 23)</td>\n",
       "            </tr>\n",
       "            <tr>\n",
       "                        <th id=\"T_a54afa62_3ad1_11ec_ab6e_7085c2d1bd59level0_row5\" class=\"row_heading level0 row5\" >5</th>\n",
       "                        <td id=\"T_a54afa62_3ad1_11ec_ab6e_7085c2d1bd59row5_col0\" class=\"data row5 col0\" >Missing Values</td>\n",
       "                        <td id=\"T_a54afa62_3ad1_11ec_ab6e_7085c2d1bd59row5_col1\" class=\"data row5 col1\" >False</td>\n",
       "            </tr>\n",
       "            <tr>\n",
       "                        <th id=\"T_a54afa62_3ad1_11ec_ab6e_7085c2d1bd59level0_row6\" class=\"row_heading level0 row6\" >6</th>\n",
       "                        <td id=\"T_a54afa62_3ad1_11ec_ab6e_7085c2d1bd59row6_col0\" class=\"data row6 col0\" >Numeric Features</td>\n",
       "                        <td id=\"T_a54afa62_3ad1_11ec_ab6e_7085c2d1bd59row6_col1\" class=\"data row6 col1\" >7</td>\n",
       "            </tr>\n",
       "            <tr>\n",
       "                        <th id=\"T_a54afa62_3ad1_11ec_ab6e_7085c2d1bd59level0_row7\" class=\"row_heading level0 row7\" >7</th>\n",
       "                        <td id=\"T_a54afa62_3ad1_11ec_ab6e_7085c2d1bd59row7_col0\" class=\"data row7 col0\" >Categorical Features</td>\n",
       "                        <td id=\"T_a54afa62_3ad1_11ec_ab6e_7085c2d1bd59row7_col1\" class=\"data row7 col1\" >15</td>\n",
       "            </tr>\n",
       "            <tr>\n",
       "                        <th id=\"T_a54afa62_3ad1_11ec_ab6e_7085c2d1bd59level0_row8\" class=\"row_heading level0 row8\" >8</th>\n",
       "                        <td id=\"T_a54afa62_3ad1_11ec_ab6e_7085c2d1bd59row8_col0\" class=\"data row8 col0\" >Ordinal Features</td>\n",
       "                        <td id=\"T_a54afa62_3ad1_11ec_ab6e_7085c2d1bd59row8_col1\" class=\"data row8 col1\" >False</td>\n",
       "            </tr>\n",
       "            <tr>\n",
       "                        <th id=\"T_a54afa62_3ad1_11ec_ab6e_7085c2d1bd59level0_row9\" class=\"row_heading level0 row9\" >9</th>\n",
       "                        <td id=\"T_a54afa62_3ad1_11ec_ab6e_7085c2d1bd59row9_col0\" class=\"data row9 col0\" >High Cardinality Features</td>\n",
       "                        <td id=\"T_a54afa62_3ad1_11ec_ab6e_7085c2d1bd59row9_col1\" class=\"data row9 col1\" >False</td>\n",
       "            </tr>\n",
       "            <tr>\n",
       "                        <th id=\"T_a54afa62_3ad1_11ec_ab6e_7085c2d1bd59level0_row10\" class=\"row_heading level0 row10\" >10</th>\n",
       "                        <td id=\"T_a54afa62_3ad1_11ec_ab6e_7085c2d1bd59row10_col0\" class=\"data row10 col0\" >High Cardinality Method</td>\n",
       "                        <td id=\"T_a54afa62_3ad1_11ec_ab6e_7085c2d1bd59row10_col1\" class=\"data row10 col1\" >None</td>\n",
       "            </tr>\n",
       "            <tr>\n",
       "                        <th id=\"T_a54afa62_3ad1_11ec_ab6e_7085c2d1bd59level0_row11\" class=\"row_heading level0 row11\" >11</th>\n",
       "                        <td id=\"T_a54afa62_3ad1_11ec_ab6e_7085c2d1bd59row11_col0\" class=\"data row11 col0\" >Transformed Train Set</td>\n",
       "                        <td id=\"T_a54afa62_3ad1_11ec_ab6e_7085c2d1bd59row11_col1\" class=\"data row11 col1\" >(4922, 32)</td>\n",
       "            </tr>\n",
       "            <tr>\n",
       "                        <th id=\"T_a54afa62_3ad1_11ec_ab6e_7085c2d1bd59level0_row12\" class=\"row_heading level0 row12\" >12</th>\n",
       "                        <td id=\"T_a54afa62_3ad1_11ec_ab6e_7085c2d1bd59row12_col0\" class=\"data row12 col0\" >Transformed Test Set</td>\n",
       "                        <td id=\"T_a54afa62_3ad1_11ec_ab6e_7085c2d1bd59row12_col1\" class=\"data row12 col1\" >(2110, 32)</td>\n",
       "            </tr>\n",
       "            <tr>\n",
       "                        <th id=\"T_a54afa62_3ad1_11ec_ab6e_7085c2d1bd59level0_row13\" class=\"row_heading level0 row13\" >13</th>\n",
       "                        <td id=\"T_a54afa62_3ad1_11ec_ab6e_7085c2d1bd59row13_col0\" class=\"data row13 col0\" >Shuffle Train-Test</td>\n",
       "                        <td id=\"T_a54afa62_3ad1_11ec_ab6e_7085c2d1bd59row13_col1\" class=\"data row13 col1\" >True</td>\n",
       "            </tr>\n",
       "            <tr>\n",
       "                        <th id=\"T_a54afa62_3ad1_11ec_ab6e_7085c2d1bd59level0_row14\" class=\"row_heading level0 row14\" >14</th>\n",
       "                        <td id=\"T_a54afa62_3ad1_11ec_ab6e_7085c2d1bd59row14_col0\" class=\"data row14 col0\" >Stratify Train-Test</td>\n",
       "                        <td id=\"T_a54afa62_3ad1_11ec_ab6e_7085c2d1bd59row14_col1\" class=\"data row14 col1\" >False</td>\n",
       "            </tr>\n",
       "            <tr>\n",
       "                        <th id=\"T_a54afa62_3ad1_11ec_ab6e_7085c2d1bd59level0_row15\" class=\"row_heading level0 row15\" >15</th>\n",
       "                        <td id=\"T_a54afa62_3ad1_11ec_ab6e_7085c2d1bd59row15_col0\" class=\"data row15 col0\" >Fold Generator</td>\n",
       "                        <td id=\"T_a54afa62_3ad1_11ec_ab6e_7085c2d1bd59row15_col1\" class=\"data row15 col1\" >StratifiedKFold</td>\n",
       "            </tr>\n",
       "            <tr>\n",
       "                        <th id=\"T_a54afa62_3ad1_11ec_ab6e_7085c2d1bd59level0_row16\" class=\"row_heading level0 row16\" >16</th>\n",
       "                        <td id=\"T_a54afa62_3ad1_11ec_ab6e_7085c2d1bd59row16_col0\" class=\"data row16 col0\" >Fold Number</td>\n",
       "                        <td id=\"T_a54afa62_3ad1_11ec_ab6e_7085c2d1bd59row16_col1\" class=\"data row16 col1\" >10</td>\n",
       "            </tr>\n",
       "            <tr>\n",
       "                        <th id=\"T_a54afa62_3ad1_11ec_ab6e_7085c2d1bd59level0_row17\" class=\"row_heading level0 row17\" >17</th>\n",
       "                        <td id=\"T_a54afa62_3ad1_11ec_ab6e_7085c2d1bd59row17_col0\" class=\"data row17 col0\" >CPU Jobs</td>\n",
       "                        <td id=\"T_a54afa62_3ad1_11ec_ab6e_7085c2d1bd59row17_col1\" class=\"data row17 col1\" >-1</td>\n",
       "            </tr>\n",
       "            <tr>\n",
       "                        <th id=\"T_a54afa62_3ad1_11ec_ab6e_7085c2d1bd59level0_row18\" class=\"row_heading level0 row18\" >18</th>\n",
       "                        <td id=\"T_a54afa62_3ad1_11ec_ab6e_7085c2d1bd59row18_col0\" class=\"data row18 col0\" >Use GPU</td>\n",
       "                        <td id=\"T_a54afa62_3ad1_11ec_ab6e_7085c2d1bd59row18_col1\" class=\"data row18 col1\" >False</td>\n",
       "            </tr>\n",
       "            <tr>\n",
       "                        <th id=\"T_a54afa62_3ad1_11ec_ab6e_7085c2d1bd59level0_row19\" class=\"row_heading level0 row19\" >19</th>\n",
       "                        <td id=\"T_a54afa62_3ad1_11ec_ab6e_7085c2d1bd59row19_col0\" class=\"data row19 col0\" >Log Experiment</td>\n",
       "                        <td id=\"T_a54afa62_3ad1_11ec_ab6e_7085c2d1bd59row19_col1\" class=\"data row19 col1\" >False</td>\n",
       "            </tr>\n",
       "            <tr>\n",
       "                        <th id=\"T_a54afa62_3ad1_11ec_ab6e_7085c2d1bd59level0_row20\" class=\"row_heading level0 row20\" >20</th>\n",
       "                        <td id=\"T_a54afa62_3ad1_11ec_ab6e_7085c2d1bd59row20_col0\" class=\"data row20 col0\" >Experiment Name</td>\n",
       "                        <td id=\"T_a54afa62_3ad1_11ec_ab6e_7085c2d1bd59row20_col1\" class=\"data row20 col1\" >clf-default-name</td>\n",
       "            </tr>\n",
       "            <tr>\n",
       "                        <th id=\"T_a54afa62_3ad1_11ec_ab6e_7085c2d1bd59level0_row21\" class=\"row_heading level0 row21\" >21</th>\n",
       "                        <td id=\"T_a54afa62_3ad1_11ec_ab6e_7085c2d1bd59row21_col0\" class=\"data row21 col0\" >USI</td>\n",
       "                        <td id=\"T_a54afa62_3ad1_11ec_ab6e_7085c2d1bd59row21_col1\" class=\"data row21 col1\" >24b8</td>\n",
       "            </tr>\n",
       "            <tr>\n",
       "                        <th id=\"T_a54afa62_3ad1_11ec_ab6e_7085c2d1bd59level0_row22\" class=\"row_heading level0 row22\" >22</th>\n",
       "                        <td id=\"T_a54afa62_3ad1_11ec_ab6e_7085c2d1bd59row22_col0\" class=\"data row22 col0\" >Imputation Type</td>\n",
       "                        <td id=\"T_a54afa62_3ad1_11ec_ab6e_7085c2d1bd59row22_col1\" class=\"data row22 col1\" >simple</td>\n",
       "            </tr>\n",
       "            <tr>\n",
       "                        <th id=\"T_a54afa62_3ad1_11ec_ab6e_7085c2d1bd59level0_row23\" class=\"row_heading level0 row23\" >23</th>\n",
       "                        <td id=\"T_a54afa62_3ad1_11ec_ab6e_7085c2d1bd59row23_col0\" class=\"data row23 col0\" >Iterative Imputation Iteration</td>\n",
       "                        <td id=\"T_a54afa62_3ad1_11ec_ab6e_7085c2d1bd59row23_col1\" class=\"data row23 col1\" >None</td>\n",
       "            </tr>\n",
       "            <tr>\n",
       "                        <th id=\"T_a54afa62_3ad1_11ec_ab6e_7085c2d1bd59level0_row24\" class=\"row_heading level0 row24\" >24</th>\n",
       "                        <td id=\"T_a54afa62_3ad1_11ec_ab6e_7085c2d1bd59row24_col0\" class=\"data row24 col0\" >Numeric Imputer</td>\n",
       "                        <td id=\"T_a54afa62_3ad1_11ec_ab6e_7085c2d1bd59row24_col1\" class=\"data row24 col1\" >mean</td>\n",
       "            </tr>\n",
       "            <tr>\n",
       "                        <th id=\"T_a54afa62_3ad1_11ec_ab6e_7085c2d1bd59level0_row25\" class=\"row_heading level0 row25\" >25</th>\n",
       "                        <td id=\"T_a54afa62_3ad1_11ec_ab6e_7085c2d1bd59row25_col0\" class=\"data row25 col0\" >Iterative Imputation Numeric Model</td>\n",
       "                        <td id=\"T_a54afa62_3ad1_11ec_ab6e_7085c2d1bd59row25_col1\" class=\"data row25 col1\" >None</td>\n",
       "            </tr>\n",
       "            <tr>\n",
       "                        <th id=\"T_a54afa62_3ad1_11ec_ab6e_7085c2d1bd59level0_row26\" class=\"row_heading level0 row26\" >26</th>\n",
       "                        <td id=\"T_a54afa62_3ad1_11ec_ab6e_7085c2d1bd59row26_col0\" class=\"data row26 col0\" >Categorical Imputer</td>\n",
       "                        <td id=\"T_a54afa62_3ad1_11ec_ab6e_7085c2d1bd59row26_col1\" class=\"data row26 col1\" >constant</td>\n",
       "            </tr>\n",
       "            <tr>\n",
       "                        <th id=\"T_a54afa62_3ad1_11ec_ab6e_7085c2d1bd59level0_row27\" class=\"row_heading level0 row27\" >27</th>\n",
       "                        <td id=\"T_a54afa62_3ad1_11ec_ab6e_7085c2d1bd59row27_col0\" class=\"data row27 col0\" >Iterative Imputation Categorical Model</td>\n",
       "                        <td id=\"T_a54afa62_3ad1_11ec_ab6e_7085c2d1bd59row27_col1\" class=\"data row27 col1\" >None</td>\n",
       "            </tr>\n",
       "            <tr>\n",
       "                        <th id=\"T_a54afa62_3ad1_11ec_ab6e_7085c2d1bd59level0_row28\" class=\"row_heading level0 row28\" >28</th>\n",
       "                        <td id=\"T_a54afa62_3ad1_11ec_ab6e_7085c2d1bd59row28_col0\" class=\"data row28 col0\" >Unknown Categoricals Handling</td>\n",
       "                        <td id=\"T_a54afa62_3ad1_11ec_ab6e_7085c2d1bd59row28_col1\" class=\"data row28 col1\" >least_frequent</td>\n",
       "            </tr>\n",
       "            <tr>\n",
       "                        <th id=\"T_a54afa62_3ad1_11ec_ab6e_7085c2d1bd59level0_row29\" class=\"row_heading level0 row29\" >29</th>\n",
       "                        <td id=\"T_a54afa62_3ad1_11ec_ab6e_7085c2d1bd59row29_col0\" class=\"data row29 col0\" >Normalize</td>\n",
       "                        <td id=\"T_a54afa62_3ad1_11ec_ab6e_7085c2d1bd59row29_col1\" class=\"data row29 col1\" >True</td>\n",
       "            </tr>\n",
       "            <tr>\n",
       "                        <th id=\"T_a54afa62_3ad1_11ec_ab6e_7085c2d1bd59level0_row30\" class=\"row_heading level0 row30\" >30</th>\n",
       "                        <td id=\"T_a54afa62_3ad1_11ec_ab6e_7085c2d1bd59row30_col0\" class=\"data row30 col0\" >Normalize Method</td>\n",
       "                        <td id=\"T_a54afa62_3ad1_11ec_ab6e_7085c2d1bd59row30_col1\" class=\"data row30 col1\" >minmax</td>\n",
       "            </tr>\n",
       "            <tr>\n",
       "                        <th id=\"T_a54afa62_3ad1_11ec_ab6e_7085c2d1bd59level0_row31\" class=\"row_heading level0 row31\" >31</th>\n",
       "                        <td id=\"T_a54afa62_3ad1_11ec_ab6e_7085c2d1bd59row31_col0\" class=\"data row31 col0\" >Transformation</td>\n",
       "                        <td id=\"T_a54afa62_3ad1_11ec_ab6e_7085c2d1bd59row31_col1\" class=\"data row31 col1\" >False</td>\n",
       "            </tr>\n",
       "            <tr>\n",
       "                        <th id=\"T_a54afa62_3ad1_11ec_ab6e_7085c2d1bd59level0_row32\" class=\"row_heading level0 row32\" >32</th>\n",
       "                        <td id=\"T_a54afa62_3ad1_11ec_ab6e_7085c2d1bd59row32_col0\" class=\"data row32 col0\" >Transformation Method</td>\n",
       "                        <td id=\"T_a54afa62_3ad1_11ec_ab6e_7085c2d1bd59row32_col1\" class=\"data row32 col1\" >None</td>\n",
       "            </tr>\n",
       "            <tr>\n",
       "                        <th id=\"T_a54afa62_3ad1_11ec_ab6e_7085c2d1bd59level0_row33\" class=\"row_heading level0 row33\" >33</th>\n",
       "                        <td id=\"T_a54afa62_3ad1_11ec_ab6e_7085c2d1bd59row33_col0\" class=\"data row33 col0\" >PCA</td>\n",
       "                        <td id=\"T_a54afa62_3ad1_11ec_ab6e_7085c2d1bd59row33_col1\" class=\"data row33 col1\" >False</td>\n",
       "            </tr>\n",
       "            <tr>\n",
       "                        <th id=\"T_a54afa62_3ad1_11ec_ab6e_7085c2d1bd59level0_row34\" class=\"row_heading level0 row34\" >34</th>\n",
       "                        <td id=\"T_a54afa62_3ad1_11ec_ab6e_7085c2d1bd59row34_col0\" class=\"data row34 col0\" >PCA Method</td>\n",
       "                        <td id=\"T_a54afa62_3ad1_11ec_ab6e_7085c2d1bd59row34_col1\" class=\"data row34 col1\" >None</td>\n",
       "            </tr>\n",
       "            <tr>\n",
       "                        <th id=\"T_a54afa62_3ad1_11ec_ab6e_7085c2d1bd59level0_row35\" class=\"row_heading level0 row35\" >35</th>\n",
       "                        <td id=\"T_a54afa62_3ad1_11ec_ab6e_7085c2d1bd59row35_col0\" class=\"data row35 col0\" >PCA Components</td>\n",
       "                        <td id=\"T_a54afa62_3ad1_11ec_ab6e_7085c2d1bd59row35_col1\" class=\"data row35 col1\" >None</td>\n",
       "            </tr>\n",
       "            <tr>\n",
       "                        <th id=\"T_a54afa62_3ad1_11ec_ab6e_7085c2d1bd59level0_row36\" class=\"row_heading level0 row36\" >36</th>\n",
       "                        <td id=\"T_a54afa62_3ad1_11ec_ab6e_7085c2d1bd59row36_col0\" class=\"data row36 col0\" >Ignore Low Variance</td>\n",
       "                        <td id=\"T_a54afa62_3ad1_11ec_ab6e_7085c2d1bd59row36_col1\" class=\"data row36 col1\" >False</td>\n",
       "            </tr>\n",
       "            <tr>\n",
       "                        <th id=\"T_a54afa62_3ad1_11ec_ab6e_7085c2d1bd59level0_row37\" class=\"row_heading level0 row37\" >37</th>\n",
       "                        <td id=\"T_a54afa62_3ad1_11ec_ab6e_7085c2d1bd59row37_col0\" class=\"data row37 col0\" >Combine Rare Levels</td>\n",
       "                        <td id=\"T_a54afa62_3ad1_11ec_ab6e_7085c2d1bd59row37_col1\" class=\"data row37 col1\" >False</td>\n",
       "            </tr>\n",
       "            <tr>\n",
       "                        <th id=\"T_a54afa62_3ad1_11ec_ab6e_7085c2d1bd59level0_row38\" class=\"row_heading level0 row38\" >38</th>\n",
       "                        <td id=\"T_a54afa62_3ad1_11ec_ab6e_7085c2d1bd59row38_col0\" class=\"data row38 col0\" >Rare Level Threshold</td>\n",
       "                        <td id=\"T_a54afa62_3ad1_11ec_ab6e_7085c2d1bd59row38_col1\" class=\"data row38 col1\" >None</td>\n",
       "            </tr>\n",
       "            <tr>\n",
       "                        <th id=\"T_a54afa62_3ad1_11ec_ab6e_7085c2d1bd59level0_row39\" class=\"row_heading level0 row39\" >39</th>\n",
       "                        <td id=\"T_a54afa62_3ad1_11ec_ab6e_7085c2d1bd59row39_col0\" class=\"data row39 col0\" >Numeric Binning</td>\n",
       "                        <td id=\"T_a54afa62_3ad1_11ec_ab6e_7085c2d1bd59row39_col1\" class=\"data row39 col1\" >False</td>\n",
       "            </tr>\n",
       "            <tr>\n",
       "                        <th id=\"T_a54afa62_3ad1_11ec_ab6e_7085c2d1bd59level0_row40\" class=\"row_heading level0 row40\" >40</th>\n",
       "                        <td id=\"T_a54afa62_3ad1_11ec_ab6e_7085c2d1bd59row40_col0\" class=\"data row40 col0\" >Remove Outliers</td>\n",
       "                        <td id=\"T_a54afa62_3ad1_11ec_ab6e_7085c2d1bd59row40_col1\" class=\"data row40 col1\" >False</td>\n",
       "            </tr>\n",
       "            <tr>\n",
       "                        <th id=\"T_a54afa62_3ad1_11ec_ab6e_7085c2d1bd59level0_row41\" class=\"row_heading level0 row41\" >41</th>\n",
       "                        <td id=\"T_a54afa62_3ad1_11ec_ab6e_7085c2d1bd59row41_col0\" class=\"data row41 col0\" >Outliers Threshold</td>\n",
       "                        <td id=\"T_a54afa62_3ad1_11ec_ab6e_7085c2d1bd59row41_col1\" class=\"data row41 col1\" >None</td>\n",
       "            </tr>\n",
       "            <tr>\n",
       "                        <th id=\"T_a54afa62_3ad1_11ec_ab6e_7085c2d1bd59level0_row42\" class=\"row_heading level0 row42\" >42</th>\n",
       "                        <td id=\"T_a54afa62_3ad1_11ec_ab6e_7085c2d1bd59row42_col0\" class=\"data row42 col0\" >Remove Multicollinearity</td>\n",
       "                        <td id=\"T_a54afa62_3ad1_11ec_ab6e_7085c2d1bd59row42_col1\" class=\"data row42 col1\" >False</td>\n",
       "            </tr>\n",
       "            <tr>\n",
       "                        <th id=\"T_a54afa62_3ad1_11ec_ab6e_7085c2d1bd59level0_row43\" class=\"row_heading level0 row43\" >43</th>\n",
       "                        <td id=\"T_a54afa62_3ad1_11ec_ab6e_7085c2d1bd59row43_col0\" class=\"data row43 col0\" >Multicollinearity Threshold</td>\n",
       "                        <td id=\"T_a54afa62_3ad1_11ec_ab6e_7085c2d1bd59row43_col1\" class=\"data row43 col1\" >None</td>\n",
       "            </tr>\n",
       "            <tr>\n",
       "                        <th id=\"T_a54afa62_3ad1_11ec_ab6e_7085c2d1bd59level0_row44\" class=\"row_heading level0 row44\" >44</th>\n",
       "                        <td id=\"T_a54afa62_3ad1_11ec_ab6e_7085c2d1bd59row44_col0\" class=\"data row44 col0\" >Remove Perfect Collinearity</td>\n",
       "                        <td id=\"T_a54afa62_3ad1_11ec_ab6e_7085c2d1bd59row44_col1\" class=\"data row44 col1\" >True</td>\n",
       "            </tr>\n",
       "            <tr>\n",
       "                        <th id=\"T_a54afa62_3ad1_11ec_ab6e_7085c2d1bd59level0_row45\" class=\"row_heading level0 row45\" >45</th>\n",
       "                        <td id=\"T_a54afa62_3ad1_11ec_ab6e_7085c2d1bd59row45_col0\" class=\"data row45 col0\" >Clustering</td>\n",
       "                        <td id=\"T_a54afa62_3ad1_11ec_ab6e_7085c2d1bd59row45_col1\" class=\"data row45 col1\" >False</td>\n",
       "            </tr>\n",
       "            <tr>\n",
       "                        <th id=\"T_a54afa62_3ad1_11ec_ab6e_7085c2d1bd59level0_row46\" class=\"row_heading level0 row46\" >46</th>\n",
       "                        <td id=\"T_a54afa62_3ad1_11ec_ab6e_7085c2d1bd59row46_col0\" class=\"data row46 col0\" >Clustering Iteration</td>\n",
       "                        <td id=\"T_a54afa62_3ad1_11ec_ab6e_7085c2d1bd59row46_col1\" class=\"data row46 col1\" >None</td>\n",
       "            </tr>\n",
       "            <tr>\n",
       "                        <th id=\"T_a54afa62_3ad1_11ec_ab6e_7085c2d1bd59level0_row47\" class=\"row_heading level0 row47\" >47</th>\n",
       "                        <td id=\"T_a54afa62_3ad1_11ec_ab6e_7085c2d1bd59row47_col0\" class=\"data row47 col0\" >Polynomial Features</td>\n",
       "                        <td id=\"T_a54afa62_3ad1_11ec_ab6e_7085c2d1bd59row47_col1\" class=\"data row47 col1\" >False</td>\n",
       "            </tr>\n",
       "            <tr>\n",
       "                        <th id=\"T_a54afa62_3ad1_11ec_ab6e_7085c2d1bd59level0_row48\" class=\"row_heading level0 row48\" >48</th>\n",
       "                        <td id=\"T_a54afa62_3ad1_11ec_ab6e_7085c2d1bd59row48_col0\" class=\"data row48 col0\" >Polynomial Degree</td>\n",
       "                        <td id=\"T_a54afa62_3ad1_11ec_ab6e_7085c2d1bd59row48_col1\" class=\"data row48 col1\" >None</td>\n",
       "            </tr>\n",
       "            <tr>\n",
       "                        <th id=\"T_a54afa62_3ad1_11ec_ab6e_7085c2d1bd59level0_row49\" class=\"row_heading level0 row49\" >49</th>\n",
       "                        <td id=\"T_a54afa62_3ad1_11ec_ab6e_7085c2d1bd59row49_col0\" class=\"data row49 col0\" >Trignometry Features</td>\n",
       "                        <td id=\"T_a54afa62_3ad1_11ec_ab6e_7085c2d1bd59row49_col1\" class=\"data row49 col1\" >False</td>\n",
       "            </tr>\n",
       "            <tr>\n",
       "                        <th id=\"T_a54afa62_3ad1_11ec_ab6e_7085c2d1bd59level0_row50\" class=\"row_heading level0 row50\" >50</th>\n",
       "                        <td id=\"T_a54afa62_3ad1_11ec_ab6e_7085c2d1bd59row50_col0\" class=\"data row50 col0\" >Polynomial Threshold</td>\n",
       "                        <td id=\"T_a54afa62_3ad1_11ec_ab6e_7085c2d1bd59row50_col1\" class=\"data row50 col1\" >None</td>\n",
       "            </tr>\n",
       "            <tr>\n",
       "                        <th id=\"T_a54afa62_3ad1_11ec_ab6e_7085c2d1bd59level0_row51\" class=\"row_heading level0 row51\" >51</th>\n",
       "                        <td id=\"T_a54afa62_3ad1_11ec_ab6e_7085c2d1bd59row51_col0\" class=\"data row51 col0\" >Group Features</td>\n",
       "                        <td id=\"T_a54afa62_3ad1_11ec_ab6e_7085c2d1bd59row51_col1\" class=\"data row51 col1\" >False</td>\n",
       "            </tr>\n",
       "            <tr>\n",
       "                        <th id=\"T_a54afa62_3ad1_11ec_ab6e_7085c2d1bd59level0_row52\" class=\"row_heading level0 row52\" >52</th>\n",
       "                        <td id=\"T_a54afa62_3ad1_11ec_ab6e_7085c2d1bd59row52_col0\" class=\"data row52 col0\" >Feature Selection</td>\n",
       "                        <td id=\"T_a54afa62_3ad1_11ec_ab6e_7085c2d1bd59row52_col1\" class=\"data row52 col1\" >False</td>\n",
       "            </tr>\n",
       "            <tr>\n",
       "                        <th id=\"T_a54afa62_3ad1_11ec_ab6e_7085c2d1bd59level0_row53\" class=\"row_heading level0 row53\" >53</th>\n",
       "                        <td id=\"T_a54afa62_3ad1_11ec_ab6e_7085c2d1bd59row53_col0\" class=\"data row53 col0\" >Feature Selection Method</td>\n",
       "                        <td id=\"T_a54afa62_3ad1_11ec_ab6e_7085c2d1bd59row53_col1\" class=\"data row53 col1\" >classic</td>\n",
       "            </tr>\n",
       "            <tr>\n",
       "                        <th id=\"T_a54afa62_3ad1_11ec_ab6e_7085c2d1bd59level0_row54\" class=\"row_heading level0 row54\" >54</th>\n",
       "                        <td id=\"T_a54afa62_3ad1_11ec_ab6e_7085c2d1bd59row54_col0\" class=\"data row54 col0\" >Features Selection Threshold</td>\n",
       "                        <td id=\"T_a54afa62_3ad1_11ec_ab6e_7085c2d1bd59row54_col1\" class=\"data row54 col1\" >None</td>\n",
       "            </tr>\n",
       "            <tr>\n",
       "                        <th id=\"T_a54afa62_3ad1_11ec_ab6e_7085c2d1bd59level0_row55\" class=\"row_heading level0 row55\" >55</th>\n",
       "                        <td id=\"T_a54afa62_3ad1_11ec_ab6e_7085c2d1bd59row55_col0\" class=\"data row55 col0\" >Feature Interaction</td>\n",
       "                        <td id=\"T_a54afa62_3ad1_11ec_ab6e_7085c2d1bd59row55_col1\" class=\"data row55 col1\" >False</td>\n",
       "            </tr>\n",
       "            <tr>\n",
       "                        <th id=\"T_a54afa62_3ad1_11ec_ab6e_7085c2d1bd59level0_row56\" class=\"row_heading level0 row56\" >56</th>\n",
       "                        <td id=\"T_a54afa62_3ad1_11ec_ab6e_7085c2d1bd59row56_col0\" class=\"data row56 col0\" >Feature Ratio</td>\n",
       "                        <td id=\"T_a54afa62_3ad1_11ec_ab6e_7085c2d1bd59row56_col1\" class=\"data row56 col1\" >False</td>\n",
       "            </tr>\n",
       "            <tr>\n",
       "                        <th id=\"T_a54afa62_3ad1_11ec_ab6e_7085c2d1bd59level0_row57\" class=\"row_heading level0 row57\" >57</th>\n",
       "                        <td id=\"T_a54afa62_3ad1_11ec_ab6e_7085c2d1bd59row57_col0\" class=\"data row57 col0\" >Interaction Threshold</td>\n",
       "                        <td id=\"T_a54afa62_3ad1_11ec_ab6e_7085c2d1bd59row57_col1\" class=\"data row57 col1\" >None</td>\n",
       "            </tr>\n",
       "            <tr>\n",
       "                        <th id=\"T_a54afa62_3ad1_11ec_ab6e_7085c2d1bd59level0_row58\" class=\"row_heading level0 row58\" >58</th>\n",
       "                        <td id=\"T_a54afa62_3ad1_11ec_ab6e_7085c2d1bd59row58_col0\" class=\"data row58 col0\" >Fix Imbalance</td>\n",
       "                        <td id=\"T_a54afa62_3ad1_11ec_ab6e_7085c2d1bd59row58_col1\" class=\"data row58 col1\" >False</td>\n",
       "            </tr>\n",
       "            <tr>\n",
       "                        <th id=\"T_a54afa62_3ad1_11ec_ab6e_7085c2d1bd59level0_row59\" class=\"row_heading level0 row59\" >59</th>\n",
       "                        <td id=\"T_a54afa62_3ad1_11ec_ab6e_7085c2d1bd59row59_col0\" class=\"data row59 col0\" >Fix Imbalance Method</td>\n",
       "                        <td id=\"T_a54afa62_3ad1_11ec_ab6e_7085c2d1bd59row59_col1\" class=\"data row59 col1\" >SMOTE</td>\n",
       "            </tr>\n",
       "    </tbody></table>"
      ],
      "text/plain": [
       "<pandas.io.formats.style.Styler at 0x27859a00790>"
      ]
     },
     "metadata": {},
     "output_type": "display_data"
    }
   ],
   "source": [
    "# feature engineering, creating dummies, and normalize\n",
    "automl = setup(data=data_to_ml, target = 'Churn',normalize=True, normalize_method = 'minmax')"
   ]
  },
  {
   "cell_type": "code",
   "execution_count": 181,
   "metadata": {
    "ExecuteTime": {
     "end_time": "2021-11-01T05:09:40.112989Z",
     "start_time": "2021-11-01T05:07:51.706603Z"
    }
   },
   "outputs": [
    {
     "data": {
      "text/html": [
       "<style  type=\"text/css\" >\n",
       "    #T_eaa68426_3ad1_11ec_96a5_7085c2d1bd59 th {\n",
       "          text-align: left;\n",
       "    }#T_eaa68426_3ad1_11ec_96a5_7085c2d1bd59row0_col0,#T_eaa68426_3ad1_11ec_96a5_7085c2d1bd59row0_col3,#T_eaa68426_3ad1_11ec_96a5_7085c2d1bd59row0_col5,#T_eaa68426_3ad1_11ec_96a5_7085c2d1bd59row1_col0,#T_eaa68426_3ad1_11ec_96a5_7085c2d1bd59row1_col1,#T_eaa68426_3ad1_11ec_96a5_7085c2d1bd59row1_col2,#T_eaa68426_3ad1_11ec_96a5_7085c2d1bd59row1_col3,#T_eaa68426_3ad1_11ec_96a5_7085c2d1bd59row1_col4,#T_eaa68426_3ad1_11ec_96a5_7085c2d1bd59row1_col5,#T_eaa68426_3ad1_11ec_96a5_7085c2d1bd59row1_col6,#T_eaa68426_3ad1_11ec_96a5_7085c2d1bd59row1_col7,#T_eaa68426_3ad1_11ec_96a5_7085c2d1bd59row2_col0,#T_eaa68426_3ad1_11ec_96a5_7085c2d1bd59row2_col1,#T_eaa68426_3ad1_11ec_96a5_7085c2d1bd59row2_col2,#T_eaa68426_3ad1_11ec_96a5_7085c2d1bd59row2_col3,#T_eaa68426_3ad1_11ec_96a5_7085c2d1bd59row2_col4,#T_eaa68426_3ad1_11ec_96a5_7085c2d1bd59row2_col5,#T_eaa68426_3ad1_11ec_96a5_7085c2d1bd59row2_col6,#T_eaa68426_3ad1_11ec_96a5_7085c2d1bd59row2_col7,#T_eaa68426_3ad1_11ec_96a5_7085c2d1bd59row3_col0,#T_eaa68426_3ad1_11ec_96a5_7085c2d1bd59row3_col1,#T_eaa68426_3ad1_11ec_96a5_7085c2d1bd59row3_col2,#T_eaa68426_3ad1_11ec_96a5_7085c2d1bd59row3_col3,#T_eaa68426_3ad1_11ec_96a5_7085c2d1bd59row3_col4,#T_eaa68426_3ad1_11ec_96a5_7085c2d1bd59row3_col5,#T_eaa68426_3ad1_11ec_96a5_7085c2d1bd59row3_col6,#T_eaa68426_3ad1_11ec_96a5_7085c2d1bd59row3_col7,#T_eaa68426_3ad1_11ec_96a5_7085c2d1bd59row4_col0,#T_eaa68426_3ad1_11ec_96a5_7085c2d1bd59row4_col1,#T_eaa68426_3ad1_11ec_96a5_7085c2d1bd59row4_col2,#T_eaa68426_3ad1_11ec_96a5_7085c2d1bd59row4_col3,#T_eaa68426_3ad1_11ec_96a5_7085c2d1bd59row4_col4,#T_eaa68426_3ad1_11ec_96a5_7085c2d1bd59row4_col5,#T_eaa68426_3ad1_11ec_96a5_7085c2d1bd59row4_col6,#T_eaa68426_3ad1_11ec_96a5_7085c2d1bd59row4_col7,#T_eaa68426_3ad1_11ec_96a5_7085c2d1bd59row5_col0,#T_eaa68426_3ad1_11ec_96a5_7085c2d1bd59row5_col1,#T_eaa68426_3ad1_11ec_96a5_7085c2d1bd59row5_col2,#T_eaa68426_3ad1_11ec_96a5_7085c2d1bd59row5_col3,#T_eaa68426_3ad1_11ec_96a5_7085c2d1bd59row5_col4,#T_eaa68426_3ad1_11ec_96a5_7085c2d1bd59row5_col5,#T_eaa68426_3ad1_11ec_96a5_7085c2d1bd59row5_col6,#T_eaa68426_3ad1_11ec_96a5_7085c2d1bd59row5_col7,#T_eaa68426_3ad1_11ec_96a5_7085c2d1bd59row6_col0,#T_eaa68426_3ad1_11ec_96a5_7085c2d1bd59row6_col1,#T_eaa68426_3ad1_11ec_96a5_7085c2d1bd59row6_col2,#T_eaa68426_3ad1_11ec_96a5_7085c2d1bd59row6_col3,#T_eaa68426_3ad1_11ec_96a5_7085c2d1bd59row6_col4,#T_eaa68426_3ad1_11ec_96a5_7085c2d1bd59row6_col5,#T_eaa68426_3ad1_11ec_96a5_7085c2d1bd59row6_col6,#T_eaa68426_3ad1_11ec_96a5_7085c2d1bd59row6_col7,#T_eaa68426_3ad1_11ec_96a5_7085c2d1bd59row7_col0,#T_eaa68426_3ad1_11ec_96a5_7085c2d1bd59row7_col1,#T_eaa68426_3ad1_11ec_96a5_7085c2d1bd59row7_col2,#T_eaa68426_3ad1_11ec_96a5_7085c2d1bd59row7_col3,#T_eaa68426_3ad1_11ec_96a5_7085c2d1bd59row7_col4,#T_eaa68426_3ad1_11ec_96a5_7085c2d1bd59row7_col5,#T_eaa68426_3ad1_11ec_96a5_7085c2d1bd59row7_col6,#T_eaa68426_3ad1_11ec_96a5_7085c2d1bd59row7_col7,#T_eaa68426_3ad1_11ec_96a5_7085c2d1bd59row8_col0,#T_eaa68426_3ad1_11ec_96a5_7085c2d1bd59row8_col1,#T_eaa68426_3ad1_11ec_96a5_7085c2d1bd59row8_col2,#T_eaa68426_3ad1_11ec_96a5_7085c2d1bd59row8_col3,#T_eaa68426_3ad1_11ec_96a5_7085c2d1bd59row8_col4,#T_eaa68426_3ad1_11ec_96a5_7085c2d1bd59row8_col5,#T_eaa68426_3ad1_11ec_96a5_7085c2d1bd59row8_col6,#T_eaa68426_3ad1_11ec_96a5_7085c2d1bd59row8_col7,#T_eaa68426_3ad1_11ec_96a5_7085c2d1bd59row9_col0,#T_eaa68426_3ad1_11ec_96a5_7085c2d1bd59row9_col1,#T_eaa68426_3ad1_11ec_96a5_7085c2d1bd59row9_col2,#T_eaa68426_3ad1_11ec_96a5_7085c2d1bd59row9_col3,#T_eaa68426_3ad1_11ec_96a5_7085c2d1bd59row9_col4,#T_eaa68426_3ad1_11ec_96a5_7085c2d1bd59row9_col5,#T_eaa68426_3ad1_11ec_96a5_7085c2d1bd59row9_col6,#T_eaa68426_3ad1_11ec_96a5_7085c2d1bd59row9_col7,#T_eaa68426_3ad1_11ec_96a5_7085c2d1bd59row10_col0,#T_eaa68426_3ad1_11ec_96a5_7085c2d1bd59row10_col1,#T_eaa68426_3ad1_11ec_96a5_7085c2d1bd59row10_col2,#T_eaa68426_3ad1_11ec_96a5_7085c2d1bd59row10_col3,#T_eaa68426_3ad1_11ec_96a5_7085c2d1bd59row10_col4,#T_eaa68426_3ad1_11ec_96a5_7085c2d1bd59row10_col5,#T_eaa68426_3ad1_11ec_96a5_7085c2d1bd59row10_col6,#T_eaa68426_3ad1_11ec_96a5_7085c2d1bd59row10_col7,#T_eaa68426_3ad1_11ec_96a5_7085c2d1bd59row11_col0,#T_eaa68426_3ad1_11ec_96a5_7085c2d1bd59row11_col1,#T_eaa68426_3ad1_11ec_96a5_7085c2d1bd59row11_col2,#T_eaa68426_3ad1_11ec_96a5_7085c2d1bd59row11_col4,#T_eaa68426_3ad1_11ec_96a5_7085c2d1bd59row11_col6,#T_eaa68426_3ad1_11ec_96a5_7085c2d1bd59row11_col7,#T_eaa68426_3ad1_11ec_96a5_7085c2d1bd59row12_col0,#T_eaa68426_3ad1_11ec_96a5_7085c2d1bd59row12_col1,#T_eaa68426_3ad1_11ec_96a5_7085c2d1bd59row12_col2,#T_eaa68426_3ad1_11ec_96a5_7085c2d1bd59row12_col3,#T_eaa68426_3ad1_11ec_96a5_7085c2d1bd59row12_col4,#T_eaa68426_3ad1_11ec_96a5_7085c2d1bd59row12_col5,#T_eaa68426_3ad1_11ec_96a5_7085c2d1bd59row12_col6,#T_eaa68426_3ad1_11ec_96a5_7085c2d1bd59row12_col7,#T_eaa68426_3ad1_11ec_96a5_7085c2d1bd59row13_col0,#T_eaa68426_3ad1_11ec_96a5_7085c2d1bd59row13_col1,#T_eaa68426_3ad1_11ec_96a5_7085c2d1bd59row13_col2,#T_eaa68426_3ad1_11ec_96a5_7085c2d1bd59row13_col3,#T_eaa68426_3ad1_11ec_96a5_7085c2d1bd59row13_col4,#T_eaa68426_3ad1_11ec_96a5_7085c2d1bd59row13_col5,#T_eaa68426_3ad1_11ec_96a5_7085c2d1bd59row13_col6,#T_eaa68426_3ad1_11ec_96a5_7085c2d1bd59row13_col7{\n",
       "            text-align:  left;\n",
       "            text-align:  left;\n",
       "        }#T_eaa68426_3ad1_11ec_96a5_7085c2d1bd59row0_col1,#T_eaa68426_3ad1_11ec_96a5_7085c2d1bd59row0_col2,#T_eaa68426_3ad1_11ec_96a5_7085c2d1bd59row0_col4,#T_eaa68426_3ad1_11ec_96a5_7085c2d1bd59row0_col6,#T_eaa68426_3ad1_11ec_96a5_7085c2d1bd59row0_col7,#T_eaa68426_3ad1_11ec_96a5_7085c2d1bd59row11_col3,#T_eaa68426_3ad1_11ec_96a5_7085c2d1bd59row11_col5{\n",
       "            text-align:  left;\n",
       "            text-align:  left;\n",
       "            background-color:  yellow;\n",
       "        }#T_eaa68426_3ad1_11ec_96a5_7085c2d1bd59row0_col8,#T_eaa68426_3ad1_11ec_96a5_7085c2d1bd59row1_col8,#T_eaa68426_3ad1_11ec_96a5_7085c2d1bd59row2_col8,#T_eaa68426_3ad1_11ec_96a5_7085c2d1bd59row3_col8,#T_eaa68426_3ad1_11ec_96a5_7085c2d1bd59row4_col8,#T_eaa68426_3ad1_11ec_96a5_7085c2d1bd59row5_col8,#T_eaa68426_3ad1_11ec_96a5_7085c2d1bd59row6_col8,#T_eaa68426_3ad1_11ec_96a5_7085c2d1bd59row7_col8,#T_eaa68426_3ad1_11ec_96a5_7085c2d1bd59row8_col8,#T_eaa68426_3ad1_11ec_96a5_7085c2d1bd59row9_col8,#T_eaa68426_3ad1_11ec_96a5_7085c2d1bd59row10_col8,#T_eaa68426_3ad1_11ec_96a5_7085c2d1bd59row12_col8,#T_eaa68426_3ad1_11ec_96a5_7085c2d1bd59row13_col8{\n",
       "            text-align:  left;\n",
       "            text-align:  left;\n",
       "            background-color:  lightgrey;\n",
       "        }#T_eaa68426_3ad1_11ec_96a5_7085c2d1bd59row11_col8{\n",
       "            text-align:  left;\n",
       "            text-align:  left;\n",
       "            background-color:  yellow;\n",
       "            background-color:  lightgrey;\n",
       "        }</style><table id=\"T_eaa68426_3ad1_11ec_96a5_7085c2d1bd59\" ><thead>    <tr>        <th class=\"blank level0\" ></th>        <th class=\"col_heading level0 col0\" >Model</th>        <th class=\"col_heading level0 col1\" >Accuracy</th>        <th class=\"col_heading level0 col2\" >AUC</th>        <th class=\"col_heading level0 col3\" >Recall</th>        <th class=\"col_heading level0 col4\" >Prec.</th>        <th class=\"col_heading level0 col5\" >F1</th>        <th class=\"col_heading level0 col6\" >Kappa</th>        <th class=\"col_heading level0 col7\" >MCC</th>        <th class=\"col_heading level0 col8\" >TT (Sec)</th>    </tr></thead><tbody>\n",
       "                <tr>\n",
       "                        <th id=\"T_eaa68426_3ad1_11ec_96a5_7085c2d1bd59level0_row0\" class=\"row_heading level0 row0\" >gbc</th>\n",
       "                        <td id=\"T_eaa68426_3ad1_11ec_96a5_7085c2d1bd59row0_col0\" class=\"data row0 col0\" >Gradient Boosting Classifier</td>\n",
       "                        <td id=\"T_eaa68426_3ad1_11ec_96a5_7085c2d1bd59row0_col1\" class=\"data row0 col1\" >0.8029</td>\n",
       "                        <td id=\"T_eaa68426_3ad1_11ec_96a5_7085c2d1bd59row0_col2\" class=\"data row0 col2\" >0.8467</td>\n",
       "                        <td id=\"T_eaa68426_3ad1_11ec_96a5_7085c2d1bd59row0_col3\" class=\"data row0 col3\" >0.5264</td>\n",
       "                        <td id=\"T_eaa68426_3ad1_11ec_96a5_7085c2d1bd59row0_col4\" class=\"data row0 col4\" >0.6647</td>\n",
       "                        <td id=\"T_eaa68426_3ad1_11ec_96a5_7085c2d1bd59row0_col5\" class=\"data row0 col5\" >0.5863</td>\n",
       "                        <td id=\"T_eaa68426_3ad1_11ec_96a5_7085c2d1bd59row0_col6\" class=\"data row0 col6\" >0.4594</td>\n",
       "                        <td id=\"T_eaa68426_3ad1_11ec_96a5_7085c2d1bd59row0_col7\" class=\"data row0 col7\" >0.4656</td>\n",
       "                        <td id=\"T_eaa68426_3ad1_11ec_96a5_7085c2d1bd59row0_col8\" class=\"data row0 col8\" >0.1410</td>\n",
       "            </tr>\n",
       "            <tr>\n",
       "                        <th id=\"T_eaa68426_3ad1_11ec_96a5_7085c2d1bd59level0_row1\" class=\"row_heading level0 row1\" >lightgbm</th>\n",
       "                        <td id=\"T_eaa68426_3ad1_11ec_96a5_7085c2d1bd59row1_col0\" class=\"data row1 col0\" >Light Gradient Boosting Machine</td>\n",
       "                        <td id=\"T_eaa68426_3ad1_11ec_96a5_7085c2d1bd59row1_col1\" class=\"data row1 col1\" >0.7985</td>\n",
       "                        <td id=\"T_eaa68426_3ad1_11ec_96a5_7085c2d1bd59row1_col2\" class=\"data row1 col2\" >0.8352</td>\n",
       "                        <td id=\"T_eaa68426_3ad1_11ec_96a5_7085c2d1bd59row1_col3\" class=\"data row1 col3\" >0.5317</td>\n",
       "                        <td id=\"T_eaa68426_3ad1_11ec_96a5_7085c2d1bd59row1_col4\" class=\"data row1 col4\" >0.6501</td>\n",
       "                        <td id=\"T_eaa68426_3ad1_11ec_96a5_7085c2d1bd59row1_col5\" class=\"data row1 col5\" >0.5837</td>\n",
       "                        <td id=\"T_eaa68426_3ad1_11ec_96a5_7085c2d1bd59row1_col6\" class=\"data row1 col6\" >0.4526</td>\n",
       "                        <td id=\"T_eaa68426_3ad1_11ec_96a5_7085c2d1bd59row1_col7\" class=\"data row1 col7\" >0.4575</td>\n",
       "                        <td id=\"T_eaa68426_3ad1_11ec_96a5_7085c2d1bd59row1_col8\" class=\"data row1 col8\" >0.7350</td>\n",
       "            </tr>\n",
       "            <tr>\n",
       "                        <th id=\"T_eaa68426_3ad1_11ec_96a5_7085c2d1bd59level0_row2\" class=\"row_heading level0 row2\" >lr</th>\n",
       "                        <td id=\"T_eaa68426_3ad1_11ec_96a5_7085c2d1bd59row2_col0\" class=\"data row2 col0\" >Logistic Regression</td>\n",
       "                        <td id=\"T_eaa68426_3ad1_11ec_96a5_7085c2d1bd59row2_col1\" class=\"data row2 col1\" >0.7974</td>\n",
       "                        <td id=\"T_eaa68426_3ad1_11ec_96a5_7085c2d1bd59row2_col2\" class=\"data row2 col2\" >0.8418</td>\n",
       "                        <td id=\"T_eaa68426_3ad1_11ec_96a5_7085c2d1bd59row2_col3\" class=\"data row2 col3\" >0.5325</td>\n",
       "                        <td id=\"T_eaa68426_3ad1_11ec_96a5_7085c2d1bd59row2_col4\" class=\"data row2 col4\" >0.6458</td>\n",
       "                        <td id=\"T_eaa68426_3ad1_11ec_96a5_7085c2d1bd59row2_col5\" class=\"data row2 col5\" >0.5826</td>\n",
       "                        <td id=\"T_eaa68426_3ad1_11ec_96a5_7085c2d1bd59row2_col6\" class=\"data row2 col6\" >0.4507</td>\n",
       "                        <td id=\"T_eaa68426_3ad1_11ec_96a5_7085c2d1bd59row2_col7\" class=\"data row2 col7\" >0.4550</td>\n",
       "                        <td id=\"T_eaa68426_3ad1_11ec_96a5_7085c2d1bd59row2_col8\" class=\"data row2 col8\" >4.1150</td>\n",
       "            </tr>\n",
       "            <tr>\n",
       "                        <th id=\"T_eaa68426_3ad1_11ec_96a5_7085c2d1bd59level0_row3\" class=\"row_heading level0 row3\" >ridge</th>\n",
       "                        <td id=\"T_eaa68426_3ad1_11ec_96a5_7085c2d1bd59row3_col0\" class=\"data row3 col0\" >Ridge Classifier</td>\n",
       "                        <td id=\"T_eaa68426_3ad1_11ec_96a5_7085c2d1bd59row3_col1\" class=\"data row3 col1\" >0.7958</td>\n",
       "                        <td id=\"T_eaa68426_3ad1_11ec_96a5_7085c2d1bd59row3_col2\" class=\"data row3 col2\" >0.0000</td>\n",
       "                        <td id=\"T_eaa68426_3ad1_11ec_96a5_7085c2d1bd59row3_col3\" class=\"data row3 col3\" >0.5034</td>\n",
       "                        <td id=\"T_eaa68426_3ad1_11ec_96a5_7085c2d1bd59row3_col4\" class=\"data row3 col4\" >0.6523</td>\n",
       "                        <td id=\"T_eaa68426_3ad1_11ec_96a5_7085c2d1bd59row3_col5\" class=\"data row3 col5\" >0.5674</td>\n",
       "                        <td id=\"T_eaa68426_3ad1_11ec_96a5_7085c2d1bd59row3_col6\" class=\"data row3 col6\" >0.4367</td>\n",
       "                        <td id=\"T_eaa68426_3ad1_11ec_96a5_7085c2d1bd59row3_col7\" class=\"data row3 col7\" >0.4436</td>\n",
       "                        <td id=\"T_eaa68426_3ad1_11ec_96a5_7085c2d1bd59row3_col8\" class=\"data row3 col8\" >0.0840</td>\n",
       "            </tr>\n",
       "            <tr>\n",
       "                        <th id=\"T_eaa68426_3ad1_11ec_96a5_7085c2d1bd59level0_row4\" class=\"row_heading level0 row4\" >ada</th>\n",
       "                        <td id=\"T_eaa68426_3ad1_11ec_96a5_7085c2d1bd59row4_col0\" class=\"data row4 col0\" >Ada Boost Classifier</td>\n",
       "                        <td id=\"T_eaa68426_3ad1_11ec_96a5_7085c2d1bd59row4_col1\" class=\"data row4 col1\" >0.7956</td>\n",
       "                        <td id=\"T_eaa68426_3ad1_11ec_96a5_7085c2d1bd59row4_col2\" class=\"data row4 col2\" >0.8436</td>\n",
       "                        <td id=\"T_eaa68426_3ad1_11ec_96a5_7085c2d1bd59row4_col3\" class=\"data row4 col3\" >0.5225</td>\n",
       "                        <td id=\"T_eaa68426_3ad1_11ec_96a5_7085c2d1bd59row4_col4\" class=\"data row4 col4\" >0.6444</td>\n",
       "                        <td id=\"T_eaa68426_3ad1_11ec_96a5_7085c2d1bd59row4_col5\" class=\"data row4 col5\" >0.5761</td>\n",
       "                        <td id=\"T_eaa68426_3ad1_11ec_96a5_7085c2d1bd59row4_col6\" class=\"data row4 col6\" >0.4435</td>\n",
       "                        <td id=\"T_eaa68426_3ad1_11ec_96a5_7085c2d1bd59row4_col7\" class=\"data row4 col7\" >0.4484</td>\n",
       "                        <td id=\"T_eaa68426_3ad1_11ec_96a5_7085c2d1bd59row4_col8\" class=\"data row4 col8\" >0.0560</td>\n",
       "            </tr>\n",
       "            <tr>\n",
       "                        <th id=\"T_eaa68426_3ad1_11ec_96a5_7085c2d1bd59level0_row5\" class=\"row_heading level0 row5\" >lda</th>\n",
       "                        <td id=\"T_eaa68426_3ad1_11ec_96a5_7085c2d1bd59row5_col0\" class=\"data row5 col0\" >Linear Discriminant Analysis</td>\n",
       "                        <td id=\"T_eaa68426_3ad1_11ec_96a5_7085c2d1bd59row5_col1\" class=\"data row5 col1\" >0.7944</td>\n",
       "                        <td id=\"T_eaa68426_3ad1_11ec_96a5_7085c2d1bd59row5_col2\" class=\"data row5 col2\" >0.8352</td>\n",
       "                        <td id=\"T_eaa68426_3ad1_11ec_96a5_7085c2d1bd59row5_col3\" class=\"data row5 col3\" >0.5439</td>\n",
       "                        <td id=\"T_eaa68426_3ad1_11ec_96a5_7085c2d1bd59row5_col4\" class=\"data row5 col4\" >0.6337</td>\n",
       "                        <td id=\"T_eaa68426_3ad1_11ec_96a5_7085c2d1bd59row5_col5\" class=\"data row5 col5\" >0.5845</td>\n",
       "                        <td id=\"T_eaa68426_3ad1_11ec_96a5_7085c2d1bd59row5_col6\" class=\"data row5 col6\" >0.4491</td>\n",
       "                        <td id=\"T_eaa68426_3ad1_11ec_96a5_7085c2d1bd59row5_col7\" class=\"data row5 col7\" >0.4520</td>\n",
       "                        <td id=\"T_eaa68426_3ad1_11ec_96a5_7085c2d1bd59row5_col8\" class=\"data row5 col8\" >0.5940</td>\n",
       "            </tr>\n",
       "            <tr>\n",
       "                        <th id=\"T_eaa68426_3ad1_11ec_96a5_7085c2d1bd59level0_row6\" class=\"row_heading level0 row6\" >xgboost</th>\n",
       "                        <td id=\"T_eaa68426_3ad1_11ec_96a5_7085c2d1bd59row6_col0\" class=\"data row6 col0\" >Extreme Gradient Boosting</td>\n",
       "                        <td id=\"T_eaa68426_3ad1_11ec_96a5_7085c2d1bd59row6_col1\" class=\"data row6 col1\" >0.7895</td>\n",
       "                        <td id=\"T_eaa68426_3ad1_11ec_96a5_7085c2d1bd59row6_col2\" class=\"data row6 col2\" >0.8247</td>\n",
       "                        <td id=\"T_eaa68426_3ad1_11ec_96a5_7085c2d1bd59row6_col3\" class=\"data row6 col3\" >0.5226</td>\n",
       "                        <td id=\"T_eaa68426_3ad1_11ec_96a5_7085c2d1bd59row6_col4\" class=\"data row6 col4\" >0.6252</td>\n",
       "                        <td id=\"T_eaa68426_3ad1_11ec_96a5_7085c2d1bd59row6_col5\" class=\"data row6 col5\" >0.5686</td>\n",
       "                        <td id=\"T_eaa68426_3ad1_11ec_96a5_7085c2d1bd59row6_col6\" class=\"data row6 col6\" >0.4311</td>\n",
       "                        <td id=\"T_eaa68426_3ad1_11ec_96a5_7085c2d1bd59row6_col7\" class=\"data row6 col7\" >0.4345</td>\n",
       "                        <td id=\"T_eaa68426_3ad1_11ec_96a5_7085c2d1bd59row6_col8\" class=\"data row6 col8\" >4.1990</td>\n",
       "            </tr>\n",
       "            <tr>\n",
       "                        <th id=\"T_eaa68426_3ad1_11ec_96a5_7085c2d1bd59level0_row7\" class=\"row_heading level0 row7\" >svm</th>\n",
       "                        <td id=\"T_eaa68426_3ad1_11ec_96a5_7085c2d1bd59row7_col0\" class=\"data row7 col0\" >SVM - Linear Kernel</td>\n",
       "                        <td id=\"T_eaa68426_3ad1_11ec_96a5_7085c2d1bd59row7_col1\" class=\"data row7 col1\" >0.7875</td>\n",
       "                        <td id=\"T_eaa68426_3ad1_11ec_96a5_7085c2d1bd59row7_col2\" class=\"data row7 col2\" >0.0000</td>\n",
       "                        <td id=\"T_eaa68426_3ad1_11ec_96a5_7085c2d1bd59row7_col3\" class=\"data row7 col3\" >0.4790</td>\n",
       "                        <td id=\"T_eaa68426_3ad1_11ec_96a5_7085c2d1bd59row7_col4\" class=\"data row7 col4\" >0.6462</td>\n",
       "                        <td id=\"T_eaa68426_3ad1_11ec_96a5_7085c2d1bd59row7_col5\" class=\"data row7 col5\" >0.5316</td>\n",
       "                        <td id=\"T_eaa68426_3ad1_11ec_96a5_7085c2d1bd59row7_col6\" class=\"data row7 col6\" >0.4035</td>\n",
       "                        <td id=\"T_eaa68426_3ad1_11ec_96a5_7085c2d1bd59row7_col7\" class=\"data row7 col7\" >0.4191</td>\n",
       "                        <td id=\"T_eaa68426_3ad1_11ec_96a5_7085c2d1bd59row7_col8\" class=\"data row7 col8\" >0.0370</td>\n",
       "            </tr>\n",
       "            <tr>\n",
       "                        <th id=\"T_eaa68426_3ad1_11ec_96a5_7085c2d1bd59level0_row8\" class=\"row_heading level0 row8\" >rf</th>\n",
       "                        <td id=\"T_eaa68426_3ad1_11ec_96a5_7085c2d1bd59row8_col0\" class=\"data row8 col0\" >Random Forest Classifier</td>\n",
       "                        <td id=\"T_eaa68426_3ad1_11ec_96a5_7085c2d1bd59row8_col1\" class=\"data row8 col1\" >0.7869</td>\n",
       "                        <td id=\"T_eaa68426_3ad1_11ec_96a5_7085c2d1bd59row8_col2\" class=\"data row8 col2\" >0.8219</td>\n",
       "                        <td id=\"T_eaa68426_3ad1_11ec_96a5_7085c2d1bd59row8_col3\" class=\"data row8 col3\" >0.4752</td>\n",
       "                        <td id=\"T_eaa68426_3ad1_11ec_96a5_7085c2d1bd59row8_col4\" class=\"data row8 col4\" >0.6328</td>\n",
       "                        <td id=\"T_eaa68426_3ad1_11ec_96a5_7085c2d1bd59row8_col5\" class=\"data row8 col5\" >0.5420</td>\n",
       "                        <td id=\"T_eaa68426_3ad1_11ec_96a5_7085c2d1bd59row8_col6\" class=\"data row8 col6\" >0.4070</td>\n",
       "                        <td id=\"T_eaa68426_3ad1_11ec_96a5_7085c2d1bd59row8_col7\" class=\"data row8 col7\" >0.4145</td>\n",
       "                        <td id=\"T_eaa68426_3ad1_11ec_96a5_7085c2d1bd59row8_col8\" class=\"data row8 col8\" >0.1130</td>\n",
       "            </tr>\n",
       "            <tr>\n",
       "                        <th id=\"T_eaa68426_3ad1_11ec_96a5_7085c2d1bd59level0_row9\" class=\"row_heading level0 row9\" >et</th>\n",
       "                        <td id=\"T_eaa68426_3ad1_11ec_96a5_7085c2d1bd59row9_col0\" class=\"data row9 col0\" >Extra Trees Classifier</td>\n",
       "                        <td id=\"T_eaa68426_3ad1_11ec_96a5_7085c2d1bd59row9_col1\" class=\"data row9 col1\" >0.7680</td>\n",
       "                        <td id=\"T_eaa68426_3ad1_11ec_96a5_7085c2d1bd59row9_col2\" class=\"data row9 col2\" >0.7883</td>\n",
       "                        <td id=\"T_eaa68426_3ad1_11ec_96a5_7085c2d1bd59row9_col3\" class=\"data row9 col3\" >0.4553</td>\n",
       "                        <td id=\"T_eaa68426_3ad1_11ec_96a5_7085c2d1bd59row9_col4\" class=\"data row9 col4\" >0.5821</td>\n",
       "                        <td id=\"T_eaa68426_3ad1_11ec_96a5_7085c2d1bd59row9_col5\" class=\"data row9 col5\" >0.5101</td>\n",
       "                        <td id=\"T_eaa68426_3ad1_11ec_96a5_7085c2d1bd59row9_col6\" class=\"data row9 col6\" >0.3613</td>\n",
       "                        <td id=\"T_eaa68426_3ad1_11ec_96a5_7085c2d1bd59row9_col7\" class=\"data row9 col7\" >0.3664</td>\n",
       "                        <td id=\"T_eaa68426_3ad1_11ec_96a5_7085c2d1bd59row9_col8\" class=\"data row9 col8\" >0.1090</td>\n",
       "            </tr>\n",
       "            <tr>\n",
       "                        <th id=\"T_eaa68426_3ad1_11ec_96a5_7085c2d1bd59level0_row10\" class=\"row_heading level0 row10\" >knn</th>\n",
       "                        <td id=\"T_eaa68426_3ad1_11ec_96a5_7085c2d1bd59row10_col0\" class=\"data row10 col0\" >K Neighbors Classifier</td>\n",
       "                        <td id=\"T_eaa68426_3ad1_11ec_96a5_7085c2d1bd59row10_col1\" class=\"data row10 col1\" >0.7566</td>\n",
       "                        <td id=\"T_eaa68426_3ad1_11ec_96a5_7085c2d1bd59row10_col2\" class=\"data row10 col2\" >0.7740</td>\n",
       "                        <td id=\"T_eaa68426_3ad1_11ec_96a5_7085c2d1bd59row10_col3\" class=\"data row10 col3\" >0.5157</td>\n",
       "                        <td id=\"T_eaa68426_3ad1_11ec_96a5_7085c2d1bd59row10_col4\" class=\"data row10 col4\" >0.5443</td>\n",
       "                        <td id=\"T_eaa68426_3ad1_11ec_96a5_7085c2d1bd59row10_col5\" class=\"data row10 col5\" >0.5289</td>\n",
       "                        <td id=\"T_eaa68426_3ad1_11ec_96a5_7085c2d1bd59row10_col6\" class=\"data row10 col6\" >0.3652</td>\n",
       "                        <td id=\"T_eaa68426_3ad1_11ec_96a5_7085c2d1bd59row10_col7\" class=\"data row10 col7\" >0.3658</td>\n",
       "                        <td id=\"T_eaa68426_3ad1_11ec_96a5_7085c2d1bd59row10_col8\" class=\"data row10 col8\" >0.0720</td>\n",
       "            </tr>\n",
       "            <tr>\n",
       "                        <th id=\"T_eaa68426_3ad1_11ec_96a5_7085c2d1bd59level0_row11\" class=\"row_heading level0 row11\" >nb</th>\n",
       "                        <td id=\"T_eaa68426_3ad1_11ec_96a5_7085c2d1bd59row11_col0\" class=\"data row11 col0\" >Naive Bayes</td>\n",
       "                        <td id=\"T_eaa68426_3ad1_11ec_96a5_7085c2d1bd59row11_col1\" class=\"data row11 col1\" >0.7416</td>\n",
       "                        <td id=\"T_eaa68426_3ad1_11ec_96a5_7085c2d1bd59row11_col2\" class=\"data row11 col2\" >0.8263</td>\n",
       "                        <td id=\"T_eaa68426_3ad1_11ec_96a5_7085c2d1bd59row11_col3\" class=\"data row11 col3\" >0.7678</td>\n",
       "                        <td id=\"T_eaa68426_3ad1_11ec_96a5_7085c2d1bd59row11_col4\" class=\"data row11 col4\" >0.5095</td>\n",
       "                        <td id=\"T_eaa68426_3ad1_11ec_96a5_7085c2d1bd59row11_col5\" class=\"data row11 col5\" >0.6123</td>\n",
       "                        <td id=\"T_eaa68426_3ad1_11ec_96a5_7085c2d1bd59row11_col6\" class=\"data row11 col6\" >0.4302</td>\n",
       "                        <td id=\"T_eaa68426_3ad1_11ec_96a5_7085c2d1bd59row11_col7\" class=\"data row11 col7\" >0.4508</td>\n",
       "                        <td id=\"T_eaa68426_3ad1_11ec_96a5_7085c2d1bd59row11_col8\" class=\"data row11 col8\" >0.0100</td>\n",
       "            </tr>\n",
       "            <tr>\n",
       "                        <th id=\"T_eaa68426_3ad1_11ec_96a5_7085c2d1bd59level0_row12\" class=\"row_heading level0 row12\" >dt</th>\n",
       "                        <td id=\"T_eaa68426_3ad1_11ec_96a5_7085c2d1bd59row12_col0\" class=\"data row12 col0\" >Decision Tree Classifier</td>\n",
       "                        <td id=\"T_eaa68426_3ad1_11ec_96a5_7085c2d1bd59row12_col1\" class=\"data row12 col1\" >0.7267</td>\n",
       "                        <td id=\"T_eaa68426_3ad1_11ec_96a5_7085c2d1bd59row12_col2\" class=\"data row12 col2\" >0.6563</td>\n",
       "                        <td id=\"T_eaa68426_3ad1_11ec_96a5_7085c2d1bd59row12_col3\" class=\"data row12 col3\" >0.5034</td>\n",
       "                        <td id=\"T_eaa68426_3ad1_11ec_96a5_7085c2d1bd59row12_col4\" class=\"data row12 col4\" >0.4867</td>\n",
       "                        <td id=\"T_eaa68426_3ad1_11ec_96a5_7085c2d1bd59row12_col5\" class=\"data row12 col5\" >0.4945</td>\n",
       "                        <td id=\"T_eaa68426_3ad1_11ec_96a5_7085c2d1bd59row12_col6\" class=\"data row12 col6\" >0.3075</td>\n",
       "                        <td id=\"T_eaa68426_3ad1_11ec_96a5_7085c2d1bd59row12_col7\" class=\"data row12 col7\" >0.3078</td>\n",
       "                        <td id=\"T_eaa68426_3ad1_11ec_96a5_7085c2d1bd59row12_col8\" class=\"data row12 col8\" >0.0200</td>\n",
       "            </tr>\n",
       "            <tr>\n",
       "                        <th id=\"T_eaa68426_3ad1_11ec_96a5_7085c2d1bd59level0_row13\" class=\"row_heading level0 row13\" >qda</th>\n",
       "                        <td id=\"T_eaa68426_3ad1_11ec_96a5_7085c2d1bd59row13_col0\" class=\"data row13 col0\" >Quadratic Discriminant Analysis</td>\n",
       "                        <td id=\"T_eaa68426_3ad1_11ec_96a5_7085c2d1bd59row13_col1\" class=\"data row13 col1\" >0.6158</td>\n",
       "                        <td id=\"T_eaa68426_3ad1_11ec_96a5_7085c2d1bd59row13_col2\" class=\"data row13 col2\" >0.5919</td>\n",
       "                        <td id=\"T_eaa68426_3ad1_11ec_96a5_7085c2d1bd59row13_col3\" class=\"data row13 col3\" >0.5414</td>\n",
       "                        <td id=\"T_eaa68426_3ad1_11ec_96a5_7085c2d1bd59row13_col4\" class=\"data row13 col4\" >0.3610</td>\n",
       "                        <td id=\"T_eaa68426_3ad1_11ec_96a5_7085c2d1bd59row13_col5\" class=\"data row13 col5\" >0.4188</td>\n",
       "                        <td id=\"T_eaa68426_3ad1_11ec_96a5_7085c2d1bd59row13_col6\" class=\"data row13 col6\" >0.1571</td>\n",
       "                        <td id=\"T_eaa68426_3ad1_11ec_96a5_7085c2d1bd59row13_col7\" class=\"data row13 col7\" >0.1713</td>\n",
       "                        <td id=\"T_eaa68426_3ad1_11ec_96a5_7085c2d1bd59row13_col8\" class=\"data row13 col8\" >0.0270</td>\n",
       "            </tr>\n",
       "    </tbody></table>"
      ],
      "text/plain": [
       "<pandas.io.formats.style.Styler at 0x2785902c700>"
      ]
     },
     "metadata": {},
     "output_type": "display_data"
    }
   ],
   "source": [
    "modelos_py = compare_models(n_select=10)"
   ]
  },
  {
   "cell_type": "code",
   "execution_count": 183,
   "metadata": {
    "ExecuteTime": {
     "end_time": "2021-11-01T05:10:08.816645Z",
     "start_time": "2021-11-01T05:10:08.802683Z"
    }
   },
   "outputs": [],
   "source": [
    "model_f = modelos_py[0]"
   ]
  },
  {
   "cell_type": "code",
   "execution_count": 194,
   "metadata": {
    "ExecuteTime": {
     "end_time": "2021-11-01T05:13:40.542961Z",
     "start_time": "2021-11-01T05:13:40.528998Z"
    }
   },
   "outputs": [
    {
     "data": {
      "text/plain": [
       "array([1.44077872e-01, 8.17755000e-02, 1.01045631e-01, 1.58066660e-03,\n",
       "       1.73544374e-03, 2.85896893e-02, 1.72839091e-03, 6.50733064e-04,\n",
       "       6.62082894e-03, 2.03873879e-04, 7.04595869e-03, 9.97193603e-04,\n",
       "       9.87467885e-03, 1.28592614e-03, 2.37226685e-03, 7.64831163e-02,\n",
       "       6.17295080e-02, 5.95615174e-05, 7.66400333e-03, 0.00000000e+00,\n",
       "       4.87772925e-04, 1.37021377e-03, 4.94954272e-02, 2.90871907e-04,\n",
       "       2.15822750e-04, 3.69756804e-03, 0.00000000e+00, 5.43982922e-03,\n",
       "       3.66741669e-01, 4.94854433e-03, 6.65444975e-03, 2.51369884e-02])"
      ]
     },
     "execution_count": 194,
     "metadata": {},
     "output_type": "execute_result"
    }
   ],
   "source": [
    "# seeing the most important variables\n",
    "model_f.feature_importances_"
   ]
  },
  {
   "cell_type": "code",
   "execution_count": 9,
   "metadata": {
    "ExecuteTime": {
     "end_time": "2021-10-06T06:19:20.416627Z",
     "start_time": "2021-10-06T06:19:05.849687Z"
    }
   },
   "outputs": [
    {
     "data": {
      "text/html": [
       "<style  type=\"text/css\" >\n",
       "#T_57854b10_266d_11ec_9b3a_7085c2d1bd59row10_col0,#T_57854b10_266d_11ec_9b3a_7085c2d1bd59row10_col1,#T_57854b10_266d_11ec_9b3a_7085c2d1bd59row10_col2,#T_57854b10_266d_11ec_9b3a_7085c2d1bd59row10_col3,#T_57854b10_266d_11ec_9b3a_7085c2d1bd59row10_col4,#T_57854b10_266d_11ec_9b3a_7085c2d1bd59row10_col5,#T_57854b10_266d_11ec_9b3a_7085c2d1bd59row10_col6{\n",
       "            background:  yellow;\n",
       "        }</style><table id=\"T_57854b10_266d_11ec_9b3a_7085c2d1bd59\" ><thead>    <tr>        <th class=\"blank level0\" ></th>        <th class=\"col_heading level0 col0\" >Accuracy</th>        <th class=\"col_heading level0 col1\" >AUC</th>        <th class=\"col_heading level0 col2\" >Recall</th>        <th class=\"col_heading level0 col3\" >Prec.</th>        <th class=\"col_heading level0 col4\" >F1</th>        <th class=\"col_heading level0 col5\" >Kappa</th>        <th class=\"col_heading level0 col6\" >MCC</th>    </tr></thead><tbody>\n",
       "                <tr>\n",
       "                        <th id=\"T_57854b10_266d_11ec_9b3a_7085c2d1bd59level0_row0\" class=\"row_heading level0 row0\" >0</th>\n",
       "                        <td id=\"T_57854b10_266d_11ec_9b3a_7085c2d1bd59row0_col0\" class=\"data row0 col0\" >0.8073</td>\n",
       "                        <td id=\"T_57854b10_266d_11ec_9b3a_7085c2d1bd59row0_col1\" class=\"data row0 col1\" >0.8548</td>\n",
       "                        <td id=\"T_57854b10_266d_11ec_9b3a_7085c2d1bd59row0_col2\" class=\"data row0 col2\" >0.5923</td>\n",
       "                        <td id=\"T_57854b10_266d_11ec_9b3a_7085c2d1bd59row0_col3\" class=\"data row0 col3\" >0.6471</td>\n",
       "                        <td id=\"T_57854b10_266d_11ec_9b3a_7085c2d1bd59row0_col4\" class=\"data row0 col4\" >0.6185</td>\n",
       "                        <td id=\"T_57854b10_266d_11ec_9b3a_7085c2d1bd59row0_col5\" class=\"data row0 col5\" >0.4899</td>\n",
       "                        <td id=\"T_57854b10_266d_11ec_9b3a_7085c2d1bd59row0_col6\" class=\"data row0 col6\" >0.4908</td>\n",
       "            </tr>\n",
       "            <tr>\n",
       "                        <th id=\"T_57854b10_266d_11ec_9b3a_7085c2d1bd59level0_row1\" class=\"row_heading level0 row1\" >1</th>\n",
       "                        <td id=\"T_57854b10_266d_11ec_9b3a_7085c2d1bd59row1_col0\" class=\"data row1 col0\" >0.8114</td>\n",
       "                        <td id=\"T_57854b10_266d_11ec_9b3a_7085c2d1bd59row1_col1\" class=\"data row1 col1\" >0.8455</td>\n",
       "                        <td id=\"T_57854b10_266d_11ec_9b3a_7085c2d1bd59row1_col2\" class=\"data row1 col2\" >0.5692</td>\n",
       "                        <td id=\"T_57854b10_266d_11ec_9b3a_7085c2d1bd59row1_col3\" class=\"data row1 col3\" >0.6667</td>\n",
       "                        <td id=\"T_57854b10_266d_11ec_9b3a_7085c2d1bd59row1_col4\" class=\"data row1 col4\" >0.6141</td>\n",
       "                        <td id=\"T_57854b10_266d_11ec_9b3a_7085c2d1bd59row1_col5\" class=\"data row1 col5\" >0.4903</td>\n",
       "                        <td id=\"T_57854b10_266d_11ec_9b3a_7085c2d1bd59row1_col6\" class=\"data row1 col6\" >0.4930</td>\n",
       "            </tr>\n",
       "            <tr>\n",
       "                        <th id=\"T_57854b10_266d_11ec_9b3a_7085c2d1bd59level0_row2\" class=\"row_heading level0 row2\" >2</th>\n",
       "                        <td id=\"T_57854b10_266d_11ec_9b3a_7085c2d1bd59row2_col0\" class=\"data row2 col0\" >0.8028</td>\n",
       "                        <td id=\"T_57854b10_266d_11ec_9b3a_7085c2d1bd59row2_col1\" class=\"data row2 col1\" >0.8628</td>\n",
       "                        <td id=\"T_57854b10_266d_11ec_9b3a_7085c2d1bd59row2_col2\" class=\"data row2 col2\" >0.5769</td>\n",
       "                        <td id=\"T_57854b10_266d_11ec_9b3a_7085c2d1bd59row2_col3\" class=\"data row2 col3\" >0.6410</td>\n",
       "                        <td id=\"T_57854b10_266d_11ec_9b3a_7085c2d1bd59row2_col4\" class=\"data row2 col4\" >0.6073</td>\n",
       "                        <td id=\"T_57854b10_266d_11ec_9b3a_7085c2d1bd59row2_col5\" class=\"data row2 col5\" >0.4762</td>\n",
       "                        <td id=\"T_57854b10_266d_11ec_9b3a_7085c2d1bd59row2_col6\" class=\"data row2 col6\" >0.4773</td>\n",
       "            </tr>\n",
       "            <tr>\n",
       "                        <th id=\"T_57854b10_266d_11ec_9b3a_7085c2d1bd59level0_row3\" class=\"row_heading level0 row3\" >3</th>\n",
       "                        <td id=\"T_57854b10_266d_11ec_9b3a_7085c2d1bd59row3_col0\" class=\"data row3 col0\" >0.8354</td>\n",
       "                        <td id=\"T_57854b10_266d_11ec_9b3a_7085c2d1bd59row3_col1\" class=\"data row3 col1\" >0.8741</td>\n",
       "                        <td id=\"T_57854b10_266d_11ec_9b3a_7085c2d1bd59row3_col2\" class=\"data row3 col2\" >0.5846</td>\n",
       "                        <td id=\"T_57854b10_266d_11ec_9b3a_7085c2d1bd59row3_col3\" class=\"data row3 col3\" >0.7379</td>\n",
       "                        <td id=\"T_57854b10_266d_11ec_9b3a_7085c2d1bd59row3_col4\" class=\"data row3 col4\" >0.6524</td>\n",
       "                        <td id=\"T_57854b10_266d_11ec_9b3a_7085c2d1bd59row3_col5\" class=\"data row3 col5\" >0.5464</td>\n",
       "                        <td id=\"T_57854b10_266d_11ec_9b3a_7085c2d1bd59row3_col6\" class=\"data row3 col6\" >0.5527</td>\n",
       "            </tr>\n",
       "            <tr>\n",
       "                        <th id=\"T_57854b10_266d_11ec_9b3a_7085c2d1bd59level0_row4\" class=\"row_heading level0 row4\" >4</th>\n",
       "                        <td id=\"T_57854b10_266d_11ec_9b3a_7085c2d1bd59row4_col0\" class=\"data row4 col0\" >0.8110</td>\n",
       "                        <td id=\"T_57854b10_266d_11ec_9b3a_7085c2d1bd59row4_col1\" class=\"data row4 col1\" >0.8672</td>\n",
       "                        <td id=\"T_57854b10_266d_11ec_9b3a_7085c2d1bd59row4_col2\" class=\"data row4 col2\" >0.5231</td>\n",
       "                        <td id=\"T_57854b10_266d_11ec_9b3a_7085c2d1bd59row4_col3\" class=\"data row4 col3\" >0.6869</td>\n",
       "                        <td id=\"T_57854b10_266d_11ec_9b3a_7085c2d1bd59row4_col4\" class=\"data row4 col4\" >0.5939</td>\n",
       "                        <td id=\"T_57854b10_266d_11ec_9b3a_7085c2d1bd59row4_col5\" class=\"data row4 col5\" >0.4736</td>\n",
       "                        <td id=\"T_57854b10_266d_11ec_9b3a_7085c2d1bd59row4_col6\" class=\"data row4 col6\" >0.4811</td>\n",
       "            </tr>\n",
       "            <tr>\n",
       "                        <th id=\"T_57854b10_266d_11ec_9b3a_7085c2d1bd59level0_row5\" class=\"row_heading level0 row5\" >5</th>\n",
       "                        <td id=\"T_57854b10_266d_11ec_9b3a_7085c2d1bd59row5_col0\" class=\"data row5 col0\" >0.7967</td>\n",
       "                        <td id=\"T_57854b10_266d_11ec_9b3a_7085c2d1bd59row5_col1\" class=\"data row5 col1\" >0.8227</td>\n",
       "                        <td id=\"T_57854b10_266d_11ec_9b3a_7085c2d1bd59row5_col2\" class=\"data row5 col2\" >0.5000</td>\n",
       "                        <td id=\"T_57854b10_266d_11ec_9b3a_7085c2d1bd59row5_col3\" class=\"data row5 col3\" >0.6500</td>\n",
       "                        <td id=\"T_57854b10_266d_11ec_9b3a_7085c2d1bd59row5_col4\" class=\"data row5 col4\" >0.5652</td>\n",
       "                        <td id=\"T_57854b10_266d_11ec_9b3a_7085c2d1bd59row5_col5\" class=\"data row5 col5\" >0.4355</td>\n",
       "                        <td id=\"T_57854b10_266d_11ec_9b3a_7085c2d1bd59row5_col6\" class=\"data row5 col6\" >0.4419</td>\n",
       "            </tr>\n",
       "            <tr>\n",
       "                        <th id=\"T_57854b10_266d_11ec_9b3a_7085c2d1bd59level0_row6\" class=\"row_heading level0 row6\" >6</th>\n",
       "                        <td id=\"T_57854b10_266d_11ec_9b3a_7085c2d1bd59row6_col0\" class=\"data row6 col0\" >0.8191</td>\n",
       "                        <td id=\"T_57854b10_266d_11ec_9b3a_7085c2d1bd59row6_col1\" class=\"data row6 col1\" >0.8655</td>\n",
       "                        <td id=\"T_57854b10_266d_11ec_9b3a_7085c2d1bd59row6_col2\" class=\"data row6 col2\" >0.5385</td>\n",
       "                        <td id=\"T_57854b10_266d_11ec_9b3a_7085c2d1bd59row6_col3\" class=\"data row6 col3\" >0.7071</td>\n",
       "                        <td id=\"T_57854b10_266d_11ec_9b3a_7085c2d1bd59row6_col4\" class=\"data row6 col4\" >0.6114</td>\n",
       "                        <td id=\"T_57854b10_266d_11ec_9b3a_7085c2d1bd59row6_col5\" class=\"data row6 col5\" >0.4963</td>\n",
       "                        <td id=\"T_57854b10_266d_11ec_9b3a_7085c2d1bd59row6_col6\" class=\"data row6 col6\" >0.5041</td>\n",
       "            </tr>\n",
       "            <tr>\n",
       "                        <th id=\"T_57854b10_266d_11ec_9b3a_7085c2d1bd59level0_row7\" class=\"row_heading level0 row7\" >7</th>\n",
       "                        <td id=\"T_57854b10_266d_11ec_9b3a_7085c2d1bd59row7_col0\" class=\"data row7 col0\" >0.8110</td>\n",
       "                        <td id=\"T_57854b10_266d_11ec_9b3a_7085c2d1bd59row7_col1\" class=\"data row7 col1\" >0.8498</td>\n",
       "                        <td id=\"T_57854b10_266d_11ec_9b3a_7085c2d1bd59row7_col2\" class=\"data row7 col2\" >0.5000</td>\n",
       "                        <td id=\"T_57854b10_266d_11ec_9b3a_7085c2d1bd59row7_col3\" class=\"data row7 col3\" >0.6989</td>\n",
       "                        <td id=\"T_57854b10_266d_11ec_9b3a_7085c2d1bd59row7_col4\" class=\"data row7 col4\" >0.5830</td>\n",
       "                        <td id=\"T_57854b10_266d_11ec_9b3a_7085c2d1bd59row7_col5\" class=\"data row7 col5\" >0.4651</td>\n",
       "                        <td id=\"T_57854b10_266d_11ec_9b3a_7085c2d1bd59row7_col6\" class=\"data row7 col6\" >0.4760</td>\n",
       "            </tr>\n",
       "            <tr>\n",
       "                        <th id=\"T_57854b10_266d_11ec_9b3a_7085c2d1bd59level0_row8\" class=\"row_heading level0 row8\" >8</th>\n",
       "                        <td id=\"T_57854b10_266d_11ec_9b3a_7085c2d1bd59row8_col0\" class=\"data row8 col0\" >0.7866</td>\n",
       "                        <td id=\"T_57854b10_266d_11ec_9b3a_7085c2d1bd59row8_col1\" class=\"data row8 col1\" >0.8176</td>\n",
       "                        <td id=\"T_57854b10_266d_11ec_9b3a_7085c2d1bd59row8_col2\" class=\"data row8 col2\" >0.4923</td>\n",
       "                        <td id=\"T_57854b10_266d_11ec_9b3a_7085c2d1bd59row8_col3\" class=\"data row8 col3\" >0.6214</td>\n",
       "                        <td id=\"T_57854b10_266d_11ec_9b3a_7085c2d1bd59row8_col4\" class=\"data row8 col4\" >0.5494</td>\n",
       "                        <td id=\"T_57854b10_266d_11ec_9b3a_7085c2d1bd59row8_col5\" class=\"data row8 col5\" >0.4120</td>\n",
       "                        <td id=\"T_57854b10_266d_11ec_9b3a_7085c2d1bd59row8_col6\" class=\"data row8 col6\" >0.4168</td>\n",
       "            </tr>\n",
       "            <tr>\n",
       "                        <th id=\"T_57854b10_266d_11ec_9b3a_7085c2d1bd59level0_row9\" class=\"row_heading level0 row9\" >9</th>\n",
       "                        <td id=\"T_57854b10_266d_11ec_9b3a_7085c2d1bd59row9_col0\" class=\"data row9 col0\" >0.7805</td>\n",
       "                        <td id=\"T_57854b10_266d_11ec_9b3a_7085c2d1bd59row9_col1\" class=\"data row9 col1\" >0.8151</td>\n",
       "                        <td id=\"T_57854b10_266d_11ec_9b3a_7085c2d1bd59row9_col2\" class=\"data row9 col2\" >0.5077</td>\n",
       "                        <td id=\"T_57854b10_266d_11ec_9b3a_7085c2d1bd59row9_col3\" class=\"data row9 col3\" >0.6000</td>\n",
       "                        <td id=\"T_57854b10_266d_11ec_9b3a_7085c2d1bd59row9_col4\" class=\"data row9 col4\" >0.5500</td>\n",
       "                        <td id=\"T_57854b10_266d_11ec_9b3a_7085c2d1bd59row9_col5\" class=\"data row9 col5\" >0.4062</td>\n",
       "                        <td id=\"T_57854b10_266d_11ec_9b3a_7085c2d1bd59row9_col6\" class=\"data row9 col6\" >0.4086</td>\n",
       "            </tr>\n",
       "            <tr>\n",
       "                        <th id=\"T_57854b10_266d_11ec_9b3a_7085c2d1bd59level0_row10\" class=\"row_heading level0 row10\" >Mean</th>\n",
       "                        <td id=\"T_57854b10_266d_11ec_9b3a_7085c2d1bd59row10_col0\" class=\"data row10 col0\" >0.8062</td>\n",
       "                        <td id=\"T_57854b10_266d_11ec_9b3a_7085c2d1bd59row10_col1\" class=\"data row10 col1\" >0.8475</td>\n",
       "                        <td id=\"T_57854b10_266d_11ec_9b3a_7085c2d1bd59row10_col2\" class=\"data row10 col2\" >0.5385</td>\n",
       "                        <td id=\"T_57854b10_266d_11ec_9b3a_7085c2d1bd59row10_col3\" class=\"data row10 col3\" >0.6657</td>\n",
       "                        <td id=\"T_57854b10_266d_11ec_9b3a_7085c2d1bd59row10_col4\" class=\"data row10 col4\" >0.5945</td>\n",
       "                        <td id=\"T_57854b10_266d_11ec_9b3a_7085c2d1bd59row10_col5\" class=\"data row10 col5\" >0.4691</td>\n",
       "                        <td id=\"T_57854b10_266d_11ec_9b3a_7085c2d1bd59row10_col6\" class=\"data row10 col6\" >0.4742</td>\n",
       "            </tr>\n",
       "            <tr>\n",
       "                        <th id=\"T_57854b10_266d_11ec_9b3a_7085c2d1bd59level0_row11\" class=\"row_heading level0 row11\" >SD</th>\n",
       "                        <td id=\"T_57854b10_266d_11ec_9b3a_7085c2d1bd59row11_col0\" class=\"data row11 col0\" >0.0150</td>\n",
       "                        <td id=\"T_57854b10_266d_11ec_9b3a_7085c2d1bd59row11_col1\" class=\"data row11 col1\" >0.0207</td>\n",
       "                        <td id=\"T_57854b10_266d_11ec_9b3a_7085c2d1bd59row11_col2\" class=\"data row11 col2\" >0.0371</td>\n",
       "                        <td id=\"T_57854b10_266d_11ec_9b3a_7085c2d1bd59row11_col3\" class=\"data row11 col3\" >0.0399</td>\n",
       "                        <td id=\"T_57854b10_266d_11ec_9b3a_7085c2d1bd59row11_col4\" class=\"data row11 col4\" >0.0312</td>\n",
       "                        <td id=\"T_57854b10_266d_11ec_9b3a_7085c2d1bd59row11_col5\" class=\"data row11 col5\" >0.0400</td>\n",
       "                        <td id=\"T_57854b10_266d_11ec_9b3a_7085c2d1bd59row11_col6\" class=\"data row11 col6\" >0.0405</td>\n",
       "            </tr>\n",
       "    </tbody></table>"
      ],
      "text/plain": [
       "<pandas.io.formats.style.Styler at 0x232e05d1c10>"
      ]
     },
     "metadata": {},
     "output_type": "display_data"
    }
   ],
   "source": [
    "tunado = tune_model(modelos_py[0])"
   ]
  },
  {
   "cell_type": "markdown",
   "metadata": {},
   "source": [
    "<p> It is still possible to perform hundreds of actions with these data sets, make predictions, more far-fetched analyses, this set is really good for all data scientists who want to learn more about churn, data cleaning, and use of feature engineering. </p>"
   ]
  }
 ],
 "metadata": {
  "kernelspec": {
   "display_name": "Python 3 (ipykernel)",
   "language": "python",
   "name": "python3"
  },
  "language_info": {
   "codemirror_mode": {
    "name": "ipython",
    "version": 3
   },
   "file_extension": ".py",
   "mimetype": "text/x-python",
   "name": "python",
   "nbconvert_exporter": "python",
   "pygments_lexer": "ipython3",
   "version": "3.9.7"
  },
  "toc": {
   "base_numbering": 1,
   "nav_menu": {},
   "number_sections": true,
   "sideBar": true,
   "skip_h1_title": false,
   "title_cell": "Table of Contents",
   "title_sidebar": "Contents",
   "toc_cell": false,
   "toc_position": {},
   "toc_section_display": true,
   "toc_window_display": false
  },
  "varInspector": {
   "cols": {
    "lenName": 16,
    "lenType": 16,
    "lenVar": 40
   },
   "kernels_config": {
    "python": {
     "delete_cmd_postfix": "",
     "delete_cmd_prefix": "del ",
     "library": "var_list.py",
     "varRefreshCmd": "print(var_dic_list())"
    },
    "r": {
     "delete_cmd_postfix": ") ",
     "delete_cmd_prefix": "rm(",
     "library": "var_list.r",
     "varRefreshCmd": "cat(var_dic_list()) "
    }
   },
   "types_to_exclude": [
    "module",
    "function",
    "builtin_function_or_method",
    "instance",
    "_Feature"
   ],
   "window_display": false
  }
 },
 "nbformat": 4,
 "nbformat_minor": 4
}
